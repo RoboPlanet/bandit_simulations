{
 "cells": [
  {
   "cell_type": "code",
   "execution_count": 2,
   "metadata": {},
   "outputs": [],
   "source": [
    "import random\n",
    "import numpy as np\n",
    "import pandas as pd\n",
    "import altair as alt"
   ]
  },
  {
   "cell_type": "code",
   "execution_count": 8,
   "metadata": {},
   "outputs": [],
   "source": [
    "class EpsilonGreedy():\n",
    "    def __init__(self, epsilon, counts, values):\n",
    "        self.epsilon = epsilon\n",
    "        self.counts = counts # Count represent counts of pulls for each arm. For multiple arms, this will be a list of counts.\n",
    "        self.values = values # Value represent average reward for specific arm. For multiple arms, this will be a list of values.\n",
    "        return \n",
    "    \n",
    "    # Initialise k number of arms\n",
    "    def initialize(self, n_arms):\n",
    "        self.counts = [0 for col in range(n_arms)]\n",
    "        self.values = [0.0 for col in range(n_arms)]\n",
    "        return\n",
    "    \n",
    "    # Epsilon greedy arm selection\n",
    "    def select_arm(self):\n",
    "        # If prob is not in epsilon, do exploitation of best arm so far\n",
    "        if random.random() > self.epsilon:\n",
    "            return np.argmax(self.values)\n",
    "        # If prob falls in epsilon range, do exploration\n",
    "        else:\n",
    "            return random.randrange(len(self.values))\n",
    "    \n",
    "    # Choose to update chosen arm and reward\n",
    "    def update(self, chosen_arm, reward):\n",
    "        # update counts pulled for chosen arm\n",
    "        self.counts[chosen_arm] = self.counts[chosen_arm] + 1\n",
    "        n = self.counts[chosen_arm]\n",
    "        \n",
    "        # Update average/mean value/reward for chosen arm\n",
    "        value = self.values[chosen_arm]\n",
    "        new_value = ((n-1)/float(n)) * value + (1 / float(n)) * reward\n",
    "        self.values[chosen_arm] = new_value\n",
    "        return"
   ]
  },
  {
   "cell_type": "code",
   "execution_count": 11,
   "metadata": {},
   "outputs": [],
   "source": [
    "class BernoulliArm():\n",
    "    def __init__(self, p):\n",
    "        self.p = p\n",
    "    \n",
    "    # Reward system based on Bernoulli\n",
    "    def draw(self):\n",
    "        if random.random() > self.p:\n",
    "            return 0.0\n",
    "        else:\n",
    "            return 1.0\n",
    "        "
   ]
  },
  {
   "cell_type": "code",
   "execution_count": 15,
   "metadata": {},
   "outputs": [],
   "source": [
    "def test_algorithm(algo, arms, num_sims, horizon):\n",
    "    \n",
    "    # Initialise variables for duration of accumulated simulation (num_sims * horizon_per_simulation)\n",
    "    chosen_arms = [0.0 for i in range(num_sims * horizon)]\n",
    "    rewards = [0.0 for i in range(num_sims * horizon)]\n",
    "    cumulative_rewards = [0 for i in range(num_sims * horizon)]\n",
    "    sim_nums = [0.0 for i in range(num_sims *horizon)]\n",
    "    times = [0.0 for i in range (num_sims*horizon)]\n",
    "    \n",
    "    for sim in range(num_sims):\n",
    "        sim = sim + 1\n",
    "        algo.initialize(len(arms))\n",
    "        \n",
    "        for t in range(horizon):\n",
    "            t = t + 1\n",
    "            index = (sim -1) * horizon + t -1\n",
    "            sim_nums[index] = sim\n",
    "            times[index] = t\n",
    "            \n",
    "            # Selection of best arm and engaging it\n",
    "            chosen_arm = algo.select_arm()\n",
    "            chosen_arms[index] = chosen_arm\n",
    "            \n",
    "            # Engage chosen Bernoulli Arm and obtain reward info\n",
    "            reward = arms[chosen_arm].draw()\n",
    "            rewards[index] = reward\n",
    "            \n",
    "            if t ==1:\n",
    "                cumulative_rewards[index] = reward\n",
    "            else:\n",
    "                cumulative_rewards[index] = cumulative_rewards[index-1] + reward\n",
    "                \n",
    "            algo.update(chosen_arm, reward)\n",
    "    \n",
    "    return [sim_nums, times, chosen_arms, rewards, cumulative_rewards]"
   ]
  },
  {
   "cell_type": "code",
   "execution_count": 16,
   "metadata": {},
   "outputs": [
    {
     "name": "stdout",
     "output_type": "stream",
     "text": [
      "Best arm is 2\n",
      "done\n"
     ]
    }
   ],
   "source": [
    "import random\n",
    "\n",
    "random.seed(1)\n",
    "# out of 5 arms, 1 arm is clearly the best\n",
    "means = [0.1, 0.1, 0.1, 0.1, 0.9]\n",
    "n_arms = len(means)\n",
    "# Shuffling arms\n",
    "random.shuffle(means)\n",
    "\n",
    "# Create list of Bernoulli Arms with Reward Information\n",
    "arms = list(map(lambda mu: BernoulliArm(mu), means))\n",
    "print(\"Best arm is \" + str(np.argmax(means)))\n",
    "\n",
    "f = open(\"standard_results1.tsv\", \"w+\")\n",
    "\n",
    "# Create simulations for each exploration epsilon value\n",
    "for epsilon in [0.1, 0.2, 0.3, 0.4, 0.5]:\n",
    "    algo = EpsilonGreedy(epsilon, [], [])\n",
    "    algo.initialize(n_arms)\n",
    "    results = test_algorithm(algo, arms, 5, 25)\n",
    "    \n",
    "    # Store data\n",
    "    for i in range(len(results[0])):\n",
    "        f.write(str(epsilon) + \"\\t\")\n",
    "        f.write(\"\\t\".join([str(results[j][i]) for j in range(len(results))]) + \"\\n\")\n",
    "f.close()\n",
    "print(\"done\")"
   ]
  },
  {
   "cell_type": "code",
   "execution_count": 54,
   "metadata": {},
   "outputs": [
    {
     "data": {
      "text/html": [
       "<div>\n",
       "<style scoped>\n",
       "    .dataframe tbody tr th:only-of-type {\n",
       "        vertical-align: middle;\n",
       "    }\n",
       "\n",
       "    .dataframe tbody tr th {\n",
       "        vertical-align: top;\n",
       "    }\n",
       "\n",
       "    .dataframe thead th {\n",
       "        text-align: right;\n",
       "    }\n",
       "</style>\n",
       "<table border=\"1\" class=\"dataframe\">\n",
       "  <thead>\n",
       "    <tr style=\"text-align: right;\">\n",
       "      <th></th>\n",
       "      <th>epsilon</th>\n",
       "      <th>simulation_num</th>\n",
       "      <th>step</th>\n",
       "      <th>chosen_arm</th>\n",
       "      <th>reward</th>\n",
       "      <th>cum_reward</th>\n",
       "    </tr>\n",
       "  </thead>\n",
       "  <tbody>\n",
       "    <tr>\n",
       "      <th>0</th>\n",
       "      <td>0.1</td>\n",
       "      <td>1</td>\n",
       "      <td>1</td>\n",
       "      <td>0</td>\n",
       "      <td>0.0</td>\n",
       "      <td>0.0</td>\n",
       "    </tr>\n",
       "    <tr>\n",
       "      <th>1</th>\n",
       "      <td>0.1</td>\n",
       "      <td>1</td>\n",
       "      <td>2</td>\n",
       "      <td>0</td>\n",
       "      <td>0.0</td>\n",
       "      <td>0.0</td>\n",
       "    </tr>\n",
       "    <tr>\n",
       "      <th>2</th>\n",
       "      <td>0.1</td>\n",
       "      <td>1</td>\n",
       "      <td>3</td>\n",
       "      <td>0</td>\n",
       "      <td>0.0</td>\n",
       "      <td>0.0</td>\n",
       "    </tr>\n",
       "    <tr>\n",
       "      <th>3</th>\n",
       "      <td>0.1</td>\n",
       "      <td>1</td>\n",
       "      <td>4</td>\n",
       "      <td>0</td>\n",
       "      <td>0.0</td>\n",
       "      <td>0.0</td>\n",
       "    </tr>\n",
       "    <tr>\n",
       "      <th>4</th>\n",
       "      <td>0.1</td>\n",
       "      <td>1</td>\n",
       "      <td>5</td>\n",
       "      <td>0</td>\n",
       "      <td>0.0</td>\n",
       "      <td>0.0</td>\n",
       "    </tr>\n",
       "  </tbody>\n",
       "</table>\n",
       "</div>"
      ],
      "text/plain": [
       "   epsilon  simulation_num  step  chosen_arm  reward  cum_reward\n",
       "0      0.1               1     1           0     0.0         0.0\n",
       "1      0.1               1     2           0     0.0         0.0\n",
       "2      0.1               1     3           0     0.0         0.0\n",
       "3      0.1               1     4           0     0.0         0.0\n",
       "4      0.1               1     5           0     0.0         0.0"
      ]
     },
     "execution_count": 54,
     "metadata": {},
     "output_type": "execute_result"
    }
   ],
   "source": [
    "df = pd.read_csv(\"standard_results.tsv\", sep = \"\\t\", header = None, names = [\"epsilon\", \"simulation_num\", \"step\", \"chosen_arm\", \"reward\", \"cum_reward\"])\n",
    "\n",
    "df.head()"
   ]
  },
  {
   "cell_type": "code",
   "execution_count": 55,
   "metadata": {},
   "outputs": [],
   "source": [
    "# Create a flag for each step to see if best arm was chosen\n",
    "df[\"chose_correct\"] = np.select(\n",
    "    [\n",
    "        df[\"chosen_arm\"] == 2,\n",
    "        df[\"chosen_arm\"] != 2\n",
    "    ],\n",
    "    [\n",
    "        1,\n",
    "        0\n",
    "    ]\n",
    ")"
   ]
  },
  {
   "cell_type": "code",
   "execution_count": 56,
   "metadata": {},
   "outputs": [],
   "source": [
    "# Perform average/mean for each step for all simulations and epsilon\n",
    "df_chose_correctly = df.loc[:,[\"epsilon\",\"step\", \"chose_correct\"]].groupby([\"epsilon\",\"step\"]).agg(\"mean\")\n",
    "\n",
    "# Remove multi index grouping\n",
    "df_chose_correctly = df_chose_correctly.reset_index()"
   ]
  },
  {
   "cell_type": "code",
   "execution_count": 57,
   "metadata": {},
   "outputs": [
    {
     "data": {
      "text/html": [
       "<div>\n",
       "<style scoped>\n",
       "    .dataframe tbody tr th:only-of-type {\n",
       "        vertical-align: middle;\n",
       "    }\n",
       "\n",
       "    .dataframe tbody tr th {\n",
       "        vertical-align: top;\n",
       "    }\n",
       "\n",
       "    .dataframe thead th {\n",
       "        text-align: right;\n",
       "    }\n",
       "</style>\n",
       "<table border=\"1\" class=\"dataframe\">\n",
       "  <thead>\n",
       "    <tr style=\"text-align: right;\">\n",
       "      <th></th>\n",
       "      <th>epsilon</th>\n",
       "      <th>step</th>\n",
       "      <th>chose_correct</th>\n",
       "    </tr>\n",
       "  </thead>\n",
       "  <tbody>\n",
       "    <tr>\n",
       "      <th>0</th>\n",
       "      <td>0.1</td>\n",
       "      <td>1</td>\n",
       "      <td>0.0184</td>\n",
       "    </tr>\n",
       "    <tr>\n",
       "      <th>1</th>\n",
       "      <td>0.1</td>\n",
       "      <td>2</td>\n",
       "      <td>0.0372</td>\n",
       "    </tr>\n",
       "    <tr>\n",
       "      <th>2</th>\n",
       "      <td>0.1</td>\n",
       "      <td>3</td>\n",
       "      <td>0.0514</td>\n",
       "    </tr>\n",
       "    <tr>\n",
       "      <th>3</th>\n",
       "      <td>0.1</td>\n",
       "      <td>4</td>\n",
       "      <td>0.0696</td>\n",
       "    </tr>\n",
       "    <tr>\n",
       "      <th>4</th>\n",
       "      <td>0.1</td>\n",
       "      <td>5</td>\n",
       "      <td>0.0822</td>\n",
       "    </tr>\n",
       "  </tbody>\n",
       "</table>\n",
       "</div>"
      ],
      "text/plain": [
       "   epsilon  step  chose_correct\n",
       "0      0.1     1         0.0184\n",
       "1      0.1     2         0.0372\n",
       "2      0.1     3         0.0514\n",
       "3      0.1     4         0.0696\n",
       "4      0.1     5         0.0822"
      ]
     },
     "execution_count": 57,
     "metadata": {},
     "output_type": "execute_result"
    }
   ],
   "source": [
    "df_chose_correctly.head()"
   ]
  },
  {
   "cell_type": "code",
   "execution_count": 70,
   "metadata": {},
   "outputs": [
    {
     "data": {
      "application/vnd.vegalite.v3+json": {
       "$schema": "https://vega.github.io/schema/vega-lite/v3.4.0.json",
       "config": {
        "mark": {
         "tooltip": null
        },
        "view": {
         "height": 300,
         "width": 400
        }
       },
       "data": {
        "name": "data-b964237f9acf175ba643dd054d10c4f3"
       },
       "datasets": {
        "data-b964237f9acf175ba643dd054d10c4f3": [
         {
          "chose_correct": 0.0184,
          "epsilon": 0.1,
          "step": 1
         },
         {
          "chose_correct": 0.0372,
          "epsilon": 0.1,
          "step": 2
         },
         {
          "chose_correct": 0.0514,
          "epsilon": 0.1,
          "step": 3
         },
         {
          "chose_correct": 0.0696,
          "epsilon": 0.1,
          "step": 4
         },
         {
          "chose_correct": 0.0822,
          "epsilon": 0.1,
          "step": 5
         },
         {
          "chose_correct": 0.1,
          "epsilon": 0.1,
          "step": 6
         },
         {
          "chose_correct": 0.1114,
          "epsilon": 0.1,
          "step": 7
         },
         {
          "chose_correct": 0.1232,
          "epsilon": 0.1,
          "step": 8
         },
         {
          "chose_correct": 0.1388,
          "epsilon": 0.1,
          "step": 9
         },
         {
          "chose_correct": 0.1474,
          "epsilon": 0.1,
          "step": 10
         },
         {
          "chose_correct": 0.1652,
          "epsilon": 0.1,
          "step": 11
         },
         {
          "chose_correct": 0.177,
          "epsilon": 0.1,
          "step": 12
         },
         {
          "chose_correct": 0.1896,
          "epsilon": 0.1,
          "step": 13
         },
         {
          "chose_correct": 0.202,
          "epsilon": 0.1,
          "step": 14
         },
         {
          "chose_correct": 0.2146,
          "epsilon": 0.1,
          "step": 15
         },
         {
          "chose_correct": 0.2264,
          "epsilon": 0.1,
          "step": 16
         },
         {
          "chose_correct": 0.2392,
          "epsilon": 0.1,
          "step": 17
         },
         {
          "chose_correct": 0.251,
          "epsilon": 0.1,
          "step": 18
         },
         {
          "chose_correct": 0.2662,
          "epsilon": 0.1,
          "step": 19
         },
         {
          "chose_correct": 0.276,
          "epsilon": 0.1,
          "step": 20
         },
         {
          "chose_correct": 0.284,
          "epsilon": 0.1,
          "step": 21
         },
         {
          "chose_correct": 0.2992,
          "epsilon": 0.1,
          "step": 22
         },
         {
          "chose_correct": 0.3134,
          "epsilon": 0.1,
          "step": 23
         },
         {
          "chose_correct": 0.321,
          "epsilon": 0.1,
          "step": 24
         },
         {
          "chose_correct": 0.3256,
          "epsilon": 0.1,
          "step": 25
         },
         {
          "chose_correct": 0.3396,
          "epsilon": 0.1,
          "step": 26
         },
         {
          "chose_correct": 0.3518,
          "epsilon": 0.1,
          "step": 27
         },
         {
          "chose_correct": 0.362,
          "epsilon": 0.1,
          "step": 28
         },
         {
          "chose_correct": 0.368,
          "epsilon": 0.1,
          "step": 29
         },
         {
          "chose_correct": 0.3826,
          "epsilon": 0.1,
          "step": 30
         },
         {
          "chose_correct": 0.3936,
          "epsilon": 0.1,
          "step": 31
         },
         {
          "chose_correct": 0.4022,
          "epsilon": 0.1,
          "step": 32
         },
         {
          "chose_correct": 0.4084,
          "epsilon": 0.1,
          "step": 33
         },
         {
          "chose_correct": 0.4284,
          "epsilon": 0.1,
          "step": 34
         },
         {
          "chose_correct": 0.4304,
          "epsilon": 0.1,
          "step": 35
         },
         {
          "chose_correct": 0.4444,
          "epsilon": 0.1,
          "step": 36
         },
         {
          "chose_correct": 0.4428,
          "epsilon": 0.1,
          "step": 37
         },
         {
          "chose_correct": 0.451,
          "epsilon": 0.1,
          "step": 38
         },
         {
          "chose_correct": 0.4616,
          "epsilon": 0.1,
          "step": 39
         },
         {
          "chose_correct": 0.4664,
          "epsilon": 0.1,
          "step": 40
         },
         {
          "chose_correct": 0.477,
          "epsilon": 0.1,
          "step": 41
         },
         {
          "chose_correct": 0.4788,
          "epsilon": 0.1,
          "step": 42
         },
         {
          "chose_correct": 0.4938,
          "epsilon": 0.1,
          "step": 43
         },
         {
          "chose_correct": 0.501,
          "epsilon": 0.1,
          "step": 44
         },
         {
          "chose_correct": 0.5108,
          "epsilon": 0.1,
          "step": 45
         },
         {
          "chose_correct": 0.5194,
          "epsilon": 0.1,
          "step": 46
         },
         {
          "chose_correct": 0.521,
          "epsilon": 0.1,
          "step": 47
         },
         {
          "chose_correct": 0.5284,
          "epsilon": 0.1,
          "step": 48
         },
         {
          "chose_correct": 0.5338,
          "epsilon": 0.1,
          "step": 49
         },
         {
          "chose_correct": 0.5458,
          "epsilon": 0.1,
          "step": 50
         },
         {
          "chose_correct": 0.5438,
          "epsilon": 0.1,
          "step": 51
         },
         {
          "chose_correct": 0.5558,
          "epsilon": 0.1,
          "step": 52
         },
         {
          "chose_correct": 0.5604,
          "epsilon": 0.1,
          "step": 53
         },
         {
          "chose_correct": 0.5694,
          "epsilon": 0.1,
          "step": 54
         },
         {
          "chose_correct": 0.5736,
          "epsilon": 0.1,
          "step": 55
         },
         {
          "chose_correct": 0.577,
          "epsilon": 0.1,
          "step": 56
         },
         {
          "chose_correct": 0.5852,
          "epsilon": 0.1,
          "step": 57
         },
         {
          "chose_correct": 0.5966,
          "epsilon": 0.1,
          "step": 58
         },
         {
          "chose_correct": 0.5934,
          "epsilon": 0.1,
          "step": 59
         },
         {
          "chose_correct": 0.6052,
          "epsilon": 0.1,
          "step": 60
         },
         {
          "chose_correct": 0.613,
          "epsilon": 0.1,
          "step": 61
         },
         {
          "chose_correct": 0.6264,
          "epsilon": 0.1,
          "step": 62
         },
         {
          "chose_correct": 0.6236,
          "epsilon": 0.1,
          "step": 63
         },
         {
          "chose_correct": 0.627,
          "epsilon": 0.1,
          "step": 64
         },
         {
          "chose_correct": 0.6418,
          "epsilon": 0.1,
          "step": 65
         },
         {
          "chose_correct": 0.6424,
          "epsilon": 0.1,
          "step": 66
         },
         {
          "chose_correct": 0.643,
          "epsilon": 0.1,
          "step": 67
         },
         {
          "chose_correct": 0.6554,
          "epsilon": 0.1,
          "step": 68
         },
         {
          "chose_correct": 0.6544,
          "epsilon": 0.1,
          "step": 69
         },
         {
          "chose_correct": 0.661,
          "epsilon": 0.1,
          "step": 70
         },
         {
          "chose_correct": 0.664,
          "epsilon": 0.1,
          "step": 71
         },
         {
          "chose_correct": 0.6744,
          "epsilon": 0.1,
          "step": 72
         },
         {
          "chose_correct": 0.6754,
          "epsilon": 0.1,
          "step": 73
         },
         {
          "chose_correct": 0.6792,
          "epsilon": 0.1,
          "step": 74
         },
         {
          "chose_correct": 0.6814,
          "epsilon": 0.1,
          "step": 75
         },
         {
          "chose_correct": 0.6858,
          "epsilon": 0.1,
          "step": 76
         },
         {
          "chose_correct": 0.6888,
          "epsilon": 0.1,
          "step": 77
         },
         {
          "chose_correct": 0.6952,
          "epsilon": 0.1,
          "step": 78
         },
         {
          "chose_correct": 0.6982,
          "epsilon": 0.1,
          "step": 79
         },
         {
          "chose_correct": 0.7104,
          "epsilon": 0.1,
          "step": 80
         },
         {
          "chose_correct": 0.7082,
          "epsilon": 0.1,
          "step": 81
         },
         {
          "chose_correct": 0.709,
          "epsilon": 0.1,
          "step": 82
         },
         {
          "chose_correct": 0.7144,
          "epsilon": 0.1,
          "step": 83
         },
         {
          "chose_correct": 0.7262,
          "epsilon": 0.1,
          "step": 84
         },
         {
          "chose_correct": 0.7276,
          "epsilon": 0.1,
          "step": 85
         },
         {
          "chose_correct": 0.7308,
          "epsilon": 0.1,
          "step": 86
         },
         {
          "chose_correct": 0.7322,
          "epsilon": 0.1,
          "step": 87
         },
         {
          "chose_correct": 0.7358,
          "epsilon": 0.1,
          "step": 88
         },
         {
          "chose_correct": 0.7406,
          "epsilon": 0.1,
          "step": 89
         },
         {
          "chose_correct": 0.7398,
          "epsilon": 0.1,
          "step": 90
         },
         {
          "chose_correct": 0.7514,
          "epsilon": 0.1,
          "step": 91
         },
         {
          "chose_correct": 0.7488,
          "epsilon": 0.1,
          "step": 92
         },
         {
          "chose_correct": 0.7504,
          "epsilon": 0.1,
          "step": 93
         },
         {
          "chose_correct": 0.7538,
          "epsilon": 0.1,
          "step": 94
         },
         {
          "chose_correct": 0.7582,
          "epsilon": 0.1,
          "step": 95
         },
         {
          "chose_correct": 0.7646,
          "epsilon": 0.1,
          "step": 96
         },
         {
          "chose_correct": 0.7672,
          "epsilon": 0.1,
          "step": 97
         },
         {
          "chose_correct": 0.7668,
          "epsilon": 0.1,
          "step": 98
         },
         {
          "chose_correct": 0.7758,
          "epsilon": 0.1,
          "step": 99
         },
         {
          "chose_correct": 0.7676,
          "epsilon": 0.1,
          "step": 100
         },
         {
          "chose_correct": 0.7792,
          "epsilon": 0.1,
          "step": 101
         },
         {
          "chose_correct": 0.7742,
          "epsilon": 0.1,
          "step": 102
         },
         {
          "chose_correct": 0.782,
          "epsilon": 0.1,
          "step": 103
         },
         {
          "chose_correct": 0.7858,
          "epsilon": 0.1,
          "step": 104
         },
         {
          "chose_correct": 0.7878,
          "epsilon": 0.1,
          "step": 105
         },
         {
          "chose_correct": 0.785,
          "epsilon": 0.1,
          "step": 106
         },
         {
          "chose_correct": 0.793,
          "epsilon": 0.1,
          "step": 107
         },
         {
          "chose_correct": 0.7922,
          "epsilon": 0.1,
          "step": 108
         },
         {
          "chose_correct": 0.7942,
          "epsilon": 0.1,
          "step": 109
         },
         {
          "chose_correct": 0.8016,
          "epsilon": 0.1,
          "step": 110
         },
         {
          "chose_correct": 0.799,
          "epsilon": 0.1,
          "step": 111
         },
         {
          "chose_correct": 0.8072,
          "epsilon": 0.1,
          "step": 112
         },
         {
          "chose_correct": 0.8054,
          "epsilon": 0.1,
          "step": 113
         },
         {
          "chose_correct": 0.8098,
          "epsilon": 0.1,
          "step": 114
         },
         {
          "chose_correct": 0.8102,
          "epsilon": 0.1,
          "step": 115
         },
         {
          "chose_correct": 0.812,
          "epsilon": 0.1,
          "step": 116
         },
         {
          "chose_correct": 0.8084,
          "epsilon": 0.1,
          "step": 117
         },
         {
          "chose_correct": 0.8202,
          "epsilon": 0.1,
          "step": 118
         },
         {
          "chose_correct": 0.8224,
          "epsilon": 0.1,
          "step": 119
         },
         {
          "chose_correct": 0.8204,
          "epsilon": 0.1,
          "step": 120
         },
         {
          "chose_correct": 0.8222,
          "epsilon": 0.1,
          "step": 121
         },
         {
          "chose_correct": 0.8288,
          "epsilon": 0.1,
          "step": 122
         },
         {
          "chose_correct": 0.8226,
          "epsilon": 0.1,
          "step": 123
         },
         {
          "chose_correct": 0.8344,
          "epsilon": 0.1,
          "step": 124
         },
         {
          "chose_correct": 0.8288,
          "epsilon": 0.1,
          "step": 125
         },
         {
          "chose_correct": 0.8296,
          "epsilon": 0.1,
          "step": 126
         },
         {
          "chose_correct": 0.8368,
          "epsilon": 0.1,
          "step": 127
         },
         {
          "chose_correct": 0.836,
          "epsilon": 0.1,
          "step": 128
         },
         {
          "chose_correct": 0.8368,
          "epsilon": 0.1,
          "step": 129
         },
         {
          "chose_correct": 0.8354,
          "epsilon": 0.1,
          "step": 130
         },
         {
          "chose_correct": 0.8344,
          "epsilon": 0.1,
          "step": 131
         },
         {
          "chose_correct": 0.843,
          "epsilon": 0.1,
          "step": 132
         },
         {
          "chose_correct": 0.8396,
          "epsilon": 0.1,
          "step": 133
         },
         {
          "chose_correct": 0.8448,
          "epsilon": 0.1,
          "step": 134
         },
         {
          "chose_correct": 0.8414,
          "epsilon": 0.1,
          "step": 135
         },
         {
          "chose_correct": 0.8498,
          "epsilon": 0.1,
          "step": 136
         },
         {
          "chose_correct": 0.849,
          "epsilon": 0.1,
          "step": 137
         },
         {
          "chose_correct": 0.8586,
          "epsilon": 0.1,
          "step": 138
         },
         {
          "chose_correct": 0.8488,
          "epsilon": 0.1,
          "step": 139
         },
         {
          "chose_correct": 0.8536,
          "epsilon": 0.1,
          "step": 140
         },
         {
          "chose_correct": 0.8566,
          "epsilon": 0.1,
          "step": 141
         },
         {
          "chose_correct": 0.8616,
          "epsilon": 0.1,
          "step": 142
         },
         {
          "chose_correct": 0.8514,
          "epsilon": 0.1,
          "step": 143
         },
         {
          "chose_correct": 0.8578,
          "epsilon": 0.1,
          "step": 144
         },
         {
          "chose_correct": 0.861,
          "epsilon": 0.1,
          "step": 145
         },
         {
          "chose_correct": 0.8608,
          "epsilon": 0.1,
          "step": 146
         },
         {
          "chose_correct": 0.864,
          "epsilon": 0.1,
          "step": 147
         },
         {
          "chose_correct": 0.8664,
          "epsilon": 0.1,
          "step": 148
         },
         {
          "chose_correct": 0.8638,
          "epsilon": 0.1,
          "step": 149
         },
         {
          "chose_correct": 0.8708,
          "epsilon": 0.1,
          "step": 150
         },
         {
          "chose_correct": 0.8646,
          "epsilon": 0.1,
          "step": 151
         },
         {
          "chose_correct": 0.8672,
          "epsilon": 0.1,
          "step": 152
         },
         {
          "chose_correct": 0.8702,
          "epsilon": 0.1,
          "step": 153
         },
         {
          "chose_correct": 0.8724,
          "epsilon": 0.1,
          "step": 154
         },
         {
          "chose_correct": 0.8722,
          "epsilon": 0.1,
          "step": 155
         },
         {
          "chose_correct": 0.8704,
          "epsilon": 0.1,
          "step": 156
         },
         {
          "chose_correct": 0.8792,
          "epsilon": 0.1,
          "step": 157
         },
         {
          "chose_correct": 0.8758,
          "epsilon": 0.1,
          "step": 158
         },
         {
          "chose_correct": 0.8738,
          "epsilon": 0.1,
          "step": 159
         },
         {
          "chose_correct": 0.883,
          "epsilon": 0.1,
          "step": 160
         },
         {
          "chose_correct": 0.879,
          "epsilon": 0.1,
          "step": 161
         },
         {
          "chose_correct": 0.8804,
          "epsilon": 0.1,
          "step": 162
         },
         {
          "chose_correct": 0.8808,
          "epsilon": 0.1,
          "step": 163
         },
         {
          "chose_correct": 0.8866,
          "epsilon": 0.1,
          "step": 164
         },
         {
          "chose_correct": 0.8812,
          "epsilon": 0.1,
          "step": 165
         },
         {
          "chose_correct": 0.8886,
          "epsilon": 0.1,
          "step": 166
         },
         {
          "chose_correct": 0.8832,
          "epsilon": 0.1,
          "step": 167
         },
         {
          "chose_correct": 0.8846,
          "epsilon": 0.1,
          "step": 168
         },
         {
          "chose_correct": 0.881,
          "epsilon": 0.1,
          "step": 169
         },
         {
          "chose_correct": 0.8894,
          "epsilon": 0.1,
          "step": 170
         },
         {
          "chose_correct": 0.8906,
          "epsilon": 0.1,
          "step": 171
         },
         {
          "chose_correct": 0.8856,
          "epsilon": 0.1,
          "step": 172
         },
         {
          "chose_correct": 0.8844,
          "epsilon": 0.1,
          "step": 173
         },
         {
          "chose_correct": 0.8888,
          "epsilon": 0.1,
          "step": 174
         },
         {
          "chose_correct": 0.885,
          "epsilon": 0.1,
          "step": 175
         },
         {
          "chose_correct": 0.8846,
          "epsilon": 0.1,
          "step": 176
         },
         {
          "chose_correct": 0.8876,
          "epsilon": 0.1,
          "step": 177
         },
         {
          "chose_correct": 0.89,
          "epsilon": 0.1,
          "step": 178
         },
         {
          "chose_correct": 0.8954,
          "epsilon": 0.1,
          "step": 179
         },
         {
          "chose_correct": 0.8894,
          "epsilon": 0.1,
          "step": 180
         },
         {
          "chose_correct": 0.888,
          "epsilon": 0.1,
          "step": 181
         },
         {
          "chose_correct": 0.8912,
          "epsilon": 0.1,
          "step": 182
         },
         {
          "chose_correct": 0.892,
          "epsilon": 0.1,
          "step": 183
         },
         {
          "chose_correct": 0.8934,
          "epsilon": 0.1,
          "step": 184
         },
         {
          "chose_correct": 0.8954,
          "epsilon": 0.1,
          "step": 185
         },
         {
          "chose_correct": 0.893,
          "epsilon": 0.1,
          "step": 186
         },
         {
          "chose_correct": 0.8918,
          "epsilon": 0.1,
          "step": 187
         },
         {
          "chose_correct": 0.8932,
          "epsilon": 0.1,
          "step": 188
         },
         {
          "chose_correct": 0.896,
          "epsilon": 0.1,
          "step": 189
         },
         {
          "chose_correct": 0.897,
          "epsilon": 0.1,
          "step": 190
         },
         {
          "chose_correct": 0.8956,
          "epsilon": 0.1,
          "step": 191
         },
         {
          "chose_correct": 0.8942,
          "epsilon": 0.1,
          "step": 192
         },
         {
          "chose_correct": 0.9006,
          "epsilon": 0.1,
          "step": 193
         },
         {
          "chose_correct": 0.896,
          "epsilon": 0.1,
          "step": 194
         },
         {
          "chose_correct": 0.8968,
          "epsilon": 0.1,
          "step": 195
         },
         {
          "chose_correct": 0.8982,
          "epsilon": 0.1,
          "step": 196
         },
         {
          "chose_correct": 0.9028,
          "epsilon": 0.1,
          "step": 197
         },
         {
          "chose_correct": 0.8966,
          "epsilon": 0.1,
          "step": 198
         },
         {
          "chose_correct": 0.8958,
          "epsilon": 0.1,
          "step": 199
         },
         {
          "chose_correct": 0.893,
          "epsilon": 0.1,
          "step": 200
         },
         {
          "chose_correct": 0.905,
          "epsilon": 0.1,
          "step": 201
         },
         {
          "chose_correct": 0.9074,
          "epsilon": 0.1,
          "step": 202
         },
         {
          "chose_correct": 0.9036,
          "epsilon": 0.1,
          "step": 203
         },
         {
          "chose_correct": 0.9094,
          "epsilon": 0.1,
          "step": 204
         },
         {
          "chose_correct": 0.9082,
          "epsilon": 0.1,
          "step": 205
         },
         {
          "chose_correct": 0.9042,
          "epsilon": 0.1,
          "step": 206
         },
         {
          "chose_correct": 0.8988,
          "epsilon": 0.1,
          "step": 207
         },
         {
          "chose_correct": 0.9006,
          "epsilon": 0.1,
          "step": 208
         },
         {
          "chose_correct": 0.8978,
          "epsilon": 0.1,
          "step": 209
         },
         {
          "chose_correct": 0.9046,
          "epsilon": 0.1,
          "step": 210
         },
         {
          "chose_correct": 0.906,
          "epsilon": 0.1,
          "step": 211
         },
         {
          "chose_correct": 0.9012,
          "epsilon": 0.1,
          "step": 212
         },
         {
          "chose_correct": 0.9066,
          "epsilon": 0.1,
          "step": 213
         },
         {
          "chose_correct": 0.9028,
          "epsilon": 0.1,
          "step": 214
         },
         {
          "chose_correct": 0.901,
          "epsilon": 0.1,
          "step": 215
         },
         {
          "chose_correct": 0.911,
          "epsilon": 0.1,
          "step": 216
         },
         {
          "chose_correct": 0.902,
          "epsilon": 0.1,
          "step": 217
         },
         {
          "chose_correct": 0.9026,
          "epsilon": 0.1,
          "step": 218
         },
         {
          "chose_correct": 0.906,
          "epsilon": 0.1,
          "step": 219
         },
         {
          "chose_correct": 0.9156,
          "epsilon": 0.1,
          "step": 220
         },
         {
          "chose_correct": 0.9148,
          "epsilon": 0.1,
          "step": 221
         },
         {
          "chose_correct": 0.905,
          "epsilon": 0.1,
          "step": 222
         },
         {
          "chose_correct": 0.911,
          "epsilon": 0.1,
          "step": 223
         },
         {
          "chose_correct": 0.9138,
          "epsilon": 0.1,
          "step": 224
         },
         {
          "chose_correct": 0.9058,
          "epsilon": 0.1,
          "step": 225
         },
         {
          "chose_correct": 0.911,
          "epsilon": 0.1,
          "step": 226
         },
         {
          "chose_correct": 0.9118,
          "epsilon": 0.1,
          "step": 227
         },
         {
          "chose_correct": 0.9146,
          "epsilon": 0.1,
          "step": 228
         },
         {
          "chose_correct": 0.9038,
          "epsilon": 0.1,
          "step": 229
         },
         {
          "chose_correct": 0.9162,
          "epsilon": 0.1,
          "step": 230
         },
         {
          "chose_correct": 0.9094,
          "epsilon": 0.1,
          "step": 231
         },
         {
          "chose_correct": 0.9096,
          "epsilon": 0.1,
          "step": 232
         },
         {
          "chose_correct": 0.9086,
          "epsilon": 0.1,
          "step": 233
         },
         {
          "chose_correct": 0.9074,
          "epsilon": 0.1,
          "step": 234
         },
         {
          "chose_correct": 0.9146,
          "epsilon": 0.1,
          "step": 235
         },
         {
          "chose_correct": 0.91,
          "epsilon": 0.1,
          "step": 236
         },
         {
          "chose_correct": 0.908,
          "epsilon": 0.1,
          "step": 237
         },
         {
          "chose_correct": 0.9066,
          "epsilon": 0.1,
          "step": 238
         },
         {
          "chose_correct": 0.9134,
          "epsilon": 0.1,
          "step": 239
         },
         {
          "chose_correct": 0.9134,
          "epsilon": 0.1,
          "step": 240
         },
         {
          "chose_correct": 0.9162,
          "epsilon": 0.1,
          "step": 241
         },
         {
          "chose_correct": 0.9086,
          "epsilon": 0.1,
          "step": 242
         },
         {
          "chose_correct": 0.905,
          "epsilon": 0.1,
          "step": 243
         },
         {
          "chose_correct": 0.9116,
          "epsilon": 0.1,
          "step": 244
         },
         {
          "chose_correct": 0.9162,
          "epsilon": 0.1,
          "step": 245
         },
         {
          "chose_correct": 0.9138,
          "epsilon": 0.1,
          "step": 246
         },
         {
          "chose_correct": 0.906,
          "epsilon": 0.1,
          "step": 247
         },
         {
          "chose_correct": 0.917,
          "epsilon": 0.1,
          "step": 248
         },
         {
          "chose_correct": 0.9188,
          "epsilon": 0.1,
          "step": 249
         },
         {
          "chose_correct": 0.9058,
          "epsilon": 0.1,
          "step": 250
         },
         {
          "chose_correct": 0.0376,
          "epsilon": 0.2,
          "step": 1
         },
         {
          "chose_correct": 0.063,
          "epsilon": 0.2,
          "step": 2
         },
         {
          "chose_correct": 0.0906,
          "epsilon": 0.2,
          "step": 3
         },
         {
          "chose_correct": 0.1256,
          "epsilon": 0.2,
          "step": 4
         },
         {
          "chose_correct": 0.1464,
          "epsilon": 0.2,
          "step": 5
         },
         {
          "chose_correct": 0.1678,
          "epsilon": 0.2,
          "step": 6
         },
         {
          "chose_correct": 0.1904,
          "epsilon": 0.2,
          "step": 7
         },
         {
          "chose_correct": 0.2156,
          "epsilon": 0.2,
          "step": 8
         },
         {
          "chose_correct": 0.2448,
          "epsilon": 0.2,
          "step": 9
         },
         {
          "chose_correct": 0.2648,
          "epsilon": 0.2,
          "step": 10
         },
         {
          "chose_correct": 0.287,
          "epsilon": 0.2,
          "step": 11
         },
         {
          "chose_correct": 0.302,
          "epsilon": 0.2,
          "step": 12
         },
         {
          "chose_correct": 0.3206,
          "epsilon": 0.2,
          "step": 13
         },
         {
          "chose_correct": 0.3414,
          "epsilon": 0.2,
          "step": 14
         },
         {
          "chose_correct": 0.3536,
          "epsilon": 0.2,
          "step": 15
         },
         {
          "chose_correct": 0.3756,
          "epsilon": 0.2,
          "step": 16
         },
         {
          "chose_correct": 0.3978,
          "epsilon": 0.2,
          "step": 17
         },
         {
          "chose_correct": 0.407,
          "epsilon": 0.2,
          "step": 18
         },
         {
          "chose_correct": 0.432,
          "epsilon": 0.2,
          "step": 19
         },
         {
          "chose_correct": 0.45,
          "epsilon": 0.2,
          "step": 20
         },
         {
          "chose_correct": 0.4614,
          "epsilon": 0.2,
          "step": 21
         },
         {
          "chose_correct": 0.4716,
          "epsilon": 0.2,
          "step": 22
         },
         {
          "chose_correct": 0.4788,
          "epsilon": 0.2,
          "step": 23
         },
         {
          "chose_correct": 0.497,
          "epsilon": 0.2,
          "step": 24
         },
         {
          "chose_correct": 0.5132,
          "epsilon": 0.2,
          "step": 25
         },
         {
          "chose_correct": 0.5224,
          "epsilon": 0.2,
          "step": 26
         },
         {
          "chose_correct": 0.5354,
          "epsilon": 0.2,
          "step": 27
         },
         {
          "chose_correct": 0.5344,
          "epsilon": 0.2,
          "step": 28
         },
         {
          "chose_correct": 0.5542,
          "epsilon": 0.2,
          "step": 29
         },
         {
          "chose_correct": 0.5698,
          "epsilon": 0.2,
          "step": 30
         },
         {
          "chose_correct": 0.574,
          "epsilon": 0.2,
          "step": 31
         },
         {
          "chose_correct": 0.5818,
          "epsilon": 0.2,
          "step": 32
         },
         {
          "chose_correct": 0.5966,
          "epsilon": 0.2,
          "step": 33
         },
         {
          "chose_correct": 0.5944,
          "epsilon": 0.2,
          "step": 34
         },
         {
          "chose_correct": 0.6078,
          "epsilon": 0.2,
          "step": 35
         },
         {
          "chose_correct": 0.628,
          "epsilon": 0.2,
          "step": 36
         },
         {
          "chose_correct": 0.6296,
          "epsilon": 0.2,
          "step": 37
         },
         {
          "chose_correct": 0.6336,
          "epsilon": 0.2,
          "step": 38
         },
         {
          "chose_correct": 0.642,
          "epsilon": 0.2,
          "step": 39
         },
         {
          "chose_correct": 0.6508,
          "epsilon": 0.2,
          "step": 40
         },
         {
          "chose_correct": 0.653,
          "epsilon": 0.2,
          "step": 41
         },
         {
          "chose_correct": 0.6692,
          "epsilon": 0.2,
          "step": 42
         },
         {
          "chose_correct": 0.674,
          "epsilon": 0.2,
          "step": 43
         },
         {
          "chose_correct": 0.6674,
          "epsilon": 0.2,
          "step": 44
         },
         {
          "chose_correct": 0.676,
          "epsilon": 0.2,
          "step": 45
         },
         {
          "chose_correct": 0.6754,
          "epsilon": 0.2,
          "step": 46
         },
         {
          "chose_correct": 0.6908,
          "epsilon": 0.2,
          "step": 47
         },
         {
          "chose_correct": 0.6924,
          "epsilon": 0.2,
          "step": 48
         },
         {
          "chose_correct": 0.6988,
          "epsilon": 0.2,
          "step": 49
         },
         {
          "chose_correct": 0.696,
          "epsilon": 0.2,
          "step": 50
         },
         {
          "chose_correct": 0.7106,
          "epsilon": 0.2,
          "step": 51
         },
         {
          "chose_correct": 0.7188,
          "epsilon": 0.2,
          "step": 52
         },
         {
          "chose_correct": 0.7102,
          "epsilon": 0.2,
          "step": 53
         },
         {
          "chose_correct": 0.721,
          "epsilon": 0.2,
          "step": 54
         },
         {
          "chose_correct": 0.724,
          "epsilon": 0.2,
          "step": 55
         },
         {
          "chose_correct": 0.7236,
          "epsilon": 0.2,
          "step": 56
         },
         {
          "chose_correct": 0.728,
          "epsilon": 0.2,
          "step": 57
         },
         {
          "chose_correct": 0.7362,
          "epsilon": 0.2,
          "step": 58
         },
         {
          "chose_correct": 0.7398,
          "epsilon": 0.2,
          "step": 59
         },
         {
          "chose_correct": 0.736,
          "epsilon": 0.2,
          "step": 60
         },
         {
          "chose_correct": 0.7518,
          "epsilon": 0.2,
          "step": 61
         },
         {
          "chose_correct": 0.7474,
          "epsilon": 0.2,
          "step": 62
         },
         {
          "chose_correct": 0.7556,
          "epsilon": 0.2,
          "step": 63
         },
         {
          "chose_correct": 0.7562,
          "epsilon": 0.2,
          "step": 64
         },
         {
          "chose_correct": 0.7628,
          "epsilon": 0.2,
          "step": 65
         },
         {
          "chose_correct": 0.7628,
          "epsilon": 0.2,
          "step": 66
         },
         {
          "chose_correct": 0.7716,
          "epsilon": 0.2,
          "step": 67
         },
         {
          "chose_correct": 0.771,
          "epsilon": 0.2,
          "step": 68
         },
         {
          "chose_correct": 0.77,
          "epsilon": 0.2,
          "step": 69
         },
         {
          "chose_correct": 0.7716,
          "epsilon": 0.2,
          "step": 70
         },
         {
          "chose_correct": 0.7684,
          "epsilon": 0.2,
          "step": 71
         },
         {
          "chose_correct": 0.7748,
          "epsilon": 0.2,
          "step": 72
         },
         {
          "chose_correct": 0.7688,
          "epsilon": 0.2,
          "step": 73
         },
         {
          "chose_correct": 0.7756,
          "epsilon": 0.2,
          "step": 74
         },
         {
          "chose_correct": 0.7716,
          "epsilon": 0.2,
          "step": 75
         },
         {
          "chose_correct": 0.7842,
          "epsilon": 0.2,
          "step": 76
         },
         {
          "chose_correct": 0.7812,
          "epsilon": 0.2,
          "step": 77
         },
         {
          "chose_correct": 0.7878,
          "epsilon": 0.2,
          "step": 78
         },
         {
          "chose_correct": 0.7954,
          "epsilon": 0.2,
          "step": 79
         },
         {
          "chose_correct": 0.7894,
          "epsilon": 0.2,
          "step": 80
         },
         {
          "chose_correct": 0.7888,
          "epsilon": 0.2,
          "step": 81
         },
         {
          "chose_correct": 0.8022,
          "epsilon": 0.2,
          "step": 82
         },
         {
          "chose_correct": 0.8076,
          "epsilon": 0.2,
          "step": 83
         },
         {
          "chose_correct": 0.802,
          "epsilon": 0.2,
          "step": 84
         },
         {
          "chose_correct": 0.7974,
          "epsilon": 0.2,
          "step": 85
         },
         {
          "chose_correct": 0.8034,
          "epsilon": 0.2,
          "step": 86
         },
         {
          "chose_correct": 0.8086,
          "epsilon": 0.2,
          "step": 87
         },
         {
          "chose_correct": 0.8076,
          "epsilon": 0.2,
          "step": 88
         },
         {
          "chose_correct": 0.8056,
          "epsilon": 0.2,
          "step": 89
         },
         {
          "chose_correct": 0.8056,
          "epsilon": 0.2,
          "step": 90
         },
         {
          "chose_correct": 0.8128,
          "epsilon": 0.2,
          "step": 91
         },
         {
          "chose_correct": 0.807,
          "epsilon": 0.2,
          "step": 92
         },
         {
          "chose_correct": 0.8068,
          "epsilon": 0.2,
          "step": 93
         },
         {
          "chose_correct": 0.8138,
          "epsilon": 0.2,
          "step": 94
         },
         {
          "chose_correct": 0.8184,
          "epsilon": 0.2,
          "step": 95
         },
         {
          "chose_correct": 0.8162,
          "epsilon": 0.2,
          "step": 96
         },
         {
          "chose_correct": 0.809,
          "epsilon": 0.2,
          "step": 97
         },
         {
          "chose_correct": 0.8174,
          "epsilon": 0.2,
          "step": 98
         },
         {
          "chose_correct": 0.814,
          "epsilon": 0.2,
          "step": 99
         },
         {
          "chose_correct": 0.8218,
          "epsilon": 0.2,
          "step": 100
         },
         {
          "chose_correct": 0.8204,
          "epsilon": 0.2,
          "step": 101
         },
         {
          "chose_correct": 0.8198,
          "epsilon": 0.2,
          "step": 102
         },
         {
          "chose_correct": 0.8178,
          "epsilon": 0.2,
          "step": 103
         },
         {
          "chose_correct": 0.8214,
          "epsilon": 0.2,
          "step": 104
         },
         {
          "chose_correct": 0.8284,
          "epsilon": 0.2,
          "step": 105
         },
         {
          "chose_correct": 0.8194,
          "epsilon": 0.2,
          "step": 106
         },
         {
          "chose_correct": 0.8254,
          "epsilon": 0.2,
          "step": 107
         },
         {
          "chose_correct": 0.8152,
          "epsilon": 0.2,
          "step": 108
         },
         {
          "chose_correct": 0.8276,
          "epsilon": 0.2,
          "step": 109
         },
         {
          "chose_correct": 0.8224,
          "epsilon": 0.2,
          "step": 110
         },
         {
          "chose_correct": 0.8204,
          "epsilon": 0.2,
          "step": 111
         },
         {
          "chose_correct": 0.828,
          "epsilon": 0.2,
          "step": 112
         },
         {
          "chose_correct": 0.8342,
          "epsilon": 0.2,
          "step": 113
         },
         {
          "chose_correct": 0.8242,
          "epsilon": 0.2,
          "step": 114
         },
         {
          "chose_correct": 0.8234,
          "epsilon": 0.2,
          "step": 115
         },
         {
          "chose_correct": 0.8424,
          "epsilon": 0.2,
          "step": 116
         },
         {
          "chose_correct": 0.832,
          "epsilon": 0.2,
          "step": 117
         },
         {
          "chose_correct": 0.8272,
          "epsilon": 0.2,
          "step": 118
         },
         {
          "chose_correct": 0.83,
          "epsilon": 0.2,
          "step": 119
         },
         {
          "chose_correct": 0.8264,
          "epsilon": 0.2,
          "step": 120
         },
         {
          "chose_correct": 0.842,
          "epsilon": 0.2,
          "step": 121
         },
         {
          "chose_correct": 0.8382,
          "epsilon": 0.2,
          "step": 122
         },
         {
          "chose_correct": 0.8262,
          "epsilon": 0.2,
          "step": 123
         },
         {
          "chose_correct": 0.8292,
          "epsilon": 0.2,
          "step": 124
         },
         {
          "chose_correct": 0.8228,
          "epsilon": 0.2,
          "step": 125
         },
         {
          "chose_correct": 0.8378,
          "epsilon": 0.2,
          "step": 126
         },
         {
          "chose_correct": 0.827,
          "epsilon": 0.2,
          "step": 127
         },
         {
          "chose_correct": 0.8356,
          "epsilon": 0.2,
          "step": 128
         },
         {
          "chose_correct": 0.8298,
          "epsilon": 0.2,
          "step": 129
         },
         {
          "chose_correct": 0.8356,
          "epsilon": 0.2,
          "step": 130
         },
         {
          "chose_correct": 0.8292,
          "epsilon": 0.2,
          "step": 131
         },
         {
          "chose_correct": 0.8344,
          "epsilon": 0.2,
          "step": 132
         },
         {
          "chose_correct": 0.8332,
          "epsilon": 0.2,
          "step": 133
         },
         {
          "chose_correct": 0.829,
          "epsilon": 0.2,
          "step": 134
         },
         {
          "chose_correct": 0.8358,
          "epsilon": 0.2,
          "step": 135
         },
         {
          "chose_correct": 0.827,
          "epsilon": 0.2,
          "step": 136
         },
         {
          "chose_correct": 0.8332,
          "epsilon": 0.2,
          "step": 137
         },
         {
          "chose_correct": 0.8334,
          "epsilon": 0.2,
          "step": 138
         },
         {
          "chose_correct": 0.8384,
          "epsilon": 0.2,
          "step": 139
         },
         {
          "chose_correct": 0.825,
          "epsilon": 0.2,
          "step": 140
         },
         {
          "chose_correct": 0.838,
          "epsilon": 0.2,
          "step": 141
         },
         {
          "chose_correct": 0.8266,
          "epsilon": 0.2,
          "step": 142
         },
         {
          "chose_correct": 0.837,
          "epsilon": 0.2,
          "step": 143
         },
         {
          "chose_correct": 0.8334,
          "epsilon": 0.2,
          "step": 144
         },
         {
          "chose_correct": 0.8466,
          "epsilon": 0.2,
          "step": 145
         },
         {
          "chose_correct": 0.8356,
          "epsilon": 0.2,
          "step": 146
         },
         {
          "chose_correct": 0.8398,
          "epsilon": 0.2,
          "step": 147
         },
         {
          "chose_correct": 0.8388,
          "epsilon": 0.2,
          "step": 148
         },
         {
          "chose_correct": 0.8448,
          "epsilon": 0.2,
          "step": 149
         },
         {
          "chose_correct": 0.8314,
          "epsilon": 0.2,
          "step": 150
         },
         {
          "chose_correct": 0.843,
          "epsilon": 0.2,
          "step": 151
         },
         {
          "chose_correct": 0.8364,
          "epsilon": 0.2,
          "step": 152
         },
         {
          "chose_correct": 0.833,
          "epsilon": 0.2,
          "step": 153
         },
         {
          "chose_correct": 0.8406,
          "epsilon": 0.2,
          "step": 154
         },
         {
          "chose_correct": 0.8418,
          "epsilon": 0.2,
          "step": 155
         },
         {
          "chose_correct": 0.8454,
          "epsilon": 0.2,
          "step": 156
         },
         {
          "chose_correct": 0.838,
          "epsilon": 0.2,
          "step": 157
         },
         {
          "chose_correct": 0.831,
          "epsilon": 0.2,
          "step": 158
         },
         {
          "chose_correct": 0.8394,
          "epsilon": 0.2,
          "step": 159
         },
         {
          "chose_correct": 0.847,
          "epsilon": 0.2,
          "step": 160
         },
         {
          "chose_correct": 0.8468,
          "epsilon": 0.2,
          "step": 161
         },
         {
          "chose_correct": 0.837,
          "epsilon": 0.2,
          "step": 162
         },
         {
          "chose_correct": 0.8408,
          "epsilon": 0.2,
          "step": 163
         },
         {
          "chose_correct": 0.8328,
          "epsilon": 0.2,
          "step": 164
         },
         {
          "chose_correct": 0.8394,
          "epsilon": 0.2,
          "step": 165
         },
         {
          "chose_correct": 0.8254,
          "epsilon": 0.2,
          "step": 166
         },
         {
          "chose_correct": 0.8428,
          "epsilon": 0.2,
          "step": 167
         },
         {
          "chose_correct": 0.8424,
          "epsilon": 0.2,
          "step": 168
         },
         {
          "chose_correct": 0.838,
          "epsilon": 0.2,
          "step": 169
         },
         {
          "chose_correct": 0.831,
          "epsilon": 0.2,
          "step": 170
         },
         {
          "chose_correct": 0.8404,
          "epsilon": 0.2,
          "step": 171
         },
         {
          "chose_correct": 0.8464,
          "epsilon": 0.2,
          "step": 172
         },
         {
          "chose_correct": 0.844,
          "epsilon": 0.2,
          "step": 173
         },
         {
          "chose_correct": 0.8392,
          "epsilon": 0.2,
          "step": 174
         },
         {
          "chose_correct": 0.8306,
          "epsilon": 0.2,
          "step": 175
         },
         {
          "chose_correct": 0.8364,
          "epsilon": 0.2,
          "step": 176
         },
         {
          "chose_correct": 0.8446,
          "epsilon": 0.2,
          "step": 177
         },
         {
          "chose_correct": 0.8354,
          "epsilon": 0.2,
          "step": 178
         },
         {
          "chose_correct": 0.8422,
          "epsilon": 0.2,
          "step": 179
         },
         {
          "chose_correct": 0.844,
          "epsilon": 0.2,
          "step": 180
         },
         {
          "chose_correct": 0.8306,
          "epsilon": 0.2,
          "step": 181
         },
         {
          "chose_correct": 0.844,
          "epsilon": 0.2,
          "step": 182
         },
         {
          "chose_correct": 0.8364,
          "epsilon": 0.2,
          "step": 183
         },
         {
          "chose_correct": 0.8412,
          "epsilon": 0.2,
          "step": 184
         },
         {
          "chose_correct": 0.841,
          "epsilon": 0.2,
          "step": 185
         },
         {
          "chose_correct": 0.8398,
          "epsilon": 0.2,
          "step": 186
         },
         {
          "chose_correct": 0.84,
          "epsilon": 0.2,
          "step": 187
         },
         {
          "chose_correct": 0.8402,
          "epsilon": 0.2,
          "step": 188
         },
         {
          "chose_correct": 0.8386,
          "epsilon": 0.2,
          "step": 189
         },
         {
          "chose_correct": 0.8472,
          "epsilon": 0.2,
          "step": 190
         },
         {
          "chose_correct": 0.831,
          "epsilon": 0.2,
          "step": 191
         },
         {
          "chose_correct": 0.839,
          "epsilon": 0.2,
          "step": 192
         },
         {
          "chose_correct": 0.8408,
          "epsilon": 0.2,
          "step": 193
         },
         {
          "chose_correct": 0.832,
          "epsilon": 0.2,
          "step": 194
         },
         {
          "chose_correct": 0.8482,
          "epsilon": 0.2,
          "step": 195
         },
         {
          "chose_correct": 0.8398,
          "epsilon": 0.2,
          "step": 196
         },
         {
          "chose_correct": 0.8328,
          "epsilon": 0.2,
          "step": 197
         },
         {
          "chose_correct": 0.8402,
          "epsilon": 0.2,
          "step": 198
         },
         {
          "chose_correct": 0.8392,
          "epsilon": 0.2,
          "step": 199
         },
         {
          "chose_correct": 0.8358,
          "epsilon": 0.2,
          "step": 200
         },
         {
          "chose_correct": 0.8384,
          "epsilon": 0.2,
          "step": 201
         },
         {
          "chose_correct": 0.84,
          "epsilon": 0.2,
          "step": 202
         },
         {
          "chose_correct": 0.8382,
          "epsilon": 0.2,
          "step": 203
         },
         {
          "chose_correct": 0.8374,
          "epsilon": 0.2,
          "step": 204
         },
         {
          "chose_correct": 0.8436,
          "epsilon": 0.2,
          "step": 205
         },
         {
          "chose_correct": 0.8316,
          "epsilon": 0.2,
          "step": 206
         },
         {
          "chose_correct": 0.8442,
          "epsilon": 0.2,
          "step": 207
         },
         {
          "chose_correct": 0.8418,
          "epsilon": 0.2,
          "step": 208
         },
         {
          "chose_correct": 0.8434,
          "epsilon": 0.2,
          "step": 209
         },
         {
          "chose_correct": 0.8412,
          "epsilon": 0.2,
          "step": 210
         },
         {
          "chose_correct": 0.848,
          "epsilon": 0.2,
          "step": 211
         },
         {
          "chose_correct": 0.8348,
          "epsilon": 0.2,
          "step": 212
         },
         {
          "chose_correct": 0.8348,
          "epsilon": 0.2,
          "step": 213
         },
         {
          "chose_correct": 0.828,
          "epsilon": 0.2,
          "step": 214
         },
         {
          "chose_correct": 0.8424,
          "epsilon": 0.2,
          "step": 215
         },
         {
          "chose_correct": 0.846,
          "epsilon": 0.2,
          "step": 216
         },
         {
          "chose_correct": 0.8438,
          "epsilon": 0.2,
          "step": 217
         },
         {
          "chose_correct": 0.837,
          "epsilon": 0.2,
          "step": 218
         },
         {
          "chose_correct": 0.8356,
          "epsilon": 0.2,
          "step": 219
         },
         {
          "chose_correct": 0.8326,
          "epsilon": 0.2,
          "step": 220
         },
         {
          "chose_correct": 0.8378,
          "epsilon": 0.2,
          "step": 221
         },
         {
          "chose_correct": 0.8382,
          "epsilon": 0.2,
          "step": 222
         },
         {
          "chose_correct": 0.8314,
          "epsilon": 0.2,
          "step": 223
         },
         {
          "chose_correct": 0.8378,
          "epsilon": 0.2,
          "step": 224
         },
         {
          "chose_correct": 0.8418,
          "epsilon": 0.2,
          "step": 225
         },
         {
          "chose_correct": 0.847,
          "epsilon": 0.2,
          "step": 226
         },
         {
          "chose_correct": 0.851,
          "epsilon": 0.2,
          "step": 227
         },
         {
          "chose_correct": 0.8354,
          "epsilon": 0.2,
          "step": 228
         },
         {
          "chose_correct": 0.8368,
          "epsilon": 0.2,
          "step": 229
         },
         {
          "chose_correct": 0.8442,
          "epsilon": 0.2,
          "step": 230
         },
         {
          "chose_correct": 0.839,
          "epsilon": 0.2,
          "step": 231
         },
         {
          "chose_correct": 0.8328,
          "epsilon": 0.2,
          "step": 232
         },
         {
          "chose_correct": 0.8368,
          "epsilon": 0.2,
          "step": 233
         },
         {
          "chose_correct": 0.8398,
          "epsilon": 0.2,
          "step": 234
         },
         {
          "chose_correct": 0.835,
          "epsilon": 0.2,
          "step": 235
         },
         {
          "chose_correct": 0.8386,
          "epsilon": 0.2,
          "step": 236
         },
         {
          "chose_correct": 0.8302,
          "epsilon": 0.2,
          "step": 237
         },
         {
          "chose_correct": 0.8408,
          "epsilon": 0.2,
          "step": 238
         },
         {
          "chose_correct": 0.836,
          "epsilon": 0.2,
          "step": 239
         },
         {
          "chose_correct": 0.8432,
          "epsilon": 0.2,
          "step": 240
         },
         {
          "chose_correct": 0.8434,
          "epsilon": 0.2,
          "step": 241
         },
         {
          "chose_correct": 0.8362,
          "epsilon": 0.2,
          "step": 242
         },
         {
          "chose_correct": 0.8384,
          "epsilon": 0.2,
          "step": 243
         },
         {
          "chose_correct": 0.8386,
          "epsilon": 0.2,
          "step": 244
         },
         {
          "chose_correct": 0.8338,
          "epsilon": 0.2,
          "step": 245
         },
         {
          "chose_correct": 0.8318,
          "epsilon": 0.2,
          "step": 246
         },
         {
          "chose_correct": 0.8384,
          "epsilon": 0.2,
          "step": 247
         },
         {
          "chose_correct": 0.8426,
          "epsilon": 0.2,
          "step": 248
         },
         {
          "chose_correct": 0.8374,
          "epsilon": 0.2,
          "step": 249
         },
         {
          "chose_correct": 0.8388,
          "epsilon": 0.2,
          "step": 250
         },
         {
          "chose_correct": 0.0624,
          "epsilon": 0.3,
          "step": 1
         },
         {
          "chose_correct": 0.0968,
          "epsilon": 0.3,
          "step": 2
         },
         {
          "chose_correct": 0.1242,
          "epsilon": 0.3,
          "step": 3
         },
         {
          "chose_correct": 0.1644,
          "epsilon": 0.3,
          "step": 4
         },
         {
          "chose_correct": 0.1836,
          "epsilon": 0.3,
          "step": 5
         },
         {
          "chose_correct": 0.2164,
          "epsilon": 0.3,
          "step": 6
         },
         {
          "chose_correct": 0.2486,
          "epsilon": 0.3,
          "step": 7
         },
         {
          "chose_correct": 0.2786,
          "epsilon": 0.3,
          "step": 8
         },
         {
          "chose_correct": 0.3032,
          "epsilon": 0.3,
          "step": 9
         },
         {
          "chose_correct": 0.3272,
          "epsilon": 0.3,
          "step": 10
         },
         {
          "chose_correct": 0.3552,
          "epsilon": 0.3,
          "step": 11
         },
         {
          "chose_correct": 0.3742,
          "epsilon": 0.3,
          "step": 12
         },
         {
          "chose_correct": 0.3866,
          "epsilon": 0.3,
          "step": 13
         },
         {
          "chose_correct": 0.416,
          "epsilon": 0.3,
          "step": 14
         },
         {
          "chose_correct": 0.4304,
          "epsilon": 0.3,
          "step": 15
         },
         {
          "chose_correct": 0.4468,
          "epsilon": 0.3,
          "step": 16
         },
         {
          "chose_correct": 0.4696,
          "epsilon": 0.3,
          "step": 17
         },
         {
          "chose_correct": 0.483,
          "epsilon": 0.3,
          "step": 18
         },
         {
          "chose_correct": 0.4934,
          "epsilon": 0.3,
          "step": 19
         },
         {
          "chose_correct": 0.5166,
          "epsilon": 0.3,
          "step": 20
         },
         {
          "chose_correct": 0.5238,
          "epsilon": 0.3,
          "step": 21
         },
         {
          "chose_correct": 0.5418,
          "epsilon": 0.3,
          "step": 22
         },
         {
          "chose_correct": 0.551,
          "epsilon": 0.3,
          "step": 23
         },
         {
          "chose_correct": 0.5666,
          "epsilon": 0.3,
          "step": 24
         },
         {
          "chose_correct": 0.5772,
          "epsilon": 0.3,
          "step": 25
         },
         {
          "chose_correct": 0.5816,
          "epsilon": 0.3,
          "step": 26
         },
         {
          "chose_correct": 0.5946,
          "epsilon": 0.3,
          "step": 27
         },
         {
          "chose_correct": 0.6032,
          "epsilon": 0.3,
          "step": 28
         },
         {
          "chose_correct": 0.6058,
          "epsilon": 0.3,
          "step": 29
         },
         {
          "chose_correct": 0.612,
          "epsilon": 0.3,
          "step": 30
         },
         {
          "chose_correct": 0.619,
          "epsilon": 0.3,
          "step": 31
         },
         {
          "chose_correct": 0.633,
          "epsilon": 0.3,
          "step": 32
         },
         {
          "chose_correct": 0.6426,
          "epsilon": 0.3,
          "step": 33
         },
         {
          "chose_correct": 0.6408,
          "epsilon": 0.3,
          "step": 34
         },
         {
          "chose_correct": 0.6464,
          "epsilon": 0.3,
          "step": 35
         },
         {
          "chose_correct": 0.6596,
          "epsilon": 0.3,
          "step": 36
         },
         {
          "chose_correct": 0.6628,
          "epsilon": 0.3,
          "step": 37
         },
         {
          "chose_correct": 0.6676,
          "epsilon": 0.3,
          "step": 38
         },
         {
          "chose_correct": 0.6722,
          "epsilon": 0.3,
          "step": 39
         },
         {
          "chose_correct": 0.6738,
          "epsilon": 0.3,
          "step": 40
         },
         {
          "chose_correct": 0.6818,
          "epsilon": 0.3,
          "step": 41
         },
         {
          "chose_correct": 0.6928,
          "epsilon": 0.3,
          "step": 42
         },
         {
          "chose_correct": 0.697,
          "epsilon": 0.3,
          "step": 43
         },
         {
          "chose_correct": 0.704,
          "epsilon": 0.3,
          "step": 44
         },
         {
          "chose_correct": 0.6974,
          "epsilon": 0.3,
          "step": 45
         },
         {
          "chose_correct": 0.7046,
          "epsilon": 0.3,
          "step": 46
         },
         {
          "chose_correct": 0.704,
          "epsilon": 0.3,
          "step": 47
         },
         {
          "chose_correct": 0.7148,
          "epsilon": 0.3,
          "step": 48
         },
         {
          "chose_correct": 0.7082,
          "epsilon": 0.3,
          "step": 49
         },
         {
          "chose_correct": 0.7168,
          "epsilon": 0.3,
          "step": 50
         },
         {
          "chose_correct": 0.7062,
          "epsilon": 0.3,
          "step": 51
         },
         {
          "chose_correct": 0.717,
          "epsilon": 0.3,
          "step": 52
         },
         {
          "chose_correct": 0.7178,
          "epsilon": 0.3,
          "step": 53
         },
         {
          "chose_correct": 0.7226,
          "epsilon": 0.3,
          "step": 54
         },
         {
          "chose_correct": 0.7084,
          "epsilon": 0.3,
          "step": 55
         },
         {
          "chose_correct": 0.7216,
          "epsilon": 0.3,
          "step": 56
         },
         {
          "chose_correct": 0.7236,
          "epsilon": 0.3,
          "step": 57
         },
         {
          "chose_correct": 0.7364,
          "epsilon": 0.3,
          "step": 58
         },
         {
          "chose_correct": 0.727,
          "epsilon": 0.3,
          "step": 59
         },
         {
          "chose_correct": 0.7464,
          "epsilon": 0.3,
          "step": 60
         },
         {
          "chose_correct": 0.728,
          "epsilon": 0.3,
          "step": 61
         },
         {
          "chose_correct": 0.7342,
          "epsilon": 0.3,
          "step": 62
         },
         {
          "chose_correct": 0.7232,
          "epsilon": 0.3,
          "step": 63
         },
         {
          "chose_correct": 0.7426,
          "epsilon": 0.3,
          "step": 64
         },
         {
          "chose_correct": 0.7432,
          "epsilon": 0.3,
          "step": 65
         },
         {
          "chose_correct": 0.7448,
          "epsilon": 0.3,
          "step": 66
         },
         {
          "chose_correct": 0.7518,
          "epsilon": 0.3,
          "step": 67
         },
         {
          "chose_correct": 0.7484,
          "epsilon": 0.3,
          "step": 68
         },
         {
          "chose_correct": 0.7514,
          "epsilon": 0.3,
          "step": 69
         },
         {
          "chose_correct": 0.7504,
          "epsilon": 0.3,
          "step": 70
         },
         {
          "chose_correct": 0.7464,
          "epsilon": 0.3,
          "step": 71
         },
         {
          "chose_correct": 0.7482,
          "epsilon": 0.3,
          "step": 72
         },
         {
          "chose_correct": 0.7508,
          "epsilon": 0.3,
          "step": 73
         },
         {
          "chose_correct": 0.7502,
          "epsilon": 0.3,
          "step": 74
         },
         {
          "chose_correct": 0.7476,
          "epsilon": 0.3,
          "step": 75
         },
         {
          "chose_correct": 0.7484,
          "epsilon": 0.3,
          "step": 76
         },
         {
          "chose_correct": 0.7506,
          "epsilon": 0.3,
          "step": 77
         },
         {
          "chose_correct": 0.7608,
          "epsilon": 0.3,
          "step": 78
         },
         {
          "chose_correct": 0.745,
          "epsilon": 0.3,
          "step": 79
         },
         {
          "chose_correct": 0.7482,
          "epsilon": 0.3,
          "step": 80
         },
         {
          "chose_correct": 0.7532,
          "epsilon": 0.3,
          "step": 81
         },
         {
          "chose_correct": 0.7608,
          "epsilon": 0.3,
          "step": 82
         },
         {
          "chose_correct": 0.7546,
          "epsilon": 0.3,
          "step": 83
         },
         {
          "chose_correct": 0.7598,
          "epsilon": 0.3,
          "step": 84
         },
         {
          "chose_correct": 0.7528,
          "epsilon": 0.3,
          "step": 85
         },
         {
          "chose_correct": 0.7584,
          "epsilon": 0.3,
          "step": 86
         },
         {
          "chose_correct": 0.7548,
          "epsilon": 0.3,
          "step": 87
         },
         {
          "chose_correct": 0.752,
          "epsilon": 0.3,
          "step": 88
         },
         {
          "chose_correct": 0.7464,
          "epsilon": 0.3,
          "step": 89
         },
         {
          "chose_correct": 0.7682,
          "epsilon": 0.3,
          "step": 90
         },
         {
          "chose_correct": 0.7568,
          "epsilon": 0.3,
          "step": 91
         },
         {
          "chose_correct": 0.7624,
          "epsilon": 0.3,
          "step": 92
         },
         {
          "chose_correct": 0.747,
          "epsilon": 0.3,
          "step": 93
         },
         {
          "chose_correct": 0.7592,
          "epsilon": 0.3,
          "step": 94
         },
         {
          "chose_correct": 0.753,
          "epsilon": 0.3,
          "step": 95
         },
         {
          "chose_correct": 0.7488,
          "epsilon": 0.3,
          "step": 96
         },
         {
          "chose_correct": 0.7588,
          "epsilon": 0.3,
          "step": 97
         },
         {
          "chose_correct": 0.7616,
          "epsilon": 0.3,
          "step": 98
         },
         {
          "chose_correct": 0.7574,
          "epsilon": 0.3,
          "step": 99
         },
         {
          "chose_correct": 0.7642,
          "epsilon": 0.3,
          "step": 100
         },
         {
          "chose_correct": 0.7502,
          "epsilon": 0.3,
          "step": 101
         },
         {
          "chose_correct": 0.7578,
          "epsilon": 0.3,
          "step": 102
         },
         {
          "chose_correct": 0.7564,
          "epsilon": 0.3,
          "step": 103
         },
         {
          "chose_correct": 0.748,
          "epsilon": 0.3,
          "step": 104
         },
         {
          "chose_correct": 0.751,
          "epsilon": 0.3,
          "step": 105
         },
         {
          "chose_correct": 0.744,
          "epsilon": 0.3,
          "step": 106
         },
         {
          "chose_correct": 0.7618,
          "epsilon": 0.3,
          "step": 107
         },
         {
          "chose_correct": 0.7574,
          "epsilon": 0.3,
          "step": 108
         },
         {
          "chose_correct": 0.757,
          "epsilon": 0.3,
          "step": 109
         },
         {
          "chose_correct": 0.7602,
          "epsilon": 0.3,
          "step": 110
         },
         {
          "chose_correct": 0.7608,
          "epsilon": 0.3,
          "step": 111
         },
         {
          "chose_correct": 0.7676,
          "epsilon": 0.3,
          "step": 112
         },
         {
          "chose_correct": 0.7596,
          "epsilon": 0.3,
          "step": 113
         },
         {
          "chose_correct": 0.7542,
          "epsilon": 0.3,
          "step": 114
         },
         {
          "chose_correct": 0.7618,
          "epsilon": 0.3,
          "step": 115
         },
         {
          "chose_correct": 0.7554,
          "epsilon": 0.3,
          "step": 116
         },
         {
          "chose_correct": 0.768,
          "epsilon": 0.3,
          "step": 117
         },
         {
          "chose_correct": 0.7622,
          "epsilon": 0.3,
          "step": 118
         },
         {
          "chose_correct": 0.7574,
          "epsilon": 0.3,
          "step": 119
         },
         {
          "chose_correct": 0.763,
          "epsilon": 0.3,
          "step": 120
         },
         {
          "chose_correct": 0.7576,
          "epsilon": 0.3,
          "step": 121
         },
         {
          "chose_correct": 0.7642,
          "epsilon": 0.3,
          "step": 122
         },
         {
          "chose_correct": 0.748,
          "epsilon": 0.3,
          "step": 123
         },
         {
          "chose_correct": 0.7642,
          "epsilon": 0.3,
          "step": 124
         },
         {
          "chose_correct": 0.7682,
          "epsilon": 0.3,
          "step": 125
         },
         {
          "chose_correct": 0.762,
          "epsilon": 0.3,
          "step": 126
         },
         {
          "chose_correct": 0.76,
          "epsilon": 0.3,
          "step": 127
         },
         {
          "chose_correct": 0.759,
          "epsilon": 0.3,
          "step": 128
         },
         {
          "chose_correct": 0.7552,
          "epsilon": 0.3,
          "step": 129
         },
         {
          "chose_correct": 0.7564,
          "epsilon": 0.3,
          "step": 130
         },
         {
          "chose_correct": 0.7542,
          "epsilon": 0.3,
          "step": 131
         },
         {
          "chose_correct": 0.765,
          "epsilon": 0.3,
          "step": 132
         },
         {
          "chose_correct": 0.7644,
          "epsilon": 0.3,
          "step": 133
         },
         {
          "chose_correct": 0.7654,
          "epsilon": 0.3,
          "step": 134
         },
         {
          "chose_correct": 0.7566,
          "epsilon": 0.3,
          "step": 135
         },
         {
          "chose_correct": 0.76,
          "epsilon": 0.3,
          "step": 136
         },
         {
          "chose_correct": 0.758,
          "epsilon": 0.3,
          "step": 137
         },
         {
          "chose_correct": 0.752,
          "epsilon": 0.3,
          "step": 138
         },
         {
          "chose_correct": 0.7592,
          "epsilon": 0.3,
          "step": 139
         },
         {
          "chose_correct": 0.7574,
          "epsilon": 0.3,
          "step": 140
         },
         {
          "chose_correct": 0.7438,
          "epsilon": 0.3,
          "step": 141
         },
         {
          "chose_correct": 0.763,
          "epsilon": 0.3,
          "step": 142
         },
         {
          "chose_correct": 0.7584,
          "epsilon": 0.3,
          "step": 143
         },
         {
          "chose_correct": 0.758,
          "epsilon": 0.3,
          "step": 144
         },
         {
          "chose_correct": 0.7552,
          "epsilon": 0.3,
          "step": 145
         },
         {
          "chose_correct": 0.7566,
          "epsilon": 0.3,
          "step": 146
         },
         {
          "chose_correct": 0.755,
          "epsilon": 0.3,
          "step": 147
         },
         {
          "chose_correct": 0.7596,
          "epsilon": 0.3,
          "step": 148
         },
         {
          "chose_correct": 0.7574,
          "epsilon": 0.3,
          "step": 149
         },
         {
          "chose_correct": 0.7554,
          "epsilon": 0.3,
          "step": 150
         },
         {
          "chose_correct": 0.7652,
          "epsilon": 0.3,
          "step": 151
         },
         {
          "chose_correct": 0.7492,
          "epsilon": 0.3,
          "step": 152
         },
         {
          "chose_correct": 0.7556,
          "epsilon": 0.3,
          "step": 153
         },
         {
          "chose_correct": 0.752,
          "epsilon": 0.3,
          "step": 154
         },
         {
          "chose_correct": 0.764,
          "epsilon": 0.3,
          "step": 155
         },
         {
          "chose_correct": 0.757,
          "epsilon": 0.3,
          "step": 156
         },
         {
          "chose_correct": 0.768,
          "epsilon": 0.3,
          "step": 157
         },
         {
          "chose_correct": 0.7616,
          "epsilon": 0.3,
          "step": 158
         },
         {
          "chose_correct": 0.7652,
          "epsilon": 0.3,
          "step": 159
         },
         {
          "chose_correct": 0.7584,
          "epsilon": 0.3,
          "step": 160
         },
         {
          "chose_correct": 0.763,
          "epsilon": 0.3,
          "step": 161
         },
         {
          "chose_correct": 0.7674,
          "epsilon": 0.3,
          "step": 162
         },
         {
          "chose_correct": 0.7442,
          "epsilon": 0.3,
          "step": 163
         },
         {
          "chose_correct": 0.7578,
          "epsilon": 0.3,
          "step": 164
         },
         {
          "chose_correct": 0.7524,
          "epsilon": 0.3,
          "step": 165
         },
         {
          "chose_correct": 0.773,
          "epsilon": 0.3,
          "step": 166
         },
         {
          "chose_correct": 0.7594,
          "epsilon": 0.3,
          "step": 167
         },
         {
          "chose_correct": 0.7718,
          "epsilon": 0.3,
          "step": 168
         },
         {
          "chose_correct": 0.7504,
          "epsilon": 0.3,
          "step": 169
         },
         {
          "chose_correct": 0.7514,
          "epsilon": 0.3,
          "step": 170
         },
         {
          "chose_correct": 0.7594,
          "epsilon": 0.3,
          "step": 171
         },
         {
          "chose_correct": 0.7654,
          "epsilon": 0.3,
          "step": 172
         },
         {
          "chose_correct": 0.759,
          "epsilon": 0.3,
          "step": 173
         },
         {
          "chose_correct": 0.7506,
          "epsilon": 0.3,
          "step": 174
         },
         {
          "chose_correct": 0.761,
          "epsilon": 0.3,
          "step": 175
         },
         {
          "chose_correct": 0.7678,
          "epsilon": 0.3,
          "step": 176
         },
         {
          "chose_correct": 0.7624,
          "epsilon": 0.3,
          "step": 177
         },
         {
          "chose_correct": 0.7614,
          "epsilon": 0.3,
          "step": 178
         },
         {
          "chose_correct": 0.7674,
          "epsilon": 0.3,
          "step": 179
         },
         {
          "chose_correct": 0.7578,
          "epsilon": 0.3,
          "step": 180
         },
         {
          "chose_correct": 0.7574,
          "epsilon": 0.3,
          "step": 181
         },
         {
          "chose_correct": 0.7608,
          "epsilon": 0.3,
          "step": 182
         },
         {
          "chose_correct": 0.7634,
          "epsilon": 0.3,
          "step": 183
         },
         {
          "chose_correct": 0.757,
          "epsilon": 0.3,
          "step": 184
         },
         {
          "chose_correct": 0.757,
          "epsilon": 0.3,
          "step": 185
         },
         {
          "chose_correct": 0.7674,
          "epsilon": 0.3,
          "step": 186
         },
         {
          "chose_correct": 0.7614,
          "epsilon": 0.3,
          "step": 187
         },
         {
          "chose_correct": 0.7582,
          "epsilon": 0.3,
          "step": 188
         },
         {
          "chose_correct": 0.7586,
          "epsilon": 0.3,
          "step": 189
         },
         {
          "chose_correct": 0.7652,
          "epsilon": 0.3,
          "step": 190
         },
         {
          "chose_correct": 0.7564,
          "epsilon": 0.3,
          "step": 191
         },
         {
          "chose_correct": 0.7596,
          "epsilon": 0.3,
          "step": 192
         },
         {
          "chose_correct": 0.7614,
          "epsilon": 0.3,
          "step": 193
         },
         {
          "chose_correct": 0.7482,
          "epsilon": 0.3,
          "step": 194
         },
         {
          "chose_correct": 0.7646,
          "epsilon": 0.3,
          "step": 195
         },
         {
          "chose_correct": 0.765,
          "epsilon": 0.3,
          "step": 196
         },
         {
          "chose_correct": 0.7674,
          "epsilon": 0.3,
          "step": 197
         },
         {
          "chose_correct": 0.7626,
          "epsilon": 0.3,
          "step": 198
         },
         {
          "chose_correct": 0.7534,
          "epsilon": 0.3,
          "step": 199
         },
         {
          "chose_correct": 0.7576,
          "epsilon": 0.3,
          "step": 200
         },
         {
          "chose_correct": 0.7694,
          "epsilon": 0.3,
          "step": 201
         },
         {
          "chose_correct": 0.7474,
          "epsilon": 0.3,
          "step": 202
         },
         {
          "chose_correct": 0.7682,
          "epsilon": 0.3,
          "step": 203
         },
         {
          "chose_correct": 0.7632,
          "epsilon": 0.3,
          "step": 204
         },
         {
          "chose_correct": 0.7618,
          "epsilon": 0.3,
          "step": 205
         },
         {
          "chose_correct": 0.7682,
          "epsilon": 0.3,
          "step": 206
         },
         {
          "chose_correct": 0.7682,
          "epsilon": 0.3,
          "step": 207
         },
         {
          "chose_correct": 0.7612,
          "epsilon": 0.3,
          "step": 208
         },
         {
          "chose_correct": 0.763,
          "epsilon": 0.3,
          "step": 209
         },
         {
          "chose_correct": 0.7564,
          "epsilon": 0.3,
          "step": 210
         },
         {
          "chose_correct": 0.754,
          "epsilon": 0.3,
          "step": 211
         },
         {
          "chose_correct": 0.7554,
          "epsilon": 0.3,
          "step": 212
         },
         {
          "chose_correct": 0.7722,
          "epsilon": 0.3,
          "step": 213
         },
         {
          "chose_correct": 0.757,
          "epsilon": 0.3,
          "step": 214
         },
         {
          "chose_correct": 0.7614,
          "epsilon": 0.3,
          "step": 215
         },
         {
          "chose_correct": 0.752,
          "epsilon": 0.3,
          "step": 216
         },
         {
          "chose_correct": 0.7582,
          "epsilon": 0.3,
          "step": 217
         },
         {
          "chose_correct": 0.752,
          "epsilon": 0.3,
          "step": 218
         },
         {
          "chose_correct": 0.7634,
          "epsilon": 0.3,
          "step": 219
         },
         {
          "chose_correct": 0.761,
          "epsilon": 0.3,
          "step": 220
         },
         {
          "chose_correct": 0.7676,
          "epsilon": 0.3,
          "step": 221
         },
         {
          "chose_correct": 0.761,
          "epsilon": 0.3,
          "step": 222
         },
         {
          "chose_correct": 0.7606,
          "epsilon": 0.3,
          "step": 223
         },
         {
          "chose_correct": 0.7554,
          "epsilon": 0.3,
          "step": 224
         },
         {
          "chose_correct": 0.7638,
          "epsilon": 0.3,
          "step": 225
         },
         {
          "chose_correct": 0.761,
          "epsilon": 0.3,
          "step": 226
         },
         {
          "chose_correct": 0.7592,
          "epsilon": 0.3,
          "step": 227
         },
         {
          "chose_correct": 0.7556,
          "epsilon": 0.3,
          "step": 228
         },
         {
          "chose_correct": 0.7592,
          "epsilon": 0.3,
          "step": 229
         },
         {
          "chose_correct": 0.7606,
          "epsilon": 0.3,
          "step": 230
         },
         {
          "chose_correct": 0.7586,
          "epsilon": 0.3,
          "step": 231
         },
         {
          "chose_correct": 0.7594,
          "epsilon": 0.3,
          "step": 232
         },
         {
          "chose_correct": 0.7624,
          "epsilon": 0.3,
          "step": 233
         },
         {
          "chose_correct": 0.7578,
          "epsilon": 0.3,
          "step": 234
         },
         {
          "chose_correct": 0.76,
          "epsilon": 0.3,
          "step": 235
         },
         {
          "chose_correct": 0.7476,
          "epsilon": 0.3,
          "step": 236
         },
         {
          "chose_correct": 0.758,
          "epsilon": 0.3,
          "step": 237
         },
         {
          "chose_correct": 0.7632,
          "epsilon": 0.3,
          "step": 238
         },
         {
          "chose_correct": 0.7634,
          "epsilon": 0.3,
          "step": 239
         },
         {
          "chose_correct": 0.7712,
          "epsilon": 0.3,
          "step": 240
         },
         {
          "chose_correct": 0.763,
          "epsilon": 0.3,
          "step": 241
         },
         {
          "chose_correct": 0.763,
          "epsilon": 0.3,
          "step": 242
         },
         {
          "chose_correct": 0.7706,
          "epsilon": 0.3,
          "step": 243
         },
         {
          "chose_correct": 0.7538,
          "epsilon": 0.3,
          "step": 244
         },
         {
          "chose_correct": 0.7712,
          "epsilon": 0.3,
          "step": 245
         },
         {
          "chose_correct": 0.7604,
          "epsilon": 0.3,
          "step": 246
         },
         {
          "chose_correct": 0.7568,
          "epsilon": 0.3,
          "step": 247
         },
         {
          "chose_correct": 0.7704,
          "epsilon": 0.3,
          "step": 248
         },
         {
          "chose_correct": 0.7692,
          "epsilon": 0.3,
          "step": 249
         },
         {
          "chose_correct": 0.764,
          "epsilon": 0.3,
          "step": 250
         },
         {
          "chose_correct": 0.0824,
          "epsilon": 0.4,
          "step": 1
         },
         {
          "chose_correct": 0.12,
          "epsilon": 0.4,
          "step": 2
         },
         {
          "chose_correct": 0.155,
          "epsilon": 0.4,
          "step": 3
         },
         {
          "chose_correct": 0.1806,
          "epsilon": 0.4,
          "step": 4
         },
         {
          "chose_correct": 0.2256,
          "epsilon": 0.4,
          "step": 5
         },
         {
          "chose_correct": 0.2506,
          "epsilon": 0.4,
          "step": 6
         },
         {
          "chose_correct": 0.2782,
          "epsilon": 0.4,
          "step": 7
         },
         {
          "chose_correct": 0.3116,
          "epsilon": 0.4,
          "step": 8
         },
         {
          "chose_correct": 0.3364,
          "epsilon": 0.4,
          "step": 9
         },
         {
          "chose_correct": 0.3564,
          "epsilon": 0.4,
          "step": 10
         },
         {
          "chose_correct": 0.3834,
          "epsilon": 0.4,
          "step": 11
         },
         {
          "chose_correct": 0.3948,
          "epsilon": 0.4,
          "step": 12
         },
         {
          "chose_correct": 0.4334,
          "epsilon": 0.4,
          "step": 13
         },
         {
          "chose_correct": 0.4338,
          "epsilon": 0.4,
          "step": 14
         },
         {
          "chose_correct": 0.443,
          "epsilon": 0.4,
          "step": 15
         },
         {
          "chose_correct": 0.4622,
          "epsilon": 0.4,
          "step": 16
         },
         {
          "chose_correct": 0.4852,
          "epsilon": 0.4,
          "step": 17
         },
         {
          "chose_correct": 0.5026,
          "epsilon": 0.4,
          "step": 18
         },
         {
          "chose_correct": 0.516,
          "epsilon": 0.4,
          "step": 19
         },
         {
          "chose_correct": 0.5082,
          "epsilon": 0.4,
          "step": 20
         },
         {
          "chose_correct": 0.5406,
          "epsilon": 0.4,
          "step": 21
         },
         {
          "chose_correct": 0.5398,
          "epsilon": 0.4,
          "step": 22
         },
         {
          "chose_correct": 0.5492,
          "epsilon": 0.4,
          "step": 23
         },
         {
          "chose_correct": 0.5608,
          "epsilon": 0.4,
          "step": 24
         },
         {
          "chose_correct": 0.5646,
          "epsilon": 0.4,
          "step": 25
         },
         {
          "chose_correct": 0.5736,
          "epsilon": 0.4,
          "step": 26
         },
         {
          "chose_correct": 0.5844,
          "epsilon": 0.4,
          "step": 27
         },
         {
          "chose_correct": 0.5922,
          "epsilon": 0.4,
          "step": 28
         },
         {
          "chose_correct": 0.591,
          "epsilon": 0.4,
          "step": 29
         },
         {
          "chose_correct": 0.6006,
          "epsilon": 0.4,
          "step": 30
         },
         {
          "chose_correct": 0.6076,
          "epsilon": 0.4,
          "step": 31
         },
         {
          "chose_correct": 0.6212,
          "epsilon": 0.4,
          "step": 32
         },
         {
          "chose_correct": 0.6218,
          "epsilon": 0.4,
          "step": 33
         },
         {
          "chose_correct": 0.6216,
          "epsilon": 0.4,
          "step": 34
         },
         {
          "chose_correct": 0.6312,
          "epsilon": 0.4,
          "step": 35
         },
         {
          "chose_correct": 0.6322,
          "epsilon": 0.4,
          "step": 36
         },
         {
          "chose_correct": 0.6324,
          "epsilon": 0.4,
          "step": 37
         },
         {
          "chose_correct": 0.6386,
          "epsilon": 0.4,
          "step": 38
         },
         {
          "chose_correct": 0.6338,
          "epsilon": 0.4,
          "step": 39
         },
         {
          "chose_correct": 0.6436,
          "epsilon": 0.4,
          "step": 40
         },
         {
          "chose_correct": 0.6412,
          "epsilon": 0.4,
          "step": 41
         },
         {
          "chose_correct": 0.638,
          "epsilon": 0.4,
          "step": 42
         },
         {
          "chose_correct": 0.6496,
          "epsilon": 0.4,
          "step": 43
         },
         {
          "chose_correct": 0.6434,
          "epsilon": 0.4,
          "step": 44
         },
         {
          "chose_correct": 0.6492,
          "epsilon": 0.4,
          "step": 45
         },
         {
          "chose_correct": 0.6522,
          "epsilon": 0.4,
          "step": 46
         },
         {
          "chose_correct": 0.6656,
          "epsilon": 0.4,
          "step": 47
         },
         {
          "chose_correct": 0.668,
          "epsilon": 0.4,
          "step": 48
         },
         {
          "chose_correct": 0.6782,
          "epsilon": 0.4,
          "step": 49
         },
         {
          "chose_correct": 0.6524,
          "epsilon": 0.4,
          "step": 50
         },
         {
          "chose_correct": 0.6612,
          "epsilon": 0.4,
          "step": 51
         },
         {
          "chose_correct": 0.6734,
          "epsilon": 0.4,
          "step": 52
         },
         {
          "chose_correct": 0.6578,
          "epsilon": 0.4,
          "step": 53
         },
         {
          "chose_correct": 0.659,
          "epsilon": 0.4,
          "step": 54
         },
         {
          "chose_correct": 0.662,
          "epsilon": 0.4,
          "step": 55
         },
         {
          "chose_correct": 0.6648,
          "epsilon": 0.4,
          "step": 56
         },
         {
          "chose_correct": 0.6752,
          "epsilon": 0.4,
          "step": 57
         },
         {
          "chose_correct": 0.6666,
          "epsilon": 0.4,
          "step": 58
         },
         {
          "chose_correct": 0.6728,
          "epsilon": 0.4,
          "step": 59
         },
         {
          "chose_correct": 0.6656,
          "epsilon": 0.4,
          "step": 60
         },
         {
          "chose_correct": 0.6634,
          "epsilon": 0.4,
          "step": 61
         },
         {
          "chose_correct": 0.6686,
          "epsilon": 0.4,
          "step": 62
         },
         {
          "chose_correct": 0.6778,
          "epsilon": 0.4,
          "step": 63
         },
         {
          "chose_correct": 0.6672,
          "epsilon": 0.4,
          "step": 64
         },
         {
          "chose_correct": 0.6706,
          "epsilon": 0.4,
          "step": 65
         },
         {
          "chose_correct": 0.677,
          "epsilon": 0.4,
          "step": 66
         },
         {
          "chose_correct": 0.6778,
          "epsilon": 0.4,
          "step": 67
         },
         {
          "chose_correct": 0.6786,
          "epsilon": 0.4,
          "step": 68
         },
         {
          "chose_correct": 0.6756,
          "epsilon": 0.4,
          "step": 69
         },
         {
          "chose_correct": 0.6688,
          "epsilon": 0.4,
          "step": 70
         },
         {
          "chose_correct": 0.6726,
          "epsilon": 0.4,
          "step": 71
         },
         {
          "chose_correct": 0.683,
          "epsilon": 0.4,
          "step": 72
         },
         {
          "chose_correct": 0.6752,
          "epsilon": 0.4,
          "step": 73
         },
         {
          "chose_correct": 0.6812,
          "epsilon": 0.4,
          "step": 74
         },
         {
          "chose_correct": 0.679,
          "epsilon": 0.4,
          "step": 75
         },
         {
          "chose_correct": 0.6742,
          "epsilon": 0.4,
          "step": 76
         },
         {
          "chose_correct": 0.6706,
          "epsilon": 0.4,
          "step": 77
         },
         {
          "chose_correct": 0.6874,
          "epsilon": 0.4,
          "step": 78
         },
         {
          "chose_correct": 0.6844,
          "epsilon": 0.4,
          "step": 79
         },
         {
          "chose_correct": 0.681,
          "epsilon": 0.4,
          "step": 80
         },
         {
          "chose_correct": 0.6838,
          "epsilon": 0.4,
          "step": 81
         },
         {
          "chose_correct": 0.687,
          "epsilon": 0.4,
          "step": 82
         },
         {
          "chose_correct": 0.6762,
          "epsilon": 0.4,
          "step": 83
         },
         {
          "chose_correct": 0.677,
          "epsilon": 0.4,
          "step": 84
         },
         {
          "chose_correct": 0.6892,
          "epsilon": 0.4,
          "step": 85
         },
         {
          "chose_correct": 0.6822,
          "epsilon": 0.4,
          "step": 86
         },
         {
          "chose_correct": 0.6768,
          "epsilon": 0.4,
          "step": 87
         },
         {
          "chose_correct": 0.6668,
          "epsilon": 0.4,
          "step": 88
         },
         {
          "chose_correct": 0.676,
          "epsilon": 0.4,
          "step": 89
         },
         {
          "chose_correct": 0.6944,
          "epsilon": 0.4,
          "step": 90
         },
         {
          "chose_correct": 0.6798,
          "epsilon": 0.4,
          "step": 91
         },
         {
          "chose_correct": 0.6654,
          "epsilon": 0.4,
          "step": 92
         },
         {
          "chose_correct": 0.6776,
          "epsilon": 0.4,
          "step": 93
         },
         {
          "chose_correct": 0.6778,
          "epsilon": 0.4,
          "step": 94
         },
         {
          "chose_correct": 0.6872,
          "epsilon": 0.4,
          "step": 95
         },
         {
          "chose_correct": 0.689,
          "epsilon": 0.4,
          "step": 96
         },
         {
          "chose_correct": 0.6898,
          "epsilon": 0.4,
          "step": 97
         },
         {
          "chose_correct": 0.677,
          "epsilon": 0.4,
          "step": 98
         },
         {
          "chose_correct": 0.6642,
          "epsilon": 0.4,
          "step": 99
         },
         {
          "chose_correct": 0.6764,
          "epsilon": 0.4,
          "step": 100
         },
         {
          "chose_correct": 0.6852,
          "epsilon": 0.4,
          "step": 101
         },
         {
          "chose_correct": 0.6778,
          "epsilon": 0.4,
          "step": 102
         },
         {
          "chose_correct": 0.6896,
          "epsilon": 0.4,
          "step": 103
         },
         {
          "chose_correct": 0.7016,
          "epsilon": 0.4,
          "step": 104
         },
         {
          "chose_correct": 0.6752,
          "epsilon": 0.4,
          "step": 105
         },
         {
          "chose_correct": 0.6848,
          "epsilon": 0.4,
          "step": 106
         },
         {
          "chose_correct": 0.684,
          "epsilon": 0.4,
          "step": 107
         },
         {
          "chose_correct": 0.6784,
          "epsilon": 0.4,
          "step": 108
         },
         {
          "chose_correct": 0.6748,
          "epsilon": 0.4,
          "step": 109
         },
         {
          "chose_correct": 0.6826,
          "epsilon": 0.4,
          "step": 110
         },
         {
          "chose_correct": 0.6712,
          "epsilon": 0.4,
          "step": 111
         },
         {
          "chose_correct": 0.6766,
          "epsilon": 0.4,
          "step": 112
         },
         {
          "chose_correct": 0.6734,
          "epsilon": 0.4,
          "step": 113
         },
         {
          "chose_correct": 0.6842,
          "epsilon": 0.4,
          "step": 114
         },
         {
          "chose_correct": 0.6728,
          "epsilon": 0.4,
          "step": 115
         },
         {
          "chose_correct": 0.683,
          "epsilon": 0.4,
          "step": 116
         },
         {
          "chose_correct": 0.6822,
          "epsilon": 0.4,
          "step": 117
         },
         {
          "chose_correct": 0.6694,
          "epsilon": 0.4,
          "step": 118
         },
         {
          "chose_correct": 0.6802,
          "epsilon": 0.4,
          "step": 119
         },
         {
          "chose_correct": 0.6876,
          "epsilon": 0.4,
          "step": 120
         },
         {
          "chose_correct": 0.678,
          "epsilon": 0.4,
          "step": 121
         },
         {
          "chose_correct": 0.6772,
          "epsilon": 0.4,
          "step": 122
         },
         {
          "chose_correct": 0.67,
          "epsilon": 0.4,
          "step": 123
         },
         {
          "chose_correct": 0.681,
          "epsilon": 0.4,
          "step": 124
         },
         {
          "chose_correct": 0.683,
          "epsilon": 0.4,
          "step": 125
         },
         {
          "chose_correct": 0.6886,
          "epsilon": 0.4,
          "step": 126
         },
         {
          "chose_correct": 0.6804,
          "epsilon": 0.4,
          "step": 127
         },
         {
          "chose_correct": 0.6788,
          "epsilon": 0.4,
          "step": 128
         },
         {
          "chose_correct": 0.6806,
          "epsilon": 0.4,
          "step": 129
         },
         {
          "chose_correct": 0.6758,
          "epsilon": 0.4,
          "step": 130
         },
         {
          "chose_correct": 0.6758,
          "epsilon": 0.4,
          "step": 131
         },
         {
          "chose_correct": 0.679,
          "epsilon": 0.4,
          "step": 132
         },
         {
          "chose_correct": 0.6804,
          "epsilon": 0.4,
          "step": 133
         },
         {
          "chose_correct": 0.6726,
          "epsilon": 0.4,
          "step": 134
         },
         {
          "chose_correct": 0.677,
          "epsilon": 0.4,
          "step": 135
         },
         {
          "chose_correct": 0.675,
          "epsilon": 0.4,
          "step": 136
         },
         {
          "chose_correct": 0.6798,
          "epsilon": 0.4,
          "step": 137
         },
         {
          "chose_correct": 0.684,
          "epsilon": 0.4,
          "step": 138
         },
         {
          "chose_correct": 0.677,
          "epsilon": 0.4,
          "step": 139
         },
         {
          "chose_correct": 0.6778,
          "epsilon": 0.4,
          "step": 140
         },
         {
          "chose_correct": 0.6774,
          "epsilon": 0.4,
          "step": 141
         },
         {
          "chose_correct": 0.6806,
          "epsilon": 0.4,
          "step": 142
         },
         {
          "chose_correct": 0.6828,
          "epsilon": 0.4,
          "step": 143
         },
         {
          "chose_correct": 0.681,
          "epsilon": 0.4,
          "step": 144
         },
         {
          "chose_correct": 0.6844,
          "epsilon": 0.4,
          "step": 145
         },
         {
          "chose_correct": 0.6836,
          "epsilon": 0.4,
          "step": 146
         },
         {
          "chose_correct": 0.674,
          "epsilon": 0.4,
          "step": 147
         },
         {
          "chose_correct": 0.6768,
          "epsilon": 0.4,
          "step": 148
         },
         {
          "chose_correct": 0.6812,
          "epsilon": 0.4,
          "step": 149
         },
         {
          "chose_correct": 0.6686,
          "epsilon": 0.4,
          "step": 150
         },
         {
          "chose_correct": 0.6892,
          "epsilon": 0.4,
          "step": 151
         },
         {
          "chose_correct": 0.6806,
          "epsilon": 0.4,
          "step": 152
         },
         {
          "chose_correct": 0.6922,
          "epsilon": 0.4,
          "step": 153
         },
         {
          "chose_correct": 0.6884,
          "epsilon": 0.4,
          "step": 154
         },
         {
          "chose_correct": 0.685,
          "epsilon": 0.4,
          "step": 155
         },
         {
          "chose_correct": 0.667,
          "epsilon": 0.4,
          "step": 156
         },
         {
          "chose_correct": 0.6938,
          "epsilon": 0.4,
          "step": 157
         },
         {
          "chose_correct": 0.6734,
          "epsilon": 0.4,
          "step": 158
         },
         {
          "chose_correct": 0.6748,
          "epsilon": 0.4,
          "step": 159
         },
         {
          "chose_correct": 0.6878,
          "epsilon": 0.4,
          "step": 160
         },
         {
          "chose_correct": 0.6702,
          "epsilon": 0.4,
          "step": 161
         },
         {
          "chose_correct": 0.6854,
          "epsilon": 0.4,
          "step": 162
         },
         {
          "chose_correct": 0.6738,
          "epsilon": 0.4,
          "step": 163
         },
         {
          "chose_correct": 0.6768,
          "epsilon": 0.4,
          "step": 164
         },
         {
          "chose_correct": 0.6824,
          "epsilon": 0.4,
          "step": 165
         },
         {
          "chose_correct": 0.6784,
          "epsilon": 0.4,
          "step": 166
         },
         {
          "chose_correct": 0.683,
          "epsilon": 0.4,
          "step": 167
         },
         {
          "chose_correct": 0.6716,
          "epsilon": 0.4,
          "step": 168
         },
         {
          "chose_correct": 0.6906,
          "epsilon": 0.4,
          "step": 169
         },
         {
          "chose_correct": 0.6774,
          "epsilon": 0.4,
          "step": 170
         },
         {
          "chose_correct": 0.6802,
          "epsilon": 0.4,
          "step": 171
         },
         {
          "chose_correct": 0.687,
          "epsilon": 0.4,
          "step": 172
         },
         {
          "chose_correct": 0.6786,
          "epsilon": 0.4,
          "step": 173
         },
         {
          "chose_correct": 0.6678,
          "epsilon": 0.4,
          "step": 174
         },
         {
          "chose_correct": 0.6894,
          "epsilon": 0.4,
          "step": 175
         },
         {
          "chose_correct": 0.6872,
          "epsilon": 0.4,
          "step": 176
         },
         {
          "chose_correct": 0.6846,
          "epsilon": 0.4,
          "step": 177
         },
         {
          "chose_correct": 0.6732,
          "epsilon": 0.4,
          "step": 178
         },
         {
          "chose_correct": 0.6756,
          "epsilon": 0.4,
          "step": 179
         },
         {
          "chose_correct": 0.6806,
          "epsilon": 0.4,
          "step": 180
         },
         {
          "chose_correct": 0.6922,
          "epsilon": 0.4,
          "step": 181
         },
         {
          "chose_correct": 0.68,
          "epsilon": 0.4,
          "step": 182
         },
         {
          "chose_correct": 0.6796,
          "epsilon": 0.4,
          "step": 183
         },
         {
          "chose_correct": 0.6866,
          "epsilon": 0.4,
          "step": 184
         },
         {
          "chose_correct": 0.6868,
          "epsilon": 0.4,
          "step": 185
         },
         {
          "chose_correct": 0.6832,
          "epsilon": 0.4,
          "step": 186
         },
         {
          "chose_correct": 0.676,
          "epsilon": 0.4,
          "step": 187
         },
         {
          "chose_correct": 0.6784,
          "epsilon": 0.4,
          "step": 188
         },
         {
          "chose_correct": 0.6688,
          "epsilon": 0.4,
          "step": 189
         },
         {
          "chose_correct": 0.6914,
          "epsilon": 0.4,
          "step": 190
         },
         {
          "chose_correct": 0.6774,
          "epsilon": 0.4,
          "step": 191
         },
         {
          "chose_correct": 0.6722,
          "epsilon": 0.4,
          "step": 192
         },
         {
          "chose_correct": 0.6778,
          "epsilon": 0.4,
          "step": 193
         },
         {
          "chose_correct": 0.6694,
          "epsilon": 0.4,
          "step": 194
         },
         {
          "chose_correct": 0.682,
          "epsilon": 0.4,
          "step": 195
         },
         {
          "chose_correct": 0.6734,
          "epsilon": 0.4,
          "step": 196
         },
         {
          "chose_correct": 0.6764,
          "epsilon": 0.4,
          "step": 197
         },
         {
          "chose_correct": 0.688,
          "epsilon": 0.4,
          "step": 198
         },
         {
          "chose_correct": 0.679,
          "epsilon": 0.4,
          "step": 199
         },
         {
          "chose_correct": 0.6746,
          "epsilon": 0.4,
          "step": 200
         },
         {
          "chose_correct": 0.6938,
          "epsilon": 0.4,
          "step": 201
         },
         {
          "chose_correct": 0.6832,
          "epsilon": 0.4,
          "step": 202
         },
         {
          "chose_correct": 0.6698,
          "epsilon": 0.4,
          "step": 203
         },
         {
          "chose_correct": 0.6732,
          "epsilon": 0.4,
          "step": 204
         },
         {
          "chose_correct": 0.6828,
          "epsilon": 0.4,
          "step": 205
         },
         {
          "chose_correct": 0.6658,
          "epsilon": 0.4,
          "step": 206
         },
         {
          "chose_correct": 0.6926,
          "epsilon": 0.4,
          "step": 207
         },
         {
          "chose_correct": 0.6766,
          "epsilon": 0.4,
          "step": 208
         },
         {
          "chose_correct": 0.6738,
          "epsilon": 0.4,
          "step": 209
         },
         {
          "chose_correct": 0.6686,
          "epsilon": 0.4,
          "step": 210
         },
         {
          "chose_correct": 0.6756,
          "epsilon": 0.4,
          "step": 211
         },
         {
          "chose_correct": 0.6788,
          "epsilon": 0.4,
          "step": 212
         },
         {
          "chose_correct": 0.6914,
          "epsilon": 0.4,
          "step": 213
         },
         {
          "chose_correct": 0.6722,
          "epsilon": 0.4,
          "step": 214
         },
         {
          "chose_correct": 0.677,
          "epsilon": 0.4,
          "step": 215
         },
         {
          "chose_correct": 0.6802,
          "epsilon": 0.4,
          "step": 216
         },
         {
          "chose_correct": 0.6834,
          "epsilon": 0.4,
          "step": 217
         },
         {
          "chose_correct": 0.6818,
          "epsilon": 0.4,
          "step": 218
         },
         {
          "chose_correct": 0.6792,
          "epsilon": 0.4,
          "step": 219
         },
         {
          "chose_correct": 0.6802,
          "epsilon": 0.4,
          "step": 220
         },
         {
          "chose_correct": 0.6744,
          "epsilon": 0.4,
          "step": 221
         },
         {
          "chose_correct": 0.6808,
          "epsilon": 0.4,
          "step": 222
         },
         {
          "chose_correct": 0.6766,
          "epsilon": 0.4,
          "step": 223
         },
         {
          "chose_correct": 0.6826,
          "epsilon": 0.4,
          "step": 224
         },
         {
          "chose_correct": 0.6846,
          "epsilon": 0.4,
          "step": 225
         },
         {
          "chose_correct": 0.6614,
          "epsilon": 0.4,
          "step": 226
         },
         {
          "chose_correct": 0.685,
          "epsilon": 0.4,
          "step": 227
         },
         {
          "chose_correct": 0.6738,
          "epsilon": 0.4,
          "step": 228
         },
         {
          "chose_correct": 0.681,
          "epsilon": 0.4,
          "step": 229
         },
         {
          "chose_correct": 0.677,
          "epsilon": 0.4,
          "step": 230
         },
         {
          "chose_correct": 0.6834,
          "epsilon": 0.4,
          "step": 231
         },
         {
          "chose_correct": 0.673,
          "epsilon": 0.4,
          "step": 232
         },
         {
          "chose_correct": 0.677,
          "epsilon": 0.4,
          "step": 233
         },
         {
          "chose_correct": 0.6798,
          "epsilon": 0.4,
          "step": 234
         },
         {
          "chose_correct": 0.6836,
          "epsilon": 0.4,
          "step": 235
         },
         {
          "chose_correct": 0.679,
          "epsilon": 0.4,
          "step": 236
         },
         {
          "chose_correct": 0.6708,
          "epsilon": 0.4,
          "step": 237
         },
         {
          "chose_correct": 0.6898,
          "epsilon": 0.4,
          "step": 238
         },
         {
          "chose_correct": 0.6734,
          "epsilon": 0.4,
          "step": 239
         },
         {
          "chose_correct": 0.6722,
          "epsilon": 0.4,
          "step": 240
         },
         {
          "chose_correct": 0.6792,
          "epsilon": 0.4,
          "step": 241
         },
         {
          "chose_correct": 0.6836,
          "epsilon": 0.4,
          "step": 242
         },
         {
          "chose_correct": 0.676,
          "epsilon": 0.4,
          "step": 243
         },
         {
          "chose_correct": 0.6818,
          "epsilon": 0.4,
          "step": 244
         },
         {
          "chose_correct": 0.6804,
          "epsilon": 0.4,
          "step": 245
         },
         {
          "chose_correct": 0.682,
          "epsilon": 0.4,
          "step": 246
         },
         {
          "chose_correct": 0.6834,
          "epsilon": 0.4,
          "step": 247
         },
         {
          "chose_correct": 0.683,
          "epsilon": 0.4,
          "step": 248
         },
         {
          "chose_correct": 0.6778,
          "epsilon": 0.4,
          "step": 249
         },
         {
          "chose_correct": 0.6788,
          "epsilon": 0.4,
          "step": 250
         },
         {
          "chose_correct": 0.1006,
          "epsilon": 0.5,
          "step": 1
         },
         {
          "chose_correct": 0.1452,
          "epsilon": 0.5,
          "step": 2
         },
         {
          "chose_correct": 0.1874,
          "epsilon": 0.5,
          "step": 3
         },
         {
          "chose_correct": 0.231,
          "epsilon": 0.5,
          "step": 4
         },
         {
          "chose_correct": 0.2628,
          "epsilon": 0.5,
          "step": 5
         },
         {
          "chose_correct": 0.2864,
          "epsilon": 0.5,
          "step": 6
         },
         {
          "chose_correct": 0.3096,
          "epsilon": 0.5,
          "step": 7
         },
         {
          "chose_correct": 0.335,
          "epsilon": 0.5,
          "step": 8
         },
         {
          "chose_correct": 0.3536,
          "epsilon": 0.5,
          "step": 9
         },
         {
          "chose_correct": 0.389,
          "epsilon": 0.5,
          "step": 10
         },
         {
          "chose_correct": 0.4012,
          "epsilon": 0.5,
          "step": 11
         },
         {
          "chose_correct": 0.422,
          "epsilon": 0.5,
          "step": 12
         },
         {
          "chose_correct": 0.44,
          "epsilon": 0.5,
          "step": 13
         },
         {
          "chose_correct": 0.4452,
          "epsilon": 0.5,
          "step": 14
         },
         {
          "chose_correct": 0.4544,
          "epsilon": 0.5,
          "step": 15
         },
         {
          "chose_correct": 0.47,
          "epsilon": 0.5,
          "step": 16
         },
         {
          "chose_correct": 0.4804,
          "epsilon": 0.5,
          "step": 17
         },
         {
          "chose_correct": 0.4888,
          "epsilon": 0.5,
          "step": 18
         },
         {
          "chose_correct": 0.501,
          "epsilon": 0.5,
          "step": 19
         },
         {
          "chose_correct": 0.5088,
          "epsilon": 0.5,
          "step": 20
         },
         {
          "chose_correct": 0.5306,
          "epsilon": 0.5,
          "step": 21
         },
         {
          "chose_correct": 0.5214,
          "epsilon": 0.5,
          "step": 22
         },
         {
          "chose_correct": 0.5422,
          "epsilon": 0.5,
          "step": 23
         },
         {
          "chose_correct": 0.5318,
          "epsilon": 0.5,
          "step": 24
         },
         {
          "chose_correct": 0.5312,
          "epsilon": 0.5,
          "step": 25
         },
         {
          "chose_correct": 0.5458,
          "epsilon": 0.5,
          "step": 26
         },
         {
          "chose_correct": 0.5508,
          "epsilon": 0.5,
          "step": 27
         },
         {
          "chose_correct": 0.5688,
          "epsilon": 0.5,
          "step": 28
         },
         {
          "chose_correct": 0.5548,
          "epsilon": 0.5,
          "step": 29
         },
         {
          "chose_correct": 0.5628,
          "epsilon": 0.5,
          "step": 30
         },
         {
          "chose_correct": 0.5744,
          "epsilon": 0.5,
          "step": 31
         },
         {
          "chose_correct": 0.5722,
          "epsilon": 0.5,
          "step": 32
         },
         {
          "chose_correct": 0.57,
          "epsilon": 0.5,
          "step": 33
         },
         {
          "chose_correct": 0.5558,
          "epsilon": 0.5,
          "step": 34
         },
         {
          "chose_correct": 0.5768,
          "epsilon": 0.5,
          "step": 35
         },
         {
          "chose_correct": 0.5756,
          "epsilon": 0.5,
          "step": 36
         },
         {
          "chose_correct": 0.5672,
          "epsilon": 0.5,
          "step": 37
         },
         {
          "chose_correct": 0.5944,
          "epsilon": 0.5,
          "step": 38
         },
         {
          "chose_correct": 0.5958,
          "epsilon": 0.5,
          "step": 39
         },
         {
          "chose_correct": 0.5944,
          "epsilon": 0.5,
          "step": 40
         },
         {
          "chose_correct": 0.589,
          "epsilon": 0.5,
          "step": 41
         },
         {
          "chose_correct": 0.5782,
          "epsilon": 0.5,
          "step": 42
         },
         {
          "chose_correct": 0.5924,
          "epsilon": 0.5,
          "step": 43
         },
         {
          "chose_correct": 0.5886,
          "epsilon": 0.5,
          "step": 44
         },
         {
          "chose_correct": 0.5958,
          "epsilon": 0.5,
          "step": 45
         },
         {
          "chose_correct": 0.605,
          "epsilon": 0.5,
          "step": 46
         },
         {
          "chose_correct": 0.587,
          "epsilon": 0.5,
          "step": 47
         },
         {
          "chose_correct": 0.5924,
          "epsilon": 0.5,
          "step": 48
         },
         {
          "chose_correct": 0.597,
          "epsilon": 0.5,
          "step": 49
         },
         {
          "chose_correct": 0.5904,
          "epsilon": 0.5,
          "step": 50
         },
         {
          "chose_correct": 0.5998,
          "epsilon": 0.5,
          "step": 51
         },
         {
          "chose_correct": 0.5898,
          "epsilon": 0.5,
          "step": 52
         },
         {
          "chose_correct": 0.5902,
          "epsilon": 0.5,
          "step": 53
         },
         {
          "chose_correct": 0.589,
          "epsilon": 0.5,
          "step": 54
         },
         {
          "chose_correct": 0.6008,
          "epsilon": 0.5,
          "step": 55
         },
         {
          "chose_correct": 0.6,
          "epsilon": 0.5,
          "step": 56
         },
         {
          "chose_correct": 0.6132,
          "epsilon": 0.5,
          "step": 57
         },
         {
          "chose_correct": 0.601,
          "epsilon": 0.5,
          "step": 58
         },
         {
          "chose_correct": 0.5916,
          "epsilon": 0.5,
          "step": 59
         },
         {
          "chose_correct": 0.6032,
          "epsilon": 0.5,
          "step": 60
         },
         {
          "chose_correct": 0.5972,
          "epsilon": 0.5,
          "step": 61
         },
         {
          "chose_correct": 0.6012,
          "epsilon": 0.5,
          "step": 62
         },
         {
          "chose_correct": 0.6142,
          "epsilon": 0.5,
          "step": 63
         },
         {
          "chose_correct": 0.5898,
          "epsilon": 0.5,
          "step": 64
         },
         {
          "chose_correct": 0.598,
          "epsilon": 0.5,
          "step": 65
         },
         {
          "chose_correct": 0.5994,
          "epsilon": 0.5,
          "step": 66
         },
         {
          "chose_correct": 0.5866,
          "epsilon": 0.5,
          "step": 67
         },
         {
          "chose_correct": 0.6102,
          "epsilon": 0.5,
          "step": 68
         },
         {
          "chose_correct": 0.5806,
          "epsilon": 0.5,
          "step": 69
         },
         {
          "chose_correct": 0.6062,
          "epsilon": 0.5,
          "step": 70
         },
         {
          "chose_correct": 0.6052,
          "epsilon": 0.5,
          "step": 71
         },
         {
          "chose_correct": 0.6042,
          "epsilon": 0.5,
          "step": 72
         },
         {
          "chose_correct": 0.583,
          "epsilon": 0.5,
          "step": 73
         },
         {
          "chose_correct": 0.5996,
          "epsilon": 0.5,
          "step": 74
         },
         {
          "chose_correct": 0.6016,
          "epsilon": 0.5,
          "step": 75
         },
         {
          "chose_correct": 0.6028,
          "epsilon": 0.5,
          "step": 76
         },
         {
          "chose_correct": 0.6014,
          "epsilon": 0.5,
          "step": 77
         },
         {
          "chose_correct": 0.606,
          "epsilon": 0.5,
          "step": 78
         },
         {
          "chose_correct": 0.5854,
          "epsilon": 0.5,
          "step": 79
         },
         {
          "chose_correct": 0.6072,
          "epsilon": 0.5,
          "step": 80
         },
         {
          "chose_correct": 0.5876,
          "epsilon": 0.5,
          "step": 81
         },
         {
          "chose_correct": 0.6064,
          "epsilon": 0.5,
          "step": 82
         },
         {
          "chose_correct": 0.6124,
          "epsilon": 0.5,
          "step": 83
         },
         {
          "chose_correct": 0.6036,
          "epsilon": 0.5,
          "step": 84
         },
         {
          "chose_correct": 0.596,
          "epsilon": 0.5,
          "step": 85
         },
         {
          "chose_correct": 0.6082,
          "epsilon": 0.5,
          "step": 86
         },
         {
          "chose_correct": 0.603,
          "epsilon": 0.5,
          "step": 87
         },
         {
          "chose_correct": 0.5904,
          "epsilon": 0.5,
          "step": 88
         },
         {
          "chose_correct": 0.6108,
          "epsilon": 0.5,
          "step": 89
         },
         {
          "chose_correct": 0.6028,
          "epsilon": 0.5,
          "step": 90
         },
         {
          "chose_correct": 0.6018,
          "epsilon": 0.5,
          "step": 91
         },
         {
          "chose_correct": 0.5996,
          "epsilon": 0.5,
          "step": 92
         },
         {
          "chose_correct": 0.6036,
          "epsilon": 0.5,
          "step": 93
         },
         {
          "chose_correct": 0.6006,
          "epsilon": 0.5,
          "step": 94
         },
         {
          "chose_correct": 0.5956,
          "epsilon": 0.5,
          "step": 95
         },
         {
          "chose_correct": 0.5956,
          "epsilon": 0.5,
          "step": 96
         },
         {
          "chose_correct": 0.5978,
          "epsilon": 0.5,
          "step": 97
         },
         {
          "chose_correct": 0.5886,
          "epsilon": 0.5,
          "step": 98
         },
         {
          "chose_correct": 0.5982,
          "epsilon": 0.5,
          "step": 99
         },
         {
          "chose_correct": 0.6006,
          "epsilon": 0.5,
          "step": 100
         },
         {
          "chose_correct": 0.6074,
          "epsilon": 0.5,
          "step": 101
         },
         {
          "chose_correct": 0.6096,
          "epsilon": 0.5,
          "step": 102
         },
         {
          "chose_correct": 0.6036,
          "epsilon": 0.5,
          "step": 103
         },
         {
          "chose_correct": 0.5872,
          "epsilon": 0.5,
          "step": 104
         },
         {
          "chose_correct": 0.5998,
          "epsilon": 0.5,
          "step": 105
         },
         {
          "chose_correct": 0.5962,
          "epsilon": 0.5,
          "step": 106
         },
         {
          "chose_correct": 0.61,
          "epsilon": 0.5,
          "step": 107
         },
         {
          "chose_correct": 0.5932,
          "epsilon": 0.5,
          "step": 108
         },
         {
          "chose_correct": 0.592,
          "epsilon": 0.5,
          "step": 109
         },
         {
          "chose_correct": 0.6178,
          "epsilon": 0.5,
          "step": 110
         },
         {
          "chose_correct": 0.6046,
          "epsilon": 0.5,
          "step": 111
         },
         {
          "chose_correct": 0.5802,
          "epsilon": 0.5,
          "step": 112
         },
         {
          "chose_correct": 0.6072,
          "epsilon": 0.5,
          "step": 113
         },
         {
          "chose_correct": 0.606,
          "epsilon": 0.5,
          "step": 114
         },
         {
          "chose_correct": 0.5964,
          "epsilon": 0.5,
          "step": 115
         },
         {
          "chose_correct": 0.5982,
          "epsilon": 0.5,
          "step": 116
         },
         {
          "chose_correct": 0.599,
          "epsilon": 0.5,
          "step": 117
         },
         {
          "chose_correct": 0.5914,
          "epsilon": 0.5,
          "step": 118
         },
         {
          "chose_correct": 0.5936,
          "epsilon": 0.5,
          "step": 119
         },
         {
          "chose_correct": 0.5982,
          "epsilon": 0.5,
          "step": 120
         },
         {
          "chose_correct": 0.5916,
          "epsilon": 0.5,
          "step": 121
         },
         {
          "chose_correct": 0.5902,
          "epsilon": 0.5,
          "step": 122
         },
         {
          "chose_correct": 0.6034,
          "epsilon": 0.5,
          "step": 123
         },
         {
          "chose_correct": 0.6002,
          "epsilon": 0.5,
          "step": 124
         },
         {
          "chose_correct": 0.5978,
          "epsilon": 0.5,
          "step": 125
         },
         {
          "chose_correct": 0.6012,
          "epsilon": 0.5,
          "step": 126
         },
         {
          "chose_correct": 0.6186,
          "epsilon": 0.5,
          "step": 127
         },
         {
          "chose_correct": 0.6018,
          "epsilon": 0.5,
          "step": 128
         },
         {
          "chose_correct": 0.5916,
          "epsilon": 0.5,
          "step": 129
         },
         {
          "chose_correct": 0.6012,
          "epsilon": 0.5,
          "step": 130
         },
         {
          "chose_correct": 0.6038,
          "epsilon": 0.5,
          "step": 131
         },
         {
          "chose_correct": 0.5978,
          "epsilon": 0.5,
          "step": 132
         },
         {
          "chose_correct": 0.6036,
          "epsilon": 0.5,
          "step": 133
         },
         {
          "chose_correct": 0.6028,
          "epsilon": 0.5,
          "step": 134
         },
         {
          "chose_correct": 0.6002,
          "epsilon": 0.5,
          "step": 135
         },
         {
          "chose_correct": 0.603,
          "epsilon": 0.5,
          "step": 136
         },
         {
          "chose_correct": 0.6044,
          "epsilon": 0.5,
          "step": 137
         },
         {
          "chose_correct": 0.5942,
          "epsilon": 0.5,
          "step": 138
         },
         {
          "chose_correct": 0.6082,
          "epsilon": 0.5,
          "step": 139
         },
         {
          "chose_correct": 0.5946,
          "epsilon": 0.5,
          "step": 140
         },
         {
          "chose_correct": 0.6018,
          "epsilon": 0.5,
          "step": 141
         },
         {
          "chose_correct": 0.595,
          "epsilon": 0.5,
          "step": 142
         },
         {
          "chose_correct": 0.5956,
          "epsilon": 0.5,
          "step": 143
         },
         {
          "chose_correct": 0.5966,
          "epsilon": 0.5,
          "step": 144
         },
         {
          "chose_correct": 0.604,
          "epsilon": 0.5,
          "step": 145
         },
         {
          "chose_correct": 0.5862,
          "epsilon": 0.5,
          "step": 146
         },
         {
          "chose_correct": 0.6046,
          "epsilon": 0.5,
          "step": 147
         },
         {
          "chose_correct": 0.591,
          "epsilon": 0.5,
          "step": 148
         },
         {
          "chose_correct": 0.604,
          "epsilon": 0.5,
          "step": 149
         },
         {
          "chose_correct": 0.599,
          "epsilon": 0.5,
          "step": 150
         },
         {
          "chose_correct": 0.6006,
          "epsilon": 0.5,
          "step": 151
         },
         {
          "chose_correct": 0.6026,
          "epsilon": 0.5,
          "step": 152
         },
         {
          "chose_correct": 0.605,
          "epsilon": 0.5,
          "step": 153
         },
         {
          "chose_correct": 0.6052,
          "epsilon": 0.5,
          "step": 154
         },
         {
          "chose_correct": 0.5938,
          "epsilon": 0.5,
          "step": 155
         },
         {
          "chose_correct": 0.5828,
          "epsilon": 0.5,
          "step": 156
         },
         {
          "chose_correct": 0.6036,
          "epsilon": 0.5,
          "step": 157
         },
         {
          "chose_correct": 0.6066,
          "epsilon": 0.5,
          "step": 158
         },
         {
          "chose_correct": 0.5962,
          "epsilon": 0.5,
          "step": 159
         },
         {
          "chose_correct": 0.6012,
          "epsilon": 0.5,
          "step": 160
         },
         {
          "chose_correct": 0.5944,
          "epsilon": 0.5,
          "step": 161
         },
         {
          "chose_correct": 0.6076,
          "epsilon": 0.5,
          "step": 162
         },
         {
          "chose_correct": 0.6076,
          "epsilon": 0.5,
          "step": 163
         },
         {
          "chose_correct": 0.6144,
          "epsilon": 0.5,
          "step": 164
         },
         {
          "chose_correct": 0.5936,
          "epsilon": 0.5,
          "step": 165
         },
         {
          "chose_correct": 0.6026,
          "epsilon": 0.5,
          "step": 166
         },
         {
          "chose_correct": 0.5978,
          "epsilon": 0.5,
          "step": 167
         },
         {
          "chose_correct": 0.6004,
          "epsilon": 0.5,
          "step": 168
         },
         {
          "chose_correct": 0.5936,
          "epsilon": 0.5,
          "step": 169
         },
         {
          "chose_correct": 0.6054,
          "epsilon": 0.5,
          "step": 170
         },
         {
          "chose_correct": 0.5958,
          "epsilon": 0.5,
          "step": 171
         },
         {
          "chose_correct": 0.5918,
          "epsilon": 0.5,
          "step": 172
         },
         {
          "chose_correct": 0.6046,
          "epsilon": 0.5,
          "step": 173
         },
         {
          "chose_correct": 0.6106,
          "epsilon": 0.5,
          "step": 174
         },
         {
          "chose_correct": 0.6,
          "epsilon": 0.5,
          "step": 175
         },
         {
          "chose_correct": 0.6024,
          "epsilon": 0.5,
          "step": 176
         },
         {
          "chose_correct": 0.6004,
          "epsilon": 0.5,
          "step": 177
         },
         {
          "chose_correct": 0.606,
          "epsilon": 0.5,
          "step": 178
         },
         {
          "chose_correct": 0.5938,
          "epsilon": 0.5,
          "step": 179
         },
         {
          "chose_correct": 0.6018,
          "epsilon": 0.5,
          "step": 180
         },
         {
          "chose_correct": 0.6028,
          "epsilon": 0.5,
          "step": 181
         },
         {
          "chose_correct": 0.6008,
          "epsilon": 0.5,
          "step": 182
         },
         {
          "chose_correct": 0.5948,
          "epsilon": 0.5,
          "step": 183
         },
         {
          "chose_correct": 0.589,
          "epsilon": 0.5,
          "step": 184
         },
         {
          "chose_correct": 0.599,
          "epsilon": 0.5,
          "step": 185
         },
         {
          "chose_correct": 0.6122,
          "epsilon": 0.5,
          "step": 186
         },
         {
          "chose_correct": 0.5972,
          "epsilon": 0.5,
          "step": 187
         },
         {
          "chose_correct": 0.6004,
          "epsilon": 0.5,
          "step": 188
         },
         {
          "chose_correct": 0.596,
          "epsilon": 0.5,
          "step": 189
         },
         {
          "chose_correct": 0.6036,
          "epsilon": 0.5,
          "step": 190
         },
         {
          "chose_correct": 0.5992,
          "epsilon": 0.5,
          "step": 191
         },
         {
          "chose_correct": 0.6002,
          "epsilon": 0.5,
          "step": 192
         },
         {
          "chose_correct": 0.5928,
          "epsilon": 0.5,
          "step": 193
         },
         {
          "chose_correct": 0.6024,
          "epsilon": 0.5,
          "step": 194
         },
         {
          "chose_correct": 0.6052,
          "epsilon": 0.5,
          "step": 195
         },
         {
          "chose_correct": 0.6042,
          "epsilon": 0.5,
          "step": 196
         },
         {
          "chose_correct": 0.5892,
          "epsilon": 0.5,
          "step": 197
         },
         {
          "chose_correct": 0.599,
          "epsilon": 0.5,
          "step": 198
         },
         {
          "chose_correct": 0.6038,
          "epsilon": 0.5,
          "step": 199
         },
         {
          "chose_correct": 0.6018,
          "epsilon": 0.5,
          "step": 200
         },
         {
          "chose_correct": 0.6008,
          "epsilon": 0.5,
          "step": 201
         },
         {
          "chose_correct": 0.591,
          "epsilon": 0.5,
          "step": 202
         },
         {
          "chose_correct": 0.6034,
          "epsilon": 0.5,
          "step": 203
         },
         {
          "chose_correct": 0.602,
          "epsilon": 0.5,
          "step": 204
         },
         {
          "chose_correct": 0.6094,
          "epsilon": 0.5,
          "step": 205
         },
         {
          "chose_correct": 0.5922,
          "epsilon": 0.5,
          "step": 206
         },
         {
          "chose_correct": 0.6128,
          "epsilon": 0.5,
          "step": 207
         },
         {
          "chose_correct": 0.6044,
          "epsilon": 0.5,
          "step": 208
         },
         {
          "chose_correct": 0.5964,
          "epsilon": 0.5,
          "step": 209
         },
         {
          "chose_correct": 0.6006,
          "epsilon": 0.5,
          "step": 210
         },
         {
          "chose_correct": 0.6012,
          "epsilon": 0.5,
          "step": 211
         },
         {
          "chose_correct": 0.6054,
          "epsilon": 0.5,
          "step": 212
         },
         {
          "chose_correct": 0.597,
          "epsilon": 0.5,
          "step": 213
         },
         {
          "chose_correct": 0.6088,
          "epsilon": 0.5,
          "step": 214
         },
         {
          "chose_correct": 0.5962,
          "epsilon": 0.5,
          "step": 215
         },
         {
          "chose_correct": 0.5892,
          "epsilon": 0.5,
          "step": 216
         },
         {
          "chose_correct": 0.5998,
          "epsilon": 0.5,
          "step": 217
         },
         {
          "chose_correct": 0.5998,
          "epsilon": 0.5,
          "step": 218
         },
         {
          "chose_correct": 0.6002,
          "epsilon": 0.5,
          "step": 219
         },
         {
          "chose_correct": 0.5948,
          "epsilon": 0.5,
          "step": 220
         },
         {
          "chose_correct": 0.6058,
          "epsilon": 0.5,
          "step": 221
         },
         {
          "chose_correct": 0.596,
          "epsilon": 0.5,
          "step": 222
         },
         {
          "chose_correct": 0.5998,
          "epsilon": 0.5,
          "step": 223
         },
         {
          "chose_correct": 0.6176,
          "epsilon": 0.5,
          "step": 224
         },
         {
          "chose_correct": 0.609,
          "epsilon": 0.5,
          "step": 225
         },
         {
          "chose_correct": 0.602,
          "epsilon": 0.5,
          "step": 226
         },
         {
          "chose_correct": 0.5906,
          "epsilon": 0.5,
          "step": 227
         },
         {
          "chose_correct": 0.6022,
          "epsilon": 0.5,
          "step": 228
         },
         {
          "chose_correct": 0.6186,
          "epsilon": 0.5,
          "step": 229
         },
         {
          "chose_correct": 0.5906,
          "epsilon": 0.5,
          "step": 230
         },
         {
          "chose_correct": 0.5978,
          "epsilon": 0.5,
          "step": 231
         },
         {
          "chose_correct": 0.588,
          "epsilon": 0.5,
          "step": 232
         },
         {
          "chose_correct": 0.5966,
          "epsilon": 0.5,
          "step": 233
         },
         {
          "chose_correct": 0.593,
          "epsilon": 0.5,
          "step": 234
         },
         {
          "chose_correct": 0.598,
          "epsilon": 0.5,
          "step": 235
         },
         {
          "chose_correct": 0.5846,
          "epsilon": 0.5,
          "step": 236
         },
         {
          "chose_correct": 0.5844,
          "epsilon": 0.5,
          "step": 237
         },
         {
          "chose_correct": 0.6014,
          "epsilon": 0.5,
          "step": 238
         },
         {
          "chose_correct": 0.5922,
          "epsilon": 0.5,
          "step": 239
         },
         {
          "chose_correct": 0.5956,
          "epsilon": 0.5,
          "step": 240
         },
         {
          "chose_correct": 0.6096,
          "epsilon": 0.5,
          "step": 241
         },
         {
          "chose_correct": 0.6072,
          "epsilon": 0.5,
          "step": 242
         },
         {
          "chose_correct": 0.5932,
          "epsilon": 0.5,
          "step": 243
         },
         {
          "chose_correct": 0.6108,
          "epsilon": 0.5,
          "step": 244
         },
         {
          "chose_correct": 0.6008,
          "epsilon": 0.5,
          "step": 245
         },
         {
          "chose_correct": 0.6008,
          "epsilon": 0.5,
          "step": 246
         },
         {
          "chose_correct": 0.6062,
          "epsilon": 0.5,
          "step": 247
         },
         {
          "chose_correct": 0.5896,
          "epsilon": 0.5,
          "step": 248
         },
         {
          "chose_correct": 0.601,
          "epsilon": 0.5,
          "step": 249
         },
         {
          "chose_correct": 0.5856,
          "epsilon": 0.5,
          "step": 250
         }
        ]
       },
       "encoding": {
        "color": {
         "field": "epsilon",
         "type": "nominal"
        },
        "x": {
         "field": "step",
         "title": "Time Step",
         "type": "quantitative"
        },
        "y": {
         "field": "chose_correct",
         "title": "Mean Rate of Choosing Best Arm",
         "type": "quantitative"
        }
       },
       "mark": "line",
       "title": "Mean Rate of Choosing Best Arm from 5000 Simulations. 5 Arms = [4 x 0.1, 1 x 0.9]"
      },
      "image/png": "[encoded data removed]",
      "text/plain": [
       "<VegaLite 3 object>\n",
       "\n",
       "If you see this message, it means the renderer has not been properly enabled\n",
       "for the frontend that you are using. For more information, see\n",
       "https://altair-viz.github.io/user_guide/troubleshooting.html\n"
      ]
     },
     "execution_count": 70,
     "metadata": {},
     "output_type": "execute_result"
    }
   ],
   "source": [
    "alt.Chart(df_chose_correctly).mark_line().encode(\n",
    "    alt.X(\"step:Q\", title = \"Time Step\"),\n",
    "    alt.Y(\"chose_correct:Q\", title = \"Mean Rate of Choosing Best Arm\"),\n",
    "    color = alt.Color(\"epsilon:N\")\n",
    ").properties(\n",
    "    title = \"Mean Rate of Choosing Best Arm from 5000 Simulations. 5 Arms = [4 x 0.1, 1 x 0.9]\",\n",
    ")"
   ]
  },
  {
   "cell_type": "code",
   "execution_count": 59,
   "metadata": {},
   "outputs": [],
   "source": [
    "df_cumreward = df.loc[:,[\"epsilon\",\"step\", \"cum_reward\"]].groupby([\"epsilon\",\"step\"]).agg(\"mean\").reset_index()"
   ]
  },
  {
   "cell_type": "code",
   "execution_count": 69,
   "metadata": {},
   "outputs": [
    {
     "data": {
      "application/vnd.vegalite.v3+json": {
       "$schema": "https://vega.github.io/schema/vega-lite/v3.4.0.json",
       "config": {
        "mark": {
         "tooltip": null
        },
        "view": {
         "height": 300,
         "width": 400
        }
       },
       "data": {
        "name": "data-8d2b5b9c53a55fa4c9e0f2bf99051ca2"
       },
       "datasets": {
        "data-8d2b5b9c53a55fa4c9e0f2bf99051ca2": [
         {
          "cum_reward": 0.1138,
          "epsilon": 0.1,
          "step": 1
         },
         {
          "cum_reward": 0.239,
          "epsilon": 0.1,
          "step": 2
         },
         {
          "cum_reward": 0.38,
          "epsilon": 0.1,
          "step": 3
         },
         {
          "cum_reward": 0.533,
          "epsilon": 0.1,
          "step": 4
         },
         {
          "cum_reward": 0.702,
          "epsilon": 0.1,
          "step": 5
         },
         {
          "cum_reward": 0.8798,
          "epsilon": 0.1,
          "step": 6
         },
         {
          "cum_reward": 1.07,
          "epsilon": 0.1,
          "step": 7
         },
         {
          "cum_reward": 1.2668,
          "epsilon": 0.1,
          "step": 8
         },
         {
          "cum_reward": 1.4804,
          "epsilon": 0.1,
          "step": 9
         },
         {
          "cum_reward": 1.6926,
          "epsilon": 0.1,
          "step": 10
         },
         {
          "cum_reward": 1.9264,
          "epsilon": 0.1,
          "step": 11
         },
         {
          "cum_reward": 2.1702,
          "epsilon": 0.1,
          "step": 12
         },
         {
          "cum_reward": 2.4236,
          "epsilon": 0.1,
          "step": 13
         },
         {
          "cum_reward": 2.6812,
          "epsilon": 0.1,
          "step": 14
         },
         {
          "cum_reward": 2.9534,
          "epsilon": 0.1,
          "step": 15
         },
         {
          "cum_reward": 3.2364,
          "epsilon": 0.1,
          "step": 16
         },
         {
          "cum_reward": 3.524,
          "epsilon": 0.1,
          "step": 17
         },
         {
          "cum_reward": 3.8294,
          "epsilon": 0.1,
          "step": 18
         },
         {
          "cum_reward": 4.1348,
          "epsilon": 0.1,
          "step": 19
         },
         {
          "cum_reward": 4.4668,
          "epsilon": 0.1,
          "step": 20
         },
         {
          "cum_reward": 4.7978,
          "epsilon": 0.1,
          "step": 21
         },
         {
          "cum_reward": 5.1404,
          "epsilon": 0.1,
          "step": 22
         },
         {
          "cum_reward": 5.4936,
          "epsilon": 0.1,
          "step": 23
         },
         {
          "cum_reward": 5.85,
          "epsilon": 0.1,
          "step": 24
         },
         {
          "cum_reward": 6.2102,
          "epsilon": 0.1,
          "step": 25
         },
         {
          "cum_reward": 6.5912,
          "epsilon": 0.1,
          "step": 26
         },
         {
          "cum_reward": 6.969,
          "epsilon": 0.1,
          "step": 27
         },
         {
          "cum_reward": 7.356,
          "epsilon": 0.1,
          "step": 28
         },
         {
          "cum_reward": 7.746,
          "epsilon": 0.1,
          "step": 29
         },
         {
          "cum_reward": 8.1512,
          "epsilon": 0.1,
          "step": 30
         },
         {
          "cum_reward": 8.5746,
          "epsilon": 0.1,
          "step": 31
         },
         {
          "cum_reward": 8.9954,
          "epsilon": 0.1,
          "step": 32
         },
         {
          "cum_reward": 9.42,
          "epsilon": 0.1,
          "step": 33
         },
         {
          "cum_reward": 9.8666,
          "epsilon": 0.1,
          "step": 34
         },
         {
          "cum_reward": 10.3074,
          "epsilon": 0.1,
          "step": 35
         },
         {
          "cum_reward": 10.7682,
          "epsilon": 0.1,
          "step": 36
         },
         {
          "cum_reward": 11.2262,
          "epsilon": 0.1,
          "step": 37
         },
         {
          "cum_reward": 11.6804,
          "epsilon": 0.1,
          "step": 38
         },
         {
          "cum_reward": 12.1476,
          "epsilon": 0.1,
          "step": 39
         },
         {
          "cum_reward": 12.6186,
          "epsilon": 0.1,
          "step": 40
         },
         {
          "cum_reward": 13.0992,
          "epsilon": 0.1,
          "step": 41
         },
         {
          "cum_reward": 13.5806,
          "epsilon": 0.1,
          "step": 42
         },
         {
          "cum_reward": 14.0756,
          "epsilon": 0.1,
          "step": 43
         },
         {
          "cum_reward": 14.579,
          "epsilon": 0.1,
          "step": 44
         },
         {
          "cum_reward": 15.089,
          "epsilon": 0.1,
          "step": 45
         },
         {
          "cum_reward": 15.6036,
          "epsilon": 0.1,
          "step": 46
         },
         {
          "cum_reward": 16.1214,
          "epsilon": 0.1,
          "step": 47
         },
         {
          "cum_reward": 16.6492,
          "epsilon": 0.1,
          "step": 48
         },
         {
          "cum_reward": 17.1696,
          "epsilon": 0.1,
          "step": 49
         },
         {
          "cum_reward": 17.7026,
          "epsilon": 0.1,
          "step": 50
         },
         {
          "cum_reward": 18.2336,
          "epsilon": 0.1,
          "step": 51
         },
         {
          "cum_reward": 18.7762,
          "epsilon": 0.1,
          "step": 52
         },
         {
          "cum_reward": 19.3184,
          "epsilon": 0.1,
          "step": 53
         },
         {
          "cum_reward": 19.8826,
          "epsilon": 0.1,
          "step": 54
         },
         {
          "cum_reward": 20.4378,
          "epsilon": 0.1,
          "step": 55
         },
         {
          "cum_reward": 21.0014,
          "epsilon": 0.1,
          "step": 56
         },
         {
          "cum_reward": 21.5712,
          "epsilon": 0.1,
          "step": 57
         },
         {
          "cum_reward": 22.1446,
          "epsilon": 0.1,
          "step": 58
         },
         {
          "cum_reward": 22.7186,
          "epsilon": 0.1,
          "step": 59
         },
         {
          "cum_reward": 23.3008,
          "epsilon": 0.1,
          "step": 60
         },
         {
          "cum_reward": 23.893,
          "epsilon": 0.1,
          "step": 61
         },
         {
          "cum_reward": 24.4936,
          "epsilon": 0.1,
          "step": 62
         },
         {
          "cum_reward": 25.086,
          "epsilon": 0.1,
          "step": 63
         },
         {
          "cum_reward": 25.6878,
          "epsilon": 0.1,
          "step": 64
         },
         {
          "cum_reward": 26.2972,
          "epsilon": 0.1,
          "step": 65
         },
         {
          "cum_reward": 26.913,
          "epsilon": 0.1,
          "step": 66
         },
         {
          "cum_reward": 27.5314,
          "epsilon": 0.1,
          "step": 67
         },
         {
          "cum_reward": 28.1576,
          "epsilon": 0.1,
          "step": 68
         },
         {
          "cum_reward": 28.7806,
          "epsilon": 0.1,
          "step": 69
         },
         {
          "cum_reward": 29.407,
          "epsilon": 0.1,
          "step": 70
         },
         {
          "cum_reward": 30.0394,
          "epsilon": 0.1,
          "step": 71
         },
         {
          "cum_reward": 30.68,
          "epsilon": 0.1,
          "step": 72
         },
         {
          "cum_reward": 31.3196,
          "epsilon": 0.1,
          "step": 73
         },
         {
          "cum_reward": 31.9552,
          "epsilon": 0.1,
          "step": 74
         },
         {
          "cum_reward": 32.6028,
          "epsilon": 0.1,
          "step": 75
         },
         {
          "cum_reward": 33.257,
          "epsilon": 0.1,
          "step": 76
         },
         {
          "cum_reward": 33.903,
          "epsilon": 0.1,
          "step": 77
         },
         {
          "cum_reward": 34.5664,
          "epsilon": 0.1,
          "step": 78
         },
         {
          "cum_reward": 35.2182,
          "epsilon": 0.1,
          "step": 79
         },
         {
          "cum_reward": 35.8912,
          "epsilon": 0.1,
          "step": 80
         },
         {
          "cum_reward": 36.557,
          "epsilon": 0.1,
          "step": 81
         },
         {
          "cum_reward": 37.2228,
          "epsilon": 0.1,
          "step": 82
         },
         {
          "cum_reward": 37.8932,
          "epsilon": 0.1,
          "step": 83
         },
         {
          "cum_reward": 38.5734,
          "epsilon": 0.1,
          "step": 84
         },
         {
          "cum_reward": 39.255,
          "epsilon": 0.1,
          "step": 85
         },
         {
          "cum_reward": 39.932,
          "epsilon": 0.1,
          "step": 86
         },
         {
          "cum_reward": 40.6132,
          "epsilon": 0.1,
          "step": 87
         },
         {
          "cum_reward": 41.3006,
          "epsilon": 0.1,
          "step": 88
         },
         {
          "cum_reward": 41.9922,
          "epsilon": 0.1,
          "step": 89
         },
         {
          "cum_reward": 42.6828,
          "epsilon": 0.1,
          "step": 90
         },
         {
          "cum_reward": 43.3872,
          "epsilon": 0.1,
          "step": 91
         },
         {
          "cum_reward": 44.083,
          "epsilon": 0.1,
          "step": 92
         },
         {
          "cum_reward": 44.7848,
          "epsilon": 0.1,
          "step": 93
         },
         {
          "cum_reward": 45.4892,
          "epsilon": 0.1,
          "step": 94
         },
         {
          "cum_reward": 46.1968,
          "epsilon": 0.1,
          "step": 95
         },
         {
          "cum_reward": 46.9184,
          "epsilon": 0.1,
          "step": 96
         },
         {
          "cum_reward": 47.6292,
          "epsilon": 0.1,
          "step": 97
         },
         {
          "cum_reward": 48.3454,
          "epsilon": 0.1,
          "step": 98
         },
         {
          "cum_reward": 49.0622,
          "epsilon": 0.1,
          "step": 99
         },
         {
          "cum_reward": 49.7738,
          "epsilon": 0.1,
          "step": 100
         },
         {
          "cum_reward": 50.496,
          "epsilon": 0.1,
          "step": 101
         },
         {
          "cum_reward": 51.2186,
          "epsilon": 0.1,
          "step": 102
         },
         {
          "cum_reward": 51.9448,
          "epsilon": 0.1,
          "step": 103
         },
         {
          "cum_reward": 52.6752,
          "epsilon": 0.1,
          "step": 104
         },
         {
          "cum_reward": 53.4094,
          "epsilon": 0.1,
          "step": 105
         },
         {
          "cum_reward": 54.1402,
          "epsilon": 0.1,
          "step": 106
         },
         {
          "cum_reward": 54.8758,
          "epsilon": 0.1,
          "step": 107
         },
         {
          "cum_reward": 55.6104,
          "epsilon": 0.1,
          "step": 108
         },
         {
          "cum_reward": 56.3482,
          "epsilon": 0.1,
          "step": 109
         },
         {
          "cum_reward": 57.0958,
          "epsilon": 0.1,
          "step": 110
         },
         {
          "cum_reward": 57.8384,
          "epsilon": 0.1,
          "step": 111
         },
         {
          "cum_reward": 58.5846,
          "epsilon": 0.1,
          "step": 112
         },
         {
          "cum_reward": 59.332,
          "epsilon": 0.1,
          "step": 113
         },
         {
          "cum_reward": 60.0762,
          "epsilon": 0.1,
          "step": 114
         },
         {
          "cum_reward": 60.8274,
          "epsilon": 0.1,
          "step": 115
         },
         {
          "cum_reward": 61.5822,
          "epsilon": 0.1,
          "step": 116
         },
         {
          "cum_reward": 62.3282,
          "epsilon": 0.1,
          "step": 117
         },
         {
          "cum_reward": 63.0842,
          "epsilon": 0.1,
          "step": 118
         },
         {
          "cum_reward": 63.8464,
          "epsilon": 0.1,
          "step": 119
         },
         {
          "cum_reward": 64.6006,
          "epsilon": 0.1,
          "step": 120
         },
         {
          "cum_reward": 65.3616,
          "epsilon": 0.1,
          "step": 121
         },
         {
          "cum_reward": 66.134,
          "epsilon": 0.1,
          "step": 122
         },
         {
          "cum_reward": 66.8898,
          "epsilon": 0.1,
          "step": 123
         },
         {
          "cum_reward": 67.66,
          "epsilon": 0.1,
          "step": 124
         },
         {
          "cum_reward": 68.4264,
          "epsilon": 0.1,
          "step": 125
         },
         {
          "cum_reward": 69.1934,
          "epsilon": 0.1,
          "step": 126
         },
         {
          "cum_reward": 69.964,
          "epsilon": 0.1,
          "step": 127
         },
         {
          "cum_reward": 70.733,
          "epsilon": 0.1,
          "step": 128
         },
         {
          "cum_reward": 71.503,
          "epsilon": 0.1,
          "step": 129
         },
         {
          "cum_reward": 72.275,
          "epsilon": 0.1,
          "step": 130
         },
         {
          "cum_reward": 73.043,
          "epsilon": 0.1,
          "step": 131
         },
         {
          "cum_reward": 73.8128,
          "epsilon": 0.1,
          "step": 132
         },
         {
          "cum_reward": 74.5838,
          "epsilon": 0.1,
          "step": 133
         },
         {
          "cum_reward": 75.3582,
          "epsilon": 0.1,
          "step": 134
         },
         {
          "cum_reward": 76.1282,
          "epsilon": 0.1,
          "step": 135
         },
         {
          "cum_reward": 76.9002,
          "epsilon": 0.1,
          "step": 136
         },
         {
          "cum_reward": 77.6728,
          "epsilon": 0.1,
          "step": 137
         },
         {
          "cum_reward": 78.4486,
          "epsilon": 0.1,
          "step": 138
         },
         {
          "cum_reward": 79.2222,
          "epsilon": 0.1,
          "step": 139
         },
         {
          "cum_reward": 80.0036,
          "epsilon": 0.1,
          "step": 140
         },
         {
          "cum_reward": 80.7864,
          "epsilon": 0.1,
          "step": 141
         },
         {
          "cum_reward": 81.577,
          "epsilon": 0.1,
          "step": 142
         },
         {
          "cum_reward": 82.3666,
          "epsilon": 0.1,
          "step": 143
         },
         {
          "cum_reward": 83.1522,
          "epsilon": 0.1,
          "step": 144
         },
         {
          "cum_reward": 83.9422,
          "epsilon": 0.1,
          "step": 145
         },
         {
          "cum_reward": 84.7376,
          "epsilon": 0.1,
          "step": 146
         },
         {
          "cum_reward": 85.5304,
          "epsilon": 0.1,
          "step": 147
         },
         {
          "cum_reward": 86.3248,
          "epsilon": 0.1,
          "step": 148
         },
         {
          "cum_reward": 87.1124,
          "epsilon": 0.1,
          "step": 149
         },
         {
          "cum_reward": 87.9016,
          "epsilon": 0.1,
          "step": 150
         },
         {
          "cum_reward": 88.6962,
          "epsilon": 0.1,
          "step": 151
         },
         {
          "cum_reward": 89.4882,
          "epsilon": 0.1,
          "step": 152
         },
         {
          "cum_reward": 90.2796,
          "epsilon": 0.1,
          "step": 153
         },
         {
          "cum_reward": 91.0856,
          "epsilon": 0.1,
          "step": 154
         },
         {
          "cum_reward": 91.8914,
          "epsilon": 0.1,
          "step": 155
         },
         {
          "cum_reward": 92.6846,
          "epsilon": 0.1,
          "step": 156
         },
         {
          "cum_reward": 93.4854,
          "epsilon": 0.1,
          "step": 157
         },
         {
          "cum_reward": 94.2968,
          "epsilon": 0.1,
          "step": 158
         },
         {
          "cum_reward": 95.1006,
          "epsilon": 0.1,
          "step": 159
         },
         {
          "cum_reward": 95.9068,
          "epsilon": 0.1,
          "step": 160
         },
         {
          "cum_reward": 96.7058,
          "epsilon": 0.1,
          "step": 161
         },
         {
          "cum_reward": 97.503,
          "epsilon": 0.1,
          "step": 162
         },
         {
          "cum_reward": 98.3002,
          "epsilon": 0.1,
          "step": 163
         },
         {
          "cum_reward": 99.1132,
          "epsilon": 0.1,
          "step": 164
         },
         {
          "cum_reward": 99.9224,
          "epsilon": 0.1,
          "step": 165
         },
         {
          "cum_reward": 100.7324,
          "epsilon": 0.1,
          "step": 166
         },
         {
          "cum_reward": 101.5422,
          "epsilon": 0.1,
          "step": 167
         },
         {
          "cum_reward": 102.3476,
          "epsilon": 0.1,
          "step": 168
         },
         {
          "cum_reward": 103.161,
          "epsilon": 0.1,
          "step": 169
         },
         {
          "cum_reward": 103.9772,
          "epsilon": 0.1,
          "step": 170
         },
         {
          "cum_reward": 104.7886,
          "epsilon": 0.1,
          "step": 171
         },
         {
          "cum_reward": 105.597,
          "epsilon": 0.1,
          "step": 172
         },
         {
          "cum_reward": 106.4036,
          "epsilon": 0.1,
          "step": 173
         },
         {
          "cum_reward": 107.2134,
          "epsilon": 0.1,
          "step": 174
         },
         {
          "cum_reward": 108.0214,
          "epsilon": 0.1,
          "step": 175
         },
         {
          "cum_reward": 108.8364,
          "epsilon": 0.1,
          "step": 176
         },
         {
          "cum_reward": 109.6512,
          "epsilon": 0.1,
          "step": 177
         },
         {
          "cum_reward": 110.4604,
          "epsilon": 0.1,
          "step": 178
         },
         {
          "cum_reward": 111.2818,
          "epsilon": 0.1,
          "step": 179
         },
         {
          "cum_reward": 112.0984,
          "epsilon": 0.1,
          "step": 180
         },
         {
          "cum_reward": 112.9164,
          "epsilon": 0.1,
          "step": 181
         },
         {
          "cum_reward": 113.728,
          "epsilon": 0.1,
          "step": 182
         },
         {
          "cum_reward": 114.5378,
          "epsilon": 0.1,
          "step": 183
         },
         {
          "cum_reward": 115.3498,
          "epsilon": 0.1,
          "step": 184
         },
         {
          "cum_reward": 116.1686,
          "epsilon": 0.1,
          "step": 185
         },
         {
          "cum_reward": 116.988,
          "epsilon": 0.1,
          "step": 186
         },
         {
          "cum_reward": 117.7988,
          "epsilon": 0.1,
          "step": 187
         },
         {
          "cum_reward": 118.6144,
          "epsilon": 0.1,
          "step": 188
         },
         {
          "cum_reward": 119.4264,
          "epsilon": 0.1,
          "step": 189
         },
         {
          "cum_reward": 120.2414,
          "epsilon": 0.1,
          "step": 190
         },
         {
          "cum_reward": 121.0634,
          "epsilon": 0.1,
          "step": 191
         },
         {
          "cum_reward": 121.8798,
          "epsilon": 0.1,
          "step": 192
         },
         {
          "cum_reward": 122.7036,
          "epsilon": 0.1,
          "step": 193
         },
         {
          "cum_reward": 123.52,
          "epsilon": 0.1,
          "step": 194
         },
         {
          "cum_reward": 124.3398,
          "epsilon": 0.1,
          "step": 195
         },
         {
          "cum_reward": 125.164,
          "epsilon": 0.1,
          "step": 196
         },
         {
          "cum_reward": 125.9906,
          "epsilon": 0.1,
          "step": 197
         },
         {
          "cum_reward": 126.8172,
          "epsilon": 0.1,
          "step": 198
         },
         {
          "cum_reward": 127.6354,
          "epsilon": 0.1,
          "step": 199
         },
         {
          "cum_reward": 128.4516,
          "epsilon": 0.1,
          "step": 200
         },
         {
          "cum_reward": 129.2786,
          "epsilon": 0.1,
          "step": 201
         },
         {
          "cum_reward": 130.1034,
          "epsilon": 0.1,
          "step": 202
         },
         {
          "cum_reward": 130.9266,
          "epsilon": 0.1,
          "step": 203
         },
         {
          "cum_reward": 131.7566,
          "epsilon": 0.1,
          "step": 204
         },
         {
          "cum_reward": 132.579,
          "epsilon": 0.1,
          "step": 205
         },
         {
          "cum_reward": 133.4024,
          "epsilon": 0.1,
          "step": 206
         },
         {
          "cum_reward": 134.2184,
          "epsilon": 0.1,
          "step": 207
         },
         {
          "cum_reward": 135.0376,
          "epsilon": 0.1,
          "step": 208
         },
         {
          "cum_reward": 135.8604,
          "epsilon": 0.1,
          "step": 209
         },
         {
          "cum_reward": 136.6816,
          "epsilon": 0.1,
          "step": 210
         },
         {
          "cum_reward": 137.5002,
          "epsilon": 0.1,
          "step": 211
         },
         {
          "cum_reward": 138.3248,
          "epsilon": 0.1,
          "step": 212
         },
         {
          "cum_reward": 139.1568,
          "epsilon": 0.1,
          "step": 213
         },
         {
          "cum_reward": 139.9756,
          "epsilon": 0.1,
          "step": 214
         },
         {
          "cum_reward": 140.7938,
          "epsilon": 0.1,
          "step": 215
         },
         {
          "cum_reward": 141.62,
          "epsilon": 0.1,
          "step": 216
         },
         {
          "cum_reward": 142.4412,
          "epsilon": 0.1,
          "step": 217
         },
         {
          "cum_reward": 143.2698,
          "epsilon": 0.1,
          "step": 218
         },
         {
          "cum_reward": 144.091,
          "epsilon": 0.1,
          "step": 219
         },
         {
          "cum_reward": 144.9228,
          "epsilon": 0.1,
          "step": 220
         },
         {
          "cum_reward": 145.754,
          "epsilon": 0.1,
          "step": 221
         },
         {
          "cum_reward": 146.5804,
          "epsilon": 0.1,
          "step": 222
         },
         {
          "cum_reward": 147.415,
          "epsilon": 0.1,
          "step": 223
         },
         {
          "cum_reward": 148.25,
          "epsilon": 0.1,
          "step": 224
         },
         {
          "cum_reward": 149.0798,
          "epsilon": 0.1,
          "step": 225
         },
         {
          "cum_reward": 149.9122,
          "epsilon": 0.1,
          "step": 226
         },
         {
          "cum_reward": 150.7454,
          "epsilon": 0.1,
          "step": 227
         },
         {
          "cum_reward": 151.5758,
          "epsilon": 0.1,
          "step": 228
         },
         {
          "cum_reward": 152.3944,
          "epsilon": 0.1,
          "step": 229
         },
         {
          "cum_reward": 153.2266,
          "epsilon": 0.1,
          "step": 230
         },
         {
          "cum_reward": 154.054,
          "epsilon": 0.1,
          "step": 231
         },
         {
          "cum_reward": 154.8818,
          "epsilon": 0.1,
          "step": 232
         },
         {
          "cum_reward": 155.7056,
          "epsilon": 0.1,
          "step": 233
         },
         {
          "cum_reward": 156.5306,
          "epsilon": 0.1,
          "step": 234
         },
         {
          "cum_reward": 157.3582,
          "epsilon": 0.1,
          "step": 235
         },
         {
          "cum_reward": 158.1874,
          "epsilon": 0.1,
          "step": 236
         },
         {
          "cum_reward": 159.007,
          "epsilon": 0.1,
          "step": 237
         },
         {
          "cum_reward": 159.8304,
          "epsilon": 0.1,
          "step": 238
         },
         {
          "cum_reward": 160.6608,
          "epsilon": 0.1,
          "step": 239
         },
         {
          "cum_reward": 161.4954,
          "epsilon": 0.1,
          "step": 240
         },
         {
          "cum_reward": 162.3304,
          "epsilon": 0.1,
          "step": 241
         },
         {
          "cum_reward": 163.1548,
          "epsilon": 0.1,
          "step": 242
         },
         {
          "cum_reward": 163.9784,
          "epsilon": 0.1,
          "step": 243
         },
         {
          "cum_reward": 164.8074,
          "epsilon": 0.1,
          "step": 244
         },
         {
          "cum_reward": 165.635,
          "epsilon": 0.1,
          "step": 245
         },
         {
          "cum_reward": 166.4704,
          "epsilon": 0.1,
          "step": 246
         },
         {
          "cum_reward": 167.2942,
          "epsilon": 0.1,
          "step": 247
         },
         {
          "cum_reward": 168.1292,
          "epsilon": 0.1,
          "step": 248
         },
         {
          "cum_reward": 168.9624,
          "epsilon": 0.1,
          "step": 249
         },
         {
          "cum_reward": 169.7834,
          "epsilon": 0.1,
          "step": 250
         },
         {
          "cum_reward": 0.1262,
          "epsilon": 0.2,
          "step": 1
         },
         {
          "cum_reward": 0.2772,
          "epsilon": 0.2,
          "step": 2
         },
         {
          "cum_reward": 0.4464,
          "epsilon": 0.2,
          "step": 3
         },
         {
          "cum_reward": 0.6424,
          "epsilon": 0.2,
          "step": 4
         },
         {
          "cum_reward": 0.8588,
          "epsilon": 0.2,
          "step": 5
         },
         {
          "cum_reward": 1.0906,
          "epsilon": 0.2,
          "step": 6
         },
         {
          "cum_reward": 1.3422,
          "epsilon": 0.2,
          "step": 7
         },
         {
          "cum_reward": 1.614,
          "epsilon": 0.2,
          "step": 8
         },
         {
          "cum_reward": 1.9094,
          "epsilon": 0.2,
          "step": 9
         },
         {
          "cum_reward": 2.2256,
          "epsilon": 0.2,
          "step": 10
         },
         {
          "cum_reward": 2.5534,
          "epsilon": 0.2,
          "step": 11
         },
         {
          "cum_reward": 2.8956,
          "epsilon": 0.2,
          "step": 12
         },
         {
          "cum_reward": 3.2502,
          "epsilon": 0.2,
          "step": 13
         },
         {
          "cum_reward": 3.621,
          "epsilon": 0.2,
          "step": 14
         },
         {
          "cum_reward": 4.0124,
          "epsilon": 0.2,
          "step": 15
         },
         {
          "cum_reward": 4.4116,
          "epsilon": 0.2,
          "step": 16
         },
         {
          "cum_reward": 4.8336,
          "epsilon": 0.2,
          "step": 17
         },
         {
          "cum_reward": 5.261,
          "epsilon": 0.2,
          "step": 18
         },
         {
          "cum_reward": 5.7046,
          "epsilon": 0.2,
          "step": 19
         },
         {
          "cum_reward": 6.165,
          "epsilon": 0.2,
          "step": 20
         },
         {
          "cum_reward": 6.6328,
          "epsilon": 0.2,
          "step": 21
         },
         {
          "cum_reward": 7.1136,
          "epsilon": 0.2,
          "step": 22
         },
         {
          "cum_reward": 7.5992,
          "epsilon": 0.2,
          "step": 23
         },
         {
          "cum_reward": 8.0984,
          "epsilon": 0.2,
          "step": 24
         },
         {
          "cum_reward": 8.6084,
          "epsilon": 0.2,
          "step": 25
         },
         {
          "cum_reward": 9.1252,
          "epsilon": 0.2,
          "step": 26
         },
         {
          "cum_reward": 9.654,
          "epsilon": 0.2,
          "step": 27
         },
         {
          "cum_reward": 10.1874,
          "epsilon": 0.2,
          "step": 28
         },
         {
          "cum_reward": 10.7316,
          "epsilon": 0.2,
          "step": 29
         },
         {
          "cum_reward": 11.2852,
          "epsilon": 0.2,
          "step": 30
         },
         {
          "cum_reward": 11.8422,
          "epsilon": 0.2,
          "step": 31
         },
         {
          "cum_reward": 12.4156,
          "epsilon": 0.2,
          "step": 32
         },
         {
          "cum_reward": 12.9932,
          "epsilon": 0.2,
          "step": 33
         },
         {
          "cum_reward": 13.5682,
          "epsilon": 0.2,
          "step": 34
         },
         {
          "cum_reward": 14.1634,
          "epsilon": 0.2,
          "step": 35
         },
         {
          "cum_reward": 14.765,
          "epsilon": 0.2,
          "step": 36
         },
         {
          "cum_reward": 15.3676,
          "epsilon": 0.2,
          "step": 37
         },
         {
          "cum_reward": 15.9734,
          "epsilon": 0.2,
          "step": 38
         },
         {
          "cum_reward": 16.5884,
          "epsilon": 0.2,
          "step": 39
         },
         {
          "cum_reward": 17.211,
          "epsilon": 0.2,
          "step": 40
         },
         {
          "cum_reward": 17.831,
          "epsilon": 0.2,
          "step": 41
         },
         {
          "cum_reward": 18.4748,
          "epsilon": 0.2,
          "step": 42
         },
         {
          "cum_reward": 19.1162,
          "epsilon": 0.2,
          "step": 43
         },
         {
          "cum_reward": 19.747,
          "epsilon": 0.2,
          "step": 44
         },
         {
          "cum_reward": 20.3868,
          "epsilon": 0.2,
          "step": 45
         },
         {
          "cum_reward": 21.0214,
          "epsilon": 0.2,
          "step": 46
         },
         {
          "cum_reward": 21.6734,
          "epsilon": 0.2,
          "step": 47
         },
         {
          "cum_reward": 22.3276,
          "epsilon": 0.2,
          "step": 48
         },
         {
          "cum_reward": 22.9894,
          "epsilon": 0.2,
          "step": 49
         },
         {
          "cum_reward": 23.6512,
          "epsilon": 0.2,
          "step": 50
         },
         {
          "cum_reward": 24.3092,
          "epsilon": 0.2,
          "step": 51
         },
         {
          "cum_reward": 24.9818,
          "epsilon": 0.2,
          "step": 52
         },
         {
          "cum_reward": 25.6548,
          "epsilon": 0.2,
          "step": 53
         },
         {
          "cum_reward": 26.3312,
          "epsilon": 0.2,
          "step": 54
         },
         {
          "cum_reward": 27.0034,
          "epsilon": 0.2,
          "step": 55
         },
         {
          "cum_reward": 27.6872,
          "epsilon": 0.2,
          "step": 56
         },
         {
          "cum_reward": 28.3626,
          "epsilon": 0.2,
          "step": 57
         },
         {
          "cum_reward": 29.0582,
          "epsilon": 0.2,
          "step": 58
         },
         {
          "cum_reward": 29.7498,
          "epsilon": 0.2,
          "step": 59
         },
         {
          "cum_reward": 30.4366,
          "epsilon": 0.2,
          "step": 60
         },
         {
          "cum_reward": 31.1346,
          "epsilon": 0.2,
          "step": 61
         },
         {
          "cum_reward": 31.8252,
          "epsilon": 0.2,
          "step": 62
         },
         {
          "cum_reward": 32.5304,
          "epsilon": 0.2,
          "step": 63
         },
         {
          "cum_reward": 33.2382,
          "epsilon": 0.2,
          "step": 64
         },
         {
          "cum_reward": 33.9456,
          "epsilon": 0.2,
          "step": 65
         },
         {
          "cum_reward": 34.655,
          "epsilon": 0.2,
          "step": 66
         },
         {
          "cum_reward": 35.3656,
          "epsilon": 0.2,
          "step": 67
         },
         {
          "cum_reward": 36.0854,
          "epsilon": 0.2,
          "step": 68
         },
         {
          "cum_reward": 36.7972,
          "epsilon": 0.2,
          "step": 69
         },
         {
          "cum_reward": 37.5144,
          "epsilon": 0.2,
          "step": 70
         },
         {
          "cum_reward": 38.2334,
          "epsilon": 0.2,
          "step": 71
         },
         {
          "cum_reward": 38.964,
          "epsilon": 0.2,
          "step": 72
         },
         {
          "cum_reward": 39.6802,
          "epsilon": 0.2,
          "step": 73
         },
         {
          "cum_reward": 40.3944,
          "epsilon": 0.2,
          "step": 74
         },
         {
          "cum_reward": 41.1078,
          "epsilon": 0.2,
          "step": 75
         },
         {
          "cum_reward": 41.8478,
          "epsilon": 0.2,
          "step": 76
         },
         {
          "cum_reward": 42.5682,
          "epsilon": 0.2,
          "step": 77
         },
         {
          "cum_reward": 43.2974,
          "epsilon": 0.2,
          "step": 78
         },
         {
          "cum_reward": 44.0392,
          "epsilon": 0.2,
          "step": 79
         },
         {
          "cum_reward": 44.7678,
          "epsilon": 0.2,
          "step": 80
         },
         {
          "cum_reward": 45.503,
          "epsilon": 0.2,
          "step": 81
         },
         {
          "cum_reward": 46.2416,
          "epsilon": 0.2,
          "step": 82
         },
         {
          "cum_reward": 46.9854,
          "epsilon": 0.2,
          "step": 83
         },
         {
          "cum_reward": 47.7218,
          "epsilon": 0.2,
          "step": 84
         },
         {
          "cum_reward": 48.4598,
          "epsilon": 0.2,
          "step": 85
         },
         {
          "cum_reward": 49.2056,
          "epsilon": 0.2,
          "step": 86
         },
         {
          "cum_reward": 49.9484,
          "epsilon": 0.2,
          "step": 87
         },
         {
          "cum_reward": 50.6948,
          "epsilon": 0.2,
          "step": 88
         },
         {
          "cum_reward": 51.4388,
          "epsilon": 0.2,
          "step": 89
         },
         {
          "cum_reward": 52.184,
          "epsilon": 0.2,
          "step": 90
         },
         {
          "cum_reward": 52.9362,
          "epsilon": 0.2,
          "step": 91
         },
         {
          "cum_reward": 53.682,
          "epsilon": 0.2,
          "step": 92
         },
         {
          "cum_reward": 54.4296,
          "epsilon": 0.2,
          "step": 93
         },
         {
          "cum_reward": 55.1778,
          "epsilon": 0.2,
          "step": 94
         },
         {
          "cum_reward": 55.9204,
          "epsilon": 0.2,
          "step": 95
         },
         {
          "cum_reward": 56.6766,
          "epsilon": 0.2,
          "step": 96
         },
         {
          "cum_reward": 57.4202,
          "epsilon": 0.2,
          "step": 97
         },
         {
          "cum_reward": 58.175,
          "epsilon": 0.2,
          "step": 98
         },
         {
          "cum_reward": 58.9252,
          "epsilon": 0.2,
          "step": 99
         },
         {
          "cum_reward": 59.6844,
          "epsilon": 0.2,
          "step": 100
         },
         {
          "cum_reward": 60.442,
          "epsilon": 0.2,
          "step": 101
         },
         {
          "cum_reward": 61.1952,
          "epsilon": 0.2,
          "step": 102
         },
         {
          "cum_reward": 61.9492,
          "epsilon": 0.2,
          "step": 103
         },
         {
          "cum_reward": 62.7086,
          "epsilon": 0.2,
          "step": 104
         },
         {
          "cum_reward": 63.4718,
          "epsilon": 0.2,
          "step": 105
         },
         {
          "cum_reward": 64.2246,
          "epsilon": 0.2,
          "step": 106
         },
         {
          "cum_reward": 64.9824,
          "epsilon": 0.2,
          "step": 107
         },
         {
          "cum_reward": 65.732,
          "epsilon": 0.2,
          "step": 108
         },
         {
          "cum_reward": 66.49,
          "epsilon": 0.2,
          "step": 109
         },
         {
          "cum_reward": 67.2498,
          "epsilon": 0.2,
          "step": 110
         },
         {
          "cum_reward": 68.0066,
          "epsilon": 0.2,
          "step": 111
         },
         {
          "cum_reward": 68.7698,
          "epsilon": 0.2,
          "step": 112
         },
         {
          "cum_reward": 69.541,
          "epsilon": 0.2,
          "step": 113
         },
         {
          "cum_reward": 70.2994,
          "epsilon": 0.2,
          "step": 114
         },
         {
          "cum_reward": 71.0542,
          "epsilon": 0.2,
          "step": 115
         },
         {
          "cum_reward": 71.8264,
          "epsilon": 0.2,
          "step": 116
         },
         {
          "cum_reward": 72.5836,
          "epsilon": 0.2,
          "step": 117
         },
         {
          "cum_reward": 73.3394,
          "epsilon": 0.2,
          "step": 118
         },
         {
          "cum_reward": 74.1004,
          "epsilon": 0.2,
          "step": 119
         },
         {
          "cum_reward": 74.8578,
          "epsilon": 0.2,
          "step": 120
         },
         {
          "cum_reward": 75.6308,
          "epsilon": 0.2,
          "step": 121
         },
         {
          "cum_reward": 76.3976,
          "epsilon": 0.2,
          "step": 122
         },
         {
          "cum_reward": 77.1654,
          "epsilon": 0.2,
          "step": 123
         },
         {
          "cum_reward": 77.9266,
          "epsilon": 0.2,
          "step": 124
         },
         {
          "cum_reward": 78.691,
          "epsilon": 0.2,
          "step": 125
         },
         {
          "cum_reward": 79.4594,
          "epsilon": 0.2,
          "step": 126
         },
         {
          "cum_reward": 80.2224,
          "epsilon": 0.2,
          "step": 127
         },
         {
          "cum_reward": 80.9922,
          "epsilon": 0.2,
          "step": 128
         },
         {
          "cum_reward": 81.7576,
          "epsilon": 0.2,
          "step": 129
         },
         {
          "cum_reward": 82.5236,
          "epsilon": 0.2,
          "step": 130
         },
         {
          "cum_reward": 83.2862,
          "epsilon": 0.2,
          "step": 131
         },
         {
          "cum_reward": 84.0572,
          "epsilon": 0.2,
          "step": 132
         },
         {
          "cum_reward": 84.8224,
          "epsilon": 0.2,
          "step": 133
         },
         {
          "cum_reward": 85.5894,
          "epsilon": 0.2,
          "step": 134
         },
         {
          "cum_reward": 86.353,
          "epsilon": 0.2,
          "step": 135
         },
         {
          "cum_reward": 87.115,
          "epsilon": 0.2,
          "step": 136
         },
         {
          "cum_reward": 87.8818,
          "epsilon": 0.2,
          "step": 137
         },
         {
          "cum_reward": 88.6524,
          "epsilon": 0.2,
          "step": 138
         },
         {
          "cum_reward": 89.426,
          "epsilon": 0.2,
          "step": 139
         },
         {
          "cum_reward": 90.1862,
          "epsilon": 0.2,
          "step": 140
         },
         {
          "cum_reward": 90.9582,
          "epsilon": 0.2,
          "step": 141
         },
         {
          "cum_reward": 91.7216,
          "epsilon": 0.2,
          "step": 142
         },
         {
          "cum_reward": 92.4902,
          "epsilon": 0.2,
          "step": 143
         },
         {
          "cum_reward": 93.2604,
          "epsilon": 0.2,
          "step": 144
         },
         {
          "cum_reward": 94.0406,
          "epsilon": 0.2,
          "step": 145
         },
         {
          "cum_reward": 94.8172,
          "epsilon": 0.2,
          "step": 146
         },
         {
          "cum_reward": 95.5862,
          "epsilon": 0.2,
          "step": 147
         },
         {
          "cum_reward": 96.3642,
          "epsilon": 0.2,
          "step": 148
         },
         {
          "cum_reward": 97.1396,
          "epsilon": 0.2,
          "step": 149
         },
         {
          "cum_reward": 97.9068,
          "epsilon": 0.2,
          "step": 150
         },
         {
          "cum_reward": 98.6842,
          "epsilon": 0.2,
          "step": 151
         },
         {
          "cum_reward": 99.4584,
          "epsilon": 0.2,
          "step": 152
         },
         {
          "cum_reward": 100.2258,
          "epsilon": 0.2,
          "step": 153
         },
         {
          "cum_reward": 101,
          "epsilon": 0.2,
          "step": 154
         },
         {
          "cum_reward": 101.7746,
          "epsilon": 0.2,
          "step": 155
         },
         {
          "cum_reward": 102.5488,
          "epsilon": 0.2,
          "step": 156
         },
         {
          "cum_reward": 103.3228,
          "epsilon": 0.2,
          "step": 157
         },
         {
          "cum_reward": 104.089,
          "epsilon": 0.2,
          "step": 158
         },
         {
          "cum_reward": 104.863,
          "epsilon": 0.2,
          "step": 159
         },
         {
          "cum_reward": 105.6428,
          "epsilon": 0.2,
          "step": 160
         },
         {
          "cum_reward": 106.4288,
          "epsilon": 0.2,
          "step": 161
         },
         {
          "cum_reward": 107.1948,
          "epsilon": 0.2,
          "step": 162
         },
         {
          "cum_reward": 107.9688,
          "epsilon": 0.2,
          "step": 163
         },
         {
          "cum_reward": 108.739,
          "epsilon": 0.2,
          "step": 164
         },
         {
          "cum_reward": 109.5058,
          "epsilon": 0.2,
          "step": 165
         },
         {
          "cum_reward": 110.2654,
          "epsilon": 0.2,
          "step": 166
         },
         {
          "cum_reward": 111.0462,
          "epsilon": 0.2,
          "step": 167
         },
         {
          "cum_reward": 111.8124,
          "epsilon": 0.2,
          "step": 168
         },
         {
          "cum_reward": 112.586,
          "epsilon": 0.2,
          "step": 169
         },
         {
          "cum_reward": 113.351,
          "epsilon": 0.2,
          "step": 170
         },
         {
          "cum_reward": 114.1222,
          "epsilon": 0.2,
          "step": 171
         },
         {
          "cum_reward": 114.8924,
          "epsilon": 0.2,
          "step": 172
         },
         {
          "cum_reward": 115.6652,
          "epsilon": 0.2,
          "step": 173
         },
         {
          "cum_reward": 116.443,
          "epsilon": 0.2,
          "step": 174
         },
         {
          "cum_reward": 117.2046,
          "epsilon": 0.2,
          "step": 175
         },
         {
          "cum_reward": 117.9688,
          "epsilon": 0.2,
          "step": 176
         },
         {
          "cum_reward": 118.7366,
          "epsilon": 0.2,
          "step": 177
         },
         {
          "cum_reward": 119.5094,
          "epsilon": 0.2,
          "step": 178
         },
         {
          "cum_reward": 120.2804,
          "epsilon": 0.2,
          "step": 179
         },
         {
          "cum_reward": 121.0592,
          "epsilon": 0.2,
          "step": 180
         },
         {
          "cum_reward": 121.8242,
          "epsilon": 0.2,
          "step": 181
         },
         {
          "cum_reward": 122.6036,
          "epsilon": 0.2,
          "step": 182
         },
         {
          "cum_reward": 123.37,
          "epsilon": 0.2,
          "step": 183
         },
         {
          "cum_reward": 124.1494,
          "epsilon": 0.2,
          "step": 184
         },
         {
          "cum_reward": 124.922,
          "epsilon": 0.2,
          "step": 185
         },
         {
          "cum_reward": 125.6862,
          "epsilon": 0.2,
          "step": 186
         },
         {
          "cum_reward": 126.4584,
          "epsilon": 0.2,
          "step": 187
         },
         {
          "cum_reward": 127.231,
          "epsilon": 0.2,
          "step": 188
         },
         {
          "cum_reward": 128.0068,
          "epsilon": 0.2,
          "step": 189
         },
         {
          "cum_reward": 128.7836,
          "epsilon": 0.2,
          "step": 190
         },
         {
          "cum_reward": 129.5482,
          "epsilon": 0.2,
          "step": 191
         },
         {
          "cum_reward": 130.3204,
          "epsilon": 0.2,
          "step": 192
         },
         {
          "cum_reward": 131.0948,
          "epsilon": 0.2,
          "step": 193
         },
         {
          "cum_reward": 131.8566,
          "epsilon": 0.2,
          "step": 194
         },
         {
          "cum_reward": 132.635,
          "epsilon": 0.2,
          "step": 195
         },
         {
          "cum_reward": 133.398,
          "epsilon": 0.2,
          "step": 196
         },
         {
          "cum_reward": 134.1618,
          "epsilon": 0.2,
          "step": 197
         },
         {
          "cum_reward": 134.9344,
          "epsilon": 0.2,
          "step": 198
         },
         {
          "cum_reward": 135.7144,
          "epsilon": 0.2,
          "step": 199
         },
         {
          "cum_reward": 136.4854,
          "epsilon": 0.2,
          "step": 200
         },
         {
          "cum_reward": 137.2554,
          "epsilon": 0.2,
          "step": 201
         },
         {
          "cum_reward": 138.0222,
          "epsilon": 0.2,
          "step": 202
         },
         {
          "cum_reward": 138.7976,
          "epsilon": 0.2,
          "step": 203
         },
         {
          "cum_reward": 139.5654,
          "epsilon": 0.2,
          "step": 204
         },
         {
          "cum_reward": 140.3452,
          "epsilon": 0.2,
          "step": 205
         },
         {
          "cum_reward": 141.1166,
          "epsilon": 0.2,
          "step": 206
         },
         {
          "cum_reward": 141.8932,
          "epsilon": 0.2,
          "step": 207
         },
         {
          "cum_reward": 142.668,
          "epsilon": 0.2,
          "step": 208
         },
         {
          "cum_reward": 143.4412,
          "epsilon": 0.2,
          "step": 209
         },
         {
          "cum_reward": 144.2194,
          "epsilon": 0.2,
          "step": 210
         },
         {
          "cum_reward": 144.9962,
          "epsilon": 0.2,
          "step": 211
         },
         {
          "cum_reward": 145.7588,
          "epsilon": 0.2,
          "step": 212
         },
         {
          "cum_reward": 146.5246,
          "epsilon": 0.2,
          "step": 213
         },
         {
          "cum_reward": 147.2834,
          "epsilon": 0.2,
          "step": 214
         },
         {
          "cum_reward": 148.0512,
          "epsilon": 0.2,
          "step": 215
         },
         {
          "cum_reward": 148.8324,
          "epsilon": 0.2,
          "step": 216
         },
         {
          "cum_reward": 149.607,
          "epsilon": 0.2,
          "step": 217
         },
         {
          "cum_reward": 150.375,
          "epsilon": 0.2,
          "step": 218
         },
         {
          "cum_reward": 151.141,
          "epsilon": 0.2,
          "step": 219
         },
         {
          "cum_reward": 151.9136,
          "epsilon": 0.2,
          "step": 220
         },
         {
          "cum_reward": 152.6934,
          "epsilon": 0.2,
          "step": 221
         },
         {
          "cum_reward": 153.4636,
          "epsilon": 0.2,
          "step": 222
         },
         {
          "cum_reward": 154.2312,
          "epsilon": 0.2,
          "step": 223
         },
         {
          "cum_reward": 155.004,
          "epsilon": 0.2,
          "step": 224
         },
         {
          "cum_reward": 155.7748,
          "epsilon": 0.2,
          "step": 225
         },
         {
          "cum_reward": 156.556,
          "epsilon": 0.2,
          "step": 226
         },
         {
          "cum_reward": 157.3338,
          "epsilon": 0.2,
          "step": 227
         },
         {
          "cum_reward": 158.1008,
          "epsilon": 0.2,
          "step": 228
         },
         {
          "cum_reward": 158.8738,
          "epsilon": 0.2,
          "step": 229
         },
         {
          "cum_reward": 159.6544,
          "epsilon": 0.2,
          "step": 230
         },
         {
          "cum_reward": 160.43,
          "epsilon": 0.2,
          "step": 231
         },
         {
          "cum_reward": 161.196,
          "epsilon": 0.2,
          "step": 232
         },
         {
          "cum_reward": 161.9656,
          "epsilon": 0.2,
          "step": 233
         },
         {
          "cum_reward": 162.746,
          "epsilon": 0.2,
          "step": 234
         },
         {
          "cum_reward": 163.5208,
          "epsilon": 0.2,
          "step": 235
         },
         {
          "cum_reward": 164.2964,
          "epsilon": 0.2,
          "step": 236
         },
         {
          "cum_reward": 165.0654,
          "epsilon": 0.2,
          "step": 237
         },
         {
          "cum_reward": 165.8398,
          "epsilon": 0.2,
          "step": 238
         },
         {
          "cum_reward": 166.611,
          "epsilon": 0.2,
          "step": 239
         },
         {
          "cum_reward": 167.382,
          "epsilon": 0.2,
          "step": 240
         },
         {
          "cum_reward": 168.1502,
          "epsilon": 0.2,
          "step": 241
         },
         {
          "cum_reward": 168.9248,
          "epsilon": 0.2,
          "step": 242
         },
         {
          "cum_reward": 169.6956,
          "epsilon": 0.2,
          "step": 243
         },
         {
          "cum_reward": 170.4572,
          "epsilon": 0.2,
          "step": 244
         },
         {
          "cum_reward": 171.2236,
          "epsilon": 0.2,
          "step": 245
         },
         {
          "cum_reward": 171.9832,
          "epsilon": 0.2,
          "step": 246
         },
         {
          "cum_reward": 172.7444,
          "epsilon": 0.2,
          "step": 247
         },
         {
          "cum_reward": 173.5228,
          "epsilon": 0.2,
          "step": 248
         },
         {
          "cum_reward": 174.2948,
          "epsilon": 0.2,
          "step": 249
         },
         {
          "cum_reward": 175.0638,
          "epsilon": 0.2,
          "step": 250
         },
         {
          "cum_reward": 0.1496,
          "epsilon": 0.3,
          "step": 1
         },
         {
          "cum_reward": 0.3312,
          "epsilon": 0.3,
          "step": 2
         },
         {
          "cum_reward": 0.524,
          "epsilon": 0.3,
          "step": 3
         },
         {
          "cum_reward": 0.7464,
          "epsilon": 0.3,
          "step": 4
         },
         {
          "cum_reward": 0.995,
          "epsilon": 0.3,
          "step": 5
         },
         {
          "cum_reward": 1.2702,
          "epsilon": 0.3,
          "step": 6
         },
         {
          "cum_reward": 1.5748,
          "epsilon": 0.3,
          "step": 7
         },
         {
          "cum_reward": 1.8934,
          "epsilon": 0.3,
          "step": 8
         },
         {
          "cum_reward": 2.2382,
          "epsilon": 0.3,
          "step": 9
         },
         {
          "cum_reward": 2.6026,
          "epsilon": 0.3,
          "step": 10
         },
         {
          "cum_reward": 2.9944,
          "epsilon": 0.3,
          "step": 11
         },
         {
          "cum_reward": 3.3924,
          "epsilon": 0.3,
          "step": 12
         },
         {
          "cum_reward": 3.8024,
          "epsilon": 0.3,
          "step": 13
         },
         {
          "cum_reward": 4.2316,
          "epsilon": 0.3,
          "step": 14
         },
         {
          "cum_reward": 4.681,
          "epsilon": 0.3,
          "step": 15
         },
         {
          "cum_reward": 5.1388,
          "epsilon": 0.3,
          "step": 16
         },
         {
          "cum_reward": 5.614,
          "epsilon": 0.3,
          "step": 17
         },
         {
          "cum_reward": 6.0962,
          "epsilon": 0.3,
          "step": 18
         },
         {
          "cum_reward": 6.5842,
          "epsilon": 0.3,
          "step": 19
         },
         {
          "cum_reward": 7.0944,
          "epsilon": 0.3,
          "step": 20
         },
         {
          "cum_reward": 7.6112,
          "epsilon": 0.3,
          "step": 21
         },
         {
          "cum_reward": 8.1412,
          "epsilon": 0.3,
          "step": 22
         },
         {
          "cum_reward": 8.6796,
          "epsilon": 0.3,
          "step": 23
         },
         {
          "cum_reward": 9.2292,
          "epsilon": 0.3,
          "step": 24
         },
         {
          "cum_reward": 9.7962,
          "epsilon": 0.3,
          "step": 25
         },
         {
          "cum_reward": 10.359,
          "epsilon": 0.3,
          "step": 26
         },
         {
          "cum_reward": 10.9384,
          "epsilon": 0.3,
          "step": 27
         },
         {
          "cum_reward": 11.5202,
          "epsilon": 0.3,
          "step": 28
         },
         {
          "cum_reward": 12.1058,
          "epsilon": 0.3,
          "step": 29
         },
         {
          "cum_reward": 12.6906,
          "epsilon": 0.3,
          "step": 30
         },
         {
          "cum_reward": 13.2868,
          "epsilon": 0.3,
          "step": 31
         },
         {
          "cum_reward": 13.8944,
          "epsilon": 0.3,
          "step": 32
         },
         {
          "cum_reward": 14.5098,
          "epsilon": 0.3,
          "step": 33
         },
         {
          "cum_reward": 15.1212,
          "epsilon": 0.3,
          "step": 34
         },
         {
          "cum_reward": 15.7362,
          "epsilon": 0.3,
          "step": 35
         },
         {
          "cum_reward": 16.3636,
          "epsilon": 0.3,
          "step": 36
         },
         {
          "cum_reward": 16.9968,
          "epsilon": 0.3,
          "step": 37
         },
         {
          "cum_reward": 17.6312,
          "epsilon": 0.3,
          "step": 38
         },
         {
          "cum_reward": 18.2644,
          "epsilon": 0.3,
          "step": 39
         },
         {
          "cum_reward": 18.901,
          "epsilon": 0.3,
          "step": 40
         },
         {
          "cum_reward": 19.55,
          "epsilon": 0.3,
          "step": 41
         },
         {
          "cum_reward": 20.2028,
          "epsilon": 0.3,
          "step": 42
         },
         {
          "cum_reward": 20.8648,
          "epsilon": 0.3,
          "step": 43
         },
         {
          "cum_reward": 21.5298,
          "epsilon": 0.3,
          "step": 44
         },
         {
          "cum_reward": 22.1882,
          "epsilon": 0.3,
          "step": 45
         },
         {
          "cum_reward": 22.8526,
          "epsilon": 0.3,
          "step": 46
         },
         {
          "cum_reward": 23.508,
          "epsilon": 0.3,
          "step": 47
         },
         {
          "cum_reward": 24.1814,
          "epsilon": 0.3,
          "step": 48
         },
         {
          "cum_reward": 24.8488,
          "epsilon": 0.3,
          "step": 49
         },
         {
          "cum_reward": 25.5216,
          "epsilon": 0.3,
          "step": 50
         },
         {
          "cum_reward": 26.179,
          "epsilon": 0.3,
          "step": 51
         },
         {
          "cum_reward": 26.8598,
          "epsilon": 0.3,
          "step": 52
         },
         {
          "cum_reward": 27.5326,
          "epsilon": 0.3,
          "step": 53
         },
         {
          "cum_reward": 28.214,
          "epsilon": 0.3,
          "step": 54
         },
         {
          "cum_reward": 28.8812,
          "epsilon": 0.3,
          "step": 55
         },
         {
          "cum_reward": 29.5574,
          "epsilon": 0.3,
          "step": 56
         },
         {
          "cum_reward": 30.2392,
          "epsilon": 0.3,
          "step": 57
         },
         {
          "cum_reward": 30.93,
          "epsilon": 0.3,
          "step": 58
         },
         {
          "cum_reward": 31.6064,
          "epsilon": 0.3,
          "step": 59
         },
         {
          "cum_reward": 32.302,
          "epsilon": 0.3,
          "step": 60
         },
         {
          "cum_reward": 32.9832,
          "epsilon": 0.3,
          "step": 61
         },
         {
          "cum_reward": 33.6706,
          "epsilon": 0.3,
          "step": 62
         },
         {
          "cum_reward": 34.3444,
          "epsilon": 0.3,
          "step": 63
         },
         {
          "cum_reward": 35.0474,
          "epsilon": 0.3,
          "step": 64
         },
         {
          "cum_reward": 35.7398,
          "epsilon": 0.3,
          "step": 65
         },
         {
          "cum_reward": 36.4334,
          "epsilon": 0.3,
          "step": 66
         },
         {
          "cum_reward": 37.1376,
          "epsilon": 0.3,
          "step": 67
         },
         {
          "cum_reward": 37.8338,
          "epsilon": 0.3,
          "step": 68
         },
         {
          "cum_reward": 38.5312,
          "epsilon": 0.3,
          "step": 69
         },
         {
          "cum_reward": 39.2342,
          "epsilon": 0.3,
          "step": 70
         },
         {
          "cum_reward": 39.9386,
          "epsilon": 0.3,
          "step": 71
         },
         {
          "cum_reward": 40.6366,
          "epsilon": 0.3,
          "step": 72
         },
         {
          "cum_reward": 41.3388,
          "epsilon": 0.3,
          "step": 73
         },
         {
          "cum_reward": 42.0414,
          "epsilon": 0.3,
          "step": 74
         },
         {
          "cum_reward": 42.7344,
          "epsilon": 0.3,
          "step": 75
         },
         {
          "cum_reward": 43.4334,
          "epsilon": 0.3,
          "step": 76
         },
         {
          "cum_reward": 44.1372,
          "epsilon": 0.3,
          "step": 77
         },
         {
          "cum_reward": 44.8444,
          "epsilon": 0.3,
          "step": 78
         },
         {
          "cum_reward": 45.5368,
          "epsilon": 0.3,
          "step": 79
         },
         {
          "cum_reward": 46.2306,
          "epsilon": 0.3,
          "step": 80
         },
         {
          "cum_reward": 46.9366,
          "epsilon": 0.3,
          "step": 81
         },
         {
          "cum_reward": 47.6476,
          "epsilon": 0.3,
          "step": 82
         },
         {
          "cum_reward": 48.3456,
          "epsilon": 0.3,
          "step": 83
         },
         {
          "cum_reward": 49.0634,
          "epsilon": 0.3,
          "step": 84
         },
         {
          "cum_reward": 49.7588,
          "epsilon": 0.3,
          "step": 85
         },
         {
          "cum_reward": 50.4654,
          "epsilon": 0.3,
          "step": 86
         },
         {
          "cum_reward": 51.1674,
          "epsilon": 0.3,
          "step": 87
         },
         {
          "cum_reward": 51.87,
          "epsilon": 0.3,
          "step": 88
         },
         {
          "cum_reward": 52.5594,
          "epsilon": 0.3,
          "step": 89
         },
         {
          "cum_reward": 53.2636,
          "epsilon": 0.3,
          "step": 90
         },
         {
          "cum_reward": 53.97,
          "epsilon": 0.3,
          "step": 91
         },
         {
          "cum_reward": 54.6832,
          "epsilon": 0.3,
          "step": 92
         },
         {
          "cum_reward": 55.3802,
          "epsilon": 0.3,
          "step": 93
         },
         {
          "cum_reward": 56.0918,
          "epsilon": 0.3,
          "step": 94
         },
         {
          "cum_reward": 56.8006,
          "epsilon": 0.3,
          "step": 95
         },
         {
          "cum_reward": 57.501,
          "epsilon": 0.3,
          "step": 96
         },
         {
          "cum_reward": 58.2042,
          "epsilon": 0.3,
          "step": 97
         },
         {
          "cum_reward": 58.9118,
          "epsilon": 0.3,
          "step": 98
         },
         {
          "cum_reward": 59.615,
          "epsilon": 0.3,
          "step": 99
         },
         {
          "cum_reward": 60.3244,
          "epsilon": 0.3,
          "step": 100
         },
         {
          "cum_reward": 61.0254,
          "epsilon": 0.3,
          "step": 101
         },
         {
          "cum_reward": 61.7326,
          "epsilon": 0.3,
          "step": 102
         },
         {
          "cum_reward": 62.4436,
          "epsilon": 0.3,
          "step": 103
         },
         {
          "cum_reward": 63.1336,
          "epsilon": 0.3,
          "step": 104
         },
         {
          "cum_reward": 63.828,
          "epsilon": 0.3,
          "step": 105
         },
         {
          "cum_reward": 64.5288,
          "epsilon": 0.3,
          "step": 106
         },
         {
          "cum_reward": 65.2352,
          "epsilon": 0.3,
          "step": 107
         },
         {
          "cum_reward": 65.9486,
          "epsilon": 0.3,
          "step": 108
         },
         {
          "cum_reward": 66.6524,
          "epsilon": 0.3,
          "step": 109
         },
         {
          "cum_reward": 67.3614,
          "epsilon": 0.3,
          "step": 110
         },
         {
          "cum_reward": 68.0756,
          "epsilon": 0.3,
          "step": 111
         },
         {
          "cum_reward": 68.7834,
          "epsilon": 0.3,
          "step": 112
         },
         {
          "cum_reward": 69.4888,
          "epsilon": 0.3,
          "step": 113
         },
         {
          "cum_reward": 70.1978,
          "epsilon": 0.3,
          "step": 114
         },
         {
          "cum_reward": 70.908,
          "epsilon": 0.3,
          "step": 115
         },
         {
          "cum_reward": 71.6142,
          "epsilon": 0.3,
          "step": 116
         },
         {
          "cum_reward": 72.3266,
          "epsilon": 0.3,
          "step": 117
         },
         {
          "cum_reward": 73.0422,
          "epsilon": 0.3,
          "step": 118
         },
         {
          "cum_reward": 73.7606,
          "epsilon": 0.3,
          "step": 119
         },
         {
          "cum_reward": 74.477,
          "epsilon": 0.3,
          "step": 120
         },
         {
          "cum_reward": 75.1758,
          "epsilon": 0.3,
          "step": 121
         },
         {
          "cum_reward": 75.8922,
          "epsilon": 0.3,
          "step": 122
         },
         {
          "cum_reward": 76.583,
          "epsilon": 0.3,
          "step": 123
         },
         {
          "cum_reward": 77.296,
          "epsilon": 0.3,
          "step": 124
         },
         {
          "cum_reward": 78.0084,
          "epsilon": 0.3,
          "step": 125
         },
         {
          "cum_reward": 78.7192,
          "epsilon": 0.3,
          "step": 126
         },
         {
          "cum_reward": 79.4286,
          "epsilon": 0.3,
          "step": 127
         },
         {
          "cum_reward": 80.1408,
          "epsilon": 0.3,
          "step": 128
         },
         {
          "cum_reward": 80.8444,
          "epsilon": 0.3,
          "step": 129
         },
         {
          "cum_reward": 81.5546,
          "epsilon": 0.3,
          "step": 130
         },
         {
          "cum_reward": 82.2594,
          "epsilon": 0.3,
          "step": 131
         },
         {
          "cum_reward": 82.9738,
          "epsilon": 0.3,
          "step": 132
         },
         {
          "cum_reward": 83.6814,
          "epsilon": 0.3,
          "step": 133
         },
         {
          "cum_reward": 84.402,
          "epsilon": 0.3,
          "step": 134
         },
         {
          "cum_reward": 85.1088,
          "epsilon": 0.3,
          "step": 135
         },
         {
          "cum_reward": 85.817,
          "epsilon": 0.3,
          "step": 136
         },
         {
          "cum_reward": 86.52,
          "epsilon": 0.3,
          "step": 137
         },
         {
          "cum_reward": 87.2134,
          "epsilon": 0.3,
          "step": 138
         },
         {
          "cum_reward": 87.9188,
          "epsilon": 0.3,
          "step": 139
         },
         {
          "cum_reward": 88.6298,
          "epsilon": 0.3,
          "step": 140
         },
         {
          "cum_reward": 89.3264,
          "epsilon": 0.3,
          "step": 141
         },
         {
          "cum_reward": 90.0348,
          "epsilon": 0.3,
          "step": 142
         },
         {
          "cum_reward": 90.7464,
          "epsilon": 0.3,
          "step": 143
         },
         {
          "cum_reward": 91.4596,
          "epsilon": 0.3,
          "step": 144
         },
         {
          "cum_reward": 92.1718,
          "epsilon": 0.3,
          "step": 145
         },
         {
          "cum_reward": 92.8724,
          "epsilon": 0.3,
          "step": 146
         },
         {
          "cum_reward": 93.5724,
          "epsilon": 0.3,
          "step": 147
         },
         {
          "cum_reward": 94.2698,
          "epsilon": 0.3,
          "step": 148
         },
         {
          "cum_reward": 94.9854,
          "epsilon": 0.3,
          "step": 149
         },
         {
          "cum_reward": 95.6918,
          "epsilon": 0.3,
          "step": 150
         },
         {
          "cum_reward": 96.4094,
          "epsilon": 0.3,
          "step": 151
         },
         {
          "cum_reward": 97.1082,
          "epsilon": 0.3,
          "step": 152
         },
         {
          "cum_reward": 97.8138,
          "epsilon": 0.3,
          "step": 153
         },
         {
          "cum_reward": 98.5248,
          "epsilon": 0.3,
          "step": 154
         },
         {
          "cum_reward": 99.242,
          "epsilon": 0.3,
          "step": 155
         },
         {
          "cum_reward": 99.9456,
          "epsilon": 0.3,
          "step": 156
         },
         {
          "cum_reward": 100.6566,
          "epsilon": 0.3,
          "step": 157
         },
         {
          "cum_reward": 101.3684,
          "epsilon": 0.3,
          "step": 158
         },
         {
          "cum_reward": 102.083,
          "epsilon": 0.3,
          "step": 159
         },
         {
          "cum_reward": 102.7914,
          "epsilon": 0.3,
          "step": 160
         },
         {
          "cum_reward": 103.5148,
          "epsilon": 0.3,
          "step": 161
         },
         {
          "cum_reward": 104.2316,
          "epsilon": 0.3,
          "step": 162
         },
         {
          "cum_reward": 104.9296,
          "epsilon": 0.3,
          "step": 163
         },
         {
          "cum_reward": 105.641,
          "epsilon": 0.3,
          "step": 164
         },
         {
          "cum_reward": 106.3406,
          "epsilon": 0.3,
          "step": 165
         },
         {
          "cum_reward": 107.0606,
          "epsilon": 0.3,
          "step": 166
         },
         {
          "cum_reward": 107.7692,
          "epsilon": 0.3,
          "step": 167
         },
         {
          "cum_reward": 108.4842,
          "epsilon": 0.3,
          "step": 168
         },
         {
          "cum_reward": 109.1864,
          "epsilon": 0.3,
          "step": 169
         },
         {
          "cum_reward": 109.8862,
          "epsilon": 0.3,
          "step": 170
         },
         {
          "cum_reward": 110.5878,
          "epsilon": 0.3,
          "step": 171
         },
         {
          "cum_reward": 111.301,
          "epsilon": 0.3,
          "step": 172
         },
         {
          "cum_reward": 112.0162,
          "epsilon": 0.3,
          "step": 173
         },
         {
          "cum_reward": 112.7198,
          "epsilon": 0.3,
          "step": 174
         },
         {
          "cum_reward": 113.4358,
          "epsilon": 0.3,
          "step": 175
         },
         {
          "cum_reward": 114.149,
          "epsilon": 0.3,
          "step": 176
         },
         {
          "cum_reward": 114.8596,
          "epsilon": 0.3,
          "step": 177
         },
         {
          "cum_reward": 115.565,
          "epsilon": 0.3,
          "step": 178
         },
         {
          "cum_reward": 116.2786,
          "epsilon": 0.3,
          "step": 179
         },
         {
          "cum_reward": 116.9804,
          "epsilon": 0.3,
          "step": 180
         },
         {
          "cum_reward": 117.6914,
          "epsilon": 0.3,
          "step": 181
         },
         {
          "cum_reward": 118.397,
          "epsilon": 0.3,
          "step": 182
         },
         {
          "cum_reward": 119.1054,
          "epsilon": 0.3,
          "step": 183
         },
         {
          "cum_reward": 119.8096,
          "epsilon": 0.3,
          "step": 184
         },
         {
          "cum_reward": 120.5214,
          "epsilon": 0.3,
          "step": 185
         },
         {
          "cum_reward": 121.2316,
          "epsilon": 0.3,
          "step": 186
         },
         {
          "cum_reward": 121.9464,
          "epsilon": 0.3,
          "step": 187
         },
         {
          "cum_reward": 122.6542,
          "epsilon": 0.3,
          "step": 188
         },
         {
          "cum_reward": 123.3708,
          "epsilon": 0.3,
          "step": 189
         },
         {
          "cum_reward": 124.083,
          "epsilon": 0.3,
          "step": 190
         },
         {
          "cum_reward": 124.7902,
          "epsilon": 0.3,
          "step": 191
         },
         {
          "cum_reward": 125.5044,
          "epsilon": 0.3,
          "step": 192
         },
         {
          "cum_reward": 126.2094,
          "epsilon": 0.3,
          "step": 193
         },
         {
          "cum_reward": 126.9042,
          "epsilon": 0.3,
          "step": 194
         },
         {
          "cum_reward": 127.6118,
          "epsilon": 0.3,
          "step": 195
         },
         {
          "cum_reward": 128.3194,
          "epsilon": 0.3,
          "step": 196
         },
         {
          "cum_reward": 129.0346,
          "epsilon": 0.3,
          "step": 197
         },
         {
          "cum_reward": 129.7474,
          "epsilon": 0.3,
          "step": 198
         },
         {
          "cum_reward": 130.4436,
          "epsilon": 0.3,
          "step": 199
         },
         {
          "cum_reward": 131.1532,
          "epsilon": 0.3,
          "step": 200
         },
         {
          "cum_reward": 131.872,
          "epsilon": 0.3,
          "step": 201
         },
         {
          "cum_reward": 132.57,
          "epsilon": 0.3,
          "step": 202
         },
         {
          "cum_reward": 133.2854,
          "epsilon": 0.3,
          "step": 203
         },
         {
          "cum_reward": 133.9966,
          "epsilon": 0.3,
          "step": 204
         },
         {
          "cum_reward": 134.704,
          "epsilon": 0.3,
          "step": 205
         },
         {
          "cum_reward": 135.4106,
          "epsilon": 0.3,
          "step": 206
         },
         {
          "cum_reward": 136.1226,
          "epsilon": 0.3,
          "step": 207
         },
         {
          "cum_reward": 136.8314,
          "epsilon": 0.3,
          "step": 208
         },
         {
          "cum_reward": 137.544,
          "epsilon": 0.3,
          "step": 209
         },
         {
          "cum_reward": 138.2482,
          "epsilon": 0.3,
          "step": 210
         },
         {
          "cum_reward": 138.9566,
          "epsilon": 0.3,
          "step": 211
         },
         {
          "cum_reward": 139.6598,
          "epsilon": 0.3,
          "step": 212
         },
         {
          "cum_reward": 140.3852,
          "epsilon": 0.3,
          "step": 213
         },
         {
          "cum_reward": 141.1024,
          "epsilon": 0.3,
          "step": 214
         },
         {
          "cum_reward": 141.8074,
          "epsilon": 0.3,
          "step": 215
         },
         {
          "cum_reward": 142.504,
          "epsilon": 0.3,
          "step": 216
         },
         {
          "cum_reward": 143.205,
          "epsilon": 0.3,
          "step": 217
         },
         {
          "cum_reward": 143.9054,
          "epsilon": 0.3,
          "step": 218
         },
         {
          "cum_reward": 144.6198,
          "epsilon": 0.3,
          "step": 219
         },
         {
          "cum_reward": 145.3244,
          "epsilon": 0.3,
          "step": 220
         },
         {
          "cum_reward": 146.035,
          "epsilon": 0.3,
          "step": 221
         },
         {
          "cum_reward": 146.7428,
          "epsilon": 0.3,
          "step": 222
         },
         {
          "cum_reward": 147.4442,
          "epsilon": 0.3,
          "step": 223
         },
         {
          "cum_reward": 148.1476,
          "epsilon": 0.3,
          "step": 224
         },
         {
          "cum_reward": 148.8638,
          "epsilon": 0.3,
          "step": 225
         },
         {
          "cum_reward": 149.5706,
          "epsilon": 0.3,
          "step": 226
         },
         {
          "cum_reward": 150.2792,
          "epsilon": 0.3,
          "step": 227
         },
         {
          "cum_reward": 150.9784,
          "epsilon": 0.3,
          "step": 228
         },
         {
          "cum_reward": 151.6892,
          "epsilon": 0.3,
          "step": 229
         },
         {
          "cum_reward": 152.3968,
          "epsilon": 0.3,
          "step": 230
         },
         {
          "cum_reward": 153.1018,
          "epsilon": 0.3,
          "step": 231
         },
         {
          "cum_reward": 153.8064,
          "epsilon": 0.3,
          "step": 232
         },
         {
          "cum_reward": 154.5138,
          "epsilon": 0.3,
          "step": 233
         },
         {
          "cum_reward": 155.223,
          "epsilon": 0.3,
          "step": 234
         },
         {
          "cum_reward": 155.9296,
          "epsilon": 0.3,
          "step": 235
         },
         {
          "cum_reward": 156.6236,
          "epsilon": 0.3,
          "step": 236
         },
         {
          "cum_reward": 157.3304,
          "epsilon": 0.3,
          "step": 237
         },
         {
          "cum_reward": 158.0408,
          "epsilon": 0.3,
          "step": 238
         },
         {
          "cum_reward": 158.7572,
          "epsilon": 0.3,
          "step": 239
         },
         {
          "cum_reward": 159.472,
          "epsilon": 0.3,
          "step": 240
         },
         {
          "cum_reward": 160.1834,
          "epsilon": 0.3,
          "step": 241
         },
         {
          "cum_reward": 160.897,
          "epsilon": 0.3,
          "step": 242
         },
         {
          "cum_reward": 161.6192,
          "epsilon": 0.3,
          "step": 243
         },
         {
          "cum_reward": 162.3166,
          "epsilon": 0.3,
          "step": 244
         },
         {
          "cum_reward": 163.0376,
          "epsilon": 0.3,
          "step": 245
         },
         {
          "cum_reward": 163.752,
          "epsilon": 0.3,
          "step": 246
         },
         {
          "cum_reward": 164.4492,
          "epsilon": 0.3,
          "step": 247
         },
         {
          "cum_reward": 165.1684,
          "epsilon": 0.3,
          "step": 248
         },
         {
          "cum_reward": 165.8896,
          "epsilon": 0.3,
          "step": 249
         },
         {
          "cum_reward": 166.5976,
          "epsilon": 0.3,
          "step": 250
         },
         {
          "cum_reward": 0.1642,
          "epsilon": 0.4,
          "step": 1
         },
         {
          "cum_reward": 0.3616,
          "epsilon": 0.4,
          "step": 2
         },
         {
          "cum_reward": 0.578,
          "epsilon": 0.4,
          "step": 3
         },
         {
          "cum_reward": 0.8292,
          "epsilon": 0.4,
          "step": 4
         },
         {
          "cum_reward": 1.1124,
          "epsilon": 0.4,
          "step": 5
         },
         {
          "cum_reward": 1.41,
          "epsilon": 0.4,
          "step": 6
         },
         {
          "cum_reward": 1.7298,
          "epsilon": 0.4,
          "step": 7
         },
         {
          "cum_reward": 2.0804,
          "epsilon": 0.4,
          "step": 8
         },
         {
          "cum_reward": 2.4554,
          "epsilon": 0.4,
          "step": 9
         },
         {
          "cum_reward": 2.8502,
          "epsilon": 0.4,
          "step": 10
         },
         {
          "cum_reward": 3.2638,
          "epsilon": 0.4,
          "step": 11
         },
         {
          "cum_reward": 3.6872,
          "epsilon": 0.4,
          "step": 12
         },
         {
          "cum_reward": 4.1332,
          "epsilon": 0.4,
          "step": 13
         },
         {
          "cum_reward": 4.5778,
          "epsilon": 0.4,
          "step": 14
         },
         {
          "cum_reward": 5.037,
          "epsilon": 0.4,
          "step": 15
         },
         {
          "cum_reward": 5.5066,
          "epsilon": 0.4,
          "step": 16
         },
         {
          "cum_reward": 5.9938,
          "epsilon": 0.4,
          "step": 17
         },
         {
          "cum_reward": 6.4974,
          "epsilon": 0.4,
          "step": 18
         },
         {
          "cum_reward": 7.0106,
          "epsilon": 0.4,
          "step": 19
         },
         {
          "cum_reward": 7.515,
          "epsilon": 0.4,
          "step": 20
         },
         {
          "cum_reward": 8.0548,
          "epsilon": 0.4,
          "step": 21
         },
         {
          "cum_reward": 8.5834,
          "epsilon": 0.4,
          "step": 22
         },
         {
          "cum_reward": 9.1226,
          "epsilon": 0.4,
          "step": 23
         },
         {
          "cum_reward": 9.673,
          "epsilon": 0.4,
          "step": 24
         },
         {
          "cum_reward": 10.2286,
          "epsilon": 0.4,
          "step": 25
         },
         {
          "cum_reward": 10.785,
          "epsilon": 0.4,
          "step": 26
         },
         {
          "cum_reward": 11.3522,
          "epsilon": 0.4,
          "step": 27
         },
         {
          "cum_reward": 11.9284,
          "epsilon": 0.4,
          "step": 28
         },
         {
          "cum_reward": 12.4966,
          "epsilon": 0.4,
          "step": 29
         },
         {
          "cum_reward": 13.069,
          "epsilon": 0.4,
          "step": 30
         },
         {
          "cum_reward": 13.6534,
          "epsilon": 0.4,
          "step": 31
         },
         {
          "cum_reward": 14.2534,
          "epsilon": 0.4,
          "step": 32
         },
         {
          "cum_reward": 14.8532,
          "epsilon": 0.4,
          "step": 33
         },
         {
          "cum_reward": 15.4526,
          "epsilon": 0.4,
          "step": 34
         },
         {
          "cum_reward": 16.0604,
          "epsilon": 0.4,
          "step": 35
         },
         {
          "cum_reward": 16.6692,
          "epsilon": 0.4,
          "step": 36
         },
         {
          "cum_reward": 17.2766,
          "epsilon": 0.4,
          "step": 37
         },
         {
          "cum_reward": 17.8832,
          "epsilon": 0.4,
          "step": 38
         },
         {
          "cum_reward": 18.4846,
          "epsilon": 0.4,
          "step": 39
         },
         {
          "cum_reward": 19.1028,
          "epsilon": 0.4,
          "step": 40
         },
         {
          "cum_reward": 19.7206,
          "epsilon": 0.4,
          "step": 41
         },
         {
          "cum_reward": 20.3268,
          "epsilon": 0.4,
          "step": 42
         },
         {
          "cum_reward": 20.9508,
          "epsilon": 0.4,
          "step": 43
         },
         {
          "cum_reward": 21.5598,
          "epsilon": 0.4,
          "step": 44
         },
         {
          "cum_reward": 22.173,
          "epsilon": 0.4,
          "step": 45
         },
         {
          "cum_reward": 22.7966,
          "epsilon": 0.4,
          "step": 46
         },
         {
          "cum_reward": 23.4268,
          "epsilon": 0.4,
          "step": 47
         },
         {
          "cum_reward": 24.06,
          "epsilon": 0.4,
          "step": 48
         },
         {
          "cum_reward": 24.7036,
          "epsilon": 0.4,
          "step": 49
         },
         {
          "cum_reward": 25.3236,
          "epsilon": 0.4,
          "step": 50
         },
         {
          "cum_reward": 25.9552,
          "epsilon": 0.4,
          "step": 51
         },
         {
          "cum_reward": 26.5868,
          "epsilon": 0.4,
          "step": 52
         },
         {
          "cum_reward": 27.2182,
          "epsilon": 0.4,
          "step": 53
         },
         {
          "cum_reward": 27.8438,
          "epsilon": 0.4,
          "step": 54
         },
         {
          "cum_reward": 28.4798,
          "epsilon": 0.4,
          "step": 55
         },
         {
          "cum_reward": 29.1126,
          "epsilon": 0.4,
          "step": 56
         },
         {
          "cum_reward": 29.7518,
          "epsilon": 0.4,
          "step": 57
         },
         {
          "cum_reward": 30.384,
          "epsilon": 0.4,
          "step": 58
         },
         {
          "cum_reward": 31.0162,
          "epsilon": 0.4,
          "step": 59
         },
         {
          "cum_reward": 31.647,
          "epsilon": 0.4,
          "step": 60
         },
         {
          "cum_reward": 32.27,
          "epsilon": 0.4,
          "step": 61
         },
         {
          "cum_reward": 32.9138,
          "epsilon": 0.4,
          "step": 62
         },
         {
          "cum_reward": 33.5524,
          "epsilon": 0.4,
          "step": 63
         },
         {
          "cum_reward": 34.183,
          "epsilon": 0.4,
          "step": 64
         },
         {
          "cum_reward": 34.8258,
          "epsilon": 0.4,
          "step": 65
         },
         {
          "cum_reward": 35.468,
          "epsilon": 0.4,
          "step": 66
         },
         {
          "cum_reward": 36.1074,
          "epsilon": 0.4,
          "step": 67
         },
         {
          "cum_reward": 36.7616,
          "epsilon": 0.4,
          "step": 68
         },
         {
          "cum_reward": 37.3994,
          "epsilon": 0.4,
          "step": 69
         },
         {
          "cum_reward": 38.0358,
          "epsilon": 0.4,
          "step": 70
         },
         {
          "cum_reward": 38.6766,
          "epsilon": 0.4,
          "step": 71
         },
         {
          "cum_reward": 39.3182,
          "epsilon": 0.4,
          "step": 72
         },
         {
          "cum_reward": 39.9566,
          "epsilon": 0.4,
          "step": 73
         },
         {
          "cum_reward": 40.595,
          "epsilon": 0.4,
          "step": 74
         },
         {
          "cum_reward": 41.2384,
          "epsilon": 0.4,
          "step": 75
         },
         {
          "cum_reward": 41.8792,
          "epsilon": 0.4,
          "step": 76
         },
         {
          "cum_reward": 42.5072,
          "epsilon": 0.4,
          "step": 77
         },
         {
          "cum_reward": 43.1634,
          "epsilon": 0.4,
          "step": 78
         },
         {
          "cum_reward": 43.8128,
          "epsilon": 0.4,
          "step": 79
         },
         {
          "cum_reward": 44.464,
          "epsilon": 0.4,
          "step": 80
         },
         {
          "cum_reward": 45.1074,
          "epsilon": 0.4,
          "step": 81
         },
         {
          "cum_reward": 45.7596,
          "epsilon": 0.4,
          "step": 82
         },
         {
          "cum_reward": 46.4026,
          "epsilon": 0.4,
          "step": 83
         },
         {
          "cum_reward": 47.047,
          "epsilon": 0.4,
          "step": 84
         },
         {
          "cum_reward": 47.7016,
          "epsilon": 0.4,
          "step": 85
         },
         {
          "cum_reward": 48.346,
          "epsilon": 0.4,
          "step": 86
         },
         {
          "cum_reward": 48.988,
          "epsilon": 0.4,
          "step": 87
         },
         {
          "cum_reward": 49.627,
          "epsilon": 0.4,
          "step": 88
         },
         {
          "cum_reward": 50.269,
          "epsilon": 0.4,
          "step": 89
         },
         {
          "cum_reward": 50.9202,
          "epsilon": 0.4,
          "step": 90
         },
         {
          "cum_reward": 51.5596,
          "epsilon": 0.4,
          "step": 91
         },
         {
          "cum_reward": 52.1954,
          "epsilon": 0.4,
          "step": 92
         },
         {
          "cum_reward": 52.8384,
          "epsilon": 0.4,
          "step": 93
         },
         {
          "cum_reward": 53.47,
          "epsilon": 0.4,
          "step": 94
         },
         {
          "cum_reward": 54.1246,
          "epsilon": 0.4,
          "step": 95
         },
         {
          "cum_reward": 54.7778,
          "epsilon": 0.4,
          "step": 96
         },
         {
          "cum_reward": 55.4208,
          "epsilon": 0.4,
          "step": 97
         },
         {
          "cum_reward": 56.0594,
          "epsilon": 0.4,
          "step": 98
         },
         {
          "cum_reward": 56.689,
          "epsilon": 0.4,
          "step": 99
         },
         {
          "cum_reward": 57.329,
          "epsilon": 0.4,
          "step": 100
         },
         {
          "cum_reward": 57.9742,
          "epsilon": 0.4,
          "step": 101
         },
         {
          "cum_reward": 58.6176,
          "epsilon": 0.4,
          "step": 102
         },
         {
          "cum_reward": 59.267,
          "epsilon": 0.4,
          "step": 103
         },
         {
          "cum_reward": 59.9298,
          "epsilon": 0.4,
          "step": 104
         },
         {
          "cum_reward": 60.572,
          "epsilon": 0.4,
          "step": 105
         },
         {
          "cum_reward": 61.2274,
          "epsilon": 0.4,
          "step": 106
         },
         {
          "cum_reward": 61.8738,
          "epsilon": 0.4,
          "step": 107
         },
         {
          "cum_reward": 62.5226,
          "epsilon": 0.4,
          "step": 108
         },
         {
          "cum_reward": 63.171,
          "epsilon": 0.4,
          "step": 109
         },
         {
          "cum_reward": 63.8168,
          "epsilon": 0.4,
          "step": 110
         },
         {
          "cum_reward": 64.4488,
          "epsilon": 0.4,
          "step": 111
         },
         {
          "cum_reward": 65.081,
          "epsilon": 0.4,
          "step": 112
         },
         {
          "cum_reward": 65.7224,
          "epsilon": 0.4,
          "step": 113
         },
         {
          "cum_reward": 66.3712,
          "epsilon": 0.4,
          "step": 114
         },
         {
          "cum_reward": 67.0108,
          "epsilon": 0.4,
          "step": 115
         },
         {
          "cum_reward": 67.6562,
          "epsilon": 0.4,
          "step": 116
         },
         {
          "cum_reward": 68.308,
          "epsilon": 0.4,
          "step": 117
         },
         {
          "cum_reward": 68.942,
          "epsilon": 0.4,
          "step": 118
         },
         {
          "cum_reward": 69.5906,
          "epsilon": 0.4,
          "step": 119
         },
         {
          "cum_reward": 70.2418,
          "epsilon": 0.4,
          "step": 120
         },
         {
          "cum_reward": 70.8828,
          "epsilon": 0.4,
          "step": 121
         },
         {
          "cum_reward": 71.5238,
          "epsilon": 0.4,
          "step": 122
         },
         {
          "cum_reward": 72.1632,
          "epsilon": 0.4,
          "step": 123
         },
         {
          "cum_reward": 72.803,
          "epsilon": 0.4,
          "step": 124
         },
         {
          "cum_reward": 73.4466,
          "epsilon": 0.4,
          "step": 125
         },
         {
          "cum_reward": 74.1014,
          "epsilon": 0.4,
          "step": 126
         },
         {
          "cum_reward": 74.7464,
          "epsilon": 0.4,
          "step": 127
         },
         {
          "cum_reward": 75.3884,
          "epsilon": 0.4,
          "step": 128
         },
         {
          "cum_reward": 76.0348,
          "epsilon": 0.4,
          "step": 129
         },
         {
          "cum_reward": 76.679,
          "epsilon": 0.4,
          "step": 130
         },
         {
          "cum_reward": 77.3164,
          "epsilon": 0.4,
          "step": 131
         },
         {
          "cum_reward": 77.9572,
          "epsilon": 0.4,
          "step": 132
         },
         {
          "cum_reward": 78.6,
          "epsilon": 0.4,
          "step": 133
         },
         {
          "cum_reward": 79.2392,
          "epsilon": 0.4,
          "step": 134
         },
         {
          "cum_reward": 79.8754,
          "epsilon": 0.4,
          "step": 135
         },
         {
          "cum_reward": 80.5174,
          "epsilon": 0.4,
          "step": 136
         },
         {
          "cum_reward": 81.1676,
          "epsilon": 0.4,
          "step": 137
         },
         {
          "cum_reward": 81.8124,
          "epsilon": 0.4,
          "step": 138
         },
         {
          "cum_reward": 82.4602,
          "epsilon": 0.4,
          "step": 139
         },
         {
          "cum_reward": 83.1012,
          "epsilon": 0.4,
          "step": 140
         },
         {
          "cum_reward": 83.7406,
          "epsilon": 0.4,
          "step": 141
         },
         {
          "cum_reward": 84.3904,
          "epsilon": 0.4,
          "step": 142
         },
         {
          "cum_reward": 85.0296,
          "epsilon": 0.4,
          "step": 143
         },
         {
          "cum_reward": 85.6704,
          "epsilon": 0.4,
          "step": 144
         },
         {
          "cum_reward": 86.3102,
          "epsilon": 0.4,
          "step": 145
         },
         {
          "cum_reward": 86.9618,
          "epsilon": 0.4,
          "step": 146
         },
         {
          "cum_reward": 87.6038,
          "epsilon": 0.4,
          "step": 147
         },
         {
          "cum_reward": 88.2464,
          "epsilon": 0.4,
          "step": 148
         },
         {
          "cum_reward": 88.895,
          "epsilon": 0.4,
          "step": 149
         },
         {
          "cum_reward": 89.5294,
          "epsilon": 0.4,
          "step": 150
         },
         {
          "cum_reward": 90.1778,
          "epsilon": 0.4,
          "step": 151
         },
         {
          "cum_reward": 90.8228,
          "epsilon": 0.4,
          "step": 152
         },
         {
          "cum_reward": 91.4756,
          "epsilon": 0.4,
          "step": 153
         },
         {
          "cum_reward": 92.126,
          "epsilon": 0.4,
          "step": 154
         },
         {
          "cum_reward": 92.776,
          "epsilon": 0.4,
          "step": 155
         },
         {
          "cum_reward": 93.4064,
          "epsilon": 0.4,
          "step": 156
         },
         {
          "cum_reward": 94.0668,
          "epsilon": 0.4,
          "step": 157
         },
         {
          "cum_reward": 94.7088,
          "epsilon": 0.4,
          "step": 158
         },
         {
          "cum_reward": 95.3506,
          "epsilon": 0.4,
          "step": 159
         },
         {
          "cum_reward": 96.0028,
          "epsilon": 0.4,
          "step": 160
         },
         {
          "cum_reward": 96.6394,
          "epsilon": 0.4,
          "step": 161
         },
         {
          "cum_reward": 97.282,
          "epsilon": 0.4,
          "step": 162
         },
         {
          "cum_reward": 97.9198,
          "epsilon": 0.4,
          "step": 163
         },
         {
          "cum_reward": 98.5628,
          "epsilon": 0.4,
          "step": 164
         },
         {
          "cum_reward": 99.216,
          "epsilon": 0.4,
          "step": 165
         },
         {
          "cum_reward": 99.8646,
          "epsilon": 0.4,
          "step": 166
         },
         {
          "cum_reward": 100.517,
          "epsilon": 0.4,
          "step": 167
         },
         {
          "cum_reward": 101.1588,
          "epsilon": 0.4,
          "step": 168
         },
         {
          "cum_reward": 101.8194,
          "epsilon": 0.4,
          "step": 169
         },
         {
          "cum_reward": 102.4626,
          "epsilon": 0.4,
          "step": 170
         },
         {
          "cum_reward": 103.1106,
          "epsilon": 0.4,
          "step": 171
         },
         {
          "cum_reward": 103.7616,
          "epsilon": 0.4,
          "step": 172
         },
         {
          "cum_reward": 104.4026,
          "epsilon": 0.4,
          "step": 173
         },
         {
          "cum_reward": 105.0346,
          "epsilon": 0.4,
          "step": 174
         },
         {
          "cum_reward": 105.6848,
          "epsilon": 0.4,
          "step": 175
         },
         {
          "cum_reward": 106.338,
          "epsilon": 0.4,
          "step": 176
         },
         {
          "cum_reward": 106.9954,
          "epsilon": 0.4,
          "step": 177
         },
         {
          "cum_reward": 107.6366,
          "epsilon": 0.4,
          "step": 178
         },
         {
          "cum_reward": 108.2758,
          "epsilon": 0.4,
          "step": 179
         },
         {
          "cum_reward": 108.917,
          "epsilon": 0.4,
          "step": 180
         },
         {
          "cum_reward": 109.5682,
          "epsilon": 0.4,
          "step": 181
         },
         {
          "cum_reward": 110.2118,
          "epsilon": 0.4,
          "step": 182
         },
         {
          "cum_reward": 110.8538,
          "epsilon": 0.4,
          "step": 183
         },
         {
          "cum_reward": 111.5066,
          "epsilon": 0.4,
          "step": 184
         },
         {
          "cum_reward": 112.1524,
          "epsilon": 0.4,
          "step": 185
         },
         {
          "cum_reward": 112.7962,
          "epsilon": 0.4,
          "step": 186
         },
         {
          "cum_reward": 113.4334,
          "epsilon": 0.4,
          "step": 187
         },
         {
          "cum_reward": 114.0754,
          "epsilon": 0.4,
          "step": 188
         },
         {
          "cum_reward": 114.7132,
          "epsilon": 0.4,
          "step": 189
         },
         {
          "cum_reward": 115.3654,
          "epsilon": 0.4,
          "step": 190
         },
         {
          "cum_reward": 116.0114,
          "epsilon": 0.4,
          "step": 191
         },
         {
          "cum_reward": 116.648,
          "epsilon": 0.4,
          "step": 192
         },
         {
          "cum_reward": 117.2892,
          "epsilon": 0.4,
          "step": 193
         },
         {
          "cum_reward": 117.9288,
          "epsilon": 0.4,
          "step": 194
         },
         {
          "cum_reward": 118.5796,
          "epsilon": 0.4,
          "step": 195
         },
         {
          "cum_reward": 119.2122,
          "epsilon": 0.4,
          "step": 196
         },
         {
          "cum_reward": 119.8636,
          "epsilon": 0.4,
          "step": 197
         },
         {
          "cum_reward": 120.5172,
          "epsilon": 0.4,
          "step": 198
         },
         {
          "cum_reward": 121.1642,
          "epsilon": 0.4,
          "step": 199
         },
         {
          "cum_reward": 121.7972,
          "epsilon": 0.4,
          "step": 200
         },
         {
          "cum_reward": 122.4502,
          "epsilon": 0.4,
          "step": 201
         },
         {
          "cum_reward": 123.093,
          "epsilon": 0.4,
          "step": 202
         },
         {
          "cum_reward": 123.721,
          "epsilon": 0.4,
          "step": 203
         },
         {
          "cum_reward": 124.3624,
          "epsilon": 0.4,
          "step": 204
         },
         {
          "cum_reward": 125.0032,
          "epsilon": 0.4,
          "step": 205
         },
         {
          "cum_reward": 125.6382,
          "epsilon": 0.4,
          "step": 206
         },
         {
          "cum_reward": 126.2886,
          "epsilon": 0.4,
          "step": 207
         },
         {
          "cum_reward": 126.9276,
          "epsilon": 0.4,
          "step": 208
         },
         {
          "cum_reward": 127.5562,
          "epsilon": 0.4,
          "step": 209
         },
         {
          "cum_reward": 128.1976,
          "epsilon": 0.4,
          "step": 210
         },
         {
          "cum_reward": 128.8368,
          "epsilon": 0.4,
          "step": 211
         },
         {
          "cum_reward": 129.4796,
          "epsilon": 0.4,
          "step": 212
         },
         {
          "cum_reward": 130.1322,
          "epsilon": 0.4,
          "step": 213
         },
         {
          "cum_reward": 130.7744,
          "epsilon": 0.4,
          "step": 214
         },
         {
          "cum_reward": 131.4086,
          "epsilon": 0.4,
          "step": 215
         },
         {
          "cum_reward": 132.0486,
          "epsilon": 0.4,
          "step": 216
         },
         {
          "cum_reward": 132.6948,
          "epsilon": 0.4,
          "step": 217
         },
         {
          "cum_reward": 133.3326,
          "epsilon": 0.4,
          "step": 218
         },
         {
          "cum_reward": 133.9806,
          "epsilon": 0.4,
          "step": 219
         },
         {
          "cum_reward": 134.6126,
          "epsilon": 0.4,
          "step": 220
         },
         {
          "cum_reward": 135.251,
          "epsilon": 0.4,
          "step": 221
         },
         {
          "cum_reward": 135.8926,
          "epsilon": 0.4,
          "step": 222
         },
         {
          "cum_reward": 136.5306,
          "epsilon": 0.4,
          "step": 223
         },
         {
          "cum_reward": 137.1808,
          "epsilon": 0.4,
          "step": 224
         },
         {
          "cum_reward": 137.8348,
          "epsilon": 0.4,
          "step": 225
         },
         {
          "cum_reward": 138.4666,
          "epsilon": 0.4,
          "step": 226
         },
         {
          "cum_reward": 139.117,
          "epsilon": 0.4,
          "step": 227
         },
         {
          "cum_reward": 139.7512,
          "epsilon": 0.4,
          "step": 228
         },
         {
          "cum_reward": 140.4,
          "epsilon": 0.4,
          "step": 229
         },
         {
          "cum_reward": 141.0416,
          "epsilon": 0.4,
          "step": 230
         },
         {
          "cum_reward": 141.694,
          "epsilon": 0.4,
          "step": 231
         },
         {
          "cum_reward": 142.3382,
          "epsilon": 0.4,
          "step": 232
         },
         {
          "cum_reward": 142.9808,
          "epsilon": 0.4,
          "step": 233
         },
         {
          "cum_reward": 143.624,
          "epsilon": 0.4,
          "step": 234
         },
         {
          "cum_reward": 144.2762,
          "epsilon": 0.4,
          "step": 235
         },
         {
          "cum_reward": 144.9182,
          "epsilon": 0.4,
          "step": 236
         },
         {
          "cum_reward": 145.5508,
          "epsilon": 0.4,
          "step": 237
         },
         {
          "cum_reward": 146.2016,
          "epsilon": 0.4,
          "step": 238
         },
         {
          "cum_reward": 146.8382,
          "epsilon": 0.4,
          "step": 239
         },
         {
          "cum_reward": 147.4796,
          "epsilon": 0.4,
          "step": 240
         },
         {
          "cum_reward": 148.1282,
          "epsilon": 0.4,
          "step": 241
         },
         {
          "cum_reward": 148.7726,
          "epsilon": 0.4,
          "step": 242
         },
         {
          "cum_reward": 149.4114,
          "epsilon": 0.4,
          "step": 243
         },
         {
          "cum_reward": 150.0594,
          "epsilon": 0.4,
          "step": 244
         },
         {
          "cum_reward": 150.701,
          "epsilon": 0.4,
          "step": 245
         },
         {
          "cum_reward": 151.3446,
          "epsilon": 0.4,
          "step": 246
         },
         {
          "cum_reward": 151.9962,
          "epsilon": 0.4,
          "step": 247
         },
         {
          "cum_reward": 152.6472,
          "epsilon": 0.4,
          "step": 248
         },
         {
          "cum_reward": 153.2896,
          "epsilon": 0.4,
          "step": 249
         },
         {
          "cum_reward": 153.9322,
          "epsilon": 0.4,
          "step": 250
         },
         {
          "cum_reward": 0.1868,
          "epsilon": 0.5,
          "step": 1
         },
         {
          "cum_reward": 0.3996,
          "epsilon": 0.5,
          "step": 2
         },
         {
          "cum_reward": 0.6464,
          "epsilon": 0.5,
          "step": 3
         },
         {
          "cum_reward": 0.927,
          "epsilon": 0.5,
          "step": 4
         },
         {
          "cum_reward": 1.2328,
          "epsilon": 0.5,
          "step": 5
         },
         {
          "cum_reward": 1.5596,
          "epsilon": 0.5,
          "step": 6
         },
         {
          "cum_reward": 1.9074,
          "epsilon": 0.5,
          "step": 7
         },
         {
          "cum_reward": 2.2682,
          "epsilon": 0.5,
          "step": 8
         },
         {
          "cum_reward": 2.6582,
          "epsilon": 0.5,
          "step": 9
         },
         {
          "cum_reward": 3.0652,
          "epsilon": 0.5,
          "step": 10
         },
         {
          "cum_reward": 3.4886,
          "epsilon": 0.5,
          "step": 11
         },
         {
          "cum_reward": 3.921,
          "epsilon": 0.5,
          "step": 12
         },
         {
          "cum_reward": 4.3654,
          "epsilon": 0.5,
          "step": 13
         },
         {
          "cum_reward": 4.8198,
          "epsilon": 0.5,
          "step": 14
         },
         {
          "cum_reward": 5.2788,
          "epsilon": 0.5,
          "step": 15
         },
         {
          "cum_reward": 5.7512,
          "epsilon": 0.5,
          "step": 16
         },
         {
          "cum_reward": 6.2262,
          "epsilon": 0.5,
          "step": 17
         },
         {
          "cum_reward": 6.7196,
          "epsilon": 0.5,
          "step": 18
         },
         {
          "cum_reward": 7.2214,
          "epsilon": 0.5,
          "step": 19
         },
         {
          "cum_reward": 7.7262,
          "epsilon": 0.5,
          "step": 20
         },
         {
          "cum_reward": 8.2498,
          "epsilon": 0.5,
          "step": 21
         },
         {
          "cum_reward": 8.7654,
          "epsilon": 0.5,
          "step": 22
         },
         {
          "cum_reward": 9.3012,
          "epsilon": 0.5,
          "step": 23
         },
         {
          "cum_reward": 9.8298,
          "epsilon": 0.5,
          "step": 24
         },
         {
          "cum_reward": 10.3554,
          "epsilon": 0.5,
          "step": 25
         },
         {
          "cum_reward": 10.8948,
          "epsilon": 0.5,
          "step": 26
         },
         {
          "cum_reward": 11.4268,
          "epsilon": 0.5,
          "step": 27
         },
         {
          "cum_reward": 11.9828,
          "epsilon": 0.5,
          "step": 28
         },
         {
          "cum_reward": 12.5194,
          "epsilon": 0.5,
          "step": 29
         },
         {
          "cum_reward": 13.0586,
          "epsilon": 0.5,
          "step": 30
         },
         {
          "cum_reward": 13.6114,
          "epsilon": 0.5,
          "step": 31
         },
         {
          "cum_reward": 14.1696,
          "epsilon": 0.5,
          "step": 32
         },
         {
          "cum_reward": 14.7262,
          "epsilon": 0.5,
          "step": 33
         },
         {
          "cum_reward": 15.2734,
          "epsilon": 0.5,
          "step": 34
         },
         {
          "cum_reward": 15.8386,
          "epsilon": 0.5,
          "step": 35
         },
         {
          "cum_reward": 16.3934,
          "epsilon": 0.5,
          "step": 36
         },
         {
          "cum_reward": 16.9506,
          "epsilon": 0.5,
          "step": 37
         },
         {
          "cum_reward": 17.53,
          "epsilon": 0.5,
          "step": 38
         },
         {
          "cum_reward": 18.107,
          "epsilon": 0.5,
          "step": 39
         },
         {
          "cum_reward": 18.684,
          "epsilon": 0.5,
          "step": 40
         },
         {
          "cum_reward": 19.2524,
          "epsilon": 0.5,
          "step": 41
         },
         {
          "cum_reward": 19.8202,
          "epsilon": 0.5,
          "step": 42
         },
         {
          "cum_reward": 20.3856,
          "epsilon": 0.5,
          "step": 43
         },
         {
          "cum_reward": 20.9654,
          "epsilon": 0.5,
          "step": 44
         },
         {
          "cum_reward": 21.5408,
          "epsilon": 0.5,
          "step": 45
         },
         {
          "cum_reward": 22.126,
          "epsilon": 0.5,
          "step": 46
         },
         {
          "cum_reward": 22.694,
          "epsilon": 0.5,
          "step": 47
         },
         {
          "cum_reward": 23.2678,
          "epsilon": 0.5,
          "step": 48
         },
         {
          "cum_reward": 23.85,
          "epsilon": 0.5,
          "step": 49
         },
         {
          "cum_reward": 24.4286,
          "epsilon": 0.5,
          "step": 50
         },
         {
          "cum_reward": 25.0072,
          "epsilon": 0.5,
          "step": 51
         },
         {
          "cum_reward": 25.5806,
          "epsilon": 0.5,
          "step": 52
         },
         {
          "cum_reward": 26.1488,
          "epsilon": 0.5,
          "step": 53
         },
         {
          "cum_reward": 26.7174,
          "epsilon": 0.5,
          "step": 54
         },
         {
          "cum_reward": 27.2996,
          "epsilon": 0.5,
          "step": 55
         },
         {
          "cum_reward": 27.8892,
          "epsilon": 0.5,
          "step": 56
         },
         {
          "cum_reward": 28.4916,
          "epsilon": 0.5,
          "step": 57
         },
         {
          "cum_reward": 29.0774,
          "epsilon": 0.5,
          "step": 58
         },
         {
          "cum_reward": 29.6584,
          "epsilon": 0.5,
          "step": 59
         },
         {
          "cum_reward": 30.2414,
          "epsilon": 0.5,
          "step": 60
         },
         {
          "cum_reward": 30.8194,
          "epsilon": 0.5,
          "step": 61
         },
         {
          "cum_reward": 31.3988,
          "epsilon": 0.5,
          "step": 62
         },
         {
          "cum_reward": 31.9936,
          "epsilon": 0.5,
          "step": 63
         },
         {
          "cum_reward": 32.5646,
          "epsilon": 0.5,
          "step": 64
         },
         {
          "cum_reward": 33.141,
          "epsilon": 0.5,
          "step": 65
         },
         {
          "cum_reward": 33.7106,
          "epsilon": 0.5,
          "step": 66
         },
         {
          "cum_reward": 34.277,
          "epsilon": 0.5,
          "step": 67
         },
         {
          "cum_reward": 34.8692,
          "epsilon": 0.5,
          "step": 68
         },
         {
          "cum_reward": 35.4344,
          "epsilon": 0.5,
          "step": 69
         },
         {
          "cum_reward": 36.02,
          "epsilon": 0.5,
          "step": 70
         },
         {
          "cum_reward": 36.6084,
          "epsilon": 0.5,
          "step": 71
         },
         {
          "cum_reward": 37.1918,
          "epsilon": 0.5,
          "step": 72
         },
         {
          "cum_reward": 37.7516,
          "epsilon": 0.5,
          "step": 73
         },
         {
          "cum_reward": 38.334,
          "epsilon": 0.5,
          "step": 74
         },
         {
          "cum_reward": 38.9118,
          "epsilon": 0.5,
          "step": 75
         },
         {
          "cum_reward": 39.4928,
          "epsilon": 0.5,
          "step": 76
         },
         {
          "cum_reward": 40.0746,
          "epsilon": 0.5,
          "step": 77
         },
         {
          "cum_reward": 40.6574,
          "epsilon": 0.5,
          "step": 78
         },
         {
          "cum_reward": 41.2244,
          "epsilon": 0.5,
          "step": 79
         },
         {
          "cum_reward": 41.8134,
          "epsilon": 0.5,
          "step": 80
         },
         {
          "cum_reward": 42.3818,
          "epsilon": 0.5,
          "step": 81
         },
         {
          "cum_reward": 42.9708,
          "epsilon": 0.5,
          "step": 82
         },
         {
          "cum_reward": 43.5582,
          "epsilon": 0.5,
          "step": 83
         },
         {
          "cum_reward": 44.143,
          "epsilon": 0.5,
          "step": 84
         },
         {
          "cum_reward": 44.7222,
          "epsilon": 0.5,
          "step": 85
         },
         {
          "cum_reward": 45.3134,
          "epsilon": 0.5,
          "step": 86
         },
         {
          "cum_reward": 45.8972,
          "epsilon": 0.5,
          "step": 87
         },
         {
          "cum_reward": 46.4676,
          "epsilon": 0.5,
          "step": 88
         },
         {
          "cum_reward": 47.057,
          "epsilon": 0.5,
          "step": 89
         },
         {
          "cum_reward": 47.6444,
          "epsilon": 0.5,
          "step": 90
         },
         {
          "cum_reward": 48.2216,
          "epsilon": 0.5,
          "step": 91
         },
         {
          "cum_reward": 48.8062,
          "epsilon": 0.5,
          "step": 92
         },
         {
          "cum_reward": 49.3856,
          "epsilon": 0.5,
          "step": 93
         },
         {
          "cum_reward": 49.969,
          "epsilon": 0.5,
          "step": 94
         },
         {
          "cum_reward": 50.556,
          "epsilon": 0.5,
          "step": 95
         },
         {
          "cum_reward": 51.1318,
          "epsilon": 0.5,
          "step": 96
         },
         {
          "cum_reward": 51.7134,
          "epsilon": 0.5,
          "step": 97
         },
         {
          "cum_reward": 52.2842,
          "epsilon": 0.5,
          "step": 98
         },
         {
          "cum_reward": 52.8722,
          "epsilon": 0.5,
          "step": 99
         },
         {
          "cum_reward": 53.4478,
          "epsilon": 0.5,
          "step": 100
         },
         {
          "cum_reward": 54.034,
          "epsilon": 0.5,
          "step": 101
         },
         {
          "cum_reward": 54.6202,
          "epsilon": 0.5,
          "step": 102
         },
         {
          "cum_reward": 55.2004,
          "epsilon": 0.5,
          "step": 103
         },
         {
          "cum_reward": 55.7654,
          "epsilon": 0.5,
          "step": 104
         },
         {
          "cum_reward": 56.3486,
          "epsilon": 0.5,
          "step": 105
         },
         {
          "cum_reward": 56.9232,
          "epsilon": 0.5,
          "step": 106
         },
         {
          "cum_reward": 57.508,
          "epsilon": 0.5,
          "step": 107
         },
         {
          "cum_reward": 58.088,
          "epsilon": 0.5,
          "step": 108
         },
         {
          "cum_reward": 58.6622,
          "epsilon": 0.5,
          "step": 109
         },
         {
          "cum_reward": 59.2542,
          "epsilon": 0.5,
          "step": 110
         },
         {
          "cum_reward": 59.8334,
          "epsilon": 0.5,
          "step": 111
         },
         {
          "cum_reward": 60.3932,
          "epsilon": 0.5,
          "step": 112
         },
         {
          "cum_reward": 60.9826,
          "epsilon": 0.5,
          "step": 113
         },
         {
          "cum_reward": 61.568,
          "epsilon": 0.5,
          "step": 114
         },
         {
          "cum_reward": 62.1432,
          "epsilon": 0.5,
          "step": 115
         },
         {
          "cum_reward": 62.7238,
          "epsilon": 0.5,
          "step": 116
         },
         {
          "cum_reward": 63.3026,
          "epsilon": 0.5,
          "step": 117
         },
         {
          "cum_reward": 63.8788,
          "epsilon": 0.5,
          "step": 118
         },
         {
          "cum_reward": 64.4548,
          "epsilon": 0.5,
          "step": 119
         },
         {
          "cum_reward": 65.037,
          "epsilon": 0.5,
          "step": 120
         },
         {
          "cum_reward": 65.6182,
          "epsilon": 0.5,
          "step": 121
         },
         {
          "cum_reward": 66.185,
          "epsilon": 0.5,
          "step": 122
         },
         {
          "cum_reward": 66.7682,
          "epsilon": 0.5,
          "step": 123
         },
         {
          "cum_reward": 67.3502,
          "epsilon": 0.5,
          "step": 124
         },
         {
          "cum_reward": 67.9256,
          "epsilon": 0.5,
          "step": 125
         },
         {
          "cum_reward": 68.505,
          "epsilon": 0.5,
          "step": 126
         },
         {
          "cum_reward": 69.0988,
          "epsilon": 0.5,
          "step": 127
         },
         {
          "cum_reward": 69.6832,
          "epsilon": 0.5,
          "step": 128
         },
         {
          "cum_reward": 70.2638,
          "epsilon": 0.5,
          "step": 129
         },
         {
          "cum_reward": 70.8474,
          "epsilon": 0.5,
          "step": 130
         },
         {
          "cum_reward": 71.4308,
          "epsilon": 0.5,
          "step": 131
         },
         {
          "cum_reward": 72.0064,
          "epsilon": 0.5,
          "step": 132
         },
         {
          "cum_reward": 72.5904,
          "epsilon": 0.5,
          "step": 133
         },
         {
          "cum_reward": 73.171,
          "epsilon": 0.5,
          "step": 134
         },
         {
          "cum_reward": 73.7536,
          "epsilon": 0.5,
          "step": 135
         },
         {
          "cum_reward": 74.333,
          "epsilon": 0.5,
          "step": 136
         },
         {
          "cum_reward": 74.9222,
          "epsilon": 0.5,
          "step": 137
         },
         {
          "cum_reward": 75.4976,
          "epsilon": 0.5,
          "step": 138
         },
         {
          "cum_reward": 76.078,
          "epsilon": 0.5,
          "step": 139
         },
         {
          "cum_reward": 76.6514,
          "epsilon": 0.5,
          "step": 140
         },
         {
          "cum_reward": 77.2352,
          "epsilon": 0.5,
          "step": 141
         },
         {
          "cum_reward": 77.8132,
          "epsilon": 0.5,
          "step": 142
         },
         {
          "cum_reward": 78.393,
          "epsilon": 0.5,
          "step": 143
         },
         {
          "cum_reward": 78.9704,
          "epsilon": 0.5,
          "step": 144
         },
         {
          "cum_reward": 79.5532,
          "epsilon": 0.5,
          "step": 145
         },
         {
          "cum_reward": 80.1234,
          "epsilon": 0.5,
          "step": 146
         },
         {
          "cum_reward": 80.7042,
          "epsilon": 0.5,
          "step": 147
         },
         {
          "cum_reward": 81.2852,
          "epsilon": 0.5,
          "step": 148
         },
         {
          "cum_reward": 81.8704,
          "epsilon": 0.5,
          "step": 149
         },
         {
          "cum_reward": 82.4386,
          "epsilon": 0.5,
          "step": 150
         },
         {
          "cum_reward": 83.0112,
          "epsilon": 0.5,
          "step": 151
         },
         {
          "cum_reward": 83.5882,
          "epsilon": 0.5,
          "step": 152
         },
         {
          "cum_reward": 84.1662,
          "epsilon": 0.5,
          "step": 153
         },
         {
          "cum_reward": 84.7542,
          "epsilon": 0.5,
          "step": 154
         },
         {
          "cum_reward": 85.3268,
          "epsilon": 0.5,
          "step": 155
         },
         {
          "cum_reward": 85.8928,
          "epsilon": 0.5,
          "step": 156
         },
         {
          "cum_reward": 86.4822,
          "epsilon": 0.5,
          "step": 157
         },
         {
          "cum_reward": 87.0682,
          "epsilon": 0.5,
          "step": 158
         },
         {
          "cum_reward": 87.641,
          "epsilon": 0.5,
          "step": 159
         },
         {
          "cum_reward": 88.226,
          "epsilon": 0.5,
          "step": 160
         },
         {
          "cum_reward": 88.8062,
          "epsilon": 0.5,
          "step": 161
         },
         {
          "cum_reward": 89.3964,
          "epsilon": 0.5,
          "step": 162
         },
         {
          "cum_reward": 89.9802,
          "epsilon": 0.5,
          "step": 163
         },
         {
          "cum_reward": 90.5622,
          "epsilon": 0.5,
          "step": 164
         },
         {
          "cum_reward": 91.1382,
          "epsilon": 0.5,
          "step": 165
         },
         {
          "cum_reward": 91.7182,
          "epsilon": 0.5,
          "step": 166
         },
         {
          "cum_reward": 92.2942,
          "epsilon": 0.5,
          "step": 167
         },
         {
          "cum_reward": 92.8674,
          "epsilon": 0.5,
          "step": 168
         },
         {
          "cum_reward": 93.4426,
          "epsilon": 0.5,
          "step": 169
         },
         {
          "cum_reward": 94.0168,
          "epsilon": 0.5,
          "step": 170
         },
         {
          "cum_reward": 94.5942,
          "epsilon": 0.5,
          "step": 171
         },
         {
          "cum_reward": 95.1686,
          "epsilon": 0.5,
          "step": 172
         },
         {
          "cum_reward": 95.7516,
          "epsilon": 0.5,
          "step": 173
         },
         {
          "cum_reward": 96.344,
          "epsilon": 0.5,
          "step": 174
         },
         {
          "cum_reward": 96.9242,
          "epsilon": 0.5,
          "step": 175
         },
         {
          "cum_reward": 97.513,
          "epsilon": 0.5,
          "step": 176
         },
         {
          "cum_reward": 98.0994,
          "epsilon": 0.5,
          "step": 177
         },
         {
          "cum_reward": 98.6838,
          "epsilon": 0.5,
          "step": 178
         },
         {
          "cum_reward": 99.2652,
          "epsilon": 0.5,
          "step": 179
         },
         {
          "cum_reward": 99.85,
          "epsilon": 0.5,
          "step": 180
         },
         {
          "cum_reward": 100.4376,
          "epsilon": 0.5,
          "step": 181
         },
         {
          "cum_reward": 101.0208,
          "epsilon": 0.5,
          "step": 182
         },
         {
          "cum_reward": 101.5922,
          "epsilon": 0.5,
          "step": 183
         },
         {
          "cum_reward": 102.1654,
          "epsilon": 0.5,
          "step": 184
         },
         {
          "cum_reward": 102.7398,
          "epsilon": 0.5,
          "step": 185
         },
         {
          "cum_reward": 103.3274,
          "epsilon": 0.5,
          "step": 186
         },
         {
          "cum_reward": 103.8986,
          "epsilon": 0.5,
          "step": 187
         },
         {
          "cum_reward": 104.4756,
          "epsilon": 0.5,
          "step": 188
         },
         {
          "cum_reward": 105.0492,
          "epsilon": 0.5,
          "step": 189
         },
         {
          "cum_reward": 105.6314,
          "epsilon": 0.5,
          "step": 190
         },
         {
          "cum_reward": 106.2086,
          "epsilon": 0.5,
          "step": 191
         },
         {
          "cum_reward": 106.7882,
          "epsilon": 0.5,
          "step": 192
         },
         {
          "cum_reward": 107.3648,
          "epsilon": 0.5,
          "step": 193
         },
         {
          "cum_reward": 107.954,
          "epsilon": 0.5,
          "step": 194
         },
         {
          "cum_reward": 108.5324,
          "epsilon": 0.5,
          "step": 195
         },
         {
          "cum_reward": 109.117,
          "epsilon": 0.5,
          "step": 196
         },
         {
          "cum_reward": 109.6882,
          "epsilon": 0.5,
          "step": 197
         },
         {
          "cum_reward": 110.2682,
          "epsilon": 0.5,
          "step": 198
         },
         {
          "cum_reward": 110.8494,
          "epsilon": 0.5,
          "step": 199
         },
         {
          "cum_reward": 111.4294,
          "epsilon": 0.5,
          "step": 200
         },
         {
          "cum_reward": 112.0008,
          "epsilon": 0.5,
          "step": 201
         },
         {
          "cum_reward": 112.5758,
          "epsilon": 0.5,
          "step": 202
         },
         {
          "cum_reward": 113.1578,
          "epsilon": 0.5,
          "step": 203
         },
         {
          "cum_reward": 113.7378,
          "epsilon": 0.5,
          "step": 204
         },
         {
          "cum_reward": 114.3256,
          "epsilon": 0.5,
          "step": 205
         },
         {
          "cum_reward": 114.8974,
          "epsilon": 0.5,
          "step": 206
         },
         {
          "cum_reward": 115.4888,
          "epsilon": 0.5,
          "step": 207
         },
         {
          "cum_reward": 116.067,
          "epsilon": 0.5,
          "step": 208
         },
         {
          "cum_reward": 116.6454,
          "epsilon": 0.5,
          "step": 209
         },
         {
          "cum_reward": 117.2304,
          "epsilon": 0.5,
          "step": 210
         },
         {
          "cum_reward": 117.8122,
          "epsilon": 0.5,
          "step": 211
         },
         {
          "cum_reward": 118.3948,
          "epsilon": 0.5,
          "step": 212
         },
         {
          "cum_reward": 118.9812,
          "epsilon": 0.5,
          "step": 213
         },
         {
          "cum_reward": 119.5754,
          "epsilon": 0.5,
          "step": 214
         },
         {
          "cum_reward": 120.1512,
          "epsilon": 0.5,
          "step": 215
         },
         {
          "cum_reward": 120.7262,
          "epsilon": 0.5,
          "step": 216
         },
         {
          "cum_reward": 121.3056,
          "epsilon": 0.5,
          "step": 217
         },
         {
          "cum_reward": 121.8838,
          "epsilon": 0.5,
          "step": 218
         },
         {
          "cum_reward": 122.464,
          "epsilon": 0.5,
          "step": 219
         },
         {
          "cum_reward": 123.0314,
          "epsilon": 0.5,
          "step": 220
         },
         {
          "cum_reward": 123.6134,
          "epsilon": 0.5,
          "step": 221
         },
         {
          "cum_reward": 124.1892,
          "epsilon": 0.5,
          "step": 222
         },
         {
          "cum_reward": 124.767,
          "epsilon": 0.5,
          "step": 223
         },
         {
          "cum_reward": 125.357,
          "epsilon": 0.5,
          "step": 224
         },
         {
          "cum_reward": 125.9392,
          "epsilon": 0.5,
          "step": 225
         },
         {
          "cum_reward": 126.5182,
          "epsilon": 0.5,
          "step": 226
         },
         {
          "cum_reward": 127.0902,
          "epsilon": 0.5,
          "step": 227
         },
         {
          "cum_reward": 127.6762,
          "epsilon": 0.5,
          "step": 228
         },
         {
          "cum_reward": 128.265,
          "epsilon": 0.5,
          "step": 229
         },
         {
          "cum_reward": 128.8416,
          "epsilon": 0.5,
          "step": 230
         },
         {
          "cum_reward": 129.4184,
          "epsilon": 0.5,
          "step": 231
         },
         {
          "cum_reward": 129.9918,
          "epsilon": 0.5,
          "step": 232
         },
         {
          "cum_reward": 130.5734,
          "epsilon": 0.5,
          "step": 233
         },
         {
          "cum_reward": 131.1464,
          "epsilon": 0.5,
          "step": 234
         },
         {
          "cum_reward": 131.7228,
          "epsilon": 0.5,
          "step": 235
         },
         {
          "cum_reward": 132.2886,
          "epsilon": 0.5,
          "step": 236
         },
         {
          "cum_reward": 132.8594,
          "epsilon": 0.5,
          "step": 237
         },
         {
          "cum_reward": 133.442,
          "epsilon": 0.5,
          "step": 238
         },
         {
          "cum_reward": 134.0104,
          "epsilon": 0.5,
          "step": 239
         },
         {
          "cum_reward": 134.5798,
          "epsilon": 0.5,
          "step": 240
         },
         {
          "cum_reward": 135.1668,
          "epsilon": 0.5,
          "step": 241
         },
         {
          "cum_reward": 135.75,
          "epsilon": 0.5,
          "step": 242
         },
         {
          "cum_reward": 136.3296,
          "epsilon": 0.5,
          "step": 243
         },
         {
          "cum_reward": 136.9162,
          "epsilon": 0.5,
          "step": 244
         },
         {
          "cum_reward": 137.4984,
          "epsilon": 0.5,
          "step": 245
         },
         {
          "cum_reward": 138.0768,
          "epsilon": 0.5,
          "step": 246
         },
         {
          "cum_reward": 138.665,
          "epsilon": 0.5,
          "step": 247
         },
         {
          "cum_reward": 139.2386,
          "epsilon": 0.5,
          "step": 248
         },
         {
          "cum_reward": 139.823,
          "epsilon": 0.5,
          "step": 249
         },
         {
          "cum_reward": 140.3902,
          "epsilon": 0.5,
          "step": 250
         }
        ]
       },
       "encoding": {
        "color": {
         "field": "epsilon",
         "type": "nominal"
        },
        "x": {
         "field": "step",
         "title": "Time Step",
         "type": "quantitative"
        },
        "y": {
         "field": "cum_reward",
         "title": "Mean Cumulative Reward",
         "type": "quantitative"
        }
       },
       "mark": "line",
       "title": "Mean Cumulative Reward from 5000 Simulations. 5 Arms = [4 x 0.1, 1 x 0.9]"
      },
      "image/png": "[encoded data removed]",
      "text/plain": [
       "<VegaLite 3 object>\n",
       "\n",
       "If you see this message, it means the renderer has not been properly enabled\n",
       "for the frontend that you are using. For more information, see\n",
       "https://altair-viz.github.io/user_guide/troubleshooting.html\n"
      ]
     },
     "execution_count": 69,
     "metadata": {},
     "output_type": "execute_result"
    }
   ],
   "source": [
    "alt.Chart(df_cumreward).mark_line().encode(\n",
    "    alt.X(\"step:Q\", title = \"Time Step\"),\n",
    "    alt.Y(\"cum_reward:Q\", title = \"Mean Cumulative Reward\"),\n",
    "    color = alt.Color(\"epsilon:N\")\n",
    ").properties(\n",
    "    title = \"Mean Cumulative Reward from 5000 Simulations. 5 Arms = [4 x 0.1, 1 x 0.9]\",\n",
    ")"
   ]
  },
  {
   "cell_type": "code",
   "execution_count": 61,
   "metadata": {},
   "outputs": [
    {
     "name": "stdout",
     "output_type": "stream",
     "text": [
      "Best arm is 2\n",
      "done\n"
     ]
    }
   ],
   "source": [
    "import random\n",
    "\n",
    "random.seed(1)\n",
    "# out of 5 arms, 1 arm is clearly the best\n",
    "means = [0.8, 0.8, 0.8, 0.8, 0.9]\n",
    "n_arms = len(means)\n",
    "# Shuffling arms\n",
    "random.shuffle(means)\n",
    "\n",
    "# Create list of Bernoulli Arms with Reward Information\n",
    "arms = list(map(lambda mu: BernoulliArm(mu), means))\n",
    "print(\"Best arm is \" + str(np.argmax(means)))\n",
    "\n",
    "f = open(\"standard_results1.tsv\", \"w+\")\n",
    "\n",
    "# Create simulations for each exploration epsilon value\n",
    "for epsilon in [0.1, 0.2, 0.3, 0.4, 0.5]:\n",
    "    algo = EpsilonGreedy(epsilon, [], [])\n",
    "    algo.initialize(n_arms)\n",
    "    results = test_algorithm(algo, arms, 5000, 250)\n",
    "    \n",
    "    # Store data\n",
    "    for i in range(len(results[0])):\n",
    "        f.write(str(epsilon) + \"\\t\")\n",
    "        f.write(\"\\t\".join([str(results[j][i]) for j in range(len(results))]) + \"\\n\")\n",
    "f.close()\n",
    "print(\"done\")"
   ]
  },
  {
   "cell_type": "code",
   "execution_count": 72,
   "metadata": {},
   "outputs": [
    {
     "data": {
      "text/html": [
       "<div>\n",
       "<style scoped>\n",
       "    .dataframe tbody tr th:only-of-type {\n",
       "        vertical-align: middle;\n",
       "    }\n",
       "\n",
       "    .dataframe tbody tr th {\n",
       "        vertical-align: top;\n",
       "    }\n",
       "\n",
       "    .dataframe thead th {\n",
       "        text-align: right;\n",
       "    }\n",
       "</style>\n",
       "<table border=\"1\" class=\"dataframe\">\n",
       "  <thead>\n",
       "    <tr style=\"text-align: right;\">\n",
       "      <th></th>\n",
       "      <th>epsilon</th>\n",
       "      <th>simulation_num</th>\n",
       "      <th>step</th>\n",
       "      <th>chosen_arm</th>\n",
       "      <th>reward</th>\n",
       "      <th>cum_reward</th>\n",
       "    </tr>\n",
       "  </thead>\n",
       "  <tbody>\n",
       "    <tr>\n",
       "      <th>0</th>\n",
       "      <td>0.1</td>\n",
       "      <td>1</td>\n",
       "      <td>1</td>\n",
       "      <td>0</td>\n",
       "      <td>1.0</td>\n",
       "      <td>1.0</td>\n",
       "    </tr>\n",
       "    <tr>\n",
       "      <th>1</th>\n",
       "      <td>0.1</td>\n",
       "      <td>1</td>\n",
       "      <td>2</td>\n",
       "      <td>0</td>\n",
       "      <td>1.0</td>\n",
       "      <td>2.0</td>\n",
       "    </tr>\n",
       "    <tr>\n",
       "      <th>2</th>\n",
       "      <td>0.1</td>\n",
       "      <td>1</td>\n",
       "      <td>3</td>\n",
       "      <td>0</td>\n",
       "      <td>0.0</td>\n",
       "      <td>2.0</td>\n",
       "    </tr>\n",
       "    <tr>\n",
       "      <th>3</th>\n",
       "      <td>0.1</td>\n",
       "      <td>1</td>\n",
       "      <td>4</td>\n",
       "      <td>0</td>\n",
       "      <td>1.0</td>\n",
       "      <td>3.0</td>\n",
       "    </tr>\n",
       "    <tr>\n",
       "      <th>4</th>\n",
       "      <td>0.1</td>\n",
       "      <td>1</td>\n",
       "      <td>5</td>\n",
       "      <td>0</td>\n",
       "      <td>1.0</td>\n",
       "      <td>4.0</td>\n",
       "    </tr>\n",
       "  </tbody>\n",
       "</table>\n",
       "</div>"
      ],
      "text/plain": [
       "   epsilon  simulation_num  step  chosen_arm  reward  cum_reward\n",
       "0      0.1               1     1           0     1.0         1.0\n",
       "1      0.1               1     2           0     1.0         2.0\n",
       "2      0.1               1     3           0     0.0         2.0\n",
       "3      0.1               1     4           0     1.0         3.0\n",
       "4      0.1               1     5           0     1.0         4.0"
      ]
     },
     "execution_count": 72,
     "metadata": {},
     "output_type": "execute_result"
    }
   ],
   "source": [
    "df = pd.read_csv(\"standard_results1.tsv\", sep = \"\\t\", header = None, names = [\"epsilon\", \"simulation_num\", \"step\", \"chosen_arm\", \"reward\", \"cum_reward\"])\n",
    "\n",
    "df.head()"
   ]
  },
  {
   "cell_type": "code",
   "execution_count": 73,
   "metadata": {},
   "outputs": [],
   "source": [
    "# Create a flag for each step to see if best arm was chosen\n",
    "df[\"chose_correct\"] = np.select(\n",
    "    [\n",
    "        df[\"chosen_arm\"] == 2,\n",
    "        df[\"chosen_arm\"] != 2\n",
    "    ],\n",
    "    [\n",
    "        1,\n",
    "        0\n",
    "    ]\n",
    ")"
   ]
  },
  {
   "cell_type": "code",
   "execution_count": 74,
   "metadata": {},
   "outputs": [],
   "source": [
    "# Create a flag for each step to see if best arm was chosen\n",
    "df[\"chose_correct\"] = np.select(\n",
    "    [\n",
    "        df[\"chosen_arm\"] == 2,\n",
    "        df[\"chosen_arm\"] != 2\n",
    "    ],\n",
    "    [\n",
    "        1,\n",
    "        0\n",
    "    ]\n",
    ")"
   ]
  },
  {
   "cell_type": "code",
   "execution_count": 75,
   "metadata": {},
   "outputs": [],
   "source": [
    "# Perform average/mean for each step for all simulations and epsilon\n",
    "df_chose_correctly = df.loc[:,[\"epsilon\",\"step\", \"chose_correct\"]].groupby([\"epsilon\",\"step\"]).agg(\"mean\")\n",
    "\n",
    "# Remove multi index grouping\n",
    "df_chose_correctly = df_chose_correctly.reset_index()"
   ]
  },
  {
   "cell_type": "code",
   "execution_count": 82,
   "metadata": {},
   "outputs": [
    {
     "data": {
      "application/vnd.vegalite.v3+json": {
       "$schema": "https://vega.github.io/schema/vega-lite/v3.4.0.json",
       "config": {
        "mark": {
         "tooltip": null
        },
        "view": {
         "height": 300,
         "width": 400
        }
       },
       "data": {
        "name": "data-3e74dfdaa1389583c2c2f49f41b9c77d"
       },
       "datasets": {
        "data-3e74dfdaa1389583c2c2f49f41b9c77d": [
         {
          "chose_correct": 0.0184,
          "epsilon": 0.1,
          "step": 1
         },
         {
          "chose_correct": 0.0372,
          "epsilon": 0.1,
          "step": 2
         },
         {
          "chose_correct": 0.0404,
          "epsilon": 0.1,
          "step": 3
         },
         {
          "chose_correct": 0.0512,
          "epsilon": 0.1,
          "step": 4
         },
         {
          "chose_correct": 0.0562,
          "epsilon": 0.1,
          "step": 5
         },
         {
          "chose_correct": 0.0694,
          "epsilon": 0.1,
          "step": 6
         },
         {
          "chose_correct": 0.0774,
          "epsilon": 0.1,
          "step": 7
         },
         {
          "chose_correct": 0.0856,
          "epsilon": 0.1,
          "step": 8
         },
         {
          "chose_correct": 0.0986,
          "epsilon": 0.1,
          "step": 9
         },
         {
          "chose_correct": 0.1042,
          "epsilon": 0.1,
          "step": 10
         },
         {
          "chose_correct": 0.1156,
          "epsilon": 0.1,
          "step": 11
         },
         {
          "chose_correct": 0.124,
          "epsilon": 0.1,
          "step": 12
         },
         {
          "chose_correct": 0.129,
          "epsilon": 0.1,
          "step": 13
         },
         {
          "chose_correct": 0.1382,
          "epsilon": 0.1,
          "step": 14
         },
         {
          "chose_correct": 0.1462,
          "epsilon": 0.1,
          "step": 15
         },
         {
          "chose_correct": 0.1564,
          "epsilon": 0.1,
          "step": 16
         },
         {
          "chose_correct": 0.1608,
          "epsilon": 0.1,
          "step": 17
         },
         {
          "chose_correct": 0.1684,
          "epsilon": 0.1,
          "step": 18
         },
         {
          "chose_correct": 0.1732,
          "epsilon": 0.1,
          "step": 19
         },
         {
          "chose_correct": 0.1758,
          "epsilon": 0.1,
          "step": 20
         },
         {
          "chose_correct": 0.1808,
          "epsilon": 0.1,
          "step": 21
         },
         {
          "chose_correct": 0.1904,
          "epsilon": 0.1,
          "step": 22
         },
         {
          "chose_correct": 0.1974,
          "epsilon": 0.1,
          "step": 23
         },
         {
          "chose_correct": 0.2042,
          "epsilon": 0.1,
          "step": 24
         },
         {
          "chose_correct": 0.2044,
          "epsilon": 0.1,
          "step": 25
         },
         {
          "chose_correct": 0.2078,
          "epsilon": 0.1,
          "step": 26
         },
         {
          "chose_correct": 0.2096,
          "epsilon": 0.1,
          "step": 27
         },
         {
          "chose_correct": 0.2158,
          "epsilon": 0.1,
          "step": 28
         },
         {
          "chose_correct": 0.216,
          "epsilon": 0.1,
          "step": 29
         },
         {
          "chose_correct": 0.2246,
          "epsilon": 0.1,
          "step": 30
         },
         {
          "chose_correct": 0.2284,
          "epsilon": 0.1,
          "step": 31
         },
         {
          "chose_correct": 0.2358,
          "epsilon": 0.1,
          "step": 32
         },
         {
          "chose_correct": 0.2368,
          "epsilon": 0.1,
          "step": 33
         },
         {
          "chose_correct": 0.249,
          "epsilon": 0.1,
          "step": 34
         },
         {
          "chose_correct": 0.2454,
          "epsilon": 0.1,
          "step": 35
         },
         {
          "chose_correct": 0.2564,
          "epsilon": 0.1,
          "step": 36
         },
         {
          "chose_correct": 0.2502,
          "epsilon": 0.1,
          "step": 37
         },
         {
          "chose_correct": 0.2538,
          "epsilon": 0.1,
          "step": 38
         },
         {
          "chose_correct": 0.2588,
          "epsilon": 0.1,
          "step": 39
         },
         {
          "chose_correct": 0.2606,
          "epsilon": 0.1,
          "step": 40
         },
         {
          "chose_correct": 0.268,
          "epsilon": 0.1,
          "step": 41
         },
         {
          "chose_correct": 0.2678,
          "epsilon": 0.1,
          "step": 42
         },
         {
          "chose_correct": 0.2724,
          "epsilon": 0.1,
          "step": 43
         },
         {
          "chose_correct": 0.2802,
          "epsilon": 0.1,
          "step": 44
         },
         {
          "chose_correct": 0.2804,
          "epsilon": 0.1,
          "step": 45
         },
         {
          "chose_correct": 0.2838,
          "epsilon": 0.1,
          "step": 46
         },
         {
          "chose_correct": 0.289,
          "epsilon": 0.1,
          "step": 47
         },
         {
          "chose_correct": 0.294,
          "epsilon": 0.1,
          "step": 48
         },
         {
          "chose_correct": 0.2932,
          "epsilon": 0.1,
          "step": 49
         },
         {
          "chose_correct": 0.2976,
          "epsilon": 0.1,
          "step": 50
         },
         {
          "chose_correct": 0.2974,
          "epsilon": 0.1,
          "step": 51
         },
         {
          "chose_correct": 0.302,
          "epsilon": 0.1,
          "step": 52
         },
         {
          "chose_correct": 0.301,
          "epsilon": 0.1,
          "step": 53
         },
         {
          "chose_correct": 0.3096,
          "epsilon": 0.1,
          "step": 54
         },
         {
          "chose_correct": 0.3126,
          "epsilon": 0.1,
          "step": 55
         },
         {
          "chose_correct": 0.3128,
          "epsilon": 0.1,
          "step": 56
         },
         {
          "chose_correct": 0.3194,
          "epsilon": 0.1,
          "step": 57
         },
         {
          "chose_correct": 0.3264,
          "epsilon": 0.1,
          "step": 58
         },
         {
          "chose_correct": 0.3258,
          "epsilon": 0.1,
          "step": 59
         },
         {
          "chose_correct": 0.332,
          "epsilon": 0.1,
          "step": 60
         },
         {
          "chose_correct": 0.3324,
          "epsilon": 0.1,
          "step": 61
         },
         {
          "chose_correct": 0.3422,
          "epsilon": 0.1,
          "step": 62
         },
         {
          "chose_correct": 0.3408,
          "epsilon": 0.1,
          "step": 63
         },
         {
          "chose_correct": 0.3406,
          "epsilon": 0.1,
          "step": 64
         },
         {
          "chose_correct": 0.351,
          "epsilon": 0.1,
          "step": 65
         },
         {
          "chose_correct": 0.3488,
          "epsilon": 0.1,
          "step": 66
         },
         {
          "chose_correct": 0.3502,
          "epsilon": 0.1,
          "step": 67
         },
         {
          "chose_correct": 0.3586,
          "epsilon": 0.1,
          "step": 68
         },
         {
          "chose_correct": 0.3544,
          "epsilon": 0.1,
          "step": 69
         },
         {
          "chose_correct": 0.3624,
          "epsilon": 0.1,
          "step": 70
         },
         {
          "chose_correct": 0.3674,
          "epsilon": 0.1,
          "step": 71
         },
         {
          "chose_correct": 0.3742,
          "epsilon": 0.1,
          "step": 72
         },
         {
          "chose_correct": 0.3734,
          "epsilon": 0.1,
          "step": 73
         },
         {
          "chose_correct": 0.3748,
          "epsilon": 0.1,
          "step": 74
         },
         {
          "chose_correct": 0.3708,
          "epsilon": 0.1,
          "step": 75
         },
         {
          "chose_correct": 0.3782,
          "epsilon": 0.1,
          "step": 76
         },
         {
          "chose_correct": 0.381,
          "epsilon": 0.1,
          "step": 77
         },
         {
          "chose_correct": 0.3904,
          "epsilon": 0.1,
          "step": 78
         },
         {
          "chose_correct": 0.3948,
          "epsilon": 0.1,
          "step": 79
         },
         {
          "chose_correct": 0.4004,
          "epsilon": 0.1,
          "step": 80
         },
         {
          "chose_correct": 0.3932,
          "epsilon": 0.1,
          "step": 81
         },
         {
          "chose_correct": 0.392,
          "epsilon": 0.1,
          "step": 82
         },
         {
          "chose_correct": 0.3954,
          "epsilon": 0.1,
          "step": 83
         },
         {
          "chose_correct": 0.4034,
          "epsilon": 0.1,
          "step": 84
         },
         {
          "chose_correct": 0.4018,
          "epsilon": 0.1,
          "step": 85
         },
         {
          "chose_correct": 0.4072,
          "epsilon": 0.1,
          "step": 86
         },
         {
          "chose_correct": 0.4146,
          "epsilon": 0.1,
          "step": 87
         },
         {
          "chose_correct": 0.4102,
          "epsilon": 0.1,
          "step": 88
         },
         {
          "chose_correct": 0.4166,
          "epsilon": 0.1,
          "step": 89
         },
         {
          "chose_correct": 0.413,
          "epsilon": 0.1,
          "step": 90
         },
         {
          "chose_correct": 0.4226,
          "epsilon": 0.1,
          "step": 91
         },
         {
          "chose_correct": 0.4208,
          "epsilon": 0.1,
          "step": 92
         },
         {
          "chose_correct": 0.4264,
          "epsilon": 0.1,
          "step": 93
         },
         {
          "chose_correct": 0.426,
          "epsilon": 0.1,
          "step": 94
         },
         {
          "chose_correct": 0.4292,
          "epsilon": 0.1,
          "step": 95
         },
         {
          "chose_correct": 0.4322,
          "epsilon": 0.1,
          "step": 96
         },
         {
          "chose_correct": 0.4428,
          "epsilon": 0.1,
          "step": 97
         },
         {
          "chose_correct": 0.4392,
          "epsilon": 0.1,
          "step": 98
         },
         {
          "chose_correct": 0.4442,
          "epsilon": 0.1,
          "step": 99
         },
         {
          "chose_correct": 0.4394,
          "epsilon": 0.1,
          "step": 100
         },
         {
          "chose_correct": 0.456,
          "epsilon": 0.1,
          "step": 101
         },
         {
          "chose_correct": 0.447,
          "epsilon": 0.1,
          "step": 102
         },
         {
          "chose_correct": 0.4466,
          "epsilon": 0.1,
          "step": 103
         },
         {
          "chose_correct": 0.451,
          "epsilon": 0.1,
          "step": 104
         },
         {
          "chose_correct": 0.4528,
          "epsilon": 0.1,
          "step": 105
         },
         {
          "chose_correct": 0.4508,
          "epsilon": 0.1,
          "step": 106
         },
         {
          "chose_correct": 0.4594,
          "epsilon": 0.1,
          "step": 107
         },
         {
          "chose_correct": 0.4534,
          "epsilon": 0.1,
          "step": 108
         },
         {
          "chose_correct": 0.4582,
          "epsilon": 0.1,
          "step": 109
         },
         {
          "chose_correct": 0.4588,
          "epsilon": 0.1,
          "step": 110
         },
         {
          "chose_correct": 0.4552,
          "epsilon": 0.1,
          "step": 111
         },
         {
          "chose_correct": 0.4666,
          "epsilon": 0.1,
          "step": 112
         },
         {
          "chose_correct": 0.4648,
          "epsilon": 0.1,
          "step": 113
         },
         {
          "chose_correct": 0.4632,
          "epsilon": 0.1,
          "step": 114
         },
         {
          "chose_correct": 0.461,
          "epsilon": 0.1,
          "step": 115
         },
         {
          "chose_correct": 0.4672,
          "epsilon": 0.1,
          "step": 116
         },
         {
          "chose_correct": 0.467,
          "epsilon": 0.1,
          "step": 117
         },
         {
          "chose_correct": 0.47,
          "epsilon": 0.1,
          "step": 118
         },
         {
          "chose_correct": 0.472,
          "epsilon": 0.1,
          "step": 119
         },
         {
          "chose_correct": 0.4752,
          "epsilon": 0.1,
          "step": 120
         },
         {
          "chose_correct": 0.4816,
          "epsilon": 0.1,
          "step": 121
         },
         {
          "chose_correct": 0.4852,
          "epsilon": 0.1,
          "step": 122
         },
         {
          "chose_correct": 0.4854,
          "epsilon": 0.1,
          "step": 123
         },
         {
          "chose_correct": 0.4892,
          "epsilon": 0.1,
          "step": 124
         },
         {
          "chose_correct": 0.4862,
          "epsilon": 0.1,
          "step": 125
         },
         {
          "chose_correct": 0.4868,
          "epsilon": 0.1,
          "step": 126
         },
         {
          "chose_correct": 0.4882,
          "epsilon": 0.1,
          "step": 127
         },
         {
          "chose_correct": 0.4908,
          "epsilon": 0.1,
          "step": 128
         },
         {
          "chose_correct": 0.495,
          "epsilon": 0.1,
          "step": 129
         },
         {
          "chose_correct": 0.4934,
          "epsilon": 0.1,
          "step": 130
         },
         {
          "chose_correct": 0.4986,
          "epsilon": 0.1,
          "step": 131
         },
         {
          "chose_correct": 0.499,
          "epsilon": 0.1,
          "step": 132
         },
         {
          "chose_correct": 0.5002,
          "epsilon": 0.1,
          "step": 133
         },
         {
          "chose_correct": 0.499,
          "epsilon": 0.1,
          "step": 134
         },
         {
          "chose_correct": 0.501,
          "epsilon": 0.1,
          "step": 135
         },
         {
          "chose_correct": 0.5086,
          "epsilon": 0.1,
          "step": 136
         },
         {
          "chose_correct": 0.5034,
          "epsilon": 0.1,
          "step": 137
         },
         {
          "chose_correct": 0.507,
          "epsilon": 0.1,
          "step": 138
         },
         {
          "chose_correct": 0.5062,
          "epsilon": 0.1,
          "step": 139
         },
         {
          "chose_correct": 0.5112,
          "epsilon": 0.1,
          "step": 140
         },
         {
          "chose_correct": 0.5126,
          "epsilon": 0.1,
          "step": 141
         },
         {
          "chose_correct": 0.5138,
          "epsilon": 0.1,
          "step": 142
         },
         {
          "chose_correct": 0.5036,
          "epsilon": 0.1,
          "step": 143
         },
         {
          "chose_correct": 0.507,
          "epsilon": 0.1,
          "step": 144
         },
         {
          "chose_correct": 0.5106,
          "epsilon": 0.1,
          "step": 145
         },
         {
          "chose_correct": 0.5174,
          "epsilon": 0.1,
          "step": 146
         },
         {
          "chose_correct": 0.5216,
          "epsilon": 0.1,
          "step": 147
         },
         {
          "chose_correct": 0.5268,
          "epsilon": 0.1,
          "step": 148
         },
         {
          "chose_correct": 0.5244,
          "epsilon": 0.1,
          "step": 149
         },
         {
          "chose_correct": 0.5294,
          "epsilon": 0.1,
          "step": 150
         },
         {
          "chose_correct": 0.5256,
          "epsilon": 0.1,
          "step": 151
         },
         {
          "chose_correct": 0.529,
          "epsilon": 0.1,
          "step": 152
         },
         {
          "chose_correct": 0.5298,
          "epsilon": 0.1,
          "step": 153
         },
         {
          "chose_correct": 0.5302,
          "epsilon": 0.1,
          "step": 154
         },
         {
          "chose_correct": 0.5348,
          "epsilon": 0.1,
          "step": 155
         },
         {
          "chose_correct": 0.536,
          "epsilon": 0.1,
          "step": 156
         },
         {
          "chose_correct": 0.5388,
          "epsilon": 0.1,
          "step": 157
         },
         {
          "chose_correct": 0.537,
          "epsilon": 0.1,
          "step": 158
         },
         {
          "chose_correct": 0.5404,
          "epsilon": 0.1,
          "step": 159
         },
         {
          "chose_correct": 0.5466,
          "epsilon": 0.1,
          "step": 160
         },
         {
          "chose_correct": 0.544,
          "epsilon": 0.1,
          "step": 161
         },
         {
          "chose_correct": 0.547,
          "epsilon": 0.1,
          "step": 162
         },
         {
          "chose_correct": 0.5494,
          "epsilon": 0.1,
          "step": 163
         },
         {
          "chose_correct": 0.5558,
          "epsilon": 0.1,
          "step": 164
         },
         {
          "chose_correct": 0.5542,
          "epsilon": 0.1,
          "step": 165
         },
         {
          "chose_correct": 0.5596,
          "epsilon": 0.1,
          "step": 166
         },
         {
          "chose_correct": 0.557,
          "epsilon": 0.1,
          "step": 167
         },
         {
          "chose_correct": 0.5592,
          "epsilon": 0.1,
          "step": 168
         },
         {
          "chose_correct": 0.5586,
          "epsilon": 0.1,
          "step": 169
         },
         {
          "chose_correct": 0.564,
          "epsilon": 0.1,
          "step": 170
         },
         {
          "chose_correct": 0.5616,
          "epsilon": 0.1,
          "step": 171
         },
         {
          "chose_correct": 0.5636,
          "epsilon": 0.1,
          "step": 172
         },
         {
          "chose_correct": 0.561,
          "epsilon": 0.1,
          "step": 173
         },
         {
          "chose_correct": 0.5634,
          "epsilon": 0.1,
          "step": 174
         },
         {
          "chose_correct": 0.5578,
          "epsilon": 0.1,
          "step": 175
         },
         {
          "chose_correct": 0.567,
          "epsilon": 0.1,
          "step": 176
         },
         {
          "chose_correct": 0.5656,
          "epsilon": 0.1,
          "step": 177
         },
         {
          "chose_correct": 0.568,
          "epsilon": 0.1,
          "step": 178
         },
         {
          "chose_correct": 0.5734,
          "epsilon": 0.1,
          "step": 179
         },
         {
          "chose_correct": 0.5694,
          "epsilon": 0.1,
          "step": 180
         },
         {
          "chose_correct": 0.5678,
          "epsilon": 0.1,
          "step": 181
         },
         {
          "chose_correct": 0.5712,
          "epsilon": 0.1,
          "step": 182
         },
         {
          "chose_correct": 0.5744,
          "epsilon": 0.1,
          "step": 183
         },
         {
          "chose_correct": 0.5774,
          "epsilon": 0.1,
          "step": 184
         },
         {
          "chose_correct": 0.5708,
          "epsilon": 0.1,
          "step": 185
         },
         {
          "chose_correct": 0.5744,
          "epsilon": 0.1,
          "step": 186
         },
         {
          "chose_correct": 0.5798,
          "epsilon": 0.1,
          "step": 187
         },
         {
          "chose_correct": 0.5776,
          "epsilon": 0.1,
          "step": 188
         },
         {
          "chose_correct": 0.5836,
          "epsilon": 0.1,
          "step": 189
         },
         {
          "chose_correct": 0.5808,
          "epsilon": 0.1,
          "step": 190
         },
         {
          "chose_correct": 0.5826,
          "epsilon": 0.1,
          "step": 191
         },
         {
          "chose_correct": 0.5834,
          "epsilon": 0.1,
          "step": 192
         },
         {
          "chose_correct": 0.588,
          "epsilon": 0.1,
          "step": 193
         },
         {
          "chose_correct": 0.5776,
          "epsilon": 0.1,
          "step": 194
         },
         {
          "chose_correct": 0.582,
          "epsilon": 0.1,
          "step": 195
         },
         {
          "chose_correct": 0.5874,
          "epsilon": 0.1,
          "step": 196
         },
         {
          "chose_correct": 0.5838,
          "epsilon": 0.1,
          "step": 197
         },
         {
          "chose_correct": 0.5852,
          "epsilon": 0.1,
          "step": 198
         },
         {
          "chose_correct": 0.5838,
          "epsilon": 0.1,
          "step": 199
         },
         {
          "chose_correct": 0.587,
          "epsilon": 0.1,
          "step": 200
         },
         {
          "chose_correct": 0.5916,
          "epsilon": 0.1,
          "step": 201
         },
         {
          "chose_correct": 0.5976,
          "epsilon": 0.1,
          "step": 202
         },
         {
          "chose_correct": 0.5936,
          "epsilon": 0.1,
          "step": 203
         },
         {
          "chose_correct": 0.5994,
          "epsilon": 0.1,
          "step": 204
         },
         {
          "chose_correct": 0.5974,
          "epsilon": 0.1,
          "step": 205
         },
         {
          "chose_correct": 0.5972,
          "epsilon": 0.1,
          "step": 206
         },
         {
          "chose_correct": 0.5946,
          "epsilon": 0.1,
          "step": 207
         },
         {
          "chose_correct": 0.5986,
          "epsilon": 0.1,
          "step": 208
         },
         {
          "chose_correct": 0.5936,
          "epsilon": 0.1,
          "step": 209
         },
         {
          "chose_correct": 0.6024,
          "epsilon": 0.1,
          "step": 210
         },
         {
          "chose_correct": 0.6058,
          "epsilon": 0.1,
          "step": 211
         },
         {
          "chose_correct": 0.5976,
          "epsilon": 0.1,
          "step": 212
         },
         {
          "chose_correct": 0.6012,
          "epsilon": 0.1,
          "step": 213
         },
         {
          "chose_correct": 0.604,
          "epsilon": 0.1,
          "step": 214
         },
         {
          "chose_correct": 0.6014,
          "epsilon": 0.1,
          "step": 215
         },
         {
          "chose_correct": 0.613,
          "epsilon": 0.1,
          "step": 216
         },
         {
          "chose_correct": 0.6036,
          "epsilon": 0.1,
          "step": 217
         },
         {
          "chose_correct": 0.609,
          "epsilon": 0.1,
          "step": 218
         },
         {
          "chose_correct": 0.6074,
          "epsilon": 0.1,
          "step": 219
         },
         {
          "chose_correct": 0.6134,
          "epsilon": 0.1,
          "step": 220
         },
         {
          "chose_correct": 0.6166,
          "epsilon": 0.1,
          "step": 221
         },
         {
          "chose_correct": 0.6146,
          "epsilon": 0.1,
          "step": 222
         },
         {
          "chose_correct": 0.6148,
          "epsilon": 0.1,
          "step": 223
         },
         {
          "chose_correct": 0.6168,
          "epsilon": 0.1,
          "step": 224
         },
         {
          "chose_correct": 0.612,
          "epsilon": 0.1,
          "step": 225
         },
         {
          "chose_correct": 0.6192,
          "epsilon": 0.1,
          "step": 226
         },
         {
          "chose_correct": 0.6182,
          "epsilon": 0.1,
          "step": 227
         },
         {
          "chose_correct": 0.6254,
          "epsilon": 0.1,
          "step": 228
         },
         {
          "chose_correct": 0.6148,
          "epsilon": 0.1,
          "step": 229
         },
         {
          "chose_correct": 0.6264,
          "epsilon": 0.1,
          "step": 230
         },
         {
          "chose_correct": 0.62,
          "epsilon": 0.1,
          "step": 231
         },
         {
          "chose_correct": 0.6214,
          "epsilon": 0.1,
          "step": 232
         },
         {
          "chose_correct": 0.6184,
          "epsilon": 0.1,
          "step": 233
         },
         {
          "chose_correct": 0.6174,
          "epsilon": 0.1,
          "step": 234
         },
         {
          "chose_correct": 0.6242,
          "epsilon": 0.1,
          "step": 235
         },
         {
          "chose_correct": 0.6192,
          "epsilon": 0.1,
          "step": 236
         },
         {
          "chose_correct": 0.6216,
          "epsilon": 0.1,
          "step": 237
         },
         {
          "chose_correct": 0.6224,
          "epsilon": 0.1,
          "step": 238
         },
         {
          "chose_correct": 0.6248,
          "epsilon": 0.1,
          "step": 239
         },
         {
          "chose_correct": 0.6238,
          "epsilon": 0.1,
          "step": 240
         },
         {
          "chose_correct": 0.6294,
          "epsilon": 0.1,
          "step": 241
         },
         {
          "chose_correct": 0.6254,
          "epsilon": 0.1,
          "step": 242
         },
         {
          "chose_correct": 0.6246,
          "epsilon": 0.1,
          "step": 243
         },
         {
          "chose_correct": 0.6288,
          "epsilon": 0.1,
          "step": 244
         },
         {
          "chose_correct": 0.6364,
          "epsilon": 0.1,
          "step": 245
         },
         {
          "chose_correct": 0.6358,
          "epsilon": 0.1,
          "step": 246
         },
         {
          "chose_correct": 0.6302,
          "epsilon": 0.1,
          "step": 247
         },
         {
          "chose_correct": 0.6392,
          "epsilon": 0.1,
          "step": 248
         },
         {
          "chose_correct": 0.638,
          "epsilon": 0.1,
          "step": 249
         },
         {
          "chose_correct": 0.6328,
          "epsilon": 0.1,
          "step": 250
         },
         {
          "chose_correct": 0.0376,
          "epsilon": 0.2,
          "step": 1
         },
         {
          "chose_correct": 0.063,
          "epsilon": 0.2,
          "step": 2
         },
         {
          "chose_correct": 0.072,
          "epsilon": 0.2,
          "step": 3
         },
         {
          "chose_correct": 0.0898,
          "epsilon": 0.2,
          "step": 4
         },
         {
          "chose_correct": 0.0952,
          "epsilon": 0.2,
          "step": 5
         },
         {
          "chose_correct": 0.1142,
          "epsilon": 0.2,
          "step": 6
         },
         {
          "chose_correct": 0.1254,
          "epsilon": 0.2,
          "step": 7
         },
         {
          "chose_correct": 0.141,
          "epsilon": 0.2,
          "step": 8
         },
         {
          "chose_correct": 0.16,
          "epsilon": 0.2,
          "step": 9
         },
         {
          "chose_correct": 0.1784,
          "epsilon": 0.2,
          "step": 10
         },
         {
          "chose_correct": 0.1894,
          "epsilon": 0.2,
          "step": 11
         },
         {
          "chose_correct": 0.2004,
          "epsilon": 0.2,
          "step": 12
         },
         {
          "chose_correct": 0.2088,
          "epsilon": 0.2,
          "step": 13
         },
         {
          "chose_correct": 0.2226,
          "epsilon": 0.2,
          "step": 14
         },
         {
          "chose_correct": 0.2256,
          "epsilon": 0.2,
          "step": 15
         },
         {
          "chose_correct": 0.2314,
          "epsilon": 0.2,
          "step": 16
         },
         {
          "chose_correct": 0.2478,
          "epsilon": 0.2,
          "step": 17
         },
         {
          "chose_correct": 0.2526,
          "epsilon": 0.2,
          "step": 18
         },
         {
          "chose_correct": 0.2628,
          "epsilon": 0.2,
          "step": 19
         },
         {
          "chose_correct": 0.273,
          "epsilon": 0.2,
          "step": 20
         },
         {
          "chose_correct": 0.2714,
          "epsilon": 0.2,
          "step": 21
         },
         {
          "chose_correct": 0.2716,
          "epsilon": 0.2,
          "step": 22
         },
         {
          "chose_correct": 0.2864,
          "epsilon": 0.2,
          "step": 23
         },
         {
          "chose_correct": 0.2874,
          "epsilon": 0.2,
          "step": 24
         },
         {
          "chose_correct": 0.2954,
          "epsilon": 0.2,
          "step": 25
         },
         {
          "chose_correct": 0.297,
          "epsilon": 0.2,
          "step": 26
         },
         {
          "chose_correct": 0.2972,
          "epsilon": 0.2,
          "step": 27
         },
         {
          "chose_correct": 0.2962,
          "epsilon": 0.2,
          "step": 28
         },
         {
          "chose_correct": 0.3036,
          "epsilon": 0.2,
          "step": 29
         },
         {
          "chose_correct": 0.3142,
          "epsilon": 0.2,
          "step": 30
         },
         {
          "chose_correct": 0.3154,
          "epsilon": 0.2,
          "step": 31
         },
         {
          "chose_correct": 0.3196,
          "epsilon": 0.2,
          "step": 32
         },
         {
          "chose_correct": 0.3234,
          "epsilon": 0.2,
          "step": 33
         },
         {
          "chose_correct": 0.321,
          "epsilon": 0.2,
          "step": 34
         },
         {
          "chose_correct": 0.3286,
          "epsilon": 0.2,
          "step": 35
         },
         {
          "chose_correct": 0.3318,
          "epsilon": 0.2,
          "step": 36
         },
         {
          "chose_correct": 0.3286,
          "epsilon": 0.2,
          "step": 37
         },
         {
          "chose_correct": 0.3328,
          "epsilon": 0.2,
          "step": 38
         },
         {
          "chose_correct": 0.339,
          "epsilon": 0.2,
          "step": 39
         },
         {
          "chose_correct": 0.342,
          "epsilon": 0.2,
          "step": 40
         },
         {
          "chose_correct": 0.3452,
          "epsilon": 0.2,
          "step": 41
         },
         {
          "chose_correct": 0.3532,
          "epsilon": 0.2,
          "step": 42
         },
         {
          "chose_correct": 0.3532,
          "epsilon": 0.2,
          "step": 43
         },
         {
          "chose_correct": 0.351,
          "epsilon": 0.2,
          "step": 44
         },
         {
          "chose_correct": 0.3486,
          "epsilon": 0.2,
          "step": 45
         },
         {
          "chose_correct": 0.3502,
          "epsilon": 0.2,
          "step": 46
         },
         {
          "chose_correct": 0.3588,
          "epsilon": 0.2,
          "step": 47
         },
         {
          "chose_correct": 0.3644,
          "epsilon": 0.2,
          "step": 48
         },
         {
          "chose_correct": 0.367,
          "epsilon": 0.2,
          "step": 49
         },
         {
          "chose_correct": 0.3616,
          "epsilon": 0.2,
          "step": 50
         },
         {
          "chose_correct": 0.377,
          "epsilon": 0.2,
          "step": 51
         },
         {
          "chose_correct": 0.3756,
          "epsilon": 0.2,
          "step": 52
         },
         {
          "chose_correct": 0.3702,
          "epsilon": 0.2,
          "step": 53
         },
         {
          "chose_correct": 0.3784,
          "epsilon": 0.2,
          "step": 54
         },
         {
          "chose_correct": 0.3744,
          "epsilon": 0.2,
          "step": 55
         },
         {
          "chose_correct": 0.3812,
          "epsilon": 0.2,
          "step": 56
         },
         {
          "chose_correct": 0.383,
          "epsilon": 0.2,
          "step": 57
         },
         {
          "chose_correct": 0.3936,
          "epsilon": 0.2,
          "step": 58
         },
         {
          "chose_correct": 0.396,
          "epsilon": 0.2,
          "step": 59
         },
         {
          "chose_correct": 0.3974,
          "epsilon": 0.2,
          "step": 60
         },
         {
          "chose_correct": 0.4092,
          "epsilon": 0.2,
          "step": 61
         },
         {
          "chose_correct": 0.4016,
          "epsilon": 0.2,
          "step": 62
         },
         {
          "chose_correct": 0.4122,
          "epsilon": 0.2,
          "step": 63
         },
         {
          "chose_correct": 0.4124,
          "epsilon": 0.2,
          "step": 64
         },
         {
          "chose_correct": 0.4112,
          "epsilon": 0.2,
          "step": 65
         },
         {
          "chose_correct": 0.422,
          "epsilon": 0.2,
          "step": 66
         },
         {
          "chose_correct": 0.4294,
          "epsilon": 0.2,
          "step": 67
         },
         {
          "chose_correct": 0.4272,
          "epsilon": 0.2,
          "step": 68
         },
         {
          "chose_correct": 0.4266,
          "epsilon": 0.2,
          "step": 69
         },
         {
          "chose_correct": 0.4372,
          "epsilon": 0.2,
          "step": 70
         },
         {
          "chose_correct": 0.4358,
          "epsilon": 0.2,
          "step": 71
         },
         {
          "chose_correct": 0.4448,
          "epsilon": 0.2,
          "step": 72
         },
         {
          "chose_correct": 0.4378,
          "epsilon": 0.2,
          "step": 73
         },
         {
          "chose_correct": 0.4468,
          "epsilon": 0.2,
          "step": 74
         },
         {
          "chose_correct": 0.4414,
          "epsilon": 0.2,
          "step": 75
         },
         {
          "chose_correct": 0.4454,
          "epsilon": 0.2,
          "step": 76
         },
         {
          "chose_correct": 0.4508,
          "epsilon": 0.2,
          "step": 77
         },
         {
          "chose_correct": 0.4562,
          "epsilon": 0.2,
          "step": 78
         },
         {
          "chose_correct": 0.4612,
          "epsilon": 0.2,
          "step": 79
         },
         {
          "chose_correct": 0.4558,
          "epsilon": 0.2,
          "step": 80
         },
         {
          "chose_correct": 0.4594,
          "epsilon": 0.2,
          "step": 81
         },
         {
          "chose_correct": 0.4726,
          "epsilon": 0.2,
          "step": 82
         },
         {
          "chose_correct": 0.4718,
          "epsilon": 0.2,
          "step": 83
         },
         {
          "chose_correct": 0.4658,
          "epsilon": 0.2,
          "step": 84
         },
         {
          "chose_correct": 0.466,
          "epsilon": 0.2,
          "step": 85
         },
         {
          "chose_correct": 0.4752,
          "epsilon": 0.2,
          "step": 86
         },
         {
          "chose_correct": 0.4752,
          "epsilon": 0.2,
          "step": 87
         },
         {
          "chose_correct": 0.4826,
          "epsilon": 0.2,
          "step": 88
         },
         {
          "chose_correct": 0.4788,
          "epsilon": 0.2,
          "step": 89
         },
         {
          "chose_correct": 0.4756,
          "epsilon": 0.2,
          "step": 90
         },
         {
          "chose_correct": 0.4874,
          "epsilon": 0.2,
          "step": 91
         },
         {
          "chose_correct": 0.484,
          "epsilon": 0.2,
          "step": 92
         },
         {
          "chose_correct": 0.4858,
          "epsilon": 0.2,
          "step": 93
         },
         {
          "chose_correct": 0.4866,
          "epsilon": 0.2,
          "step": 94
         },
         {
          "chose_correct": 0.497,
          "epsilon": 0.2,
          "step": 95
         },
         {
          "chose_correct": 0.493,
          "epsilon": 0.2,
          "step": 96
         },
         {
          "chose_correct": 0.4888,
          "epsilon": 0.2,
          "step": 97
         },
         {
          "chose_correct": 0.4932,
          "epsilon": 0.2,
          "step": 98
         },
         {
          "chose_correct": 0.4922,
          "epsilon": 0.2,
          "step": 99
         },
         {
          "chose_correct": 0.5018,
          "epsilon": 0.2,
          "step": 100
         },
         {
          "chose_correct": 0.4984,
          "epsilon": 0.2,
          "step": 101
         },
         {
          "chose_correct": 0.4998,
          "epsilon": 0.2,
          "step": 102
         },
         {
          "chose_correct": 0.497,
          "epsilon": 0.2,
          "step": 103
         },
         {
          "chose_correct": 0.4952,
          "epsilon": 0.2,
          "step": 104
         },
         {
          "chose_correct": 0.5124,
          "epsilon": 0.2,
          "step": 105
         },
         {
          "chose_correct": 0.5042,
          "epsilon": 0.2,
          "step": 106
         },
         {
          "chose_correct": 0.5138,
          "epsilon": 0.2,
          "step": 107
         },
         {
          "chose_correct": 0.5062,
          "epsilon": 0.2,
          "step": 108
         },
         {
          "chose_correct": 0.5158,
          "epsilon": 0.2,
          "step": 109
         },
         {
          "chose_correct": 0.5164,
          "epsilon": 0.2,
          "step": 110
         },
         {
          "chose_correct": 0.5176,
          "epsilon": 0.2,
          "step": 111
         },
         {
          "chose_correct": 0.5186,
          "epsilon": 0.2,
          "step": 112
         },
         {
          "chose_correct": 0.5276,
          "epsilon": 0.2,
          "step": 113
         },
         {
          "chose_correct": 0.5212,
          "epsilon": 0.2,
          "step": 114
         },
         {
          "chose_correct": 0.5262,
          "epsilon": 0.2,
          "step": 115
         },
         {
          "chose_correct": 0.5334,
          "epsilon": 0.2,
          "step": 116
         },
         {
          "chose_correct": 0.5328,
          "epsilon": 0.2,
          "step": 117
         },
         {
          "chose_correct": 0.5336,
          "epsilon": 0.2,
          "step": 118
         },
         {
          "chose_correct": 0.5356,
          "epsilon": 0.2,
          "step": 119
         },
         {
          "chose_correct": 0.5316,
          "epsilon": 0.2,
          "step": 120
         },
         {
          "chose_correct": 0.5392,
          "epsilon": 0.2,
          "step": 121
         },
         {
          "chose_correct": 0.543,
          "epsilon": 0.2,
          "step": 122
         },
         {
          "chose_correct": 0.5364,
          "epsilon": 0.2,
          "step": 123
         },
         {
          "chose_correct": 0.543,
          "epsilon": 0.2,
          "step": 124
         },
         {
          "chose_correct": 0.5342,
          "epsilon": 0.2,
          "step": 125
         },
         {
          "chose_correct": 0.5566,
          "epsilon": 0.2,
          "step": 126
         },
         {
          "chose_correct": 0.5432,
          "epsilon": 0.2,
          "step": 127
         },
         {
          "chose_correct": 0.5492,
          "epsilon": 0.2,
          "step": 128
         },
         {
          "chose_correct": 0.5442,
          "epsilon": 0.2,
          "step": 129
         },
         {
          "chose_correct": 0.559,
          "epsilon": 0.2,
          "step": 130
         },
         {
          "chose_correct": 0.5458,
          "epsilon": 0.2,
          "step": 131
         },
         {
          "chose_correct": 0.5518,
          "epsilon": 0.2,
          "step": 132
         },
         {
          "chose_correct": 0.5548,
          "epsilon": 0.2,
          "step": 133
         },
         {
          "chose_correct": 0.5492,
          "epsilon": 0.2,
          "step": 134
         },
         {
          "chose_correct": 0.5528,
          "epsilon": 0.2,
          "step": 135
         },
         {
          "chose_correct": 0.5472,
          "epsilon": 0.2,
          "step": 136
         },
         {
          "chose_correct": 0.5514,
          "epsilon": 0.2,
          "step": 137
         },
         {
          "chose_correct": 0.5548,
          "epsilon": 0.2,
          "step": 138
         },
         {
          "chose_correct": 0.5588,
          "epsilon": 0.2,
          "step": 139
         },
         {
          "chose_correct": 0.5518,
          "epsilon": 0.2,
          "step": 140
         },
         {
          "chose_correct": 0.5636,
          "epsilon": 0.2,
          "step": 141
         },
         {
          "chose_correct": 0.5534,
          "epsilon": 0.2,
          "step": 142
         },
         {
          "chose_correct": 0.5662,
          "epsilon": 0.2,
          "step": 143
         },
         {
          "chose_correct": 0.5632,
          "epsilon": 0.2,
          "step": 144
         },
         {
          "chose_correct": 0.573,
          "epsilon": 0.2,
          "step": 145
         },
         {
          "chose_correct": 0.565,
          "epsilon": 0.2,
          "step": 146
         },
         {
          "chose_correct": 0.5648,
          "epsilon": 0.2,
          "step": 147
         },
         {
          "chose_correct": 0.5674,
          "epsilon": 0.2,
          "step": 148
         },
         {
          "chose_correct": 0.5762,
          "epsilon": 0.2,
          "step": 149
         },
         {
          "chose_correct": 0.5726,
          "epsilon": 0.2,
          "step": 150
         },
         {
          "chose_correct": 0.5744,
          "epsilon": 0.2,
          "step": 151
         },
         {
          "chose_correct": 0.5722,
          "epsilon": 0.2,
          "step": 152
         },
         {
          "chose_correct": 0.5716,
          "epsilon": 0.2,
          "step": 153
         },
         {
          "chose_correct": 0.583,
          "epsilon": 0.2,
          "step": 154
         },
         {
          "chose_correct": 0.5794,
          "epsilon": 0.2,
          "step": 155
         },
         {
          "chose_correct": 0.5792,
          "epsilon": 0.2,
          "step": 156
         },
         {
          "chose_correct": 0.5812,
          "epsilon": 0.2,
          "step": 157
         },
         {
          "chose_correct": 0.5792,
          "epsilon": 0.2,
          "step": 158
         },
         {
          "chose_correct": 0.5828,
          "epsilon": 0.2,
          "step": 159
         },
         {
          "chose_correct": 0.5936,
          "epsilon": 0.2,
          "step": 160
         },
         {
          "chose_correct": 0.5896,
          "epsilon": 0.2,
          "step": 161
         },
         {
          "chose_correct": 0.5864,
          "epsilon": 0.2,
          "step": 162
         },
         {
          "chose_correct": 0.5918,
          "epsilon": 0.2,
          "step": 163
         },
         {
          "chose_correct": 0.5872,
          "epsilon": 0.2,
          "step": 164
         },
         {
          "chose_correct": 0.5868,
          "epsilon": 0.2,
          "step": 165
         },
         {
          "chose_correct": 0.5834,
          "epsilon": 0.2,
          "step": 166
         },
         {
          "chose_correct": 0.5954,
          "epsilon": 0.2,
          "step": 167
         },
         {
          "chose_correct": 0.594,
          "epsilon": 0.2,
          "step": 168
         },
         {
          "chose_correct": 0.592,
          "epsilon": 0.2,
          "step": 169
         },
         {
          "chose_correct": 0.5866,
          "epsilon": 0.2,
          "step": 170
         },
         {
          "chose_correct": 0.597,
          "epsilon": 0.2,
          "step": 171
         },
         {
          "chose_correct": 0.597,
          "epsilon": 0.2,
          "step": 172
         },
         {
          "chose_correct": 0.5996,
          "epsilon": 0.2,
          "step": 173
         },
         {
          "chose_correct": 0.593,
          "epsilon": 0.2,
          "step": 174
         },
         {
          "chose_correct": 0.5912,
          "epsilon": 0.2,
          "step": 175
         },
         {
          "chose_correct": 0.5946,
          "epsilon": 0.2,
          "step": 176
         },
         {
          "chose_correct": 0.6022,
          "epsilon": 0.2,
          "step": 177
         },
         {
          "chose_correct": 0.5942,
          "epsilon": 0.2,
          "step": 178
         },
         {
          "chose_correct": 0.6036,
          "epsilon": 0.2,
          "step": 179
         },
         {
          "chose_correct": 0.6084,
          "epsilon": 0.2,
          "step": 180
         },
         {
          "chose_correct": 0.5948,
          "epsilon": 0.2,
          "step": 181
         },
         {
          "chose_correct": 0.6068,
          "epsilon": 0.2,
          "step": 182
         },
         {
          "chose_correct": 0.6044,
          "epsilon": 0.2,
          "step": 183
         },
         {
          "chose_correct": 0.6068,
          "epsilon": 0.2,
          "step": 184
         },
         {
          "chose_correct": 0.6082,
          "epsilon": 0.2,
          "step": 185
         },
         {
          "chose_correct": 0.6098,
          "epsilon": 0.2,
          "step": 186
         },
         {
          "chose_correct": 0.6158,
          "epsilon": 0.2,
          "step": 187
         },
         {
          "chose_correct": 0.611,
          "epsilon": 0.2,
          "step": 188
         },
         {
          "chose_correct": 0.615,
          "epsilon": 0.2,
          "step": 189
         },
         {
          "chose_correct": 0.6188,
          "epsilon": 0.2,
          "step": 190
         },
         {
          "chose_correct": 0.611,
          "epsilon": 0.2,
          "step": 191
         },
         {
          "chose_correct": 0.612,
          "epsilon": 0.2,
          "step": 192
         },
         {
          "chose_correct": 0.6158,
          "epsilon": 0.2,
          "step": 193
         },
         {
          "chose_correct": 0.6082,
          "epsilon": 0.2,
          "step": 194
         },
         {
          "chose_correct": 0.6254,
          "epsilon": 0.2,
          "step": 195
         },
         {
          "chose_correct": 0.619,
          "epsilon": 0.2,
          "step": 196
         },
         {
          "chose_correct": 0.6126,
          "epsilon": 0.2,
          "step": 197
         },
         {
          "chose_correct": 0.6222,
          "epsilon": 0.2,
          "step": 198
         },
         {
          "chose_correct": 0.6226,
          "epsilon": 0.2,
          "step": 199
         },
         {
          "chose_correct": 0.622,
          "epsilon": 0.2,
          "step": 200
         },
         {
          "chose_correct": 0.6222,
          "epsilon": 0.2,
          "step": 201
         },
         {
          "chose_correct": 0.6206,
          "epsilon": 0.2,
          "step": 202
         },
         {
          "chose_correct": 0.6228,
          "epsilon": 0.2,
          "step": 203
         },
         {
          "chose_correct": 0.627,
          "epsilon": 0.2,
          "step": 204
         },
         {
          "chose_correct": 0.6292,
          "epsilon": 0.2,
          "step": 205
         },
         {
          "chose_correct": 0.626,
          "epsilon": 0.2,
          "step": 206
         },
         {
          "chose_correct": 0.6388,
          "epsilon": 0.2,
          "step": 207
         },
         {
          "chose_correct": 0.6328,
          "epsilon": 0.2,
          "step": 208
         },
         {
          "chose_correct": 0.633,
          "epsilon": 0.2,
          "step": 209
         },
         {
          "chose_correct": 0.631,
          "epsilon": 0.2,
          "step": 210
         },
         {
          "chose_correct": 0.6438,
          "epsilon": 0.2,
          "step": 211
         },
         {
          "chose_correct": 0.6302,
          "epsilon": 0.2,
          "step": 212
         },
         {
          "chose_correct": 0.6328,
          "epsilon": 0.2,
          "step": 213
         },
         {
          "chose_correct": 0.626,
          "epsilon": 0.2,
          "step": 214
         },
         {
          "chose_correct": 0.6376,
          "epsilon": 0.2,
          "step": 215
         },
         {
          "chose_correct": 0.6442,
          "epsilon": 0.2,
          "step": 216
         },
         {
          "chose_correct": 0.6436,
          "epsilon": 0.2,
          "step": 217
         },
         {
          "chose_correct": 0.6394,
          "epsilon": 0.2,
          "step": 218
         },
         {
          "chose_correct": 0.6412,
          "epsilon": 0.2,
          "step": 219
         },
         {
          "chose_correct": 0.637,
          "epsilon": 0.2,
          "step": 220
         },
         {
          "chose_correct": 0.6406,
          "epsilon": 0.2,
          "step": 221
         },
         {
          "chose_correct": 0.6426,
          "epsilon": 0.2,
          "step": 222
         },
         {
          "chose_correct": 0.6382,
          "epsilon": 0.2,
          "step": 223
         },
         {
          "chose_correct": 0.6408,
          "epsilon": 0.2,
          "step": 224
         },
         {
          "chose_correct": 0.649,
          "epsilon": 0.2,
          "step": 225
         },
         {
          "chose_correct": 0.6506,
          "epsilon": 0.2,
          "step": 226
         },
         {
          "chose_correct": 0.654,
          "epsilon": 0.2,
          "step": 227
         },
         {
          "chose_correct": 0.644,
          "epsilon": 0.2,
          "step": 228
         },
         {
          "chose_correct": 0.6442,
          "epsilon": 0.2,
          "step": 229
         },
         {
          "chose_correct": 0.6552,
          "epsilon": 0.2,
          "step": 230
         },
         {
          "chose_correct": 0.6488,
          "epsilon": 0.2,
          "step": 231
         },
         {
          "chose_correct": 0.6504,
          "epsilon": 0.2,
          "step": 232
         },
         {
          "chose_correct": 0.6524,
          "epsilon": 0.2,
          "step": 233
         },
         {
          "chose_correct": 0.6532,
          "epsilon": 0.2,
          "step": 234
         },
         {
          "chose_correct": 0.6502,
          "epsilon": 0.2,
          "step": 235
         },
         {
          "chose_correct": 0.6572,
          "epsilon": 0.2,
          "step": 236
         },
         {
          "chose_correct": 0.6482,
          "epsilon": 0.2,
          "step": 237
         },
         {
          "chose_correct": 0.6556,
          "epsilon": 0.2,
          "step": 238
         },
         {
          "chose_correct": 0.6534,
          "epsilon": 0.2,
          "step": 239
         },
         {
          "chose_correct": 0.6582,
          "epsilon": 0.2,
          "step": 240
         },
         {
          "chose_correct": 0.662,
          "epsilon": 0.2,
          "step": 241
         },
         {
          "chose_correct": 0.6582,
          "epsilon": 0.2,
          "step": 242
         },
         {
          "chose_correct": 0.6578,
          "epsilon": 0.2,
          "step": 243
         },
         {
          "chose_correct": 0.6594,
          "epsilon": 0.2,
          "step": 244
         },
         {
          "chose_correct": 0.6548,
          "epsilon": 0.2,
          "step": 245
         },
         {
          "chose_correct": 0.6506,
          "epsilon": 0.2,
          "step": 246
         },
         {
          "chose_correct": 0.6594,
          "epsilon": 0.2,
          "step": 247
         },
         {
          "chose_correct": 0.665,
          "epsilon": 0.2,
          "step": 248
         },
         {
          "chose_correct": 0.6598,
          "epsilon": 0.2,
          "step": 249
         },
         {
          "chose_correct": 0.6678,
          "epsilon": 0.2,
          "step": 250
         },
         {
          "chose_correct": 0.0624,
          "epsilon": 0.3,
          "step": 1
         },
         {
          "chose_correct": 0.0968,
          "epsilon": 0.3,
          "step": 2
         },
         {
          "chose_correct": 0.1008,
          "epsilon": 0.3,
          "step": 3
         },
         {
          "chose_correct": 0.113,
          "epsilon": 0.3,
          "step": 4
         },
         {
          "chose_correct": 0.1186,
          "epsilon": 0.3,
          "step": 5
         },
         {
          "chose_correct": 0.1418,
          "epsilon": 0.3,
          "step": 6
         },
         {
          "chose_correct": 0.1612,
          "epsilon": 0.3,
          "step": 7
         },
         {
          "chose_correct": 0.1786,
          "epsilon": 0.3,
          "step": 8
         },
         {
          "chose_correct": 0.1886,
          "epsilon": 0.3,
          "step": 9
         },
         {
          "chose_correct": 0.1986,
          "epsilon": 0.3,
          "step": 10
         },
         {
          "chose_correct": 0.2174,
          "epsilon": 0.3,
          "step": 11
         },
         {
          "chose_correct": 0.2252,
          "epsilon": 0.3,
          "step": 12
         },
         {
          "chose_correct": 0.2278,
          "epsilon": 0.3,
          "step": 13
         },
         {
          "chose_correct": 0.25,
          "epsilon": 0.3,
          "step": 14
         },
         {
          "chose_correct": 0.2572,
          "epsilon": 0.3,
          "step": 15
         },
         {
          "chose_correct": 0.261,
          "epsilon": 0.3,
          "step": 16
         },
         {
          "chose_correct": 0.2732,
          "epsilon": 0.3,
          "step": 17
         },
         {
          "chose_correct": 0.2786,
          "epsilon": 0.3,
          "step": 18
         },
         {
          "chose_correct": 0.2782,
          "epsilon": 0.3,
          "step": 19
         },
         {
          "chose_correct": 0.2888,
          "epsilon": 0.3,
          "step": 20
         },
         {
          "chose_correct": 0.2952,
          "epsilon": 0.3,
          "step": 21
         },
         {
          "chose_correct": 0.3014,
          "epsilon": 0.3,
          "step": 22
         },
         {
          "chose_correct": 0.3006,
          "epsilon": 0.3,
          "step": 23
         },
         {
          "chose_correct": 0.307,
          "epsilon": 0.3,
          "step": 24
         },
         {
          "chose_correct": 0.306,
          "epsilon": 0.3,
          "step": 25
         },
         {
          "chose_correct": 0.2992,
          "epsilon": 0.3,
          "step": 26
         },
         {
          "chose_correct": 0.314,
          "epsilon": 0.3,
          "step": 27
         },
         {
          "chose_correct": 0.3232,
          "epsilon": 0.3,
          "step": 28
         },
         {
          "chose_correct": 0.317,
          "epsilon": 0.3,
          "step": 29
         },
         {
          "chose_correct": 0.315,
          "epsilon": 0.3,
          "step": 30
         },
         {
          "chose_correct": 0.322,
          "epsilon": 0.3,
          "step": 31
         },
         {
          "chose_correct": 0.3276,
          "epsilon": 0.3,
          "step": 32
         },
         {
          "chose_correct": 0.3342,
          "epsilon": 0.3,
          "step": 33
         },
         {
          "chose_correct": 0.3256,
          "epsilon": 0.3,
          "step": 34
         },
         {
          "chose_correct": 0.3286,
          "epsilon": 0.3,
          "step": 35
         },
         {
          "chose_correct": 0.3366,
          "epsilon": 0.3,
          "step": 36
         },
         {
          "chose_correct": 0.3368,
          "epsilon": 0.3,
          "step": 37
         },
         {
          "chose_correct": 0.3358,
          "epsilon": 0.3,
          "step": 38
         },
         {
          "chose_correct": 0.3402,
          "epsilon": 0.3,
          "step": 39
         },
         {
          "chose_correct": 0.3354,
          "epsilon": 0.3,
          "step": 40
         },
         {
          "chose_correct": 0.3392,
          "epsilon": 0.3,
          "step": 41
         },
         {
          "chose_correct": 0.345,
          "epsilon": 0.3,
          "step": 42
         },
         {
          "chose_correct": 0.3502,
          "epsilon": 0.3,
          "step": 43
         },
         {
          "chose_correct": 0.3604,
          "epsilon": 0.3,
          "step": 44
         },
         {
          "chose_correct": 0.3506,
          "epsilon": 0.3,
          "step": 45
         },
         {
          "chose_correct": 0.3542,
          "epsilon": 0.3,
          "step": 46
         },
         {
          "chose_correct": 0.364,
          "epsilon": 0.3,
          "step": 47
         },
         {
          "chose_correct": 0.3708,
          "epsilon": 0.3,
          "step": 48
         },
         {
          "chose_correct": 0.365,
          "epsilon": 0.3,
          "step": 49
         },
         {
          "chose_correct": 0.3678,
          "epsilon": 0.3,
          "step": 50
         },
         {
          "chose_correct": 0.3686,
          "epsilon": 0.3,
          "step": 51
         },
         {
          "chose_correct": 0.3674,
          "epsilon": 0.3,
          "step": 52
         },
         {
          "chose_correct": 0.3746,
          "epsilon": 0.3,
          "step": 53
         },
         {
          "chose_correct": 0.392,
          "epsilon": 0.3,
          "step": 54
         },
         {
          "chose_correct": 0.3778,
          "epsilon": 0.3,
          "step": 55
         },
         {
          "chose_correct": 0.3768,
          "epsilon": 0.3,
          "step": 56
         },
         {
          "chose_correct": 0.3914,
          "epsilon": 0.3,
          "step": 57
         },
         {
          "chose_correct": 0.388,
          "epsilon": 0.3,
          "step": 58
         },
         {
          "chose_correct": 0.3824,
          "epsilon": 0.3,
          "step": 59
         },
         {
          "chose_correct": 0.403,
          "epsilon": 0.3,
          "step": 60
         },
         {
          "chose_correct": 0.3924,
          "epsilon": 0.3,
          "step": 61
         },
         {
          "chose_correct": 0.4,
          "epsilon": 0.3,
          "step": 62
         },
         {
          "chose_correct": 0.3942,
          "epsilon": 0.3,
          "step": 63
         },
         {
          "chose_correct": 0.41,
          "epsilon": 0.3,
          "step": 64
         },
         {
          "chose_correct": 0.4058,
          "epsilon": 0.3,
          "step": 65
         },
         {
          "chose_correct": 0.4076,
          "epsilon": 0.3,
          "step": 66
         },
         {
          "chose_correct": 0.4226,
          "epsilon": 0.3,
          "step": 67
         },
         {
          "chose_correct": 0.4208,
          "epsilon": 0.3,
          "step": 68
         },
         {
          "chose_correct": 0.42,
          "epsilon": 0.3,
          "step": 69
         },
         {
          "chose_correct": 0.4248,
          "epsilon": 0.3,
          "step": 70
         },
         {
          "chose_correct": 0.4168,
          "epsilon": 0.3,
          "step": 71
         },
         {
          "chose_correct": 0.4302,
          "epsilon": 0.3,
          "step": 72
         },
         {
          "chose_correct": 0.4346,
          "epsilon": 0.3,
          "step": 73
         },
         {
          "chose_correct": 0.429,
          "epsilon": 0.3,
          "step": 74
         },
         {
          "chose_correct": 0.4296,
          "epsilon": 0.3,
          "step": 75
         },
         {
          "chose_correct": 0.4378,
          "epsilon": 0.3,
          "step": 76
         },
         {
          "chose_correct": 0.4372,
          "epsilon": 0.3,
          "step": 77
         },
         {
          "chose_correct": 0.4476,
          "epsilon": 0.3,
          "step": 78
         },
         {
          "chose_correct": 0.4444,
          "epsilon": 0.3,
          "step": 79
         },
         {
          "chose_correct": 0.4484,
          "epsilon": 0.3,
          "step": 80
         },
         {
          "chose_correct": 0.4498,
          "epsilon": 0.3,
          "step": 81
         },
         {
          "chose_correct": 0.4542,
          "epsilon": 0.3,
          "step": 82
         },
         {
          "chose_correct": 0.4488,
          "epsilon": 0.3,
          "step": 83
         },
         {
          "chose_correct": 0.4578,
          "epsilon": 0.3,
          "step": 84
         },
         {
          "chose_correct": 0.4522,
          "epsilon": 0.3,
          "step": 85
         },
         {
          "chose_correct": 0.4496,
          "epsilon": 0.3,
          "step": 86
         },
         {
          "chose_correct": 0.4624,
          "epsilon": 0.3,
          "step": 87
         },
         {
          "chose_correct": 0.4562,
          "epsilon": 0.3,
          "step": 88
         },
         {
          "chose_correct": 0.4566,
          "epsilon": 0.3,
          "step": 89
         },
         {
          "chose_correct": 0.466,
          "epsilon": 0.3,
          "step": 90
         },
         {
          "chose_correct": 0.4702,
          "epsilon": 0.3,
          "step": 91
         },
         {
          "chose_correct": 0.4652,
          "epsilon": 0.3,
          "step": 92
         },
         {
          "chose_correct": 0.4632,
          "epsilon": 0.3,
          "step": 93
         },
         {
          "chose_correct": 0.4732,
          "epsilon": 0.3,
          "step": 94
         },
         {
          "chose_correct": 0.4686,
          "epsilon": 0.3,
          "step": 95
         },
         {
          "chose_correct": 0.4662,
          "epsilon": 0.3,
          "step": 96
         },
         {
          "chose_correct": 0.4746,
          "epsilon": 0.3,
          "step": 97
         },
         {
          "chose_correct": 0.486,
          "epsilon": 0.3,
          "step": 98
         },
         {
          "chose_correct": 0.485,
          "epsilon": 0.3,
          "step": 99
         },
         {
          "chose_correct": 0.4836,
          "epsilon": 0.3,
          "step": 100
         },
         {
          "chose_correct": 0.48,
          "epsilon": 0.3,
          "step": 101
         },
         {
          "chose_correct": 0.483,
          "epsilon": 0.3,
          "step": 102
         },
         {
          "chose_correct": 0.4866,
          "epsilon": 0.3,
          "step": 103
         },
         {
          "chose_correct": 0.4792,
          "epsilon": 0.3,
          "step": 104
         },
         {
          "chose_correct": 0.478,
          "epsilon": 0.3,
          "step": 105
         },
         {
          "chose_correct": 0.4746,
          "epsilon": 0.3,
          "step": 106
         },
         {
          "chose_correct": 0.4876,
          "epsilon": 0.3,
          "step": 107
         },
         {
          "chose_correct": 0.4836,
          "epsilon": 0.3,
          "step": 108
         },
         {
          "chose_correct": 0.4864,
          "epsilon": 0.3,
          "step": 109
         },
         {
          "chose_correct": 0.4924,
          "epsilon": 0.3,
          "step": 110
         },
         {
          "chose_correct": 0.4926,
          "epsilon": 0.3,
          "step": 111
         },
         {
          "chose_correct": 0.5008,
          "epsilon": 0.3,
          "step": 112
         },
         {
          "chose_correct": 0.498,
          "epsilon": 0.3,
          "step": 113
         },
         {
          "chose_correct": 0.4992,
          "epsilon": 0.3,
          "step": 114
         },
         {
          "chose_correct": 0.503,
          "epsilon": 0.3,
          "step": 115
         },
         {
          "chose_correct": 0.4986,
          "epsilon": 0.3,
          "step": 116
         },
         {
          "chose_correct": 0.5134,
          "epsilon": 0.3,
          "step": 117
         },
         {
          "chose_correct": 0.5068,
          "epsilon": 0.3,
          "step": 118
         },
         {
          "chose_correct": 0.5078,
          "epsilon": 0.3,
          "step": 119
         },
         {
          "chose_correct": 0.5102,
          "epsilon": 0.3,
          "step": 120
         },
         {
          "chose_correct": 0.5032,
          "epsilon": 0.3,
          "step": 121
         },
         {
          "chose_correct": 0.5118,
          "epsilon": 0.3,
          "step": 122
         },
         {
          "chose_correct": 0.5028,
          "epsilon": 0.3,
          "step": 123
         },
         {
          "chose_correct": 0.509,
          "epsilon": 0.3,
          "step": 124
         },
         {
          "chose_correct": 0.5192,
          "epsilon": 0.3,
          "step": 125
         },
         {
          "chose_correct": 0.5086,
          "epsilon": 0.3,
          "step": 126
         },
         {
          "chose_correct": 0.5124,
          "epsilon": 0.3,
          "step": 127
         },
         {
          "chose_correct": 0.5164,
          "epsilon": 0.3,
          "step": 128
         },
         {
          "chose_correct": 0.5132,
          "epsilon": 0.3,
          "step": 129
         },
         {
          "chose_correct": 0.5114,
          "epsilon": 0.3,
          "step": 130
         },
         {
          "chose_correct": 0.5196,
          "epsilon": 0.3,
          "step": 131
         },
         {
          "chose_correct": 0.5214,
          "epsilon": 0.3,
          "step": 132
         },
         {
          "chose_correct": 0.5212,
          "epsilon": 0.3,
          "step": 133
         },
         {
          "chose_correct": 0.5248,
          "epsilon": 0.3,
          "step": 134
         },
         {
          "chose_correct": 0.5242,
          "epsilon": 0.3,
          "step": 135
         },
         {
          "chose_correct": 0.5272,
          "epsilon": 0.3,
          "step": 136
         },
         {
          "chose_correct": 0.526,
          "epsilon": 0.3,
          "step": 137
         },
         {
          "chose_correct": 0.5276,
          "epsilon": 0.3,
          "step": 138
         },
         {
          "chose_correct": 0.5324,
          "epsilon": 0.3,
          "step": 139
         },
         {
          "chose_correct": 0.5268,
          "epsilon": 0.3,
          "step": 140
         },
         {
          "chose_correct": 0.5262,
          "epsilon": 0.3,
          "step": 141
         },
         {
          "chose_correct": 0.535,
          "epsilon": 0.3,
          "step": 142
         },
         {
          "chose_correct": 0.5316,
          "epsilon": 0.3,
          "step": 143
         },
         {
          "chose_correct": 0.5354,
          "epsilon": 0.3,
          "step": 144
         },
         {
          "chose_correct": 0.5362,
          "epsilon": 0.3,
          "step": 145
         },
         {
          "chose_correct": 0.5288,
          "epsilon": 0.3,
          "step": 146
         },
         {
          "chose_correct": 0.5376,
          "epsilon": 0.3,
          "step": 147
         },
         {
          "chose_correct": 0.5326,
          "epsilon": 0.3,
          "step": 148
         },
         {
          "chose_correct": 0.5378,
          "epsilon": 0.3,
          "step": 149
         },
         {
          "chose_correct": 0.544,
          "epsilon": 0.3,
          "step": 150
         },
         {
          "chose_correct": 0.544,
          "epsilon": 0.3,
          "step": 151
         },
         {
          "chose_correct": 0.5444,
          "epsilon": 0.3,
          "step": 152
         },
         {
          "chose_correct": 0.5488,
          "epsilon": 0.3,
          "step": 153
         },
         {
          "chose_correct": 0.5418,
          "epsilon": 0.3,
          "step": 154
         },
         {
          "chose_correct": 0.5474,
          "epsilon": 0.3,
          "step": 155
         },
         {
          "chose_correct": 0.5422,
          "epsilon": 0.3,
          "step": 156
         },
         {
          "chose_correct": 0.5526,
          "epsilon": 0.3,
          "step": 157
         },
         {
          "chose_correct": 0.5484,
          "epsilon": 0.3,
          "step": 158
         },
         {
          "chose_correct": 0.556,
          "epsilon": 0.3,
          "step": 159
         },
         {
          "chose_correct": 0.5566,
          "epsilon": 0.3,
          "step": 160
         },
         {
          "chose_correct": 0.5586,
          "epsilon": 0.3,
          "step": 161
         },
         {
          "chose_correct": 0.5524,
          "epsilon": 0.3,
          "step": 162
         },
         {
          "chose_correct": 0.549,
          "epsilon": 0.3,
          "step": 163
         },
         {
          "chose_correct": 0.5542,
          "epsilon": 0.3,
          "step": 164
         },
         {
          "chose_correct": 0.5474,
          "epsilon": 0.3,
          "step": 165
         },
         {
          "chose_correct": 0.5666,
          "epsilon": 0.3,
          "step": 166
         },
         {
          "chose_correct": 0.5656,
          "epsilon": 0.3,
          "step": 167
         },
         {
          "chose_correct": 0.5698,
          "epsilon": 0.3,
          "step": 168
         },
         {
          "chose_correct": 0.558,
          "epsilon": 0.3,
          "step": 169
         },
         {
          "chose_correct": 0.5584,
          "epsilon": 0.3,
          "step": 170
         },
         {
          "chose_correct": 0.5672,
          "epsilon": 0.3,
          "step": 171
         },
         {
          "chose_correct": 0.5702,
          "epsilon": 0.3,
          "step": 172
         },
         {
          "chose_correct": 0.5636,
          "epsilon": 0.3,
          "step": 173
         },
         {
          "chose_correct": 0.554,
          "epsilon": 0.3,
          "step": 174
         },
         {
          "chose_correct": 0.5668,
          "epsilon": 0.3,
          "step": 175
         },
         {
          "chose_correct": 0.578,
          "epsilon": 0.3,
          "step": 176
         },
         {
          "chose_correct": 0.5684,
          "epsilon": 0.3,
          "step": 177
         },
         {
          "chose_correct": 0.5702,
          "epsilon": 0.3,
          "step": 178
         },
         {
          "chose_correct": 0.5768,
          "epsilon": 0.3,
          "step": 179
         },
         {
          "chose_correct": 0.5694,
          "epsilon": 0.3,
          "step": 180
         },
         {
          "chose_correct": 0.567,
          "epsilon": 0.3,
          "step": 181
         },
         {
          "chose_correct": 0.5714,
          "epsilon": 0.3,
          "step": 182
         },
         {
          "chose_correct": 0.5782,
          "epsilon": 0.3,
          "step": 183
         },
         {
          "chose_correct": 0.5758,
          "epsilon": 0.3,
          "step": 184
         },
         {
          "chose_correct": 0.5714,
          "epsilon": 0.3,
          "step": 185
         },
         {
          "chose_correct": 0.5874,
          "epsilon": 0.3,
          "step": 186
         },
         {
          "chose_correct": 0.571,
          "epsilon": 0.3,
          "step": 187
         },
         {
          "chose_correct": 0.5746,
          "epsilon": 0.3,
          "step": 188
         },
         {
          "chose_correct": 0.5754,
          "epsilon": 0.3,
          "step": 189
         },
         {
          "chose_correct": 0.5802,
          "epsilon": 0.3,
          "step": 190
         },
         {
          "chose_correct": 0.5768,
          "epsilon": 0.3,
          "step": 191
         },
         {
          "chose_correct": 0.5764,
          "epsilon": 0.3,
          "step": 192
         },
         {
          "chose_correct": 0.5786,
          "epsilon": 0.3,
          "step": 193
         },
         {
          "chose_correct": 0.5702,
          "epsilon": 0.3,
          "step": 194
         },
         {
          "chose_correct": 0.5908,
          "epsilon": 0.3,
          "step": 195
         },
         {
          "chose_correct": 0.5848,
          "epsilon": 0.3,
          "step": 196
         },
         {
          "chose_correct": 0.5908,
          "epsilon": 0.3,
          "step": 197
         },
         {
          "chose_correct": 0.5908,
          "epsilon": 0.3,
          "step": 198
         },
         {
          "chose_correct": 0.5818,
          "epsilon": 0.3,
          "step": 199
         },
         {
          "chose_correct": 0.5862,
          "epsilon": 0.3,
          "step": 200
         },
         {
          "chose_correct": 0.5924,
          "epsilon": 0.3,
          "step": 201
         },
         {
          "chose_correct": 0.5754,
          "epsilon": 0.3,
          "step": 202
         },
         {
          "chose_correct": 0.5932,
          "epsilon": 0.3,
          "step": 203
         },
         {
          "chose_correct": 0.5948,
          "epsilon": 0.3,
          "step": 204
         },
         {
          "chose_correct": 0.5956,
          "epsilon": 0.3,
          "step": 205
         },
         {
          "chose_correct": 0.601,
          "epsilon": 0.3,
          "step": 206
         },
         {
          "chose_correct": 0.5922,
          "epsilon": 0.3,
          "step": 207
         },
         {
          "chose_correct": 0.5944,
          "epsilon": 0.3,
          "step": 208
         },
         {
          "chose_correct": 0.595,
          "epsilon": 0.3,
          "step": 209
         },
         {
          "chose_correct": 0.5866,
          "epsilon": 0.3,
          "step": 210
         },
         {
          "chose_correct": 0.5894,
          "epsilon": 0.3,
          "step": 211
         },
         {
          "chose_correct": 0.5956,
          "epsilon": 0.3,
          "step": 212
         },
         {
          "chose_correct": 0.6062,
          "epsilon": 0.3,
          "step": 213
         },
         {
          "chose_correct": 0.6004,
          "epsilon": 0.3,
          "step": 214
         },
         {
          "chose_correct": 0.607,
          "epsilon": 0.3,
          "step": 215
         },
         {
          "chose_correct": 0.591,
          "epsilon": 0.3,
          "step": 216
         },
         {
          "chose_correct": 0.5966,
          "epsilon": 0.3,
          "step": 217
         },
         {
          "chose_correct": 0.5948,
          "epsilon": 0.3,
          "step": 218
         },
         {
          "chose_correct": 0.6004,
          "epsilon": 0.3,
          "step": 219
         },
         {
          "chose_correct": 0.6072,
          "epsilon": 0.3,
          "step": 220
         },
         {
          "chose_correct": 0.6064,
          "epsilon": 0.3,
          "step": 221
         },
         {
          "chose_correct": 0.6034,
          "epsilon": 0.3,
          "step": 222
         },
         {
          "chose_correct": 0.6096,
          "epsilon": 0.3,
          "step": 223
         },
         {
          "chose_correct": 0.5976,
          "epsilon": 0.3,
          "step": 224
         },
         {
          "chose_correct": 0.6116,
          "epsilon": 0.3,
          "step": 225
         },
         {
          "chose_correct": 0.6114,
          "epsilon": 0.3,
          "step": 226
         },
         {
          "chose_correct": 0.6108,
          "epsilon": 0.3,
          "step": 227
         },
         {
          "chose_correct": 0.6024,
          "epsilon": 0.3,
          "step": 228
         },
         {
          "chose_correct": 0.6096,
          "epsilon": 0.3,
          "step": 229
         },
         {
          "chose_correct": 0.608,
          "epsilon": 0.3,
          "step": 230
         },
         {
          "chose_correct": 0.6126,
          "epsilon": 0.3,
          "step": 231
         },
         {
          "chose_correct": 0.6126,
          "epsilon": 0.3,
          "step": 232
         },
         {
          "chose_correct": 0.6194,
          "epsilon": 0.3,
          "step": 233
         },
         {
          "chose_correct": 0.6072,
          "epsilon": 0.3,
          "step": 234
         },
         {
          "chose_correct": 0.6142,
          "epsilon": 0.3,
          "step": 235
         },
         {
          "chose_correct": 0.6058,
          "epsilon": 0.3,
          "step": 236
         },
         {
          "chose_correct": 0.6142,
          "epsilon": 0.3,
          "step": 237
         },
         {
          "chose_correct": 0.6168,
          "epsilon": 0.3,
          "step": 238
         },
         {
          "chose_correct": 0.6162,
          "epsilon": 0.3,
          "step": 239
         },
         {
          "chose_correct": 0.628,
          "epsilon": 0.3,
          "step": 240
         },
         {
          "chose_correct": 0.6194,
          "epsilon": 0.3,
          "step": 241
         },
         {
          "chose_correct": 0.6214,
          "epsilon": 0.3,
          "step": 242
         },
         {
          "chose_correct": 0.63,
          "epsilon": 0.3,
          "step": 243
         },
         {
          "chose_correct": 0.614,
          "epsilon": 0.3,
          "step": 244
         },
         {
          "chose_correct": 0.6236,
          "epsilon": 0.3,
          "step": 245
         },
         {
          "chose_correct": 0.6174,
          "epsilon": 0.3,
          "step": 246
         },
         {
          "chose_correct": 0.6214,
          "epsilon": 0.3,
          "step": 247
         },
         {
          "chose_correct": 0.6298,
          "epsilon": 0.3,
          "step": 248
         },
         {
          "chose_correct": 0.624,
          "epsilon": 0.3,
          "step": 249
         },
         {
          "chose_correct": 0.6214,
          "epsilon": 0.3,
          "step": 250
         },
         {
          "chose_correct": 0.0824,
          "epsilon": 0.4,
          "step": 1
         },
         {
          "chose_correct": 0.12,
          "epsilon": 0.4,
          "step": 2
         },
         {
          "chose_correct": 0.129,
          "epsilon": 0.4,
          "step": 3
         },
         {
          "chose_correct": 0.1314,
          "epsilon": 0.4,
          "step": 4
         },
         {
          "chose_correct": 0.1502,
          "epsilon": 0.4,
          "step": 5
         },
         {
          "chose_correct": 0.1606,
          "epsilon": 0.4,
          "step": 6
         },
         {
          "chose_correct": 0.1762,
          "epsilon": 0.4,
          "step": 7
         },
         {
          "chose_correct": 0.1928,
          "epsilon": 0.4,
          "step": 8
         },
         {
          "chose_correct": 0.195,
          "epsilon": 0.4,
          "step": 9
         },
         {
          "chose_correct": 0.2118,
          "epsilon": 0.4,
          "step": 10
         },
         {
          "chose_correct": 0.2226,
          "epsilon": 0.4,
          "step": 11
         },
         {
          "chose_correct": 0.2272,
          "epsilon": 0.4,
          "step": 12
         },
         {
          "chose_correct": 0.251,
          "epsilon": 0.4,
          "step": 13
         },
         {
          "chose_correct": 0.2376,
          "epsilon": 0.4,
          "step": 14
         },
         {
          "chose_correct": 0.2464,
          "epsilon": 0.4,
          "step": 15
         },
         {
          "chose_correct": 0.2554,
          "epsilon": 0.4,
          "step": 16
         },
         {
          "chose_correct": 0.2646,
          "epsilon": 0.4,
          "step": 17
         },
         {
          "chose_correct": 0.2788,
          "epsilon": 0.4,
          "step": 18
         },
         {
          "chose_correct": 0.2734,
          "epsilon": 0.4,
          "step": 19
         },
         {
          "chose_correct": 0.2752,
          "epsilon": 0.4,
          "step": 20
         },
         {
          "chose_correct": 0.2924,
          "epsilon": 0.4,
          "step": 21
         },
         {
          "chose_correct": 0.3004,
          "epsilon": 0.4,
          "step": 22
         },
         {
          "chose_correct": 0.2904,
          "epsilon": 0.4,
          "step": 23
         },
         {
          "chose_correct": 0.303,
          "epsilon": 0.4,
          "step": 24
         },
         {
          "chose_correct": 0.295,
          "epsilon": 0.4,
          "step": 25
         },
         {
          "chose_correct": 0.3074,
          "epsilon": 0.4,
          "step": 26
         },
         {
          "chose_correct": 0.3132,
          "epsilon": 0.4,
          "step": 27
         },
         {
          "chose_correct": 0.3142,
          "epsilon": 0.4,
          "step": 28
         },
         {
          "chose_correct": 0.311,
          "epsilon": 0.4,
          "step": 29
         },
         {
          "chose_correct": 0.3166,
          "epsilon": 0.4,
          "step": 30
         },
         {
          "chose_correct": 0.3044,
          "epsilon": 0.4,
          "step": 31
         },
         {
          "chose_correct": 0.3148,
          "epsilon": 0.4,
          "step": 32
         },
         {
          "chose_correct": 0.3236,
          "epsilon": 0.4,
          "step": 33
         },
         {
          "chose_correct": 0.3204,
          "epsilon": 0.4,
          "step": 34
         },
         {
          "chose_correct": 0.3246,
          "epsilon": 0.4,
          "step": 35
         },
         {
          "chose_correct": 0.337,
          "epsilon": 0.4,
          "step": 36
         },
         {
          "chose_correct": 0.3266,
          "epsilon": 0.4,
          "step": 37
         },
         {
          "chose_correct": 0.3266,
          "epsilon": 0.4,
          "step": 38
         },
         {
          "chose_correct": 0.3276,
          "epsilon": 0.4,
          "step": 39
         },
         {
          "chose_correct": 0.3304,
          "epsilon": 0.4,
          "step": 40
         },
         {
          "chose_correct": 0.33,
          "epsilon": 0.4,
          "step": 41
         },
         {
          "chose_correct": 0.3184,
          "epsilon": 0.4,
          "step": 42
         },
         {
          "chose_correct": 0.3306,
          "epsilon": 0.4,
          "step": 43
         },
         {
          "chose_correct": 0.3254,
          "epsilon": 0.4,
          "step": 44
         },
         {
          "chose_correct": 0.3372,
          "epsilon": 0.4,
          "step": 45
         },
         {
          "chose_correct": 0.34,
          "epsilon": 0.4,
          "step": 46
         },
         {
          "chose_correct": 0.3494,
          "epsilon": 0.4,
          "step": 47
         },
         {
          "chose_correct": 0.3342,
          "epsilon": 0.4,
          "step": 48
         },
         {
          "chose_correct": 0.356,
          "epsilon": 0.4,
          "step": 49
         },
         {
          "chose_correct": 0.3438,
          "epsilon": 0.4,
          "step": 50
         },
         {
          "chose_correct": 0.3532,
          "epsilon": 0.4,
          "step": 51
         },
         {
          "chose_correct": 0.3622,
          "epsilon": 0.4,
          "step": 52
         },
         {
          "chose_correct": 0.3458,
          "epsilon": 0.4,
          "step": 53
         },
         {
          "chose_correct": 0.3568,
          "epsilon": 0.4,
          "step": 54
         },
         {
          "chose_correct": 0.3664,
          "epsilon": 0.4,
          "step": 55
         },
         {
          "chose_correct": 0.3644,
          "epsilon": 0.4,
          "step": 56
         },
         {
          "chose_correct": 0.3692,
          "epsilon": 0.4,
          "step": 57
         },
         {
          "chose_correct": 0.3628,
          "epsilon": 0.4,
          "step": 58
         },
         {
          "chose_correct": 0.3742,
          "epsilon": 0.4,
          "step": 59
         },
         {
          "chose_correct": 0.3666,
          "epsilon": 0.4,
          "step": 60
         },
         {
          "chose_correct": 0.3626,
          "epsilon": 0.4,
          "step": 61
         },
         {
          "chose_correct": 0.3742,
          "epsilon": 0.4,
          "step": 62
         },
         {
          "chose_correct": 0.3862,
          "epsilon": 0.4,
          "step": 63
         },
         {
          "chose_correct": 0.3822,
          "epsilon": 0.4,
          "step": 64
         },
         {
          "chose_correct": 0.381,
          "epsilon": 0.4,
          "step": 65
         },
         {
          "chose_correct": 0.3902,
          "epsilon": 0.4,
          "step": 66
         },
         {
          "chose_correct": 0.3932,
          "epsilon": 0.4,
          "step": 67
         },
         {
          "chose_correct": 0.3896,
          "epsilon": 0.4,
          "step": 68
         },
         {
          "chose_correct": 0.3942,
          "epsilon": 0.4,
          "step": 69
         },
         {
          "chose_correct": 0.394,
          "epsilon": 0.4,
          "step": 70
         },
         {
          "chose_correct": 0.3912,
          "epsilon": 0.4,
          "step": 71
         },
         {
          "chose_correct": 0.4092,
          "epsilon": 0.4,
          "step": 72
         },
         {
          "chose_correct": 0.3958,
          "epsilon": 0.4,
          "step": 73
         },
         {
          "chose_correct": 0.4052,
          "epsilon": 0.4,
          "step": 74
         },
         {
          "chose_correct": 0.4058,
          "epsilon": 0.4,
          "step": 75
         },
         {
          "chose_correct": 0.397,
          "epsilon": 0.4,
          "step": 76
         },
         {
          "chose_correct": 0.3996,
          "epsilon": 0.4,
          "step": 77
         },
         {
          "chose_correct": 0.4166,
          "epsilon": 0.4,
          "step": 78
         },
         {
          "chose_correct": 0.4054,
          "epsilon": 0.4,
          "step": 79
         },
         {
          "chose_correct": 0.4158,
          "epsilon": 0.4,
          "step": 80
         },
         {
          "chose_correct": 0.4204,
          "epsilon": 0.4,
          "step": 81
         },
         {
          "chose_correct": 0.4216,
          "epsilon": 0.4,
          "step": 82
         },
         {
          "chose_correct": 0.422,
          "epsilon": 0.4,
          "step": 83
         },
         {
          "chose_correct": 0.4198,
          "epsilon": 0.4,
          "step": 84
         },
         {
          "chose_correct": 0.426,
          "epsilon": 0.4,
          "step": 85
         },
         {
          "chose_correct": 0.432,
          "epsilon": 0.4,
          "step": 86
         },
         {
          "chose_correct": 0.4318,
          "epsilon": 0.4,
          "step": 87
         },
         {
          "chose_correct": 0.42,
          "epsilon": 0.4,
          "step": 88
         },
         {
          "chose_correct": 0.43,
          "epsilon": 0.4,
          "step": 89
         },
         {
          "chose_correct": 0.4416,
          "epsilon": 0.4,
          "step": 90
         },
         {
          "chose_correct": 0.4382,
          "epsilon": 0.4,
          "step": 91
         },
         {
          "chose_correct": 0.4292,
          "epsilon": 0.4,
          "step": 92
         },
         {
          "chose_correct": 0.4306,
          "epsilon": 0.4,
          "step": 93
         },
         {
          "chose_correct": 0.4396,
          "epsilon": 0.4,
          "step": 94
         },
         {
          "chose_correct": 0.4472,
          "epsilon": 0.4,
          "step": 95
         },
         {
          "chose_correct": 0.4464,
          "epsilon": 0.4,
          "step": 96
         },
         {
          "chose_correct": 0.4502,
          "epsilon": 0.4,
          "step": 97
         },
         {
          "chose_correct": 0.4408,
          "epsilon": 0.4,
          "step": 98
         },
         {
          "chose_correct": 0.439,
          "epsilon": 0.4,
          "step": 99
         },
         {
          "chose_correct": 0.4502,
          "epsilon": 0.4,
          "step": 100
         },
         {
          "chose_correct": 0.4528,
          "epsilon": 0.4,
          "step": 101
         },
         {
          "chose_correct": 0.4526,
          "epsilon": 0.4,
          "step": 102
         },
         {
          "chose_correct": 0.4612,
          "epsilon": 0.4,
          "step": 103
         },
         {
          "chose_correct": 0.4764,
          "epsilon": 0.4,
          "step": 104
         },
         {
          "chose_correct": 0.4492,
          "epsilon": 0.4,
          "step": 105
         },
         {
          "chose_correct": 0.461,
          "epsilon": 0.4,
          "step": 106
         },
         {
          "chose_correct": 0.4574,
          "epsilon": 0.4,
          "step": 107
         },
         {
          "chose_correct": 0.453,
          "epsilon": 0.4,
          "step": 108
         },
         {
          "chose_correct": 0.4628,
          "epsilon": 0.4,
          "step": 109
         },
         {
          "chose_correct": 0.4624,
          "epsilon": 0.4,
          "step": 110
         },
         {
          "chose_correct": 0.4516,
          "epsilon": 0.4,
          "step": 111
         },
         {
          "chose_correct": 0.4638,
          "epsilon": 0.4,
          "step": 112
         },
         {
          "chose_correct": 0.46,
          "epsilon": 0.4,
          "step": 113
         },
         {
          "chose_correct": 0.4646,
          "epsilon": 0.4,
          "step": 114
         },
         {
          "chose_correct": 0.464,
          "epsilon": 0.4,
          "step": 115
         },
         {
          "chose_correct": 0.4668,
          "epsilon": 0.4,
          "step": 116
         },
         {
          "chose_correct": 0.4646,
          "epsilon": 0.4,
          "step": 117
         },
         {
          "chose_correct": 0.4662,
          "epsilon": 0.4,
          "step": 118
         },
         {
          "chose_correct": 0.4664,
          "epsilon": 0.4,
          "step": 119
         },
         {
          "chose_correct": 0.4748,
          "epsilon": 0.4,
          "step": 120
         },
         {
          "chose_correct": 0.4678,
          "epsilon": 0.4,
          "step": 121
         },
         {
          "chose_correct": 0.4722,
          "epsilon": 0.4,
          "step": 122
         },
         {
          "chose_correct": 0.4656,
          "epsilon": 0.4,
          "step": 123
         },
         {
          "chose_correct": 0.4756,
          "epsilon": 0.4,
          "step": 124
         },
         {
          "chose_correct": 0.48,
          "epsilon": 0.4,
          "step": 125
         },
         {
          "chose_correct": 0.4848,
          "epsilon": 0.4,
          "step": 126
         },
         {
          "chose_correct": 0.4824,
          "epsilon": 0.4,
          "step": 127
         },
         {
          "chose_correct": 0.4778,
          "epsilon": 0.4,
          "step": 128
         },
         {
          "chose_correct": 0.482,
          "epsilon": 0.4,
          "step": 129
         },
         {
          "chose_correct": 0.4798,
          "epsilon": 0.4,
          "step": 130
         },
         {
          "chose_correct": 0.4824,
          "epsilon": 0.4,
          "step": 131
         },
         {
          "chose_correct": 0.4872,
          "epsilon": 0.4,
          "step": 132
         },
         {
          "chose_correct": 0.4856,
          "epsilon": 0.4,
          "step": 133
         },
         {
          "chose_correct": 0.4914,
          "epsilon": 0.4,
          "step": 134
         },
         {
          "chose_correct": 0.4958,
          "epsilon": 0.4,
          "step": 135
         },
         {
          "chose_correct": 0.4978,
          "epsilon": 0.4,
          "step": 136
         },
         {
          "chose_correct": 0.4948,
          "epsilon": 0.4,
          "step": 137
         },
         {
          "chose_correct": 0.506,
          "epsilon": 0.4,
          "step": 138
         },
         {
          "chose_correct": 0.4908,
          "epsilon": 0.4,
          "step": 139
         },
         {
          "chose_correct": 0.495,
          "epsilon": 0.4,
          "step": 140
         },
         {
          "chose_correct": 0.4984,
          "epsilon": 0.4,
          "step": 141
         },
         {
          "chose_correct": 0.5034,
          "epsilon": 0.4,
          "step": 142
         },
         {
          "chose_correct": 0.5044,
          "epsilon": 0.4,
          "step": 143
         },
         {
          "chose_correct": 0.4982,
          "epsilon": 0.4,
          "step": 144
         },
         {
          "chose_correct": 0.5082,
          "epsilon": 0.4,
          "step": 145
         },
         {
          "chose_correct": 0.5142,
          "epsilon": 0.4,
          "step": 146
         },
         {
          "chose_correct": 0.4982,
          "epsilon": 0.4,
          "step": 147
         },
         {
          "chose_correct": 0.5044,
          "epsilon": 0.4,
          "step": 148
         },
         {
          "chose_correct": 0.5148,
          "epsilon": 0.4,
          "step": 149
         },
         {
          "chose_correct": 0.5028,
          "epsilon": 0.4,
          "step": 150
         },
         {
          "chose_correct": 0.5212,
          "epsilon": 0.4,
          "step": 151
         },
         {
          "chose_correct": 0.5156,
          "epsilon": 0.4,
          "step": 152
         },
         {
          "chose_correct": 0.523,
          "epsilon": 0.4,
          "step": 153
         },
         {
          "chose_correct": 0.5096,
          "epsilon": 0.4,
          "step": 154
         },
         {
          "chose_correct": 0.5122,
          "epsilon": 0.4,
          "step": 155
         },
         {
          "chose_correct": 0.4936,
          "epsilon": 0.4,
          "step": 156
         },
         {
          "chose_correct": 0.5146,
          "epsilon": 0.4,
          "step": 157
         },
         {
          "chose_correct": 0.5088,
          "epsilon": 0.4,
          "step": 158
         },
         {
          "chose_correct": 0.5106,
          "epsilon": 0.4,
          "step": 159
         },
         {
          "chose_correct": 0.5128,
          "epsilon": 0.4,
          "step": 160
         },
         {
          "chose_correct": 0.5036,
          "epsilon": 0.4,
          "step": 161
         },
         {
          "chose_correct": 0.5182,
          "epsilon": 0.4,
          "step": 162
         },
         {
          "chose_correct": 0.5084,
          "epsilon": 0.4,
          "step": 163
         },
         {
          "chose_correct": 0.5114,
          "epsilon": 0.4,
          "step": 164
         },
         {
          "chose_correct": 0.5184,
          "epsilon": 0.4,
          "step": 165
         },
         {
          "chose_correct": 0.518,
          "epsilon": 0.4,
          "step": 166
         },
         {
          "chose_correct": 0.5186,
          "epsilon": 0.4,
          "step": 167
         },
         {
          "chose_correct": 0.5164,
          "epsilon": 0.4,
          "step": 168
         },
         {
          "chose_correct": 0.5304,
          "epsilon": 0.4,
          "step": 169
         },
         {
          "chose_correct": 0.5204,
          "epsilon": 0.4,
          "step": 170
         },
         {
          "chose_correct": 0.5198,
          "epsilon": 0.4,
          "step": 171
         },
         {
          "chose_correct": 0.526,
          "epsilon": 0.4,
          "step": 172
         },
         {
          "chose_correct": 0.5232,
          "epsilon": 0.4,
          "step": 173
         },
         {
          "chose_correct": 0.5196,
          "epsilon": 0.4,
          "step": 174
         },
         {
          "chose_correct": 0.5338,
          "epsilon": 0.4,
          "step": 175
         },
         {
          "chose_correct": 0.5372,
          "epsilon": 0.4,
          "step": 176
         },
         {
          "chose_correct": 0.5302,
          "epsilon": 0.4,
          "step": 177
         },
         {
          "chose_correct": 0.5248,
          "epsilon": 0.4,
          "step": 178
         },
         {
          "chose_correct": 0.5242,
          "epsilon": 0.4,
          "step": 179
         },
         {
          "chose_correct": 0.5316,
          "epsilon": 0.4,
          "step": 180
         },
         {
          "chose_correct": 0.5428,
          "epsilon": 0.4,
          "step": 181
         },
         {
          "chose_correct": 0.5314,
          "epsilon": 0.4,
          "step": 182
         },
         {
          "chose_correct": 0.538,
          "epsilon": 0.4,
          "step": 183
         },
         {
          "chose_correct": 0.5398,
          "epsilon": 0.4,
          "step": 184
         },
         {
          "chose_correct": 0.5444,
          "epsilon": 0.4,
          "step": 185
         },
         {
          "chose_correct": 0.54,
          "epsilon": 0.4,
          "step": 186
         },
         {
          "chose_correct": 0.533,
          "epsilon": 0.4,
          "step": 187
         },
         {
          "chose_correct": 0.5384,
          "epsilon": 0.4,
          "step": 188
         },
         {
          "chose_correct": 0.5318,
          "epsilon": 0.4,
          "step": 189
         },
         {
          "chose_correct": 0.5494,
          "epsilon": 0.4,
          "step": 190
         },
         {
          "chose_correct": 0.5362,
          "epsilon": 0.4,
          "step": 191
         },
         {
          "chose_correct": 0.5396,
          "epsilon": 0.4,
          "step": 192
         },
         {
          "chose_correct": 0.5406,
          "epsilon": 0.4,
          "step": 193
         },
         {
          "chose_correct": 0.533,
          "epsilon": 0.4,
          "step": 194
         },
         {
          "chose_correct": 0.5514,
          "epsilon": 0.4,
          "step": 195
         },
         {
          "chose_correct": 0.5436,
          "epsilon": 0.4,
          "step": 196
         },
         {
          "chose_correct": 0.5392,
          "epsilon": 0.4,
          "step": 197
         },
         {
          "chose_correct": 0.5544,
          "epsilon": 0.4,
          "step": 198
         },
         {
          "chose_correct": 0.5446,
          "epsilon": 0.4,
          "step": 199
         },
         {
          "chose_correct": 0.5408,
          "epsilon": 0.4,
          "step": 200
         },
         {
          "chose_correct": 0.5636,
          "epsilon": 0.4,
          "step": 201
         },
         {
          "chose_correct": 0.551,
          "epsilon": 0.4,
          "step": 202
         },
         {
          "chose_correct": 0.5388,
          "epsilon": 0.4,
          "step": 203
         },
         {
          "chose_correct": 0.5488,
          "epsilon": 0.4,
          "step": 204
         },
         {
          "chose_correct": 0.551,
          "epsilon": 0.4,
          "step": 205
         },
         {
          "chose_correct": 0.5464,
          "epsilon": 0.4,
          "step": 206
         },
         {
          "chose_correct": 0.5732,
          "epsilon": 0.4,
          "step": 207
         },
         {
          "chose_correct": 0.5524,
          "epsilon": 0.4,
          "step": 208
         },
         {
          "chose_correct": 0.5472,
          "epsilon": 0.4,
          "step": 209
         },
         {
          "chose_correct": 0.5518,
          "epsilon": 0.4,
          "step": 210
         },
         {
          "chose_correct": 0.5534,
          "epsilon": 0.4,
          "step": 211
         },
         {
          "chose_correct": 0.5576,
          "epsilon": 0.4,
          "step": 212
         },
         {
          "chose_correct": 0.5658,
          "epsilon": 0.4,
          "step": 213
         },
         {
          "chose_correct": 0.5438,
          "epsilon": 0.4,
          "step": 214
         },
         {
          "chose_correct": 0.5566,
          "epsilon": 0.4,
          "step": 215
         },
         {
          "chose_correct": 0.5588,
          "epsilon": 0.4,
          "step": 216
         },
         {
          "chose_correct": 0.5566,
          "epsilon": 0.4,
          "step": 217
         },
         {
          "chose_correct": 0.5618,
          "epsilon": 0.4,
          "step": 218
         },
         {
          "chose_correct": 0.5592,
          "epsilon": 0.4,
          "step": 219
         },
         {
          "chose_correct": 0.565,
          "epsilon": 0.4,
          "step": 220
         },
         {
          "chose_correct": 0.5594,
          "epsilon": 0.4,
          "step": 221
         },
         {
          "chose_correct": 0.565,
          "epsilon": 0.4,
          "step": 222
         },
         {
          "chose_correct": 0.5598,
          "epsilon": 0.4,
          "step": 223
         },
         {
          "chose_correct": 0.564,
          "epsilon": 0.4,
          "step": 224
         },
         {
          "chose_correct": 0.571,
          "epsilon": 0.4,
          "step": 225
         },
         {
          "chose_correct": 0.554,
          "epsilon": 0.4,
          "step": 226
         },
         {
          "chose_correct": 0.5706,
          "epsilon": 0.4,
          "step": 227
         },
         {
          "chose_correct": 0.5656,
          "epsilon": 0.4,
          "step": 228
         },
         {
          "chose_correct": 0.5696,
          "epsilon": 0.4,
          "step": 229
         },
         {
          "chose_correct": 0.5666,
          "epsilon": 0.4,
          "step": 230
         },
         {
          "chose_correct": 0.5798,
          "epsilon": 0.4,
          "step": 231
         },
         {
          "chose_correct": 0.5634,
          "epsilon": 0.4,
          "step": 232
         },
         {
          "chose_correct": 0.5692,
          "epsilon": 0.4,
          "step": 233
         },
         {
          "chose_correct": 0.5666,
          "epsilon": 0.4,
          "step": 234
         },
         {
          "chose_correct": 0.5812,
          "epsilon": 0.4,
          "step": 235
         },
         {
          "chose_correct": 0.5724,
          "epsilon": 0.4,
          "step": 236
         },
         {
          "chose_correct": 0.559,
          "epsilon": 0.4,
          "step": 237
         },
         {
          "chose_correct": 0.5842,
          "epsilon": 0.4,
          "step": 238
         },
         {
          "chose_correct": 0.5692,
          "epsilon": 0.4,
          "step": 239
         },
         {
          "chose_correct": 0.5696,
          "epsilon": 0.4,
          "step": 240
         },
         {
          "chose_correct": 0.5722,
          "epsilon": 0.4,
          "step": 241
         },
         {
          "chose_correct": 0.5764,
          "epsilon": 0.4,
          "step": 242
         },
         {
          "chose_correct": 0.569,
          "epsilon": 0.4,
          "step": 243
         },
         {
          "chose_correct": 0.5744,
          "epsilon": 0.4,
          "step": 244
         },
         {
          "chose_correct": 0.574,
          "epsilon": 0.4,
          "step": 245
         },
         {
          "chose_correct": 0.5748,
          "epsilon": 0.4,
          "step": 246
         },
         {
          "chose_correct": 0.5798,
          "epsilon": 0.4,
          "step": 247
         },
         {
          "chose_correct": 0.5774,
          "epsilon": 0.4,
          "step": 248
         },
         {
          "chose_correct": 0.572,
          "epsilon": 0.4,
          "step": 249
         },
         {
          "chose_correct": 0.571,
          "epsilon": 0.4,
          "step": 250
         },
         {
          "chose_correct": 0.1006,
          "epsilon": 0.5,
          "step": 1
         },
         {
          "chose_correct": 0.1452,
          "epsilon": 0.5,
          "step": 2
         },
         {
          "chose_correct": 0.1608,
          "epsilon": 0.5,
          "step": 3
         },
         {
          "chose_correct": 0.172,
          "epsilon": 0.5,
          "step": 4
         },
         {
          "chose_correct": 0.1872,
          "epsilon": 0.5,
          "step": 5
         },
         {
          "chose_correct": 0.1874,
          "epsilon": 0.5,
          "step": 6
         },
         {
          "chose_correct": 0.1912,
          "epsilon": 0.5,
          "step": 7
         },
         {
          "chose_correct": 0.2016,
          "epsilon": 0.5,
          "step": 8
         },
         {
          "chose_correct": 0.2038,
          "epsilon": 0.5,
          "step": 9
         },
         {
          "chose_correct": 0.2168,
          "epsilon": 0.5,
          "step": 10
         },
         {
          "chose_correct": 0.2236,
          "epsilon": 0.5,
          "step": 11
         },
         {
          "chose_correct": 0.2296,
          "epsilon": 0.5,
          "step": 12
         },
         {
          "chose_correct": 0.237,
          "epsilon": 0.5,
          "step": 13
         },
         {
          "chose_correct": 0.2402,
          "epsilon": 0.5,
          "step": 14
         },
         {
          "chose_correct": 0.2426,
          "epsilon": 0.5,
          "step": 15
         },
         {
          "chose_correct": 0.2506,
          "epsilon": 0.5,
          "step": 16
         },
         {
          "chose_correct": 0.2498,
          "epsilon": 0.5,
          "step": 17
         },
         {
          "chose_correct": 0.2664,
          "epsilon": 0.5,
          "step": 18
         },
         {
          "chose_correct": 0.2728,
          "epsilon": 0.5,
          "step": 19
         },
         {
          "chose_correct": 0.2794,
          "epsilon": 0.5,
          "step": 20
         },
         {
          "chose_correct": 0.2888,
          "epsilon": 0.5,
          "step": 21
         },
         {
          "chose_correct": 0.283,
          "epsilon": 0.5,
          "step": 22
         },
         {
          "chose_correct": 0.2972,
          "epsilon": 0.5,
          "step": 23
         },
         {
          "chose_correct": 0.291,
          "epsilon": 0.5,
          "step": 24
         },
         {
          "chose_correct": 0.2908,
          "epsilon": 0.5,
          "step": 25
         },
         {
          "chose_correct": 0.2948,
          "epsilon": 0.5,
          "step": 26
         },
         {
          "chose_correct": 0.2892,
          "epsilon": 0.5,
          "step": 27
         },
         {
          "chose_correct": 0.3014,
          "epsilon": 0.5,
          "step": 28
         },
         {
          "chose_correct": 0.2882,
          "epsilon": 0.5,
          "step": 29
         },
         {
          "chose_correct": 0.3012,
          "epsilon": 0.5,
          "step": 30
         },
         {
          "chose_correct": 0.3008,
          "epsilon": 0.5,
          "step": 31
         },
         {
          "chose_correct": 0.3044,
          "epsilon": 0.5,
          "step": 32
         },
         {
          "chose_correct": 0.3048,
          "epsilon": 0.5,
          "step": 33
         },
         {
          "chose_correct": 0.3008,
          "epsilon": 0.5,
          "step": 34
         },
         {
          "chose_correct": 0.3174,
          "epsilon": 0.5,
          "step": 35
         },
         {
          "chose_correct": 0.3106,
          "epsilon": 0.5,
          "step": 36
         },
         {
          "chose_correct": 0.3088,
          "epsilon": 0.5,
          "step": 37
         },
         {
          "chose_correct": 0.3212,
          "epsilon": 0.5,
          "step": 38
         },
         {
          "chose_correct": 0.3268,
          "epsilon": 0.5,
          "step": 39
         },
         {
          "chose_correct": 0.3232,
          "epsilon": 0.5,
          "step": 40
         },
         {
          "chose_correct": 0.3092,
          "epsilon": 0.5,
          "step": 41
         },
         {
          "chose_correct": 0.3186,
          "epsilon": 0.5,
          "step": 42
         },
         {
          "chose_correct": 0.3288,
          "epsilon": 0.5,
          "step": 43
         },
         {
          "chose_correct": 0.32,
          "epsilon": 0.5,
          "step": 44
         },
         {
          "chose_correct": 0.3204,
          "epsilon": 0.5,
          "step": 45
         },
         {
          "chose_correct": 0.3284,
          "epsilon": 0.5,
          "step": 46
         },
         {
          "chose_correct": 0.3174,
          "epsilon": 0.5,
          "step": 47
         },
         {
          "chose_correct": 0.3202,
          "epsilon": 0.5,
          "step": 48
         },
         {
          "chose_correct": 0.329,
          "epsilon": 0.5,
          "step": 49
         },
         {
          "chose_correct": 0.3232,
          "epsilon": 0.5,
          "step": 50
         },
         {
          "chose_correct": 0.3412,
          "epsilon": 0.5,
          "step": 51
         },
         {
          "chose_correct": 0.3316,
          "epsilon": 0.5,
          "step": 52
         },
         {
          "chose_correct": 0.328,
          "epsilon": 0.5,
          "step": 53
         },
         {
          "chose_correct": 0.3318,
          "epsilon": 0.5,
          "step": 54
         },
         {
          "chose_correct": 0.3458,
          "epsilon": 0.5,
          "step": 55
         },
         {
          "chose_correct": 0.3468,
          "epsilon": 0.5,
          "step": 56
         },
         {
          "chose_correct": 0.3494,
          "epsilon": 0.5,
          "step": 57
         },
         {
          "chose_correct": 0.3396,
          "epsilon": 0.5,
          "step": 58
         },
         {
          "chose_correct": 0.3472,
          "epsilon": 0.5,
          "step": 59
         },
         {
          "chose_correct": 0.3596,
          "epsilon": 0.5,
          "step": 60
         },
         {
          "chose_correct": 0.3516,
          "epsilon": 0.5,
          "step": 61
         },
         {
          "chose_correct": 0.3576,
          "epsilon": 0.5,
          "step": 62
         },
         {
          "chose_correct": 0.3676,
          "epsilon": 0.5,
          "step": 63
         },
         {
          "chose_correct": 0.353,
          "epsilon": 0.5,
          "step": 64
         },
         {
          "chose_correct": 0.3526,
          "epsilon": 0.5,
          "step": 65
         },
         {
          "chose_correct": 0.3654,
          "epsilon": 0.5,
          "step": 66
         },
         {
          "chose_correct": 0.3518,
          "epsilon": 0.5,
          "step": 67
         },
         {
          "chose_correct": 0.3632,
          "epsilon": 0.5,
          "step": 68
         },
         {
          "chose_correct": 0.3542,
          "epsilon": 0.5,
          "step": 69
         },
         {
          "chose_correct": 0.3698,
          "epsilon": 0.5,
          "step": 70
         },
         {
          "chose_correct": 0.3722,
          "epsilon": 0.5,
          "step": 71
         },
         {
          "chose_correct": 0.3678,
          "epsilon": 0.5,
          "step": 72
         },
         {
          "chose_correct": 0.363,
          "epsilon": 0.5,
          "step": 73
         },
         {
          "chose_correct": 0.3712,
          "epsilon": 0.5,
          "step": 74
         },
         {
          "chose_correct": 0.3766,
          "epsilon": 0.5,
          "step": 75
         },
         {
          "chose_correct": 0.3728,
          "epsilon": 0.5,
          "step": 76
         },
         {
          "chose_correct": 0.384,
          "epsilon": 0.5,
          "step": 77
         },
         {
          "chose_correct": 0.3818,
          "epsilon": 0.5,
          "step": 78
         },
         {
          "chose_correct": 0.377,
          "epsilon": 0.5,
          "step": 79
         },
         {
          "chose_correct": 0.3898,
          "epsilon": 0.5,
          "step": 80
         },
         {
          "chose_correct": 0.38,
          "epsilon": 0.5,
          "step": 81
         },
         {
          "chose_correct": 0.3868,
          "epsilon": 0.5,
          "step": 82
         },
         {
          "chose_correct": 0.3978,
          "epsilon": 0.5,
          "step": 83
         },
         {
          "chose_correct": 0.3914,
          "epsilon": 0.5,
          "step": 84
         },
         {
          "chose_correct": 0.3874,
          "epsilon": 0.5,
          "step": 85
         },
         {
          "chose_correct": 0.402,
          "epsilon": 0.5,
          "step": 86
         },
         {
          "chose_correct": 0.3932,
          "epsilon": 0.5,
          "step": 87
         },
         {
          "chose_correct": 0.392,
          "epsilon": 0.5,
          "step": 88
         },
         {
          "chose_correct": 0.3968,
          "epsilon": 0.5,
          "step": 89
         },
         {
          "chose_correct": 0.4038,
          "epsilon": 0.5,
          "step": 90
         },
         {
          "chose_correct": 0.4088,
          "epsilon": 0.5,
          "step": 91
         },
         {
          "chose_correct": 0.404,
          "epsilon": 0.5,
          "step": 92
         },
         {
          "chose_correct": 0.4068,
          "epsilon": 0.5,
          "step": 93
         },
         {
          "chose_correct": 0.397,
          "epsilon": 0.5,
          "step": 94
         },
         {
          "chose_correct": 0.3976,
          "epsilon": 0.5,
          "step": 95
         },
         {
          "chose_correct": 0.4058,
          "epsilon": 0.5,
          "step": 96
         },
         {
          "chose_correct": 0.409,
          "epsilon": 0.5,
          "step": 97
         },
         {
          "chose_correct": 0.3954,
          "epsilon": 0.5,
          "step": 98
         },
         {
          "chose_correct": 0.4118,
          "epsilon": 0.5,
          "step": 99
         },
         {
          "chose_correct": 0.4172,
          "epsilon": 0.5,
          "step": 100
         },
         {
          "chose_correct": 0.415,
          "epsilon": 0.5,
          "step": 101
         },
         {
          "chose_correct": 0.4196,
          "epsilon": 0.5,
          "step": 102
         },
         {
          "chose_correct": 0.4054,
          "epsilon": 0.5,
          "step": 103
         },
         {
          "chose_correct": 0.4028,
          "epsilon": 0.5,
          "step": 104
         },
         {
          "chose_correct": 0.4154,
          "epsilon": 0.5,
          "step": 105
         },
         {
          "chose_correct": 0.4124,
          "epsilon": 0.5,
          "step": 106
         },
         {
          "chose_correct": 0.4276,
          "epsilon": 0.5,
          "step": 107
         },
         {
          "chose_correct": 0.4128,
          "epsilon": 0.5,
          "step": 108
         },
         {
          "chose_correct": 0.4156,
          "epsilon": 0.5,
          "step": 109
         },
         {
          "chose_correct": 0.4324,
          "epsilon": 0.5,
          "step": 110
         },
         {
          "chose_correct": 0.4228,
          "epsilon": 0.5,
          "step": 111
         },
         {
          "chose_correct": 0.4134,
          "epsilon": 0.5,
          "step": 112
         },
         {
          "chose_correct": 0.4304,
          "epsilon": 0.5,
          "step": 113
         },
         {
          "chose_correct": 0.4352,
          "epsilon": 0.5,
          "step": 114
         },
         {
          "chose_correct": 0.4196,
          "epsilon": 0.5,
          "step": 115
         },
         {
          "chose_correct": 0.4338,
          "epsilon": 0.5,
          "step": 116
         },
         {
          "chose_correct": 0.4288,
          "epsilon": 0.5,
          "step": 117
         },
         {
          "chose_correct": 0.4226,
          "epsilon": 0.5,
          "step": 118
         },
         {
          "chose_correct": 0.4236,
          "epsilon": 0.5,
          "step": 119
         },
         {
          "chose_correct": 0.4244,
          "epsilon": 0.5,
          "step": 120
         },
         {
          "chose_correct": 0.4244,
          "epsilon": 0.5,
          "step": 121
         },
         {
          "chose_correct": 0.4244,
          "epsilon": 0.5,
          "step": 122
         },
         {
          "chose_correct": 0.4358,
          "epsilon": 0.5,
          "step": 123
         },
         {
          "chose_correct": 0.4356,
          "epsilon": 0.5,
          "step": 124
         },
         {
          "chose_correct": 0.4408,
          "epsilon": 0.5,
          "step": 125
         },
         {
          "chose_correct": 0.4408,
          "epsilon": 0.5,
          "step": 126
         },
         {
          "chose_correct": 0.4536,
          "epsilon": 0.5,
          "step": 127
         },
         {
          "chose_correct": 0.44,
          "epsilon": 0.5,
          "step": 128
         },
         {
          "chose_correct": 0.431,
          "epsilon": 0.5,
          "step": 129
         },
         {
          "chose_correct": 0.4414,
          "epsilon": 0.5,
          "step": 130
         },
         {
          "chose_correct": 0.4444,
          "epsilon": 0.5,
          "step": 131
         },
         {
          "chose_correct": 0.444,
          "epsilon": 0.5,
          "step": 132
         },
         {
          "chose_correct": 0.4496,
          "epsilon": 0.5,
          "step": 133
         },
         {
          "chose_correct": 0.4474,
          "epsilon": 0.5,
          "step": 134
         },
         {
          "chose_correct": 0.446,
          "epsilon": 0.5,
          "step": 135
         },
         {
          "chose_correct": 0.4496,
          "epsilon": 0.5,
          "step": 136
         },
         {
          "chose_correct": 0.4476,
          "epsilon": 0.5,
          "step": 137
         },
         {
          "chose_correct": 0.4412,
          "epsilon": 0.5,
          "step": 138
         },
         {
          "chose_correct": 0.4626,
          "epsilon": 0.5,
          "step": 139
         },
         {
          "chose_correct": 0.4404,
          "epsilon": 0.5,
          "step": 140
         },
         {
          "chose_correct": 0.4558,
          "epsilon": 0.5,
          "step": 141
         },
         {
          "chose_correct": 0.4426,
          "epsilon": 0.5,
          "step": 142
         },
         {
          "chose_correct": 0.4542,
          "epsilon": 0.5,
          "step": 143
         },
         {
          "chose_correct": 0.4488,
          "epsilon": 0.5,
          "step": 144
         },
         {
          "chose_correct": 0.4576,
          "epsilon": 0.5,
          "step": 145
         },
         {
          "chose_correct": 0.4456,
          "epsilon": 0.5,
          "step": 146
         },
         {
          "chose_correct": 0.458,
          "epsilon": 0.5,
          "step": 147
         },
         {
          "chose_correct": 0.4472,
          "epsilon": 0.5,
          "step": 148
         },
         {
          "chose_correct": 0.4488,
          "epsilon": 0.5,
          "step": 149
         },
         {
          "chose_correct": 0.4632,
          "epsilon": 0.5,
          "step": 150
         },
         {
          "chose_correct": 0.4584,
          "epsilon": 0.5,
          "step": 151
         },
         {
          "chose_correct": 0.4564,
          "epsilon": 0.5,
          "step": 152
         },
         {
          "chose_correct": 0.4592,
          "epsilon": 0.5,
          "step": 153
         },
         {
          "chose_correct": 0.4552,
          "epsilon": 0.5,
          "step": 154
         },
         {
          "chose_correct": 0.4544,
          "epsilon": 0.5,
          "step": 155
         },
         {
          "chose_correct": 0.4468,
          "epsilon": 0.5,
          "step": 156
         },
         {
          "chose_correct": 0.4632,
          "epsilon": 0.5,
          "step": 157
         },
         {
          "chose_correct": 0.4604,
          "epsilon": 0.5,
          "step": 158
         },
         {
          "chose_correct": 0.465,
          "epsilon": 0.5,
          "step": 159
         },
         {
          "chose_correct": 0.4582,
          "epsilon": 0.5,
          "step": 160
         },
         {
          "chose_correct": 0.467,
          "epsilon": 0.5,
          "step": 161
         },
         {
          "chose_correct": 0.4756,
          "epsilon": 0.5,
          "step": 162
         },
         {
          "chose_correct": 0.4678,
          "epsilon": 0.5,
          "step": 163
         },
         {
          "chose_correct": 0.4772,
          "epsilon": 0.5,
          "step": 164
         },
         {
          "chose_correct": 0.4588,
          "epsilon": 0.5,
          "step": 165
         },
         {
          "chose_correct": 0.4726,
          "epsilon": 0.5,
          "step": 166
         },
         {
          "chose_correct": 0.473,
          "epsilon": 0.5,
          "step": 167
         },
         {
          "chose_correct": 0.4682,
          "epsilon": 0.5,
          "step": 168
         },
         {
          "chose_correct": 0.4596,
          "epsilon": 0.5,
          "step": 169
         },
         {
          "chose_correct": 0.479,
          "epsilon": 0.5,
          "step": 170
         },
         {
          "chose_correct": 0.4702,
          "epsilon": 0.5,
          "step": 171
         },
         {
          "chose_correct": 0.4656,
          "epsilon": 0.5,
          "step": 172
         },
         {
          "chose_correct": 0.4718,
          "epsilon": 0.5,
          "step": 173
         },
         {
          "chose_correct": 0.4838,
          "epsilon": 0.5,
          "step": 174
         },
         {
          "chose_correct": 0.473,
          "epsilon": 0.5,
          "step": 175
         },
         {
          "chose_correct": 0.4766,
          "epsilon": 0.5,
          "step": 176
         },
         {
          "chose_correct": 0.4748,
          "epsilon": 0.5,
          "step": 177
         },
         {
          "chose_correct": 0.4852,
          "epsilon": 0.5,
          "step": 178
         },
         {
          "chose_correct": 0.4674,
          "epsilon": 0.5,
          "step": 179
         },
         {
          "chose_correct": 0.4774,
          "epsilon": 0.5,
          "step": 180
         },
         {
          "chose_correct": 0.4834,
          "epsilon": 0.5,
          "step": 181
         },
         {
          "chose_correct": 0.4818,
          "epsilon": 0.5,
          "step": 182
         },
         {
          "chose_correct": 0.4754,
          "epsilon": 0.5,
          "step": 183
         },
         {
          "chose_correct": 0.4738,
          "epsilon": 0.5,
          "step": 184
         },
         {
          "chose_correct": 0.4832,
          "epsilon": 0.5,
          "step": 185
         },
         {
          "chose_correct": 0.485,
          "epsilon": 0.5,
          "step": 186
         },
         {
          "chose_correct": 0.4766,
          "epsilon": 0.5,
          "step": 187
         },
         {
          "chose_correct": 0.484,
          "epsilon": 0.5,
          "step": 188
         },
         {
          "chose_correct": 0.4782,
          "epsilon": 0.5,
          "step": 189
         },
         {
          "chose_correct": 0.4884,
          "epsilon": 0.5,
          "step": 190
         },
         {
          "chose_correct": 0.4844,
          "epsilon": 0.5,
          "step": 191
         },
         {
          "chose_correct": 0.4856,
          "epsilon": 0.5,
          "step": 192
         },
         {
          "chose_correct": 0.4846,
          "epsilon": 0.5,
          "step": 193
         },
         {
          "chose_correct": 0.4952,
          "epsilon": 0.5,
          "step": 194
         },
         {
          "chose_correct": 0.492,
          "epsilon": 0.5,
          "step": 195
         },
         {
          "chose_correct": 0.489,
          "epsilon": 0.5,
          "step": 196
         },
         {
          "chose_correct": 0.477,
          "epsilon": 0.5,
          "step": 197
         },
         {
          "chose_correct": 0.4878,
          "epsilon": 0.5,
          "step": 198
         },
         {
          "chose_correct": 0.4916,
          "epsilon": 0.5,
          "step": 199
         },
         {
          "chose_correct": 0.4906,
          "epsilon": 0.5,
          "step": 200
         },
         {
          "chose_correct": 0.4916,
          "epsilon": 0.5,
          "step": 201
         },
         {
          "chose_correct": 0.4816,
          "epsilon": 0.5,
          "step": 202
         },
         {
          "chose_correct": 0.4922,
          "epsilon": 0.5,
          "step": 203
         },
         {
          "chose_correct": 0.4976,
          "epsilon": 0.5,
          "step": 204
         },
         {
          "chose_correct": 0.4992,
          "epsilon": 0.5,
          "step": 205
         },
         {
          "chose_correct": 0.4852,
          "epsilon": 0.5,
          "step": 206
         },
         {
          "chose_correct": 0.5046,
          "epsilon": 0.5,
          "step": 207
         },
         {
          "chose_correct": 0.4996,
          "epsilon": 0.5,
          "step": 208
         },
         {
          "chose_correct": 0.4924,
          "epsilon": 0.5,
          "step": 209
         },
         {
          "chose_correct": 0.4986,
          "epsilon": 0.5,
          "step": 210
         },
         {
          "chose_correct": 0.4974,
          "epsilon": 0.5,
          "step": 211
         },
         {
          "chose_correct": 0.5054,
          "epsilon": 0.5,
          "step": 212
         },
         {
          "chose_correct": 0.501,
          "epsilon": 0.5,
          "step": 213
         },
         {
          "chose_correct": 0.506,
          "epsilon": 0.5,
          "step": 214
         },
         {
          "chose_correct": 0.499,
          "epsilon": 0.5,
          "step": 215
         },
         {
          "chose_correct": 0.4924,
          "epsilon": 0.5,
          "step": 216
         },
         {
          "chose_correct": 0.5012,
          "epsilon": 0.5,
          "step": 217
         },
         {
          "chose_correct": 0.506,
          "epsilon": 0.5,
          "step": 218
         },
         {
          "chose_correct": 0.5042,
          "epsilon": 0.5,
          "step": 219
         },
         {
          "chose_correct": 0.4942,
          "epsilon": 0.5,
          "step": 220
         },
         {
          "chose_correct": 0.5048,
          "epsilon": 0.5,
          "step": 221
         },
         {
          "chose_correct": 0.5026,
          "epsilon": 0.5,
          "step": 222
         },
         {
          "chose_correct": 0.5018,
          "epsilon": 0.5,
          "step": 223
         },
         {
          "chose_correct": 0.5182,
          "epsilon": 0.5,
          "step": 224
         },
         {
          "chose_correct": 0.5098,
          "epsilon": 0.5,
          "step": 225
         },
         {
          "chose_correct": 0.5134,
          "epsilon": 0.5,
          "step": 226
         },
         {
          "chose_correct": 0.4978,
          "epsilon": 0.5,
          "step": 227
         },
         {
          "chose_correct": 0.5088,
          "epsilon": 0.5,
          "step": 228
         },
         {
          "chose_correct": 0.5276,
          "epsilon": 0.5,
          "step": 229
         },
         {
          "chose_correct": 0.5002,
          "epsilon": 0.5,
          "step": 230
         },
         {
          "chose_correct": 0.5052,
          "epsilon": 0.5,
          "step": 231
         },
         {
          "chose_correct": 0.5014,
          "epsilon": 0.5,
          "step": 232
         },
         {
          "chose_correct": 0.5018,
          "epsilon": 0.5,
          "step": 233
         },
         {
          "chose_correct": 0.5074,
          "epsilon": 0.5,
          "step": 234
         },
         {
          "chose_correct": 0.5128,
          "epsilon": 0.5,
          "step": 235
         },
         {
          "chose_correct": 0.4984,
          "epsilon": 0.5,
          "step": 236
         },
         {
          "chose_correct": 0.4936,
          "epsilon": 0.5,
          "step": 237
         },
         {
          "chose_correct": 0.5072,
          "epsilon": 0.5,
          "step": 238
         },
         {
          "chose_correct": 0.503,
          "epsilon": 0.5,
          "step": 239
         },
         {
          "chose_correct": 0.5106,
          "epsilon": 0.5,
          "step": 240
         },
         {
          "chose_correct": 0.523,
          "epsilon": 0.5,
          "step": 241
         },
         {
          "chose_correct": 0.5166,
          "epsilon": 0.5,
          "step": 242
         },
         {
          "chose_correct": 0.504,
          "epsilon": 0.5,
          "step": 243
         },
         {
          "chose_correct": 0.5232,
          "epsilon": 0.5,
          "step": 244
         },
         {
          "chose_correct": 0.5106,
          "epsilon": 0.5,
          "step": 245
         },
         {
          "chose_correct": 0.5132,
          "epsilon": 0.5,
          "step": 246
         },
         {
          "chose_correct": 0.5196,
          "epsilon": 0.5,
          "step": 247
         },
         {
          "chose_correct": 0.5044,
          "epsilon": 0.5,
          "step": 248
         },
         {
          "chose_correct": 0.5178,
          "epsilon": 0.5,
          "step": 249
         },
         {
          "chose_correct": 0.499,
          "epsilon": 0.5,
          "step": 250
         }
        ]
       },
       "encoding": {
        "color": {
         "field": "epsilon",
         "type": "nominal"
        },
        "x": {
         "field": "step",
         "title": "Time Step",
         "type": "quantitative"
        },
        "y": {
         "field": "chose_correct",
         "scale": {
          "domain": [
           0,
           1
          ]
         },
         "title": "Mean Rate of Choosing Best Arm",
         "type": "quantitative"
        }
       },
       "mark": "line",
       "title": "Mean Rate of Choosing Best Arm from 5000 Simulations. 5 Arms = [4 x 0.8, 1 x 0.9]"
      },
      "image/png": "[encoded data removed]",
      "text/plain": [
       "<VegaLite 3 object>\n",
       "\n",
       "If you see this message, it means the renderer has not been properly enabled\n",
       "for the frontend that you are using. For more information, see\n",
       "https://altair-viz.github.io/user_guide/troubleshooting.html\n"
      ]
     },
     "execution_count": 82,
     "metadata": {},
     "output_type": "execute_result"
    }
   ],
   "source": [
    "alt.Chart(df_chose_correctly).mark_line().encode(\n",
    "    alt.X(\"step:Q\", title = \"Time Step\"),\n",
    "    alt.Y(\"chose_correct:Q\", title = \"Mean Rate of Choosing Best Arm\", scale = alt.Scale(domain = [0, 1])),\n",
    "    color = alt.Color(\"epsilon:N\")\n",
    ").properties(\n",
    "    title = \"Mean Rate of Choosing Best Arm from 5000 Simulations. 5 Arms = [4 x 0.8, 1 x 0.9]\",\n",
    ")"
   ]
  },
  {
   "cell_type": "code",
   "execution_count": 77,
   "metadata": {},
   "outputs": [],
   "source": [
    "df_cumreward = df.loc[:,[\"epsilon\",\"step\", \"cum_reward\"]].groupby([\"epsilon\",\"step\"]).agg(\"mean\").reset_index()"
   ]
  },
  {
   "cell_type": "code",
   "execution_count": 80,
   "metadata": {},
   "outputs": [
    {
     "data": {
      "application/vnd.vegalite.v3+json": {
       "$schema": "https://vega.github.io/schema/vega-lite/v3.4.0.json",
       "config": {
        "mark": {
         "tooltip": null
        },
        "view": {
         "height": 300,
         "width": 400
        }
       },
       "data": {
        "name": "data-0859edf746117a679b0146b3b1bb5c60"
       },
       "datasets": {
        "data-0859edf746117a679b0146b3b1bb5c60": [
         {
          "cum_reward": 0.8068,
          "epsilon": 0.1,
          "step": 1
         },
         {
          "cum_reward": 1.609,
          "epsilon": 0.1,
          "step": 2
         },
         {
          "cum_reward": 2.414,
          "epsilon": 0.1,
          "step": 3
         },
         {
          "cum_reward": 3.2246,
          "epsilon": 0.1,
          "step": 4
         },
         {
          "cum_reward": 4.0266,
          "epsilon": 0.1,
          "step": 5
         },
         {
          "cum_reward": 4.8282,
          "epsilon": 0.1,
          "step": 6
         },
         {
          "cum_reward": 5.6382,
          "epsilon": 0.1,
          "step": 7
         },
         {
          "cum_reward": 6.4462,
          "epsilon": 0.1,
          "step": 8
         },
         {
          "cum_reward": 7.2602,
          "epsilon": 0.1,
          "step": 9
         },
         {
          "cum_reward": 8.0644,
          "epsilon": 0.1,
          "step": 10
         },
         {
          "cum_reward": 8.8744,
          "epsilon": 0.1,
          "step": 11
         },
         {
          "cum_reward": 9.6836,
          "epsilon": 0.1,
          "step": 12
         },
         {
          "cum_reward": 10.4894,
          "epsilon": 0.1,
          "step": 13
         },
         {
          "cum_reward": 11.2932,
          "epsilon": 0.1,
          "step": 14
         },
         {
          "cum_reward": 12.104,
          "epsilon": 0.1,
          "step": 15
         },
         {
          "cum_reward": 12.918,
          "epsilon": 0.1,
          "step": 16
         },
         {
          "cum_reward": 13.737,
          "epsilon": 0.1,
          "step": 17
         },
         {
          "cum_reward": 14.5568,
          "epsilon": 0.1,
          "step": 18
         },
         {
          "cum_reward": 15.379,
          "epsilon": 0.1,
          "step": 19
         },
         {
          "cum_reward": 16.2,
          "epsilon": 0.1,
          "step": 20
         },
         {
          "cum_reward": 17.0208,
          "epsilon": 0.1,
          "step": 21
         },
         {
          "cum_reward": 17.8418,
          "epsilon": 0.1,
          "step": 22
         },
         {
          "cum_reward": 18.6652,
          "epsilon": 0.1,
          "step": 23
         },
         {
          "cum_reward": 19.4894,
          "epsilon": 0.1,
          "step": 24
         },
         {
          "cum_reward": 20.3094,
          "epsilon": 0.1,
          "step": 25
         },
         {
          "cum_reward": 21.1398,
          "epsilon": 0.1,
          "step": 26
         },
         {
          "cum_reward": 21.9456,
          "epsilon": 0.1,
          "step": 27
         },
         {
          "cum_reward": 22.7692,
          "epsilon": 0.1,
          "step": 28
         },
         {
          "cum_reward": 23.5872,
          "epsilon": 0.1,
          "step": 29
         },
         {
          "cum_reward": 24.4166,
          "epsilon": 0.1,
          "step": 30
         },
         {
          "cum_reward": 25.246,
          "epsilon": 0.1,
          "step": 31
         },
         {
          "cum_reward": 26.0748,
          "epsilon": 0.1,
          "step": 32
         },
         {
          "cum_reward": 26.8972,
          "epsilon": 0.1,
          "step": 33
         },
         {
          "cum_reward": 27.7238,
          "epsilon": 0.1,
          "step": 34
         },
         {
          "cum_reward": 28.5514,
          "epsilon": 0.1,
          "step": 35
         },
         {
          "cum_reward": 29.3772,
          "epsilon": 0.1,
          "step": 36
         },
         {
          "cum_reward": 30.2056,
          "epsilon": 0.1,
          "step": 37
         },
         {
          "cum_reward": 31.0262,
          "epsilon": 0.1,
          "step": 38
         },
         {
          "cum_reward": 31.8478,
          "epsilon": 0.1,
          "step": 39
         },
         {
          "cum_reward": 32.6796,
          "epsilon": 0.1,
          "step": 40
         },
         {
          "cum_reward": 33.498,
          "epsilon": 0.1,
          "step": 41
         },
         {
          "cum_reward": 34.3212,
          "epsilon": 0.1,
          "step": 42
         },
         {
          "cum_reward": 35.1466,
          "epsilon": 0.1,
          "step": 43
         },
         {
          "cum_reward": 35.9746,
          "epsilon": 0.1,
          "step": 44
         },
         {
          "cum_reward": 36.8042,
          "epsilon": 0.1,
          "step": 45
         },
         {
          "cum_reward": 37.6254,
          "epsilon": 0.1,
          "step": 46
         },
         {
          "cum_reward": 38.458,
          "epsilon": 0.1,
          "step": 47
         },
         {
          "cum_reward": 39.2912,
          "epsilon": 0.1,
          "step": 48
         },
         {
          "cum_reward": 40.1164,
          "epsilon": 0.1,
          "step": 49
         },
         {
          "cum_reward": 40.942,
          "epsilon": 0.1,
          "step": 50
         },
         {
          "cum_reward": 41.7688,
          "epsilon": 0.1,
          "step": 51
         },
         {
          "cum_reward": 42.5938,
          "epsilon": 0.1,
          "step": 52
         },
         {
          "cum_reward": 43.4136,
          "epsilon": 0.1,
          "step": 53
         },
         {
          "cum_reward": 44.2496,
          "epsilon": 0.1,
          "step": 54
         },
         {
          "cum_reward": 45.0874,
          "epsilon": 0.1,
          "step": 55
         },
         {
          "cum_reward": 45.926,
          "epsilon": 0.1,
          "step": 56
         },
         {
          "cum_reward": 46.755,
          "epsilon": 0.1,
          "step": 57
         },
         {
          "cum_reward": 47.5852,
          "epsilon": 0.1,
          "step": 58
         },
         {
          "cum_reward": 48.415,
          "epsilon": 0.1,
          "step": 59
         },
         {
          "cum_reward": 49.245,
          "epsilon": 0.1,
          "step": 60
         },
         {
          "cum_reward": 50.0746,
          "epsilon": 0.1,
          "step": 61
         },
         {
          "cum_reward": 50.9052,
          "epsilon": 0.1,
          "step": 62
         },
         {
          "cum_reward": 51.733,
          "epsilon": 0.1,
          "step": 63
         },
         {
          "cum_reward": 52.5622,
          "epsilon": 0.1,
          "step": 64
         },
         {
          "cum_reward": 53.3908,
          "epsilon": 0.1,
          "step": 65
         },
         {
          "cum_reward": 54.2322,
          "epsilon": 0.1,
          "step": 66
         },
         {
          "cum_reward": 55.0672,
          "epsilon": 0.1,
          "step": 67
         },
         {
          "cum_reward": 55.9046,
          "epsilon": 0.1,
          "step": 68
         },
         {
          "cum_reward": 56.7418,
          "epsilon": 0.1,
          "step": 69
         },
         {
          "cum_reward": 57.5682,
          "epsilon": 0.1,
          "step": 70
         },
         {
          "cum_reward": 58.4064,
          "epsilon": 0.1,
          "step": 71
         },
         {
          "cum_reward": 59.2452,
          "epsilon": 0.1,
          "step": 72
         },
         {
          "cum_reward": 60.074,
          "epsilon": 0.1,
          "step": 73
         },
         {
          "cum_reward": 60.899,
          "epsilon": 0.1,
          "step": 74
         },
         {
          "cum_reward": 61.7392,
          "epsilon": 0.1,
          "step": 75
         },
         {
          "cum_reward": 62.5814,
          "epsilon": 0.1,
          "step": 76
         },
         {
          "cum_reward": 63.4184,
          "epsilon": 0.1,
          "step": 77
         },
         {
          "cum_reward": 64.2672,
          "epsilon": 0.1,
          "step": 78
         },
         {
          "cum_reward": 65.0978,
          "epsilon": 0.1,
          "step": 79
         },
         {
          "cum_reward": 65.939,
          "epsilon": 0.1,
          "step": 80
         },
         {
          "cum_reward": 66.7772,
          "epsilon": 0.1,
          "step": 81
         },
         {
          "cum_reward": 67.6122,
          "epsilon": 0.1,
          "step": 82
         },
         {
          "cum_reward": 68.4568,
          "epsilon": 0.1,
          "step": 83
         },
         {
          "cum_reward": 69.2994,
          "epsilon": 0.1,
          "step": 84
         },
         {
          "cum_reward": 70.1384,
          "epsilon": 0.1,
          "step": 85
         },
         {
          "cum_reward": 70.969,
          "epsilon": 0.1,
          "step": 86
         },
         {
          "cum_reward": 71.8064,
          "epsilon": 0.1,
          "step": 87
         },
         {
          "cum_reward": 72.65,
          "epsilon": 0.1,
          "step": 88
         },
         {
          "cum_reward": 73.4942,
          "epsilon": 0.1,
          "step": 89
         },
         {
          "cum_reward": 74.3354,
          "epsilon": 0.1,
          "step": 90
         },
         {
          "cum_reward": 75.173,
          "epsilon": 0.1,
          "step": 91
         },
         {
          "cum_reward": 76.0154,
          "epsilon": 0.1,
          "step": 92
         },
         {
          "cum_reward": 76.8662,
          "epsilon": 0.1,
          "step": 93
         },
         {
          "cum_reward": 77.7138,
          "epsilon": 0.1,
          "step": 94
         },
         {
          "cum_reward": 78.5618,
          "epsilon": 0.1,
          "step": 95
         },
         {
          "cum_reward": 79.4198,
          "epsilon": 0.1,
          "step": 96
         },
         {
          "cum_reward": 80.2614,
          "epsilon": 0.1,
          "step": 97
         },
         {
          "cum_reward": 81.111,
          "epsilon": 0.1,
          "step": 98
         },
         {
          "cum_reward": 81.9478,
          "epsilon": 0.1,
          "step": 99
         },
         {
          "cum_reward": 82.7852,
          "epsilon": 0.1,
          "step": 100
         },
         {
          "cum_reward": 83.6248,
          "epsilon": 0.1,
          "step": 101
         },
         {
          "cum_reward": 84.4714,
          "epsilon": 0.1,
          "step": 102
         },
         {
          "cum_reward": 85.319,
          "epsilon": 0.1,
          "step": 103
         },
         {
          "cum_reward": 86.1654,
          "epsilon": 0.1,
          "step": 104
         },
         {
          "cum_reward": 87.0128,
          "epsilon": 0.1,
          "step": 105
         },
         {
          "cum_reward": 87.862,
          "epsilon": 0.1,
          "step": 106
         },
         {
          "cum_reward": 88.7098,
          "epsilon": 0.1,
          "step": 107
         },
         {
          "cum_reward": 89.5554,
          "epsilon": 0.1,
          "step": 108
         },
         {
          "cum_reward": 90.397,
          "epsilon": 0.1,
          "step": 109
         },
         {
          "cum_reward": 91.2432,
          "epsilon": 0.1,
          "step": 110
         },
         {
          "cum_reward": 92.0924,
          "epsilon": 0.1,
          "step": 111
         },
         {
          "cum_reward": 92.9376,
          "epsilon": 0.1,
          "step": 112
         },
         {
          "cum_reward": 93.784,
          "epsilon": 0.1,
          "step": 113
         },
         {
          "cum_reward": 94.6266,
          "epsilon": 0.1,
          "step": 114
         },
         {
          "cum_reward": 95.476,
          "epsilon": 0.1,
          "step": 115
         },
         {
          "cum_reward": 96.332,
          "epsilon": 0.1,
          "step": 116
         },
         {
          "cum_reward": 97.1782,
          "epsilon": 0.1,
          "step": 117
         },
         {
          "cum_reward": 98.0246,
          "epsilon": 0.1,
          "step": 118
         },
         {
          "cum_reward": 98.8756,
          "epsilon": 0.1,
          "step": 119
         },
         {
          "cum_reward": 99.7206,
          "epsilon": 0.1,
          "step": 120
         },
         {
          "cum_reward": 100.5688,
          "epsilon": 0.1,
          "step": 121
         },
         {
          "cum_reward": 101.4246,
          "epsilon": 0.1,
          "step": 122
         },
         {
          "cum_reward": 102.274,
          "epsilon": 0.1,
          "step": 123
         },
         {
          "cum_reward": 103.129,
          "epsilon": 0.1,
          "step": 124
         },
         {
          "cum_reward": 103.9806,
          "epsilon": 0.1,
          "step": 125
         },
         {
          "cum_reward": 104.8308,
          "epsilon": 0.1,
          "step": 126
         },
         {
          "cum_reward": 105.6816,
          "epsilon": 0.1,
          "step": 127
         },
         {
          "cum_reward": 106.5332,
          "epsilon": 0.1,
          "step": 128
         },
         {
          "cum_reward": 107.383,
          "epsilon": 0.1,
          "step": 129
         },
         {
          "cum_reward": 108.2364,
          "epsilon": 0.1,
          "step": 130
         },
         {
          "cum_reward": 109.0876,
          "epsilon": 0.1,
          "step": 131
         },
         {
          "cum_reward": 109.9338,
          "epsilon": 0.1,
          "step": 132
         },
         {
          "cum_reward": 110.787,
          "epsilon": 0.1,
          "step": 133
         },
         {
          "cum_reward": 111.6292,
          "epsilon": 0.1,
          "step": 134
         },
         {
          "cum_reward": 112.4796,
          "epsilon": 0.1,
          "step": 135
         },
         {
          "cum_reward": 113.3288,
          "epsilon": 0.1,
          "step": 136
         },
         {
          "cum_reward": 114.1824,
          "epsilon": 0.1,
          "step": 137
         },
         {
          "cum_reward": 115.0284,
          "epsilon": 0.1,
          "step": 138
         },
         {
          "cum_reward": 115.8724,
          "epsilon": 0.1,
          "step": 139
         },
         {
          "cum_reward": 116.7208,
          "epsilon": 0.1,
          "step": 140
         },
         {
          "cum_reward": 117.5688,
          "epsilon": 0.1,
          "step": 141
         },
         {
          "cum_reward": 118.425,
          "epsilon": 0.1,
          "step": 142
         },
         {
          "cum_reward": 119.2874,
          "epsilon": 0.1,
          "step": 143
         },
         {
          "cum_reward": 120.1406,
          "epsilon": 0.1,
          "step": 144
         },
         {
          "cum_reward": 120.982,
          "epsilon": 0.1,
          "step": 145
         },
         {
          "cum_reward": 121.8432,
          "epsilon": 0.1,
          "step": 146
         },
         {
          "cum_reward": 122.6978,
          "epsilon": 0.1,
          "step": 147
         },
         {
          "cum_reward": 123.55,
          "epsilon": 0.1,
          "step": 148
         },
         {
          "cum_reward": 124.399,
          "epsilon": 0.1,
          "step": 149
         },
         {
          "cum_reward": 125.2428,
          "epsilon": 0.1,
          "step": 150
         },
         {
          "cum_reward": 126.0988,
          "epsilon": 0.1,
          "step": 151
         },
         {
          "cum_reward": 126.9568,
          "epsilon": 0.1,
          "step": 152
         },
         {
          "cum_reward": 127.806,
          "epsilon": 0.1,
          "step": 153
         },
         {
          "cum_reward": 128.6642,
          "epsilon": 0.1,
          "step": 154
         },
         {
          "cum_reward": 129.5244,
          "epsilon": 0.1,
          "step": 155
         },
         {
          "cum_reward": 130.3758,
          "epsilon": 0.1,
          "step": 156
         },
         {
          "cum_reward": 131.233,
          "epsilon": 0.1,
          "step": 157
         },
         {
          "cum_reward": 132.0966,
          "epsilon": 0.1,
          "step": 158
         },
         {
          "cum_reward": 132.9572,
          "epsilon": 0.1,
          "step": 159
         },
         {
          "cum_reward": 133.8084,
          "epsilon": 0.1,
          "step": 160
         },
         {
          "cum_reward": 134.6566,
          "epsilon": 0.1,
          "step": 161
         },
         {
          "cum_reward": 135.5106,
          "epsilon": 0.1,
          "step": 162
         },
         {
          "cum_reward": 136.3582,
          "epsilon": 0.1,
          "step": 163
         },
         {
          "cum_reward": 137.217,
          "epsilon": 0.1,
          "step": 164
         },
         {
          "cum_reward": 138.0768,
          "epsilon": 0.1,
          "step": 165
         },
         {
          "cum_reward": 138.931,
          "epsilon": 0.1,
          "step": 166
         },
         {
          "cum_reward": 139.784,
          "epsilon": 0.1,
          "step": 167
         },
         {
          "cum_reward": 140.6334,
          "epsilon": 0.1,
          "step": 168
         },
         {
          "cum_reward": 141.4952,
          "epsilon": 0.1,
          "step": 169
         },
         {
          "cum_reward": 142.3616,
          "epsilon": 0.1,
          "step": 170
         },
         {
          "cum_reward": 143.2222,
          "epsilon": 0.1,
          "step": 171
         },
         {
          "cum_reward": 144.0802,
          "epsilon": 0.1,
          "step": 172
         },
         {
          "cum_reward": 144.9346,
          "epsilon": 0.1,
          "step": 173
         },
         {
          "cum_reward": 145.7896,
          "epsilon": 0.1,
          "step": 174
         },
         {
          "cum_reward": 146.6444,
          "epsilon": 0.1,
          "step": 175
         },
         {
          "cum_reward": 147.5112,
          "epsilon": 0.1,
          "step": 176
         },
         {
          "cum_reward": 148.3778,
          "epsilon": 0.1,
          "step": 177
         },
         {
          "cum_reward": 149.2354,
          "epsilon": 0.1,
          "step": 178
         },
         {
          "cum_reward": 150.0988,
          "epsilon": 0.1,
          "step": 179
         },
         {
          "cum_reward": 150.96,
          "epsilon": 0.1,
          "step": 180
         },
         {
          "cum_reward": 151.8198,
          "epsilon": 0.1,
          "step": 181
         },
         {
          "cum_reward": 152.6802,
          "epsilon": 0.1,
          "step": 182
         },
         {
          "cum_reward": 153.5318,
          "epsilon": 0.1,
          "step": 183
         },
         {
          "cum_reward": 154.3924,
          "epsilon": 0.1,
          "step": 184
         },
         {
          "cum_reward": 155.2508,
          "epsilon": 0.1,
          "step": 185
         },
         {
          "cum_reward": 156.1112,
          "epsilon": 0.1,
          "step": 186
         },
         {
          "cum_reward": 156.9694,
          "epsilon": 0.1,
          "step": 187
         },
         {
          "cum_reward": 157.831,
          "epsilon": 0.1,
          "step": 188
         },
         {
          "cum_reward": 158.6878,
          "epsilon": 0.1,
          "step": 189
         },
         {
          "cum_reward": 159.546,
          "epsilon": 0.1,
          "step": 190
         },
         {
          "cum_reward": 160.414,
          "epsilon": 0.1,
          "step": 191
         },
         {
          "cum_reward": 161.2782,
          "epsilon": 0.1,
          "step": 192
         },
         {
          "cum_reward": 162.1364,
          "epsilon": 0.1,
          "step": 193
         },
         {
          "cum_reward": 162.9924,
          "epsilon": 0.1,
          "step": 194
         },
         {
          "cum_reward": 163.8548,
          "epsilon": 0.1,
          "step": 195
         },
         {
          "cum_reward": 164.7156,
          "epsilon": 0.1,
          "step": 196
         },
         {
          "cum_reward": 165.5828,
          "epsilon": 0.1,
          "step": 197
         },
         {
          "cum_reward": 166.4486,
          "epsilon": 0.1,
          "step": 198
         },
         {
          "cum_reward": 167.3072,
          "epsilon": 0.1,
          "step": 199
         },
         {
          "cum_reward": 168.1682,
          "epsilon": 0.1,
          "step": 200
         },
         {
          "cum_reward": 169.032,
          "epsilon": 0.1,
          "step": 201
         },
         {
          "cum_reward": 169.8872,
          "epsilon": 0.1,
          "step": 202
         },
         {
          "cum_reward": 170.7458,
          "epsilon": 0.1,
          "step": 203
         },
         {
          "cum_reward": 171.6054,
          "epsilon": 0.1,
          "step": 204
         },
         {
          "cum_reward": 172.4626,
          "epsilon": 0.1,
          "step": 205
         },
         {
          "cum_reward": 173.3248,
          "epsilon": 0.1,
          "step": 206
         },
         {
          "cum_reward": 174.1828,
          "epsilon": 0.1,
          "step": 207
         },
         {
          "cum_reward": 175.0384,
          "epsilon": 0.1,
          "step": 208
         },
         {
          "cum_reward": 175.9032,
          "epsilon": 0.1,
          "step": 209
         },
         {
          "cum_reward": 176.761,
          "epsilon": 0.1,
          "step": 210
         },
         {
          "cum_reward": 177.6146,
          "epsilon": 0.1,
          "step": 211
         },
         {
          "cum_reward": 178.4798,
          "epsilon": 0.1,
          "step": 212
         },
         {
          "cum_reward": 179.3508,
          "epsilon": 0.1,
          "step": 213
         },
         {
          "cum_reward": 180.213,
          "epsilon": 0.1,
          "step": 214
         },
         {
          "cum_reward": 181.0686,
          "epsilon": 0.1,
          "step": 215
         },
         {
          "cum_reward": 181.93,
          "epsilon": 0.1,
          "step": 216
         },
         {
          "cum_reward": 182.7888,
          "epsilon": 0.1,
          "step": 217
         },
         {
          "cum_reward": 183.666,
          "epsilon": 0.1,
          "step": 218
         },
         {
          "cum_reward": 184.5282,
          "epsilon": 0.1,
          "step": 219
         },
         {
          "cum_reward": 185.3918,
          "epsilon": 0.1,
          "step": 220
         },
         {
          "cum_reward": 186.2526,
          "epsilon": 0.1,
          "step": 221
         },
         {
          "cum_reward": 187.1174,
          "epsilon": 0.1,
          "step": 222
         },
         {
          "cum_reward": 187.9928,
          "epsilon": 0.1,
          "step": 223
         },
         {
          "cum_reward": 188.8594,
          "epsilon": 0.1,
          "step": 224
         },
         {
          "cum_reward": 189.7286,
          "epsilon": 0.1,
          "step": 225
         },
         {
          "cum_reward": 190.593,
          "epsilon": 0.1,
          "step": 226
         },
         {
          "cum_reward": 191.4578,
          "epsilon": 0.1,
          "step": 227
         },
         {
          "cum_reward": 192.3162,
          "epsilon": 0.1,
          "step": 228
         },
         {
          "cum_reward": 193.1722,
          "epsilon": 0.1,
          "step": 229
         },
         {
          "cum_reward": 194.0232,
          "epsilon": 0.1,
          "step": 230
         },
         {
          "cum_reward": 194.8814,
          "epsilon": 0.1,
          "step": 231
         },
         {
          "cum_reward": 195.7438,
          "epsilon": 0.1,
          "step": 232
         },
         {
          "cum_reward": 196.6064,
          "epsilon": 0.1,
          "step": 233
         },
         {
          "cum_reward": 197.4622,
          "epsilon": 0.1,
          "step": 234
         },
         {
          "cum_reward": 198.3184,
          "epsilon": 0.1,
          "step": 235
         },
         {
          "cum_reward": 199.1798,
          "epsilon": 0.1,
          "step": 236
         },
         {
          "cum_reward": 200.0356,
          "epsilon": 0.1,
          "step": 237
         },
         {
          "cum_reward": 200.9016,
          "epsilon": 0.1,
          "step": 238
         },
         {
          "cum_reward": 201.7638,
          "epsilon": 0.1,
          "step": 239
         },
         {
          "cum_reward": 202.626,
          "epsilon": 0.1,
          "step": 240
         },
         {
          "cum_reward": 203.4954,
          "epsilon": 0.1,
          "step": 241
         },
         {
          "cum_reward": 204.3528,
          "epsilon": 0.1,
          "step": 242
         },
         {
          "cum_reward": 205.2188,
          "epsilon": 0.1,
          "step": 243
         },
         {
          "cum_reward": 206.0806,
          "epsilon": 0.1,
          "step": 244
         },
         {
          "cum_reward": 206.9442,
          "epsilon": 0.1,
          "step": 245
         },
         {
          "cum_reward": 207.8146,
          "epsilon": 0.1,
          "step": 246
         },
         {
          "cum_reward": 208.6816,
          "epsilon": 0.1,
          "step": 247
         },
         {
          "cum_reward": 209.545,
          "epsilon": 0.1,
          "step": 248
         },
         {
          "cum_reward": 210.408,
          "epsilon": 0.1,
          "step": 249
         },
         {
          "cum_reward": 211.2694,
          "epsilon": 0.1,
          "step": 250
         },
         {
          "cum_reward": 0.8132,
          "epsilon": 0.2,
          "step": 1
         },
         {
          "cum_reward": 1.6112,
          "epsilon": 0.2,
          "step": 2
         },
         {
          "cum_reward": 2.411,
          "epsilon": 0.2,
          "step": 3
         },
         {
          "cum_reward": 3.219,
          "epsilon": 0.2,
          "step": 4
         },
         {
          "cum_reward": 4.0298,
          "epsilon": 0.2,
          "step": 5
         },
         {
          "cum_reward": 4.8472,
          "epsilon": 0.2,
          "step": 6
         },
         {
          "cum_reward": 5.6566,
          "epsilon": 0.2,
          "step": 7
         },
         {
          "cum_reward": 6.475,
          "epsilon": 0.2,
          "step": 8
         },
         {
          "cum_reward": 7.2806,
          "epsilon": 0.2,
          "step": 9
         },
         {
          "cum_reward": 8.097,
          "epsilon": 0.2,
          "step": 10
         },
         {
          "cum_reward": 8.918,
          "epsilon": 0.2,
          "step": 11
         },
         {
          "cum_reward": 9.739,
          "epsilon": 0.2,
          "step": 12
         },
         {
          "cum_reward": 10.5654,
          "epsilon": 0.2,
          "step": 13
         },
         {
          "cum_reward": 11.3854,
          "epsilon": 0.2,
          "step": 14
         },
         {
          "cum_reward": 12.2198,
          "epsilon": 0.2,
          "step": 15
         },
         {
          "cum_reward": 13.0358,
          "epsilon": 0.2,
          "step": 16
         },
         {
          "cum_reward": 13.857,
          "epsilon": 0.2,
          "step": 17
         },
         {
          "cum_reward": 14.6812,
          "epsilon": 0.2,
          "step": 18
         },
         {
          "cum_reward": 15.5048,
          "epsilon": 0.2,
          "step": 19
         },
         {
          "cum_reward": 16.3352,
          "epsilon": 0.2,
          "step": 20
         },
         {
          "cum_reward": 17.16,
          "epsilon": 0.2,
          "step": 21
         },
         {
          "cum_reward": 17.986,
          "epsilon": 0.2,
          "step": 22
         },
         {
          "cum_reward": 18.8084,
          "epsilon": 0.2,
          "step": 23
         },
         {
          "cum_reward": 19.6382,
          "epsilon": 0.2,
          "step": 24
         },
         {
          "cum_reward": 20.4688,
          "epsilon": 0.2,
          "step": 25
         },
         {
          "cum_reward": 21.304,
          "epsilon": 0.2,
          "step": 26
         },
         {
          "cum_reward": 22.1328,
          "epsilon": 0.2,
          "step": 27
         },
         {
          "cum_reward": 22.968,
          "epsilon": 0.2,
          "step": 28
         },
         {
          "cum_reward": 23.7942,
          "epsilon": 0.2,
          "step": 29
         },
         {
          "cum_reward": 24.6266,
          "epsilon": 0.2,
          "step": 30
         },
         {
          "cum_reward": 25.4644,
          "epsilon": 0.2,
          "step": 31
         },
         {
          "cum_reward": 26.3028,
          "epsilon": 0.2,
          "step": 32
         },
         {
          "cum_reward": 27.1348,
          "epsilon": 0.2,
          "step": 33
         },
         {
          "cum_reward": 27.9578,
          "epsilon": 0.2,
          "step": 34
         },
         {
          "cum_reward": 28.801,
          "epsilon": 0.2,
          "step": 35
         },
         {
          "cum_reward": 29.6382,
          "epsilon": 0.2,
          "step": 36
         },
         {
          "cum_reward": 30.4698,
          "epsilon": 0.2,
          "step": 37
         },
         {
          "cum_reward": 31.298,
          "epsilon": 0.2,
          "step": 38
         },
         {
          "cum_reward": 32.133,
          "epsilon": 0.2,
          "step": 39
         },
         {
          "cum_reward": 32.9652,
          "epsilon": 0.2,
          "step": 40
         },
         {
          "cum_reward": 33.7954,
          "epsilon": 0.2,
          "step": 41
         },
         {
          "cum_reward": 34.6402,
          "epsilon": 0.2,
          "step": 42
         },
         {
          "cum_reward": 35.47,
          "epsilon": 0.2,
          "step": 43
         },
         {
          "cum_reward": 36.3084,
          "epsilon": 0.2,
          "step": 44
         },
         {
          "cum_reward": 37.1448,
          "epsilon": 0.2,
          "step": 45
         },
         {
          "cum_reward": 37.9722,
          "epsilon": 0.2,
          "step": 46
         },
         {
          "cum_reward": 38.8052,
          "epsilon": 0.2,
          "step": 47
         },
         {
          "cum_reward": 39.6434,
          "epsilon": 0.2,
          "step": 48
         },
         {
          "cum_reward": 40.477,
          "epsilon": 0.2,
          "step": 49
         },
         {
          "cum_reward": 41.3114,
          "epsilon": 0.2,
          "step": 50
         },
         {
          "cum_reward": 42.1386,
          "epsilon": 0.2,
          "step": 51
         },
         {
          "cum_reward": 42.9776,
          "epsilon": 0.2,
          "step": 52
         },
         {
          "cum_reward": 43.8224,
          "epsilon": 0.2,
          "step": 53
         },
         {
          "cum_reward": 44.6566,
          "epsilon": 0.2,
          "step": 54
         },
         {
          "cum_reward": 45.4916,
          "epsilon": 0.2,
          "step": 55
         },
         {
          "cum_reward": 46.3356,
          "epsilon": 0.2,
          "step": 56
         },
         {
          "cum_reward": 47.1712,
          "epsilon": 0.2,
          "step": 57
         },
         {
          "cum_reward": 48.0194,
          "epsilon": 0.2,
          "step": 58
         },
         {
          "cum_reward": 48.8594,
          "epsilon": 0.2,
          "step": 59
         },
         {
          "cum_reward": 49.6954,
          "epsilon": 0.2,
          "step": 60
         },
         {
          "cum_reward": 50.5314,
          "epsilon": 0.2,
          "step": 61
         },
         {
          "cum_reward": 51.3668,
          "epsilon": 0.2,
          "step": 62
         },
         {
          "cum_reward": 52.2058,
          "epsilon": 0.2,
          "step": 63
         },
         {
          "cum_reward": 53.0592,
          "epsilon": 0.2,
          "step": 64
         },
         {
          "cum_reward": 53.8954,
          "epsilon": 0.2,
          "step": 65
         },
         {
          "cum_reward": 54.7306,
          "epsilon": 0.2,
          "step": 66
         },
         {
          "cum_reward": 55.5752,
          "epsilon": 0.2,
          "step": 67
         },
         {
          "cum_reward": 56.4214,
          "epsilon": 0.2,
          "step": 68
         },
         {
          "cum_reward": 57.2568,
          "epsilon": 0.2,
          "step": 69
         },
         {
          "cum_reward": 58.1014,
          "epsilon": 0.2,
          "step": 70
         },
         {
          "cum_reward": 58.9494,
          "epsilon": 0.2,
          "step": 71
         },
         {
          "cum_reward": 59.7986,
          "epsilon": 0.2,
          "step": 72
         },
         {
          "cum_reward": 60.649,
          "epsilon": 0.2,
          "step": 73
         },
         {
          "cum_reward": 61.496,
          "epsilon": 0.2,
          "step": 74
         },
         {
          "cum_reward": 62.335,
          "epsilon": 0.2,
          "step": 75
         },
         {
          "cum_reward": 63.1902,
          "epsilon": 0.2,
          "step": 76
         },
         {
          "cum_reward": 64.0232,
          "epsilon": 0.2,
          "step": 77
         },
         {
          "cum_reward": 64.864,
          "epsilon": 0.2,
          "step": 78
         },
         {
          "cum_reward": 65.7096,
          "epsilon": 0.2,
          "step": 79
         },
         {
          "cum_reward": 66.5508,
          "epsilon": 0.2,
          "step": 80
         },
         {
          "cum_reward": 67.4024,
          "epsilon": 0.2,
          "step": 81
         },
         {
          "cum_reward": 68.2488,
          "epsilon": 0.2,
          "step": 82
         },
         {
          "cum_reward": 69.0996,
          "epsilon": 0.2,
          "step": 83
         },
         {
          "cum_reward": 69.9398,
          "epsilon": 0.2,
          "step": 84
         },
         {
          "cum_reward": 70.7916,
          "epsilon": 0.2,
          "step": 85
         },
         {
          "cum_reward": 71.6464,
          "epsilon": 0.2,
          "step": 86
         },
         {
          "cum_reward": 72.494,
          "epsilon": 0.2,
          "step": 87
         },
         {
          "cum_reward": 73.3418,
          "epsilon": 0.2,
          "step": 88
         },
         {
          "cum_reward": 74.186,
          "epsilon": 0.2,
          "step": 89
         },
         {
          "cum_reward": 75.0322,
          "epsilon": 0.2,
          "step": 90
         },
         {
          "cum_reward": 75.8848,
          "epsilon": 0.2,
          "step": 91
         },
         {
          "cum_reward": 76.7336,
          "epsilon": 0.2,
          "step": 92
         },
         {
          "cum_reward": 77.5806,
          "epsilon": 0.2,
          "step": 93
         },
         {
          "cum_reward": 78.4268,
          "epsilon": 0.2,
          "step": 94
         },
         {
          "cum_reward": 79.2608,
          "epsilon": 0.2,
          "step": 95
         },
         {
          "cum_reward": 80.114,
          "epsilon": 0.2,
          "step": 96
         },
         {
          "cum_reward": 80.962,
          "epsilon": 0.2,
          "step": 97
         },
         {
          "cum_reward": 81.8106,
          "epsilon": 0.2,
          "step": 98
         },
         {
          "cum_reward": 82.6638,
          "epsilon": 0.2,
          "step": 99
         },
         {
          "cum_reward": 83.5138,
          "epsilon": 0.2,
          "step": 100
         },
         {
          "cum_reward": 84.3704,
          "epsilon": 0.2,
          "step": 101
         },
         {
          "cum_reward": 85.2156,
          "epsilon": 0.2,
          "step": 102
         },
         {
          "cum_reward": 86.0688,
          "epsilon": 0.2,
          "step": 103
         },
         {
          "cum_reward": 86.9158,
          "epsilon": 0.2,
          "step": 104
         },
         {
          "cum_reward": 87.7668,
          "epsilon": 0.2,
          "step": 105
         },
         {
          "cum_reward": 88.608,
          "epsilon": 0.2,
          "step": 106
         },
         {
          "cum_reward": 89.4584,
          "epsilon": 0.2,
          "step": 107
         },
         {
          "cum_reward": 90.304,
          "epsilon": 0.2,
          "step": 108
         },
         {
          "cum_reward": 91.151,
          "epsilon": 0.2,
          "step": 109
         },
         {
          "cum_reward": 92.0048,
          "epsilon": 0.2,
          "step": 110
         },
         {
          "cum_reward": 92.8516,
          "epsilon": 0.2,
          "step": 111
         },
         {
          "cum_reward": 93.7,
          "epsilon": 0.2,
          "step": 112
         },
         {
          "cum_reward": 94.5608,
          "epsilon": 0.2,
          "step": 113
         },
         {
          "cum_reward": 95.4124,
          "epsilon": 0.2,
          "step": 114
         },
         {
          "cum_reward": 96.2642,
          "epsilon": 0.2,
          "step": 115
         },
         {
          "cum_reward": 97.118,
          "epsilon": 0.2,
          "step": 116
         },
         {
          "cum_reward": 97.962,
          "epsilon": 0.2,
          "step": 117
         },
         {
          "cum_reward": 98.8106,
          "epsilon": 0.2,
          "step": 118
         },
         {
          "cum_reward": 99.6622,
          "epsilon": 0.2,
          "step": 119
         },
         {
          "cum_reward": 100.513,
          "epsilon": 0.2,
          "step": 120
         },
         {
          "cum_reward": 101.3676,
          "epsilon": 0.2,
          "step": 121
         },
         {
          "cum_reward": 102.2254,
          "epsilon": 0.2,
          "step": 122
         },
         {
          "cum_reward": 103.08,
          "epsilon": 0.2,
          "step": 123
         },
         {
          "cum_reward": 103.9304,
          "epsilon": 0.2,
          "step": 124
         },
         {
          "cum_reward": 104.7894,
          "epsilon": 0.2,
          "step": 125
         },
         {
          "cum_reward": 105.6406,
          "epsilon": 0.2,
          "step": 126
         },
         {
          "cum_reward": 106.4936,
          "epsilon": 0.2,
          "step": 127
         },
         {
          "cum_reward": 107.3474,
          "epsilon": 0.2,
          "step": 128
         },
         {
          "cum_reward": 108.2046,
          "epsilon": 0.2,
          "step": 129
         },
         {
          "cum_reward": 109.0576,
          "epsilon": 0.2,
          "step": 130
         },
         {
          "cum_reward": 109.9096,
          "epsilon": 0.2,
          "step": 131
         },
         {
          "cum_reward": 110.7708,
          "epsilon": 0.2,
          "step": 132
         },
         {
          "cum_reward": 111.6234,
          "epsilon": 0.2,
          "step": 133
         },
         {
          "cum_reward": 112.4844,
          "epsilon": 0.2,
          "step": 134
         },
         {
          "cum_reward": 113.3388,
          "epsilon": 0.2,
          "step": 135
         },
         {
          "cum_reward": 114.1934,
          "epsilon": 0.2,
          "step": 136
         },
         {
          "cum_reward": 115.0548,
          "epsilon": 0.2,
          "step": 137
         },
         {
          "cum_reward": 115.9144,
          "epsilon": 0.2,
          "step": 138
         },
         {
          "cum_reward": 116.7762,
          "epsilon": 0.2,
          "step": 139
         },
         {
          "cum_reward": 117.6292,
          "epsilon": 0.2,
          "step": 140
         },
         {
          "cum_reward": 118.4872,
          "epsilon": 0.2,
          "step": 141
         },
         {
          "cum_reward": 119.3446,
          "epsilon": 0.2,
          "step": 142
         },
         {
          "cum_reward": 120.2032,
          "epsilon": 0.2,
          "step": 143
         },
         {
          "cum_reward": 121.0614,
          "epsilon": 0.2,
          "step": 144
         },
         {
          "cum_reward": 121.9206,
          "epsilon": 0.2,
          "step": 145
         },
         {
          "cum_reward": 122.7814,
          "epsilon": 0.2,
          "step": 146
         },
         {
          "cum_reward": 123.6314,
          "epsilon": 0.2,
          "step": 147
         },
         {
          "cum_reward": 124.493,
          "epsilon": 0.2,
          "step": 148
         },
         {
          "cum_reward": 125.3508,
          "epsilon": 0.2,
          "step": 149
         },
         {
          "cum_reward": 126.2126,
          "epsilon": 0.2,
          "step": 150
         },
         {
          "cum_reward": 127.0672,
          "epsilon": 0.2,
          "step": 151
         },
         {
          "cum_reward": 127.9294,
          "epsilon": 0.2,
          "step": 152
         },
         {
          "cum_reward": 128.7882,
          "epsilon": 0.2,
          "step": 153
         },
         {
          "cum_reward": 129.6504,
          "epsilon": 0.2,
          "step": 154
         },
         {
          "cum_reward": 130.508,
          "epsilon": 0.2,
          "step": 155
         },
         {
          "cum_reward": 131.3592,
          "epsilon": 0.2,
          "step": 156
         },
         {
          "cum_reward": 132.2168,
          "epsilon": 0.2,
          "step": 157
         },
         {
          "cum_reward": 133.0772,
          "epsilon": 0.2,
          "step": 158
         },
         {
          "cum_reward": 133.9366,
          "epsilon": 0.2,
          "step": 159
         },
         {
          "cum_reward": 134.7914,
          "epsilon": 0.2,
          "step": 160
         },
         {
          "cum_reward": 135.6656,
          "epsilon": 0.2,
          "step": 161
         },
         {
          "cum_reward": 136.5156,
          "epsilon": 0.2,
          "step": 162
         },
         {
          "cum_reward": 137.3748,
          "epsilon": 0.2,
          "step": 163
         },
         {
          "cum_reward": 138.241,
          "epsilon": 0.2,
          "step": 164
         },
         {
          "cum_reward": 139.0938,
          "epsilon": 0.2,
          "step": 165
         },
         {
          "cum_reward": 139.9518,
          "epsilon": 0.2,
          "step": 166
         },
         {
          "cum_reward": 140.8238,
          "epsilon": 0.2,
          "step": 167
         },
         {
          "cum_reward": 141.6792,
          "epsilon": 0.2,
          "step": 168
         },
         {
          "cum_reward": 142.544,
          "epsilon": 0.2,
          "step": 169
         },
         {
          "cum_reward": 143.4052,
          "epsilon": 0.2,
          "step": 170
         },
         {
          "cum_reward": 144.2648,
          "epsilon": 0.2,
          "step": 171
         },
         {
          "cum_reward": 145.1188,
          "epsilon": 0.2,
          "step": 172
         },
         {
          "cum_reward": 145.9746,
          "epsilon": 0.2,
          "step": 173
         },
         {
          "cum_reward": 146.8402,
          "epsilon": 0.2,
          "step": 174
         },
         {
          "cum_reward": 147.6992,
          "epsilon": 0.2,
          "step": 175
         },
         {
          "cum_reward": 148.5612,
          "epsilon": 0.2,
          "step": 176
         },
         {
          "cum_reward": 149.4122,
          "epsilon": 0.2,
          "step": 177
         },
         {
          "cum_reward": 150.2738,
          "epsilon": 0.2,
          "step": 178
         },
         {
          "cum_reward": 151.1314,
          "epsilon": 0.2,
          "step": 179
         },
         {
          "cum_reward": 151.9956,
          "epsilon": 0.2,
          "step": 180
         },
         {
          "cum_reward": 152.8564,
          "epsilon": 0.2,
          "step": 181
         },
         {
          "cum_reward": 153.723,
          "epsilon": 0.2,
          "step": 182
         },
         {
          "cum_reward": 154.585,
          "epsilon": 0.2,
          "step": 183
         },
         {
          "cum_reward": 155.4526,
          "epsilon": 0.2,
          "step": 184
         },
         {
          "cum_reward": 156.3134,
          "epsilon": 0.2,
          "step": 185
         },
         {
          "cum_reward": 157.1692,
          "epsilon": 0.2,
          "step": 186
         },
         {
          "cum_reward": 158.0348,
          "epsilon": 0.2,
          "step": 187
         },
         {
          "cum_reward": 158.8942,
          "epsilon": 0.2,
          "step": 188
         },
         {
          "cum_reward": 159.7552,
          "epsilon": 0.2,
          "step": 189
         },
         {
          "cum_reward": 160.6138,
          "epsilon": 0.2,
          "step": 190
         },
         {
          "cum_reward": 161.4762,
          "epsilon": 0.2,
          "step": 191
         },
         {
          "cum_reward": 162.3348,
          "epsilon": 0.2,
          "step": 192
         },
         {
          "cum_reward": 163.1994,
          "epsilon": 0.2,
          "step": 193
         },
         {
          "cum_reward": 164.053,
          "epsilon": 0.2,
          "step": 194
         },
         {
          "cum_reward": 164.9178,
          "epsilon": 0.2,
          "step": 195
         },
         {
          "cum_reward": 165.7678,
          "epsilon": 0.2,
          "step": 196
         },
         {
          "cum_reward": 166.6282,
          "epsilon": 0.2,
          "step": 197
         },
         {
          "cum_reward": 167.4994,
          "epsilon": 0.2,
          "step": 198
         },
         {
          "cum_reward": 168.3734,
          "epsilon": 0.2,
          "step": 199
         },
         {
          "cum_reward": 169.2342,
          "epsilon": 0.2,
          "step": 200
         },
         {
          "cum_reward": 170.1008,
          "epsilon": 0.2,
          "step": 201
         },
         {
          "cum_reward": 170.9666,
          "epsilon": 0.2,
          "step": 202
         },
         {
          "cum_reward": 171.83,
          "epsilon": 0.2,
          "step": 203
         },
         {
          "cum_reward": 172.6914,
          "epsilon": 0.2,
          "step": 204
         },
         {
          "cum_reward": 173.5618,
          "epsilon": 0.2,
          "step": 205
         },
         {
          "cum_reward": 174.4278,
          "epsilon": 0.2,
          "step": 206
         },
         {
          "cum_reward": 175.2872,
          "epsilon": 0.2,
          "step": 207
         },
         {
          "cum_reward": 176.1566,
          "epsilon": 0.2,
          "step": 208
         },
         {
          "cum_reward": 177.0202,
          "epsilon": 0.2,
          "step": 209
         },
         {
          "cum_reward": 177.8888,
          "epsilon": 0.2,
          "step": 210
         },
         {
          "cum_reward": 178.7478,
          "epsilon": 0.2,
          "step": 211
         },
         {
          "cum_reward": 179.606,
          "epsilon": 0.2,
          "step": 212
         },
         {
          "cum_reward": 180.4714,
          "epsilon": 0.2,
          "step": 213
         },
         {
          "cum_reward": 181.3262,
          "epsilon": 0.2,
          "step": 214
         },
         {
          "cum_reward": 182.1842,
          "epsilon": 0.2,
          "step": 215
         },
         {
          "cum_reward": 183.0536,
          "epsilon": 0.2,
          "step": 216
         },
         {
          "cum_reward": 183.9178,
          "epsilon": 0.2,
          "step": 217
         },
         {
          "cum_reward": 184.7758,
          "epsilon": 0.2,
          "step": 218
         },
         {
          "cum_reward": 185.6398,
          "epsilon": 0.2,
          "step": 219
         },
         {
          "cum_reward": 186.5142,
          "epsilon": 0.2,
          "step": 220
         },
         {
          "cum_reward": 187.385,
          "epsilon": 0.2,
          "step": 221
         },
         {
          "cum_reward": 188.2464,
          "epsilon": 0.2,
          "step": 222
         },
         {
          "cum_reward": 189.1106,
          "epsilon": 0.2,
          "step": 223
         },
         {
          "cum_reward": 189.9798,
          "epsilon": 0.2,
          "step": 224
         },
         {
          "cum_reward": 190.8424,
          "epsilon": 0.2,
          "step": 225
         },
         {
          "cum_reward": 191.71,
          "epsilon": 0.2,
          "step": 226
         },
         {
          "cum_reward": 192.5774,
          "epsilon": 0.2,
          "step": 227
         },
         {
          "cum_reward": 193.4448,
          "epsilon": 0.2,
          "step": 228
         },
         {
          "cum_reward": 194.3122,
          "epsilon": 0.2,
          "step": 229
         },
         {
          "cum_reward": 195.1812,
          "epsilon": 0.2,
          "step": 230
         },
         {
          "cum_reward": 196.0524,
          "epsilon": 0.2,
          "step": 231
         },
         {
          "cum_reward": 196.9128,
          "epsilon": 0.2,
          "step": 232
         },
         {
          "cum_reward": 197.7806,
          "epsilon": 0.2,
          "step": 233
         },
         {
          "cum_reward": 198.6518,
          "epsilon": 0.2,
          "step": 234
         },
         {
          "cum_reward": 199.5226,
          "epsilon": 0.2,
          "step": 235
         },
         {
          "cum_reward": 200.3944,
          "epsilon": 0.2,
          "step": 236
         },
         {
          "cum_reward": 201.2628,
          "epsilon": 0.2,
          "step": 237
         },
         {
          "cum_reward": 202.1332,
          "epsilon": 0.2,
          "step": 238
         },
         {
          "cum_reward": 203.002,
          "epsilon": 0.2,
          "step": 239
         },
         {
          "cum_reward": 203.8632,
          "epsilon": 0.2,
          "step": 240
         },
         {
          "cum_reward": 204.7252,
          "epsilon": 0.2,
          "step": 241
         },
         {
          "cum_reward": 205.5956,
          "epsilon": 0.2,
          "step": 242
         },
         {
          "cum_reward": 206.4554,
          "epsilon": 0.2,
          "step": 243
         },
         {
          "cum_reward": 207.307,
          "epsilon": 0.2,
          "step": 244
         },
         {
          "cum_reward": 208.1742,
          "epsilon": 0.2,
          "step": 245
         },
         {
          "cum_reward": 209.0316,
          "epsilon": 0.2,
          "step": 246
         },
         {
          "cum_reward": 209.8926,
          "epsilon": 0.2,
          "step": 247
         },
         {
          "cum_reward": 210.7632,
          "epsilon": 0.2,
          "step": 248
         },
         {
          "cum_reward": 211.6318,
          "epsilon": 0.2,
          "step": 249
         },
         {
          "cum_reward": 212.4978,
          "epsilon": 0.2,
          "step": 250
         },
         {
          "cum_reward": 0.8104,
          "epsilon": 0.3,
          "step": 1
         },
         {
          "cum_reward": 1.6192,
          "epsilon": 0.3,
          "step": 2
         },
         {
          "cum_reward": 2.4286,
          "epsilon": 0.3,
          "step": 3
         },
         {
          "cum_reward": 3.2382,
          "epsilon": 0.3,
          "step": 4
         },
         {
          "cum_reward": 4.0486,
          "epsilon": 0.3,
          "step": 5
         },
         {
          "cum_reward": 4.8706,
          "epsilon": 0.3,
          "step": 6
         },
         {
          "cum_reward": 5.6908,
          "epsilon": 0.3,
          "step": 7
         },
         {
          "cum_reward": 6.5122,
          "epsilon": 0.3,
          "step": 8
         },
         {
          "cum_reward": 7.339,
          "epsilon": 0.3,
          "step": 9
         },
         {
          "cum_reward": 8.1538,
          "epsilon": 0.3,
          "step": 10
         },
         {
          "cum_reward": 8.9844,
          "epsilon": 0.3,
          "step": 11
         },
         {
          "cum_reward": 9.8058,
          "epsilon": 0.3,
          "step": 12
         },
         {
          "cum_reward": 10.6314,
          "epsilon": 0.3,
          "step": 13
         },
         {
          "cum_reward": 11.4622,
          "epsilon": 0.3,
          "step": 14
         },
         {
          "cum_reward": 12.2854,
          "epsilon": 0.3,
          "step": 15
         },
         {
          "cum_reward": 13.1178,
          "epsilon": 0.3,
          "step": 16
         },
         {
          "cum_reward": 13.9432,
          "epsilon": 0.3,
          "step": 17
         },
         {
          "cum_reward": 14.7688,
          "epsilon": 0.3,
          "step": 18
         },
         {
          "cum_reward": 15.5896,
          "epsilon": 0.3,
          "step": 19
         },
         {
          "cum_reward": 16.4094,
          "epsilon": 0.3,
          "step": 20
         },
         {
          "cum_reward": 17.233,
          "epsilon": 0.3,
          "step": 21
         },
         {
          "cum_reward": 18.0616,
          "epsilon": 0.3,
          "step": 22
         },
         {
          "cum_reward": 18.887,
          "epsilon": 0.3,
          "step": 23
         },
         {
          "cum_reward": 19.7122,
          "epsilon": 0.3,
          "step": 24
         },
         {
          "cum_reward": 20.5428,
          "epsilon": 0.3,
          "step": 25
         },
         {
          "cum_reward": 21.3742,
          "epsilon": 0.3,
          "step": 26
         },
         {
          "cum_reward": 22.2128,
          "epsilon": 0.3,
          "step": 27
         },
         {
          "cum_reward": 23.0484,
          "epsilon": 0.3,
          "step": 28
         },
         {
          "cum_reward": 23.8768,
          "epsilon": 0.3,
          "step": 29
         },
         {
          "cum_reward": 24.6986,
          "epsilon": 0.3,
          "step": 30
         },
         {
          "cum_reward": 25.527,
          "epsilon": 0.3,
          "step": 31
         },
         {
          "cum_reward": 26.3638,
          "epsilon": 0.3,
          "step": 32
         },
         {
          "cum_reward": 27.1976,
          "epsilon": 0.3,
          "step": 33
         },
         {
          "cum_reward": 28.0402,
          "epsilon": 0.3,
          "step": 34
         },
         {
          "cum_reward": 28.8726,
          "epsilon": 0.3,
          "step": 35
         },
         {
          "cum_reward": 29.7014,
          "epsilon": 0.3,
          "step": 36
         },
         {
          "cum_reward": 30.5362,
          "epsilon": 0.3,
          "step": 37
         },
         {
          "cum_reward": 31.375,
          "epsilon": 0.3,
          "step": 38
         },
         {
          "cum_reward": 32.2062,
          "epsilon": 0.3,
          "step": 39
         },
         {
          "cum_reward": 33.0338,
          "epsilon": 0.3,
          "step": 40
         },
         {
          "cum_reward": 33.8714,
          "epsilon": 0.3,
          "step": 41
         },
         {
          "cum_reward": 34.7104,
          "epsilon": 0.3,
          "step": 42
         },
         {
          "cum_reward": 35.5466,
          "epsilon": 0.3,
          "step": 43
         },
         {
          "cum_reward": 36.3874,
          "epsilon": 0.3,
          "step": 44
         },
         {
          "cum_reward": 37.2266,
          "epsilon": 0.3,
          "step": 45
         },
         {
          "cum_reward": 38.0614,
          "epsilon": 0.3,
          "step": 46
         },
         {
          "cum_reward": 38.888,
          "epsilon": 0.3,
          "step": 47
         },
         {
          "cum_reward": 39.7262,
          "epsilon": 0.3,
          "step": 48
         },
         {
          "cum_reward": 40.5672,
          "epsilon": 0.3,
          "step": 49
         },
         {
          "cum_reward": 41.3998,
          "epsilon": 0.3,
          "step": 50
         },
         {
          "cum_reward": 42.2314,
          "epsilon": 0.3,
          "step": 51
         },
         {
          "cum_reward": 43.0764,
          "epsilon": 0.3,
          "step": 52
         },
         {
          "cum_reward": 43.913,
          "epsilon": 0.3,
          "step": 53
         },
         {
          "cum_reward": 44.7584,
          "epsilon": 0.3,
          "step": 54
         },
         {
          "cum_reward": 45.5938,
          "epsilon": 0.3,
          "step": 55
         },
         {
          "cum_reward": 46.4272,
          "epsilon": 0.3,
          "step": 56
         },
         {
          "cum_reward": 47.2734,
          "epsilon": 0.3,
          "step": 57
         },
         {
          "cum_reward": 48.12,
          "epsilon": 0.3,
          "step": 58
         },
         {
          "cum_reward": 48.9556,
          "epsilon": 0.3,
          "step": 59
         },
         {
          "cum_reward": 49.7932,
          "epsilon": 0.3,
          "step": 60
         },
         {
          "cum_reward": 50.6252,
          "epsilon": 0.3,
          "step": 61
         },
         {
          "cum_reward": 51.4678,
          "epsilon": 0.3,
          "step": 62
         },
         {
          "cum_reward": 52.3054,
          "epsilon": 0.3,
          "step": 63
         },
         {
          "cum_reward": 53.1492,
          "epsilon": 0.3,
          "step": 64
         },
         {
          "cum_reward": 53.9926,
          "epsilon": 0.3,
          "step": 65
         },
         {
          "cum_reward": 54.8266,
          "epsilon": 0.3,
          "step": 66
         },
         {
          "cum_reward": 55.6682,
          "epsilon": 0.3,
          "step": 67
         },
         {
          "cum_reward": 56.5094,
          "epsilon": 0.3,
          "step": 68
         },
         {
          "cum_reward": 57.3428,
          "epsilon": 0.3,
          "step": 69
         },
         {
          "cum_reward": 58.1892,
          "epsilon": 0.3,
          "step": 70
         },
         {
          "cum_reward": 59.0334,
          "epsilon": 0.3,
          "step": 71
         },
         {
          "cum_reward": 59.8812,
          "epsilon": 0.3,
          "step": 72
         },
         {
          "cum_reward": 60.7308,
          "epsilon": 0.3,
          "step": 73
         },
         {
          "cum_reward": 61.5782,
          "epsilon": 0.3,
          "step": 74
         },
         {
          "cum_reward": 62.4168,
          "epsilon": 0.3,
          "step": 75
         },
         {
          "cum_reward": 63.2576,
          "epsilon": 0.3,
          "step": 76
         },
         {
          "cum_reward": 64.0948,
          "epsilon": 0.3,
          "step": 77
         },
         {
          "cum_reward": 64.9438,
          "epsilon": 0.3,
          "step": 78
         },
         {
          "cum_reward": 65.7836,
          "epsilon": 0.3,
          "step": 79
         },
         {
          "cum_reward": 66.6254,
          "epsilon": 0.3,
          "step": 80
         },
         {
          "cum_reward": 67.4722,
          "epsilon": 0.3,
          "step": 81
         },
         {
          "cum_reward": 68.3202,
          "epsilon": 0.3,
          "step": 82
         },
         {
          "cum_reward": 69.1622,
          "epsilon": 0.3,
          "step": 83
         },
         {
          "cum_reward": 70.0138,
          "epsilon": 0.3,
          "step": 84
         },
         {
          "cum_reward": 70.8554,
          "epsilon": 0.3,
          "step": 85
         },
         {
          "cum_reward": 71.6968,
          "epsilon": 0.3,
          "step": 86
         },
         {
          "cum_reward": 72.5464,
          "epsilon": 0.3,
          "step": 87
         },
         {
          "cum_reward": 73.3932,
          "epsilon": 0.3,
          "step": 88
         },
         {
          "cum_reward": 74.2326,
          "epsilon": 0.3,
          "step": 89
         },
         {
          "cum_reward": 75.0728,
          "epsilon": 0.3,
          "step": 90
         },
         {
          "cum_reward": 75.9232,
          "epsilon": 0.3,
          "step": 91
         },
         {
          "cum_reward": 76.772,
          "epsilon": 0.3,
          "step": 92
         },
         {
          "cum_reward": 77.616,
          "epsilon": 0.3,
          "step": 93
         },
         {
          "cum_reward": 78.4722,
          "epsilon": 0.3,
          "step": 94
         },
         {
          "cum_reward": 79.3318,
          "epsilon": 0.3,
          "step": 95
         },
         {
          "cum_reward": 80.178,
          "epsilon": 0.3,
          "step": 96
         },
         {
          "cum_reward": 81.026,
          "epsilon": 0.3,
          "step": 97
         },
         {
          "cum_reward": 81.8684,
          "epsilon": 0.3,
          "step": 98
         },
         {
          "cum_reward": 82.7188,
          "epsilon": 0.3,
          "step": 99
         },
         {
          "cum_reward": 83.5652,
          "epsilon": 0.3,
          "step": 100
         },
         {
          "cum_reward": 84.4172,
          "epsilon": 0.3,
          "step": 101
         },
         {
          "cum_reward": 85.2678,
          "epsilon": 0.3,
          "step": 102
         },
         {
          "cum_reward": 86.1244,
          "epsilon": 0.3,
          "step": 103
         },
         {
          "cum_reward": 86.966,
          "epsilon": 0.3,
          "step": 104
         },
         {
          "cum_reward": 87.8046,
          "epsilon": 0.3,
          "step": 105
         },
         {
          "cum_reward": 88.6652,
          "epsilon": 0.3,
          "step": 106
         },
         {
          "cum_reward": 89.5056,
          "epsilon": 0.3,
          "step": 107
         },
         {
          "cum_reward": 90.3602,
          "epsilon": 0.3,
          "step": 108
         },
         {
          "cum_reward": 91.2014,
          "epsilon": 0.3,
          "step": 109
         },
         {
          "cum_reward": 92.0536,
          "epsilon": 0.3,
          "step": 110
         },
         {
          "cum_reward": 92.9088,
          "epsilon": 0.3,
          "step": 111
         },
         {
          "cum_reward": 93.7512,
          "epsilon": 0.3,
          "step": 112
         },
         {
          "cum_reward": 94.6032,
          "epsilon": 0.3,
          "step": 113
         },
         {
          "cum_reward": 95.4574,
          "epsilon": 0.3,
          "step": 114
         },
         {
          "cum_reward": 96.305,
          "epsilon": 0.3,
          "step": 115
         },
         {
          "cum_reward": 97.1604,
          "epsilon": 0.3,
          "step": 116
         },
         {
          "cum_reward": 98.0124,
          "epsilon": 0.3,
          "step": 117
         },
         {
          "cum_reward": 98.8652,
          "epsilon": 0.3,
          "step": 118
         },
         {
          "cum_reward": 99.7254,
          "epsilon": 0.3,
          "step": 119
         },
         {
          "cum_reward": 100.5826,
          "epsilon": 0.3,
          "step": 120
         },
         {
          "cum_reward": 101.4314,
          "epsilon": 0.3,
          "step": 121
         },
         {
          "cum_reward": 102.2904,
          "epsilon": 0.3,
          "step": 122
         },
         {
          "cum_reward": 103.1292,
          "epsilon": 0.3,
          "step": 123
         },
         {
          "cum_reward": 103.9804,
          "epsilon": 0.3,
          "step": 124
         },
         {
          "cum_reward": 104.83,
          "epsilon": 0.3,
          "step": 125
         },
         {
          "cum_reward": 105.6858,
          "epsilon": 0.3,
          "step": 126
         },
         {
          "cum_reward": 106.5364,
          "epsilon": 0.3,
          "step": 127
         },
         {
          "cum_reward": 107.399,
          "epsilon": 0.3,
          "step": 128
         },
         {
          "cum_reward": 108.2476,
          "epsilon": 0.3,
          "step": 129
         },
         {
          "cum_reward": 109.1056,
          "epsilon": 0.3,
          "step": 130
         },
         {
          "cum_reward": 109.9554,
          "epsilon": 0.3,
          "step": 131
         },
         {
          "cum_reward": 110.8122,
          "epsilon": 0.3,
          "step": 132
         },
         {
          "cum_reward": 111.6622,
          "epsilon": 0.3,
          "step": 133
         },
         {
          "cum_reward": 112.5266,
          "epsilon": 0.3,
          "step": 134
         },
         {
          "cum_reward": 113.3806,
          "epsilon": 0.3,
          "step": 135
         },
         {
          "cum_reward": 114.2366,
          "epsilon": 0.3,
          "step": 136
         },
         {
          "cum_reward": 115.0852,
          "epsilon": 0.3,
          "step": 137
         },
         {
          "cum_reward": 115.9348,
          "epsilon": 0.3,
          "step": 138
         },
         {
          "cum_reward": 116.7884,
          "epsilon": 0.3,
          "step": 139
         },
         {
          "cum_reward": 117.6512,
          "epsilon": 0.3,
          "step": 140
         },
         {
          "cum_reward": 118.5094,
          "epsilon": 0.3,
          "step": 141
         },
         {
          "cum_reward": 119.3636,
          "epsilon": 0.3,
          "step": 142
         },
         {
          "cum_reward": 120.2258,
          "epsilon": 0.3,
          "step": 143
         },
         {
          "cum_reward": 121.0892,
          "epsilon": 0.3,
          "step": 144
         },
         {
          "cum_reward": 121.9498,
          "epsilon": 0.3,
          "step": 145
         },
         {
          "cum_reward": 122.8064,
          "epsilon": 0.3,
          "step": 146
         },
         {
          "cum_reward": 123.65,
          "epsilon": 0.3,
          "step": 147
         },
         {
          "cum_reward": 124.4984,
          "epsilon": 0.3,
          "step": 148
         },
         {
          "cum_reward": 125.3558,
          "epsilon": 0.3,
          "step": 149
         },
         {
          "cum_reward": 126.217,
          "epsilon": 0.3,
          "step": 150
         },
         {
          "cum_reward": 127.073,
          "epsilon": 0.3,
          "step": 151
         },
         {
          "cum_reward": 127.926,
          "epsilon": 0.3,
          "step": 152
         },
         {
          "cum_reward": 128.7844,
          "epsilon": 0.3,
          "step": 153
         },
         {
          "cum_reward": 129.65,
          "epsilon": 0.3,
          "step": 154
         },
         {
          "cum_reward": 130.5024,
          "epsilon": 0.3,
          "step": 155
         },
         {
          "cum_reward": 131.3562,
          "epsilon": 0.3,
          "step": 156
         },
         {
          "cum_reward": 132.2108,
          "epsilon": 0.3,
          "step": 157
         },
         {
          "cum_reward": 133.0686,
          "epsilon": 0.3,
          "step": 158
         },
         {
          "cum_reward": 133.924,
          "epsilon": 0.3,
          "step": 159
         },
         {
          "cum_reward": 134.7902,
          "epsilon": 0.3,
          "step": 160
         },
         {
          "cum_reward": 135.6612,
          "epsilon": 0.3,
          "step": 161
         },
         {
          "cum_reward": 136.52,
          "epsilon": 0.3,
          "step": 162
         },
         {
          "cum_reward": 137.3756,
          "epsilon": 0.3,
          "step": 163
         },
         {
          "cum_reward": 138.2268,
          "epsilon": 0.3,
          "step": 164
         },
         {
          "cum_reward": 139.0836,
          "epsilon": 0.3,
          "step": 165
         },
         {
          "cum_reward": 139.945,
          "epsilon": 0.3,
          "step": 166
         },
         {
          "cum_reward": 140.8022,
          "epsilon": 0.3,
          "step": 167
         },
         {
          "cum_reward": 141.651,
          "epsilon": 0.3,
          "step": 168
         },
         {
          "cum_reward": 142.5132,
          "epsilon": 0.3,
          "step": 169
         },
         {
          "cum_reward": 143.3716,
          "epsilon": 0.3,
          "step": 170
         },
         {
          "cum_reward": 144.2294,
          "epsilon": 0.3,
          "step": 171
         },
         {
          "cum_reward": 145.09,
          "epsilon": 0.3,
          "step": 172
         },
         {
          "cum_reward": 145.9538,
          "epsilon": 0.3,
          "step": 173
         },
         {
          "cum_reward": 146.8092,
          "epsilon": 0.3,
          "step": 174
         },
         {
          "cum_reward": 147.6686,
          "epsilon": 0.3,
          "step": 175
         },
         {
          "cum_reward": 148.5288,
          "epsilon": 0.3,
          "step": 176
         },
         {
          "cum_reward": 149.3848,
          "epsilon": 0.3,
          "step": 177
         },
         {
          "cum_reward": 150.2398,
          "epsilon": 0.3,
          "step": 178
         },
         {
          "cum_reward": 151.095,
          "epsilon": 0.3,
          "step": 179
         },
         {
          "cum_reward": 151.951,
          "epsilon": 0.3,
          "step": 180
         },
         {
          "cum_reward": 152.8098,
          "epsilon": 0.3,
          "step": 181
         },
         {
          "cum_reward": 153.6628,
          "epsilon": 0.3,
          "step": 182
         },
         {
          "cum_reward": 154.5182,
          "epsilon": 0.3,
          "step": 183
         },
         {
          "cum_reward": 155.3796,
          "epsilon": 0.3,
          "step": 184
         },
         {
          "cum_reward": 156.242,
          "epsilon": 0.3,
          "step": 185
         },
         {
          "cum_reward": 157.1014,
          "epsilon": 0.3,
          "step": 186
         },
         {
          "cum_reward": 157.9654,
          "epsilon": 0.3,
          "step": 187
         },
         {
          "cum_reward": 158.8236,
          "epsilon": 0.3,
          "step": 188
         },
         {
          "cum_reward": 159.6912,
          "epsilon": 0.3,
          "step": 189
         },
         {
          "cum_reward": 160.5514,
          "epsilon": 0.3,
          "step": 190
         },
         {
          "cum_reward": 161.4172,
          "epsilon": 0.3,
          "step": 191
         },
         {
          "cum_reward": 162.2788,
          "epsilon": 0.3,
          "step": 192
         },
         {
          "cum_reward": 163.1364,
          "epsilon": 0.3,
          "step": 193
         },
         {
          "cum_reward": 163.9924,
          "epsilon": 0.3,
          "step": 194
         },
         {
          "cum_reward": 164.8508,
          "epsilon": 0.3,
          "step": 195
         },
         {
          "cum_reward": 165.7018,
          "epsilon": 0.3,
          "step": 196
         },
         {
          "cum_reward": 166.5588,
          "epsilon": 0.3,
          "step": 197
         },
         {
          "cum_reward": 167.4154,
          "epsilon": 0.3,
          "step": 198
         },
         {
          "cum_reward": 168.2728,
          "epsilon": 0.3,
          "step": 199
         },
         {
          "cum_reward": 169.1356,
          "epsilon": 0.3,
          "step": 200
         },
         {
          "cum_reward": 170.0028,
          "epsilon": 0.3,
          "step": 201
         },
         {
          "cum_reward": 170.8524,
          "epsilon": 0.3,
          "step": 202
         },
         {
          "cum_reward": 171.7068,
          "epsilon": 0.3,
          "step": 203
         },
         {
          "cum_reward": 172.5684,
          "epsilon": 0.3,
          "step": 204
         },
         {
          "cum_reward": 173.4284,
          "epsilon": 0.3,
          "step": 205
         },
         {
          "cum_reward": 174.2792,
          "epsilon": 0.3,
          "step": 206
         },
         {
          "cum_reward": 175.1324,
          "epsilon": 0.3,
          "step": 207
         },
         {
          "cum_reward": 175.9906,
          "epsilon": 0.3,
          "step": 208
         },
         {
          "cum_reward": 176.8516,
          "epsilon": 0.3,
          "step": 209
         },
         {
          "cum_reward": 177.712,
          "epsilon": 0.3,
          "step": 210
         },
         {
          "cum_reward": 178.5728,
          "epsilon": 0.3,
          "step": 211
         },
         {
          "cum_reward": 179.43,
          "epsilon": 0.3,
          "step": 212
         },
         {
          "cum_reward": 180.297,
          "epsilon": 0.3,
          "step": 213
         },
         {
          "cum_reward": 181.1664,
          "epsilon": 0.3,
          "step": 214
         },
         {
          "cum_reward": 182.026,
          "epsilon": 0.3,
          "step": 215
         },
         {
          "cum_reward": 182.8806,
          "epsilon": 0.3,
          "step": 216
         },
         {
          "cum_reward": 183.7384,
          "epsilon": 0.3,
          "step": 217
         },
         {
          "cum_reward": 184.5954,
          "epsilon": 0.3,
          "step": 218
         },
         {
          "cum_reward": 185.4578,
          "epsilon": 0.3,
          "step": 219
         },
         {
          "cum_reward": 186.3184,
          "epsilon": 0.3,
          "step": 220
         },
         {
          "cum_reward": 187.1716,
          "epsilon": 0.3,
          "step": 221
         },
         {
          "cum_reward": 188.0328,
          "epsilon": 0.3,
          "step": 222
         },
         {
          "cum_reward": 188.8864,
          "epsilon": 0.3,
          "step": 223
         },
         {
          "cum_reward": 189.7366,
          "epsilon": 0.3,
          "step": 224
         },
         {
          "cum_reward": 190.6058,
          "epsilon": 0.3,
          "step": 225
         },
         {
          "cum_reward": 191.4736,
          "epsilon": 0.3,
          "step": 226
         },
         {
          "cum_reward": 192.3422,
          "epsilon": 0.3,
          "step": 227
         },
         {
          "cum_reward": 193.1962,
          "epsilon": 0.3,
          "step": 228
         },
         {
          "cum_reward": 194.0574,
          "epsilon": 0.3,
          "step": 229
         },
         {
          "cum_reward": 194.9188,
          "epsilon": 0.3,
          "step": 230
         },
         {
          "cum_reward": 195.7796,
          "epsilon": 0.3,
          "step": 231
         },
         {
          "cum_reward": 196.6358,
          "epsilon": 0.3,
          "step": 232
         },
         {
          "cum_reward": 197.5002,
          "epsilon": 0.3,
          "step": 233
         },
         {
          "cum_reward": 198.3666,
          "epsilon": 0.3,
          "step": 234
         },
         {
          "cum_reward": 199.2266,
          "epsilon": 0.3,
          "step": 235
         },
         {
          "cum_reward": 200.0854,
          "epsilon": 0.3,
          "step": 236
         },
         {
          "cum_reward": 200.9414,
          "epsilon": 0.3,
          "step": 237
         },
         {
          "cum_reward": 201.8016,
          "epsilon": 0.3,
          "step": 238
         },
         {
          "cum_reward": 202.6688,
          "epsilon": 0.3,
          "step": 239
         },
         {
          "cum_reward": 203.5318,
          "epsilon": 0.3,
          "step": 240
         },
         {
          "cum_reward": 204.3996,
          "epsilon": 0.3,
          "step": 241
         },
         {
          "cum_reward": 205.263,
          "epsilon": 0.3,
          "step": 242
         },
         {
          "cum_reward": 206.1328,
          "epsilon": 0.3,
          "step": 243
         },
         {
          "cum_reward": 206.9884,
          "epsilon": 0.3,
          "step": 244
         },
         {
          "cum_reward": 207.8562,
          "epsilon": 0.3,
          "step": 245
         },
         {
          "cum_reward": 208.7234,
          "epsilon": 0.3,
          "step": 246
         },
         {
          "cum_reward": 209.582,
          "epsilon": 0.3,
          "step": 247
         },
         {
          "cum_reward": 210.4436,
          "epsilon": 0.3,
          "step": 248
         },
         {
          "cum_reward": 211.3108,
          "epsilon": 0.3,
          "step": 249
         },
         {
          "cum_reward": 212.1686,
          "epsilon": 0.3,
          "step": 250
         },
         {
          "cum_reward": 0.7962,
          "epsilon": 0.4,
          "step": 1
         },
         {
          "cum_reward": 1.6112,
          "epsilon": 0.4,
          "step": 2
         },
         {
          "cum_reward": 2.4284,
          "epsilon": 0.4,
          "step": 3
         },
         {
          "cum_reward": 3.2488,
          "epsilon": 0.4,
          "step": 4
         },
         {
          "cum_reward": 4.063,
          "epsilon": 0.4,
          "step": 5
         },
         {
          "cum_reward": 4.8816,
          "epsilon": 0.4,
          "step": 6
         },
         {
          "cum_reward": 5.7004,
          "epsilon": 0.4,
          "step": 7
         },
         {
          "cum_reward": 6.5248,
          "epsilon": 0.4,
          "step": 8
         },
         {
          "cum_reward": 7.3472,
          "epsilon": 0.4,
          "step": 9
         },
         {
          "cum_reward": 8.169,
          "epsilon": 0.4,
          "step": 10
         },
         {
          "cum_reward": 8.993,
          "epsilon": 0.4,
          "step": 11
         },
         {
          "cum_reward": 9.8106,
          "epsilon": 0.4,
          "step": 12
         },
         {
          "cum_reward": 10.6372,
          "epsilon": 0.4,
          "step": 13
         },
         {
          "cum_reward": 11.4612,
          "epsilon": 0.4,
          "step": 14
         },
         {
          "cum_reward": 12.2826,
          "epsilon": 0.4,
          "step": 15
         },
         {
          "cum_reward": 13.1084,
          "epsilon": 0.4,
          "step": 16
         },
         {
          "cum_reward": 13.9268,
          "epsilon": 0.4,
          "step": 17
         },
         {
          "cum_reward": 14.7504,
          "epsilon": 0.4,
          "step": 18
         },
         {
          "cum_reward": 15.5734,
          "epsilon": 0.4,
          "step": 19
         },
         {
          "cum_reward": 16.3932,
          "epsilon": 0.4,
          "step": 20
         },
         {
          "cum_reward": 17.2196,
          "epsilon": 0.4,
          "step": 21
         },
         {
          "cum_reward": 18.0462,
          "epsilon": 0.4,
          "step": 22
         },
         {
          "cum_reward": 18.8786,
          "epsilon": 0.4,
          "step": 23
         },
         {
          "cum_reward": 19.7038,
          "epsilon": 0.4,
          "step": 24
         },
         {
          "cum_reward": 20.5322,
          "epsilon": 0.4,
          "step": 25
         },
         {
          "cum_reward": 21.3568,
          "epsilon": 0.4,
          "step": 26
         },
         {
          "cum_reward": 22.19,
          "epsilon": 0.4,
          "step": 27
         },
         {
          "cum_reward": 23.0216,
          "epsilon": 0.4,
          "step": 28
         },
         {
          "cum_reward": 23.8452,
          "epsilon": 0.4,
          "step": 29
         },
         {
          "cum_reward": 24.6796,
          "epsilon": 0.4,
          "step": 30
         },
         {
          "cum_reward": 25.5102,
          "epsilon": 0.4,
          "step": 31
         },
         {
          "cum_reward": 26.337,
          "epsilon": 0.4,
          "step": 32
         },
         {
          "cum_reward": 27.1718,
          "epsilon": 0.4,
          "step": 33
         },
         {
          "cum_reward": 28.0046,
          "epsilon": 0.4,
          "step": 34
         },
         {
          "cum_reward": 28.8362,
          "epsilon": 0.4,
          "step": 35
         },
         {
          "cum_reward": 29.671,
          "epsilon": 0.4,
          "step": 36
         },
         {
          "cum_reward": 30.5052,
          "epsilon": 0.4,
          "step": 37
         },
         {
          "cum_reward": 31.3328,
          "epsilon": 0.4,
          "step": 38
         },
         {
          "cum_reward": 32.164,
          "epsilon": 0.4,
          "step": 39
         },
         {
          "cum_reward": 32.9988,
          "epsilon": 0.4,
          "step": 40
         },
         {
          "cum_reward": 33.8298,
          "epsilon": 0.4,
          "step": 41
         },
         {
          "cum_reward": 34.6628,
          "epsilon": 0.4,
          "step": 42
         },
         {
          "cum_reward": 35.4964,
          "epsilon": 0.4,
          "step": 43
         },
         {
          "cum_reward": 36.3268,
          "epsilon": 0.4,
          "step": 44
         },
         {
          "cum_reward": 37.153,
          "epsilon": 0.4,
          "step": 45
         },
         {
          "cum_reward": 37.9886,
          "epsilon": 0.4,
          "step": 46
         },
         {
          "cum_reward": 38.8204,
          "epsilon": 0.4,
          "step": 47
         },
         {
          "cum_reward": 39.6508,
          "epsilon": 0.4,
          "step": 48
         },
         {
          "cum_reward": 40.4838,
          "epsilon": 0.4,
          "step": 49
         },
         {
          "cum_reward": 41.3128,
          "epsilon": 0.4,
          "step": 50
         },
         {
          "cum_reward": 42.1536,
          "epsilon": 0.4,
          "step": 51
         },
         {
          "cum_reward": 42.9912,
          "epsilon": 0.4,
          "step": 52
         },
         {
          "cum_reward": 43.8354,
          "epsilon": 0.4,
          "step": 53
         },
         {
          "cum_reward": 44.669,
          "epsilon": 0.4,
          "step": 54
         },
         {
          "cum_reward": 45.514,
          "epsilon": 0.4,
          "step": 55
         },
         {
          "cum_reward": 46.3548,
          "epsilon": 0.4,
          "step": 56
         },
         {
          "cum_reward": 47.185,
          "epsilon": 0.4,
          "step": 57
         },
         {
          "cum_reward": 48.0186,
          "epsilon": 0.4,
          "step": 58
         },
         {
          "cum_reward": 48.8434,
          "epsilon": 0.4,
          "step": 59
         },
         {
          "cum_reward": 49.6798,
          "epsilon": 0.4,
          "step": 60
         },
         {
          "cum_reward": 50.5108,
          "epsilon": 0.4,
          "step": 61
         },
         {
          "cum_reward": 51.3534,
          "epsilon": 0.4,
          "step": 62
         },
         {
          "cum_reward": 52.177,
          "epsilon": 0.4,
          "step": 63
         },
         {
          "cum_reward": 53.0082,
          "epsilon": 0.4,
          "step": 64
         },
         {
          "cum_reward": 53.8544,
          "epsilon": 0.4,
          "step": 65
         },
         {
          "cum_reward": 54.6968,
          "epsilon": 0.4,
          "step": 66
         },
         {
          "cum_reward": 55.5272,
          "epsilon": 0.4,
          "step": 67
         },
         {
          "cum_reward": 56.3776,
          "epsilon": 0.4,
          "step": 68
         },
         {
          "cum_reward": 57.2182,
          "epsilon": 0.4,
          "step": 69
         },
         {
          "cum_reward": 58.0544,
          "epsilon": 0.4,
          "step": 70
         },
         {
          "cum_reward": 58.8904,
          "epsilon": 0.4,
          "step": 71
         },
         {
          "cum_reward": 59.7284,
          "epsilon": 0.4,
          "step": 72
         },
         {
          "cum_reward": 60.5618,
          "epsilon": 0.4,
          "step": 73
         },
         {
          "cum_reward": 61.4018,
          "epsilon": 0.4,
          "step": 74
         },
         {
          "cum_reward": 62.2432,
          "epsilon": 0.4,
          "step": 75
         },
         {
          "cum_reward": 63.0892,
          "epsilon": 0.4,
          "step": 76
         },
         {
          "cum_reward": 63.9236,
          "epsilon": 0.4,
          "step": 77
         },
         {
          "cum_reward": 64.77,
          "epsilon": 0.4,
          "step": 78
         },
         {
          "cum_reward": 65.6192,
          "epsilon": 0.4,
          "step": 79
         },
         {
          "cum_reward": 66.4634,
          "epsilon": 0.4,
          "step": 80
         },
         {
          "cum_reward": 67.3082,
          "epsilon": 0.4,
          "step": 81
         },
         {
          "cum_reward": 68.1546,
          "epsilon": 0.4,
          "step": 82
         },
         {
          "cum_reward": 68.9974,
          "epsilon": 0.4,
          "step": 83
         },
         {
          "cum_reward": 69.832,
          "epsilon": 0.4,
          "step": 84
         },
         {
          "cum_reward": 70.6776,
          "epsilon": 0.4,
          "step": 85
         },
         {
          "cum_reward": 71.517,
          "epsilon": 0.4,
          "step": 86
         },
         {
          "cum_reward": 72.3552,
          "epsilon": 0.4,
          "step": 87
         },
         {
          "cum_reward": 73.193,
          "epsilon": 0.4,
          "step": 88
         },
         {
          "cum_reward": 74.0342,
          "epsilon": 0.4,
          "step": 89
         },
         {
          "cum_reward": 74.8742,
          "epsilon": 0.4,
          "step": 90
         },
         {
          "cum_reward": 75.7108,
          "epsilon": 0.4,
          "step": 91
         },
         {
          "cum_reward": 76.5524,
          "epsilon": 0.4,
          "step": 92
         },
         {
          "cum_reward": 77.3982,
          "epsilon": 0.4,
          "step": 93
         },
         {
          "cum_reward": 78.2342,
          "epsilon": 0.4,
          "step": 94
         },
         {
          "cum_reward": 79.0772,
          "epsilon": 0.4,
          "step": 95
         },
         {
          "cum_reward": 79.9192,
          "epsilon": 0.4,
          "step": 96
         },
         {
          "cum_reward": 80.755,
          "epsilon": 0.4,
          "step": 97
         },
         {
          "cum_reward": 81.5958,
          "epsilon": 0.4,
          "step": 98
         },
         {
          "cum_reward": 82.4386,
          "epsilon": 0.4,
          "step": 99
         },
         {
          "cum_reward": 83.2834,
          "epsilon": 0.4,
          "step": 100
         },
         {
          "cum_reward": 84.1274,
          "epsilon": 0.4,
          "step": 101
         },
         {
          "cum_reward": 84.9706,
          "epsilon": 0.4,
          "step": 102
         },
         {
          "cum_reward": 85.815,
          "epsilon": 0.4,
          "step": 103
         },
         {
          "cum_reward": 86.6678,
          "epsilon": 0.4,
          "step": 104
         },
         {
          "cum_reward": 87.515,
          "epsilon": 0.4,
          "step": 105
         },
         {
          "cum_reward": 88.3708,
          "epsilon": 0.4,
          "step": 106
         },
         {
          "cum_reward": 89.2174,
          "epsilon": 0.4,
          "step": 107
         },
         {
          "cum_reward": 90.0674,
          "epsilon": 0.4,
          "step": 108
         },
         {
          "cum_reward": 90.9268,
          "epsilon": 0.4,
          "step": 109
         },
         {
          "cum_reward": 91.7744,
          "epsilon": 0.4,
          "step": 110
         },
         {
          "cum_reward": 92.615,
          "epsilon": 0.4,
          "step": 111
         },
         {
          "cum_reward": 93.4556,
          "epsilon": 0.4,
          "step": 112
         },
         {
          "cum_reward": 94.3002,
          "epsilon": 0.4,
          "step": 113
         },
         {
          "cum_reward": 95.1382,
          "epsilon": 0.4,
          "step": 114
         },
         {
          "cum_reward": 95.9846,
          "epsilon": 0.4,
          "step": 115
         },
         {
          "cum_reward": 96.824,
          "epsilon": 0.4,
          "step": 116
         },
         {
          "cum_reward": 97.6782,
          "epsilon": 0.4,
          "step": 117
         },
         {
          "cum_reward": 98.523,
          "epsilon": 0.4,
          "step": 118
         },
         {
          "cum_reward": 99.3684,
          "epsilon": 0.4,
          "step": 119
         },
         {
          "cum_reward": 100.2102,
          "epsilon": 0.4,
          "step": 120
         },
         {
          "cum_reward": 101.0562,
          "epsilon": 0.4,
          "step": 121
         },
         {
          "cum_reward": 101.9074,
          "epsilon": 0.4,
          "step": 122
         },
         {
          "cum_reward": 102.7534,
          "epsilon": 0.4,
          "step": 123
         },
         {
          "cum_reward": 103.596,
          "epsilon": 0.4,
          "step": 124
         },
         {
          "cum_reward": 104.4308,
          "epsilon": 0.4,
          "step": 125
         },
         {
          "cum_reward": 105.2878,
          "epsilon": 0.4,
          "step": 126
         },
         {
          "cum_reward": 106.13,
          "epsilon": 0.4,
          "step": 127
         },
         {
          "cum_reward": 106.9794,
          "epsilon": 0.4,
          "step": 128
         },
         {
          "cum_reward": 107.8326,
          "epsilon": 0.4,
          "step": 129
         },
         {
          "cum_reward": 108.6882,
          "epsilon": 0.4,
          "step": 130
         },
         {
          "cum_reward": 109.5386,
          "epsilon": 0.4,
          "step": 131
         },
         {
          "cum_reward": 110.3806,
          "epsilon": 0.4,
          "step": 132
         },
         {
          "cum_reward": 111.2306,
          "epsilon": 0.4,
          "step": 133
         },
         {
          "cum_reward": 112.0772,
          "epsilon": 0.4,
          "step": 134
         },
         {
          "cum_reward": 112.9232,
          "epsilon": 0.4,
          "step": 135
         },
         {
          "cum_reward": 113.7836,
          "epsilon": 0.4,
          "step": 136
         },
         {
          "cum_reward": 114.6348,
          "epsilon": 0.4,
          "step": 137
         },
         {
          "cum_reward": 115.4888,
          "epsilon": 0.4,
          "step": 138
         },
         {
          "cum_reward": 116.3374,
          "epsilon": 0.4,
          "step": 139
         },
         {
          "cum_reward": 117.1822,
          "epsilon": 0.4,
          "step": 140
         },
         {
          "cum_reward": 118.027,
          "epsilon": 0.4,
          "step": 141
         },
         {
          "cum_reward": 118.8832,
          "epsilon": 0.4,
          "step": 142
         },
         {
          "cum_reward": 119.7194,
          "epsilon": 0.4,
          "step": 143
         },
         {
          "cum_reward": 120.5644,
          "epsilon": 0.4,
          "step": 144
         },
         {
          "cum_reward": 121.407,
          "epsilon": 0.4,
          "step": 145
         },
         {
          "cum_reward": 122.2658,
          "epsilon": 0.4,
          "step": 146
         },
         {
          "cum_reward": 123.1122,
          "epsilon": 0.4,
          "step": 147
         },
         {
          "cum_reward": 123.966,
          "epsilon": 0.4,
          "step": 148
         },
         {
          "cum_reward": 124.8192,
          "epsilon": 0.4,
          "step": 149
         },
         {
          "cum_reward": 125.6706,
          "epsilon": 0.4,
          "step": 150
         },
         {
          "cum_reward": 126.5248,
          "epsilon": 0.4,
          "step": 151
         },
         {
          "cum_reward": 127.3768,
          "epsilon": 0.4,
          "step": 152
         },
         {
          "cum_reward": 128.2294,
          "epsilon": 0.4,
          "step": 153
         },
         {
          "cum_reward": 129.0768,
          "epsilon": 0.4,
          "step": 154
         },
         {
          "cum_reward": 129.9298,
          "epsilon": 0.4,
          "step": 155
         },
         {
          "cum_reward": 130.7796,
          "epsilon": 0.4,
          "step": 156
         },
         {
          "cum_reward": 131.6366,
          "epsilon": 0.4,
          "step": 157
         },
         {
          "cum_reward": 132.4974,
          "epsilon": 0.4,
          "step": 158
         },
         {
          "cum_reward": 133.3474,
          "epsilon": 0.4,
          "step": 159
         },
         {
          "cum_reward": 134.211,
          "epsilon": 0.4,
          "step": 160
         },
         {
          "cum_reward": 135.0614,
          "epsilon": 0.4,
          "step": 161
         },
         {
          "cum_reward": 135.905,
          "epsilon": 0.4,
          "step": 162
         },
         {
          "cum_reward": 136.757,
          "epsilon": 0.4,
          "step": 163
         },
         {
          "cum_reward": 137.6148,
          "epsilon": 0.4,
          "step": 164
         },
         {
          "cum_reward": 138.467,
          "epsilon": 0.4,
          "step": 165
         },
         {
          "cum_reward": 139.318,
          "epsilon": 0.4,
          "step": 166
         },
         {
          "cum_reward": 140.179,
          "epsilon": 0.4,
          "step": 167
         },
         {
          "cum_reward": 141.0344,
          "epsilon": 0.4,
          "step": 168
         },
         {
          "cum_reward": 141.9032,
          "epsilon": 0.4,
          "step": 169
         },
         {
          "cum_reward": 142.754,
          "epsilon": 0.4,
          "step": 170
         },
         {
          "cum_reward": 143.6058,
          "epsilon": 0.4,
          "step": 171
         },
         {
          "cum_reward": 144.4504,
          "epsilon": 0.4,
          "step": 172
         },
         {
          "cum_reward": 145.2982,
          "epsilon": 0.4,
          "step": 173
         },
         {
          "cum_reward": 146.1506,
          "epsilon": 0.4,
          "step": 174
         },
         {
          "cum_reward": 146.9986,
          "epsilon": 0.4,
          "step": 175
         },
         {
          "cum_reward": 147.8478,
          "epsilon": 0.4,
          "step": 176
         },
         {
          "cum_reward": 148.7052,
          "epsilon": 0.4,
          "step": 177
         },
         {
          "cum_reward": 149.5558,
          "epsilon": 0.4,
          "step": 178
         },
         {
          "cum_reward": 150.4058,
          "epsilon": 0.4,
          "step": 179
         },
         {
          "cum_reward": 151.256,
          "epsilon": 0.4,
          "step": 180
         },
         {
          "cum_reward": 152.1084,
          "epsilon": 0.4,
          "step": 181
         },
         {
          "cum_reward": 152.957,
          "epsilon": 0.4,
          "step": 182
         },
         {
          "cum_reward": 153.8096,
          "epsilon": 0.4,
          "step": 183
         },
         {
          "cum_reward": 154.6662,
          "epsilon": 0.4,
          "step": 184
         },
         {
          "cum_reward": 155.5228,
          "epsilon": 0.4,
          "step": 185
         },
         {
          "cum_reward": 156.3728,
          "epsilon": 0.4,
          "step": 186
         },
         {
          "cum_reward": 157.229,
          "epsilon": 0.4,
          "step": 187
         },
         {
          "cum_reward": 158.0792,
          "epsilon": 0.4,
          "step": 188
         },
         {
          "cum_reward": 158.9388,
          "epsilon": 0.4,
          "step": 189
         },
         {
          "cum_reward": 159.7914,
          "epsilon": 0.4,
          "step": 190
         },
         {
          "cum_reward": 160.6542,
          "epsilon": 0.4,
          "step": 191
         },
         {
          "cum_reward": 161.506,
          "epsilon": 0.4,
          "step": 192
         },
         {
          "cum_reward": 162.3618,
          "epsilon": 0.4,
          "step": 193
         },
         {
          "cum_reward": 163.2234,
          "epsilon": 0.4,
          "step": 194
         },
         {
          "cum_reward": 164.0816,
          "epsilon": 0.4,
          "step": 195
         },
         {
          "cum_reward": 164.9294,
          "epsilon": 0.4,
          "step": 196
         },
         {
          "cum_reward": 165.7884,
          "epsilon": 0.4,
          "step": 197
         },
         {
          "cum_reward": 166.646,
          "epsilon": 0.4,
          "step": 198
         },
         {
          "cum_reward": 167.502,
          "epsilon": 0.4,
          "step": 199
         },
         {
          "cum_reward": 168.3458,
          "epsilon": 0.4,
          "step": 200
         },
         {
          "cum_reward": 169.2016,
          "epsilon": 0.4,
          "step": 201
         },
         {
          "cum_reward": 170.0546,
          "epsilon": 0.4,
          "step": 202
         },
         {
          "cum_reward": 170.9022,
          "epsilon": 0.4,
          "step": 203
         },
         {
          "cum_reward": 171.7604,
          "epsilon": 0.4,
          "step": 204
         },
         {
          "cum_reward": 172.6106,
          "epsilon": 0.4,
          "step": 205
         },
         {
          "cum_reward": 173.4606,
          "epsilon": 0.4,
          "step": 206
         },
         {
          "cum_reward": 174.3184,
          "epsilon": 0.4,
          "step": 207
         },
         {
          "cum_reward": 175.1774,
          "epsilon": 0.4,
          "step": 208
         },
         {
          "cum_reward": 176.022,
          "epsilon": 0.4,
          "step": 209
         },
         {
          "cum_reward": 176.8742,
          "epsilon": 0.4,
          "step": 210
         },
         {
          "cum_reward": 177.7246,
          "epsilon": 0.4,
          "step": 211
         },
         {
          "cum_reward": 178.582,
          "epsilon": 0.4,
          "step": 212
         },
         {
          "cum_reward": 179.4378,
          "epsilon": 0.4,
          "step": 213
         },
         {
          "cum_reward": 180.2992,
          "epsilon": 0.4,
          "step": 214
         },
         {
          "cum_reward": 181.1548,
          "epsilon": 0.4,
          "step": 215
         },
         {
          "cum_reward": 182.002,
          "epsilon": 0.4,
          "step": 216
         },
         {
          "cum_reward": 182.8574,
          "epsilon": 0.4,
          "step": 217
         },
         {
          "cum_reward": 183.701,
          "epsilon": 0.4,
          "step": 218
         },
         {
          "cum_reward": 184.5578,
          "epsilon": 0.4,
          "step": 219
         },
         {
          "cum_reward": 185.402,
          "epsilon": 0.4,
          "step": 220
         },
         {
          "cum_reward": 186.2614,
          "epsilon": 0.4,
          "step": 221
         },
         {
          "cum_reward": 187.1118,
          "epsilon": 0.4,
          "step": 222
         },
         {
          "cum_reward": 187.962,
          "epsilon": 0.4,
          "step": 223
         },
         {
          "cum_reward": 188.8162,
          "epsilon": 0.4,
          "step": 224
         },
         {
          "cum_reward": 189.676,
          "epsilon": 0.4,
          "step": 225
         },
         {
          "cum_reward": 190.5296,
          "epsilon": 0.4,
          "step": 226
         },
         {
          "cum_reward": 191.3888,
          "epsilon": 0.4,
          "step": 227
         },
         {
          "cum_reward": 192.2394,
          "epsilon": 0.4,
          "step": 228
         },
         {
          "cum_reward": 193.0944,
          "epsilon": 0.4,
          "step": 229
         },
         {
          "cum_reward": 193.951,
          "epsilon": 0.4,
          "step": 230
         },
         {
          "cum_reward": 194.8136,
          "epsilon": 0.4,
          "step": 231
         },
         {
          "cum_reward": 195.6726,
          "epsilon": 0.4,
          "step": 232
         },
         {
          "cum_reward": 196.5296,
          "epsilon": 0.4,
          "step": 233
         },
         {
          "cum_reward": 197.382,
          "epsilon": 0.4,
          "step": 234
         },
         {
          "cum_reward": 198.2436,
          "epsilon": 0.4,
          "step": 235
         },
         {
          "cum_reward": 199.0966,
          "epsilon": 0.4,
          "step": 236
         },
         {
          "cum_reward": 199.9474,
          "epsilon": 0.4,
          "step": 237
         },
         {
          "cum_reward": 200.8042,
          "epsilon": 0.4,
          "step": 238
         },
         {
          "cum_reward": 201.6594,
          "epsilon": 0.4,
          "step": 239
         },
         {
          "cum_reward": 202.5264,
          "epsilon": 0.4,
          "step": 240
         },
         {
          "cum_reward": 203.391,
          "epsilon": 0.4,
          "step": 241
         },
         {
          "cum_reward": 204.2492,
          "epsilon": 0.4,
          "step": 242
         },
         {
          "cum_reward": 205.1002,
          "epsilon": 0.4,
          "step": 243
         },
         {
          "cum_reward": 205.9604,
          "epsilon": 0.4,
          "step": 244
         },
         {
          "cum_reward": 206.8158,
          "epsilon": 0.4,
          "step": 245
         },
         {
          "cum_reward": 207.6704,
          "epsilon": 0.4,
          "step": 246
         },
         {
          "cum_reward": 208.5222,
          "epsilon": 0.4,
          "step": 247
         },
         {
          "cum_reward": 209.3856,
          "epsilon": 0.4,
          "step": 248
         },
         {
          "cum_reward": 210.245,
          "epsilon": 0.4,
          "step": 249
         },
         {
          "cum_reward": 211.1006,
          "epsilon": 0.4,
          "step": 250
         },
         {
          "cum_reward": 0.8022,
          "epsilon": 0.5,
          "step": 1
         },
         {
          "cum_reward": 1.6054,
          "epsilon": 0.5,
          "step": 2
         },
         {
          "cum_reward": 2.4216,
          "epsilon": 0.5,
          "step": 3
         },
         {
          "cum_reward": 3.236,
          "epsilon": 0.5,
          "step": 4
         },
         {
          "cum_reward": 4.0576,
          "epsilon": 0.5,
          "step": 5
         },
         {
          "cum_reward": 4.8768,
          "epsilon": 0.5,
          "step": 6
         },
         {
          "cum_reward": 5.6976,
          "epsilon": 0.5,
          "step": 7
         },
         {
          "cum_reward": 6.5144,
          "epsilon": 0.5,
          "step": 8
         },
         {
          "cum_reward": 7.3442,
          "epsilon": 0.5,
          "step": 9
         },
         {
          "cum_reward": 8.1632,
          "epsilon": 0.5,
          "step": 10
         },
         {
          "cum_reward": 8.979,
          "epsilon": 0.5,
          "step": 11
         },
         {
          "cum_reward": 9.8014,
          "epsilon": 0.5,
          "step": 12
         },
         {
          "cum_reward": 10.6204,
          "epsilon": 0.5,
          "step": 13
         },
         {
          "cum_reward": 11.4486,
          "epsilon": 0.5,
          "step": 14
         },
         {
          "cum_reward": 12.273,
          "epsilon": 0.5,
          "step": 15
         },
         {
          "cum_reward": 13.1008,
          "epsilon": 0.5,
          "step": 16
         },
         {
          "cum_reward": 13.9164,
          "epsilon": 0.5,
          "step": 17
         },
         {
          "cum_reward": 14.743,
          "epsilon": 0.5,
          "step": 18
         },
         {
          "cum_reward": 15.5674,
          "epsilon": 0.5,
          "step": 19
         },
         {
          "cum_reward": 16.3934,
          "epsilon": 0.5,
          "step": 20
         },
         {
          "cum_reward": 17.2182,
          "epsilon": 0.5,
          "step": 21
         },
         {
          "cum_reward": 18.0496,
          "epsilon": 0.5,
          "step": 22
         },
         {
          "cum_reward": 18.8872,
          "epsilon": 0.5,
          "step": 23
         },
         {
          "cum_reward": 19.719,
          "epsilon": 0.5,
          "step": 24
         },
         {
          "cum_reward": 20.548,
          "epsilon": 0.5,
          "step": 25
         },
         {
          "cum_reward": 21.372,
          "epsilon": 0.5,
          "step": 26
         },
         {
          "cum_reward": 22.2024,
          "epsilon": 0.5,
          "step": 27
         },
         {
          "cum_reward": 23.0348,
          "epsilon": 0.5,
          "step": 28
         },
         {
          "cum_reward": 23.8616,
          "epsilon": 0.5,
          "step": 29
         },
         {
          "cum_reward": 24.6856,
          "epsilon": 0.5,
          "step": 30
         },
         {
          "cum_reward": 25.5074,
          "epsilon": 0.5,
          "step": 31
         },
         {
          "cum_reward": 26.3408,
          "epsilon": 0.5,
          "step": 32
         },
         {
          "cum_reward": 27.1712,
          "epsilon": 0.5,
          "step": 33
         },
         {
          "cum_reward": 28.0014,
          "epsilon": 0.5,
          "step": 34
         },
         {
          "cum_reward": 28.8354,
          "epsilon": 0.5,
          "step": 35
         },
         {
          "cum_reward": 29.668,
          "epsilon": 0.5,
          "step": 36
         },
         {
          "cum_reward": 30.496,
          "epsilon": 0.5,
          "step": 37
         },
         {
          "cum_reward": 31.3256,
          "epsilon": 0.5,
          "step": 38
         },
         {
          "cum_reward": 32.1642,
          "epsilon": 0.5,
          "step": 39
         },
         {
          "cum_reward": 32.9942,
          "epsilon": 0.5,
          "step": 40
         },
         {
          "cum_reward": 33.8312,
          "epsilon": 0.5,
          "step": 41
         },
         {
          "cum_reward": 34.667,
          "epsilon": 0.5,
          "step": 42
         },
         {
          "cum_reward": 35.4964,
          "epsilon": 0.5,
          "step": 43
         },
         {
          "cum_reward": 36.325,
          "epsilon": 0.5,
          "step": 44
         },
         {
          "cum_reward": 37.158,
          "epsilon": 0.5,
          "step": 45
         },
         {
          "cum_reward": 37.9972,
          "epsilon": 0.5,
          "step": 46
         },
         {
          "cum_reward": 38.8254,
          "epsilon": 0.5,
          "step": 47
         },
         {
          "cum_reward": 39.6538,
          "epsilon": 0.5,
          "step": 48
         },
         {
          "cum_reward": 40.4856,
          "epsilon": 0.5,
          "step": 49
         },
         {
          "cum_reward": 41.323,
          "epsilon": 0.5,
          "step": 50
         },
         {
          "cum_reward": 42.1622,
          "epsilon": 0.5,
          "step": 51
         },
         {
          "cum_reward": 43.0018,
          "epsilon": 0.5,
          "step": 52
         },
         {
          "cum_reward": 43.8242,
          "epsilon": 0.5,
          "step": 53
         },
         {
          "cum_reward": 44.6548,
          "epsilon": 0.5,
          "step": 54
         },
         {
          "cum_reward": 45.4886,
          "epsilon": 0.5,
          "step": 55
         },
         {
          "cum_reward": 46.3278,
          "epsilon": 0.5,
          "step": 56
         },
         {
          "cum_reward": 47.1742,
          "epsilon": 0.5,
          "step": 57
         },
         {
          "cum_reward": 48.0102,
          "epsilon": 0.5,
          "step": 58
         },
         {
          "cum_reward": 48.8476,
          "epsilon": 0.5,
          "step": 59
         },
         {
          "cum_reward": 49.6828,
          "epsilon": 0.5,
          "step": 60
         },
         {
          "cum_reward": 50.5172,
          "epsilon": 0.5,
          "step": 61
         },
         {
          "cum_reward": 51.3512,
          "epsilon": 0.5,
          "step": 62
         },
         {
          "cum_reward": 52.1836,
          "epsilon": 0.5,
          "step": 63
         },
         {
          "cum_reward": 53.0158,
          "epsilon": 0.5,
          "step": 64
         },
         {
          "cum_reward": 53.8454,
          "epsilon": 0.5,
          "step": 65
         },
         {
          "cum_reward": 54.6788,
          "epsilon": 0.5,
          "step": 66
         },
         {
          "cum_reward": 55.508,
          "epsilon": 0.5,
          "step": 67
         },
         {
          "cum_reward": 56.3434,
          "epsilon": 0.5,
          "step": 68
         },
         {
          "cum_reward": 57.174,
          "epsilon": 0.5,
          "step": 69
         },
         {
          "cum_reward": 58.0136,
          "epsilon": 0.5,
          "step": 70
         },
         {
          "cum_reward": 58.8484,
          "epsilon": 0.5,
          "step": 71
         },
         {
          "cum_reward": 59.6828,
          "epsilon": 0.5,
          "step": 72
         },
         {
          "cum_reward": 60.509,
          "epsilon": 0.5,
          "step": 73
         },
         {
          "cum_reward": 61.3474,
          "epsilon": 0.5,
          "step": 74
         },
         {
          "cum_reward": 62.181,
          "epsilon": 0.5,
          "step": 75
         },
         {
          "cum_reward": 63.0164,
          "epsilon": 0.5,
          "step": 76
         },
         {
          "cum_reward": 63.8556,
          "epsilon": 0.5,
          "step": 77
         },
         {
          "cum_reward": 64.6942,
          "epsilon": 0.5,
          "step": 78
         },
         {
          "cum_reward": 65.5252,
          "epsilon": 0.5,
          "step": 79
         },
         {
          "cum_reward": 66.3658,
          "epsilon": 0.5,
          "step": 80
         },
         {
          "cum_reward": 67.2082,
          "epsilon": 0.5,
          "step": 81
         },
         {
          "cum_reward": 68.0508,
          "epsilon": 0.5,
          "step": 82
         },
         {
          "cum_reward": 68.8906,
          "epsilon": 0.5,
          "step": 83
         },
         {
          "cum_reward": 69.7268,
          "epsilon": 0.5,
          "step": 84
         },
         {
          "cum_reward": 70.5716,
          "epsilon": 0.5,
          "step": 85
         },
         {
          "cum_reward": 71.4146,
          "epsilon": 0.5,
          "step": 86
         },
         {
          "cum_reward": 72.251,
          "epsilon": 0.5,
          "step": 87
         },
         {
          "cum_reward": 73.0928,
          "epsilon": 0.5,
          "step": 88
         },
         {
          "cum_reward": 73.9348,
          "epsilon": 0.5,
          "step": 89
         },
         {
          "cum_reward": 74.7736,
          "epsilon": 0.5,
          "step": 90
         },
         {
          "cum_reward": 75.6106,
          "epsilon": 0.5,
          "step": 91
         },
         {
          "cum_reward": 76.4572,
          "epsilon": 0.5,
          "step": 92
         },
         {
          "cum_reward": 77.2928,
          "epsilon": 0.5,
          "step": 93
         },
         {
          "cum_reward": 78.1352,
          "epsilon": 0.5,
          "step": 94
         },
         {
          "cum_reward": 78.9858,
          "epsilon": 0.5,
          "step": 95
         },
         {
          "cum_reward": 79.8224,
          "epsilon": 0.5,
          "step": 96
         },
         {
          "cum_reward": 80.6628,
          "epsilon": 0.5,
          "step": 97
         },
         {
          "cum_reward": 81.5084,
          "epsilon": 0.5,
          "step": 98
         },
         {
          "cum_reward": 82.3502,
          "epsilon": 0.5,
          "step": 99
         },
         {
          "cum_reward": 83.1964,
          "epsilon": 0.5,
          "step": 100
         },
         {
          "cum_reward": 84.034,
          "epsilon": 0.5,
          "step": 101
         },
         {
          "cum_reward": 84.8696,
          "epsilon": 0.5,
          "step": 102
         },
         {
          "cum_reward": 85.7088,
          "epsilon": 0.5,
          "step": 103
         },
         {
          "cum_reward": 86.5422,
          "epsilon": 0.5,
          "step": 104
         },
         {
          "cum_reward": 87.3884,
          "epsilon": 0.5,
          "step": 105
         },
         {
          "cum_reward": 88.2238,
          "epsilon": 0.5,
          "step": 106
         },
         {
          "cum_reward": 89.0618,
          "epsilon": 0.5,
          "step": 107
         },
         {
          "cum_reward": 89.9112,
          "epsilon": 0.5,
          "step": 108
         },
         {
          "cum_reward": 90.754,
          "epsilon": 0.5,
          "step": 109
         },
         {
          "cum_reward": 91.595,
          "epsilon": 0.5,
          "step": 110
         },
         {
          "cum_reward": 92.4322,
          "epsilon": 0.5,
          "step": 111
         },
         {
          "cum_reward": 93.2648,
          "epsilon": 0.5,
          "step": 112
         },
         {
          "cum_reward": 94.109,
          "epsilon": 0.5,
          "step": 113
         },
         {
          "cum_reward": 94.9582,
          "epsilon": 0.5,
          "step": 114
         },
         {
          "cum_reward": 95.8022,
          "epsilon": 0.5,
          "step": 115
         },
         {
          "cum_reward": 96.6568,
          "epsilon": 0.5,
          "step": 116
         },
         {
          "cum_reward": 97.4996,
          "epsilon": 0.5,
          "step": 117
         },
         {
          "cum_reward": 98.345,
          "epsilon": 0.5,
          "step": 118
         },
         {
          "cum_reward": 99.194,
          "epsilon": 0.5,
          "step": 119
         },
         {
          "cum_reward": 100.0294,
          "epsilon": 0.5,
          "step": 120
         },
         {
          "cum_reward": 100.8652,
          "epsilon": 0.5,
          "step": 121
         },
         {
          "cum_reward": 101.7008,
          "epsilon": 0.5,
          "step": 122
         },
         {
          "cum_reward": 102.5442,
          "epsilon": 0.5,
          "step": 123
         },
         {
          "cum_reward": 103.3916,
          "epsilon": 0.5,
          "step": 124
         },
         {
          "cum_reward": 104.23,
          "epsilon": 0.5,
          "step": 125
         },
         {
          "cum_reward": 105.0736,
          "epsilon": 0.5,
          "step": 126
         },
         {
          "cum_reward": 105.9182,
          "epsilon": 0.5,
          "step": 127
         },
         {
          "cum_reward": 106.7666,
          "epsilon": 0.5,
          "step": 128
         },
         {
          "cum_reward": 107.6112,
          "epsilon": 0.5,
          "step": 129
         },
         {
          "cum_reward": 108.4576,
          "epsilon": 0.5,
          "step": 130
         },
         {
          "cum_reward": 109.3084,
          "epsilon": 0.5,
          "step": 131
         },
         {
          "cum_reward": 110.1418,
          "epsilon": 0.5,
          "step": 132
         },
         {
          "cum_reward": 110.9872,
          "epsilon": 0.5,
          "step": 133
         },
         {
          "cum_reward": 111.8366,
          "epsilon": 0.5,
          "step": 134
         },
         {
          "cum_reward": 112.681,
          "epsilon": 0.5,
          "step": 135
         },
         {
          "cum_reward": 113.5268,
          "epsilon": 0.5,
          "step": 136
         },
         {
          "cum_reward": 114.3748,
          "epsilon": 0.5,
          "step": 137
         },
         {
          "cum_reward": 115.2192,
          "epsilon": 0.5,
          "step": 138
         },
         {
          "cum_reward": 116.063,
          "epsilon": 0.5,
          "step": 139
         },
         {
          "cum_reward": 116.912,
          "epsilon": 0.5,
          "step": 140
         },
         {
          "cum_reward": 117.7572,
          "epsilon": 0.5,
          "step": 141
         },
         {
          "cum_reward": 118.602,
          "epsilon": 0.5,
          "step": 142
         },
         {
          "cum_reward": 119.4514,
          "epsilon": 0.5,
          "step": 143
         },
         {
          "cum_reward": 120.302,
          "epsilon": 0.5,
          "step": 144
         },
         {
          "cum_reward": 121.1486,
          "epsilon": 0.5,
          "step": 145
         },
         {
          "cum_reward": 122.0032,
          "epsilon": 0.5,
          "step": 146
         },
         {
          "cum_reward": 122.8402,
          "epsilon": 0.5,
          "step": 147
         },
         {
          "cum_reward": 123.6876,
          "epsilon": 0.5,
          "step": 148
         },
         {
          "cum_reward": 124.5382,
          "epsilon": 0.5,
          "step": 149
         },
         {
          "cum_reward": 125.3848,
          "epsilon": 0.5,
          "step": 150
         },
         {
          "cum_reward": 126.2272,
          "epsilon": 0.5,
          "step": 151
         },
         {
          "cum_reward": 127.07,
          "epsilon": 0.5,
          "step": 152
         },
         {
          "cum_reward": 127.9082,
          "epsilon": 0.5,
          "step": 153
         },
         {
          "cum_reward": 128.7632,
          "epsilon": 0.5,
          "step": 154
         },
         {
          "cum_reward": 129.6132,
          "epsilon": 0.5,
          "step": 155
         },
         {
          "cum_reward": 130.4582,
          "epsilon": 0.5,
          "step": 156
         },
         {
          "cum_reward": 131.3098,
          "epsilon": 0.5,
          "step": 157
         },
         {
          "cum_reward": 132.1556,
          "epsilon": 0.5,
          "step": 158
         },
         {
          "cum_reward": 132.9988,
          "epsilon": 0.5,
          "step": 159
         },
         {
          "cum_reward": 133.8506,
          "epsilon": 0.5,
          "step": 160
         },
         {
          "cum_reward": 134.7002,
          "epsilon": 0.5,
          "step": 161
         },
         {
          "cum_reward": 135.552,
          "epsilon": 0.5,
          "step": 162
         },
         {
          "cum_reward": 136.395,
          "epsilon": 0.5,
          "step": 163
         },
         {
          "cum_reward": 137.2418,
          "epsilon": 0.5,
          "step": 164
         },
         {
          "cum_reward": 138.0872,
          "epsilon": 0.5,
          "step": 165
         },
         {
          "cum_reward": 138.9326,
          "epsilon": 0.5,
          "step": 166
         },
         {
          "cum_reward": 139.7754,
          "epsilon": 0.5,
          "step": 167
         },
         {
          "cum_reward": 140.6244,
          "epsilon": 0.5,
          "step": 168
         },
         {
          "cum_reward": 141.467,
          "epsilon": 0.5,
          "step": 169
         },
         {
          "cum_reward": 142.3128,
          "epsilon": 0.5,
          "step": 170
         },
         {
          "cum_reward": 143.1578,
          "epsilon": 0.5,
          "step": 171
         },
         {
          "cum_reward": 144.0078,
          "epsilon": 0.5,
          "step": 172
         },
         {
          "cum_reward": 144.8558,
          "epsilon": 0.5,
          "step": 173
         },
         {
          "cum_reward": 145.71,
          "epsilon": 0.5,
          "step": 174
         },
         {
          "cum_reward": 146.5596,
          "epsilon": 0.5,
          "step": 175
         },
         {
          "cum_reward": 147.4038,
          "epsilon": 0.5,
          "step": 176
         },
         {
          "cum_reward": 148.253,
          "epsilon": 0.5,
          "step": 177
         },
         {
          "cum_reward": 149.1052,
          "epsilon": 0.5,
          "step": 178
         },
         {
          "cum_reward": 149.9544,
          "epsilon": 0.5,
          "step": 179
         },
         {
          "cum_reward": 150.8012,
          "epsilon": 0.5,
          "step": 180
         },
         {
          "cum_reward": 151.6564,
          "epsilon": 0.5,
          "step": 181
         },
         {
          "cum_reward": 152.5074,
          "epsilon": 0.5,
          "step": 182
         },
         {
          "cum_reward": 153.3516,
          "epsilon": 0.5,
          "step": 183
         },
         {
          "cum_reward": 154.195,
          "epsilon": 0.5,
          "step": 184
         },
         {
          "cum_reward": 155.0404,
          "epsilon": 0.5,
          "step": 185
         },
         {
          "cum_reward": 155.8846,
          "epsilon": 0.5,
          "step": 186
         },
         {
          "cum_reward": 156.7254,
          "epsilon": 0.5,
          "step": 187
         },
         {
          "cum_reward": 157.5682,
          "epsilon": 0.5,
          "step": 188
         },
         {
          "cum_reward": 158.4076,
          "epsilon": 0.5,
          "step": 189
         },
         {
          "cum_reward": 159.2542,
          "epsilon": 0.5,
          "step": 190
         },
         {
          "cum_reward": 160.1022,
          "epsilon": 0.5,
          "step": 191
         },
         {
          "cum_reward": 160.9446,
          "epsilon": 0.5,
          "step": 192
         },
         {
          "cum_reward": 161.7866,
          "epsilon": 0.5,
          "step": 193
         },
         {
          "cum_reward": 162.6418,
          "epsilon": 0.5,
          "step": 194
         },
         {
          "cum_reward": 163.4844,
          "epsilon": 0.5,
          "step": 195
         },
         {
          "cum_reward": 164.3372,
          "epsilon": 0.5,
          "step": 196
         },
         {
          "cum_reward": 165.1808,
          "epsilon": 0.5,
          "step": 197
         },
         {
          "cum_reward": 166.025,
          "epsilon": 0.5,
          "step": 198
         },
         {
          "cum_reward": 166.8738,
          "epsilon": 0.5,
          "step": 199
         },
         {
          "cum_reward": 167.7268,
          "epsilon": 0.5,
          "step": 200
         },
         {
          "cum_reward": 168.564,
          "epsilon": 0.5,
          "step": 201
         },
         {
          "cum_reward": 169.4062,
          "epsilon": 0.5,
          "step": 202
         },
         {
          "cum_reward": 170.2548,
          "epsilon": 0.5,
          "step": 203
         },
         {
          "cum_reward": 171.1104,
          "epsilon": 0.5,
          "step": 204
         },
         {
          "cum_reward": 171.9562,
          "epsilon": 0.5,
          "step": 205
         },
         {
          "cum_reward": 172.8012,
          "epsilon": 0.5,
          "step": 206
         },
         {
          "cum_reward": 173.6546,
          "epsilon": 0.5,
          "step": 207
         },
         {
          "cum_reward": 174.5034,
          "epsilon": 0.5,
          "step": 208
         },
         {
          "cum_reward": 175.3508,
          "epsilon": 0.5,
          "step": 209
         },
         {
          "cum_reward": 176.2068,
          "epsilon": 0.5,
          "step": 210
         },
         {
          "cum_reward": 177.0594,
          "epsilon": 0.5,
          "step": 211
         },
         {
          "cum_reward": 177.908,
          "epsilon": 0.5,
          "step": 212
         },
         {
          "cum_reward": 178.7648,
          "epsilon": 0.5,
          "step": 213
         },
         {
          "cum_reward": 179.6276,
          "epsilon": 0.5,
          "step": 214
         },
         {
          "cum_reward": 180.4754,
          "epsilon": 0.5,
          "step": 215
         },
         {
          "cum_reward": 181.3266,
          "epsilon": 0.5,
          "step": 216
         },
         {
          "cum_reward": 182.18,
          "epsilon": 0.5,
          "step": 217
         },
         {
          "cum_reward": 183.0286,
          "epsilon": 0.5,
          "step": 218
         },
         {
          "cum_reward": 183.888,
          "epsilon": 0.5,
          "step": 219
         },
         {
          "cum_reward": 184.7314,
          "epsilon": 0.5,
          "step": 220
         },
         {
          "cum_reward": 185.5778,
          "epsilon": 0.5,
          "step": 221
         },
         {
          "cum_reward": 186.4344,
          "epsilon": 0.5,
          "step": 222
         },
         {
          "cum_reward": 187.2842,
          "epsilon": 0.5,
          "step": 223
         },
         {
          "cum_reward": 188.1346,
          "epsilon": 0.5,
          "step": 224
         },
         {
          "cum_reward": 188.9754,
          "epsilon": 0.5,
          "step": 225
         },
         {
          "cum_reward": 189.8262,
          "epsilon": 0.5,
          "step": 226
         },
         {
          "cum_reward": 190.67,
          "epsilon": 0.5,
          "step": 227
         },
         {
          "cum_reward": 191.5208,
          "epsilon": 0.5,
          "step": 228
         },
         {
          "cum_reward": 192.3736,
          "epsilon": 0.5,
          "step": 229
         },
         {
          "cum_reward": 193.2292,
          "epsilon": 0.5,
          "step": 230
         },
         {
          "cum_reward": 194.0752,
          "epsilon": 0.5,
          "step": 231
         },
         {
          "cum_reward": 194.93,
          "epsilon": 0.5,
          "step": 232
         },
         {
          "cum_reward": 195.7878,
          "epsilon": 0.5,
          "step": 233
         },
         {
          "cum_reward": 196.631,
          "epsilon": 0.5,
          "step": 234
         },
         {
          "cum_reward": 197.4774,
          "epsilon": 0.5,
          "step": 235
         },
         {
          "cum_reward": 198.3292,
          "epsilon": 0.5,
          "step": 236
         },
         {
          "cum_reward": 199.1836,
          "epsilon": 0.5,
          "step": 237
         },
         {
          "cum_reward": 200.0338,
          "epsilon": 0.5,
          "step": 238
         },
         {
          "cum_reward": 200.8818,
          "epsilon": 0.5,
          "step": 239
         },
         {
          "cum_reward": 201.7314,
          "epsilon": 0.5,
          "step": 240
         },
         {
          "cum_reward": 202.5816,
          "epsilon": 0.5,
          "step": 241
         },
         {
          "cum_reward": 203.436,
          "epsilon": 0.5,
          "step": 242
         },
         {
          "cum_reward": 204.2808,
          "epsilon": 0.5,
          "step": 243
         },
         {
          "cum_reward": 205.1284,
          "epsilon": 0.5,
          "step": 244
         },
         {
          "cum_reward": 205.9724,
          "epsilon": 0.5,
          "step": 245
         },
         {
          "cum_reward": 206.8204,
          "epsilon": 0.5,
          "step": 246
         },
         {
          "cum_reward": 207.6768,
          "epsilon": 0.5,
          "step": 247
         },
         {
          "cum_reward": 208.5232,
          "epsilon": 0.5,
          "step": 248
         },
         {
          "cum_reward": 209.3742,
          "epsilon": 0.5,
          "step": 249
         },
         {
          "cum_reward": 210.2226,
          "epsilon": 0.5,
          "step": 250
         }
        ]
       },
       "encoding": {
        "color": {
         "field": "epsilon",
         "type": "nominal"
        },
        "x": {
         "field": "step",
         "title": "Time Step",
         "type": "quantitative"
        },
        "y": {
         "field": "cum_reward",
         "title": "Mean Cumulative Reward",
         "type": "quantitative"
        }
       },
       "mark": "line",
       "title": "Mean Cumulative Reward from 5000 Simulations. 5 Arms = [4 x 0.8, 1 x 0.9]"
      },
      "image/png": "[encoded data removed]",
      "text/plain": [
       "<VegaLite 3 object>\n",
       "\n",
       "If you see this message, it means the renderer has not been properly enabled\n",
       "for the frontend that you are using. For more information, see\n",
       "https://altair-viz.github.io/user_guide/troubleshooting.html\n"
      ]
     },
     "execution_count": 80,
     "metadata": {},
     "output_type": "execute_result"
    }
   ],
   "source": [
    "alt.Chart(df_cumreward).mark_line().encode(\n",
    "    alt.X(\"step:Q\", title = \"Time Step\"),\n",
    "    alt.Y(\"cum_reward:Q\", title = \"Mean Cumulative Reward\"),\n",
    "    color = alt.Color(\"epsilon:N\")\n",
    ").properties(\n",
    "    title = \"Mean Cumulative Reward from 5000 Simulations. 5 Arms = [4 x 0.8, 1 x 0.9]\",\n",
    ")"
   ]
  }
 ],
 "metadata": {
  "kernelspec": {
   "display_name": "Python 3",
   "language": "python",
   "name": "python3"
  },
  "language_info": {
   "codemirror_mode": {
    "name": "ipython",
    "version": 3
   },
   "file_extension": ".py",
   "mimetype": "text/x-python",
   "name": "python",
   "nbconvert_exporter": "python",
   "pygments_lexer": "ipython3",
   "version": "3.7.3"
  }
 },
 "nbformat": 4,
 "nbformat_minor": 4
}
