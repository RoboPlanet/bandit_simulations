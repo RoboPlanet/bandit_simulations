{
 "cells": [
  {
   "cell_type": "markdown",
   "metadata": {},
   "source": [
    "# LinUCB Hybrid"
   ]
  },
  {
   "cell_type": "code",
   "execution_count": 1,
   "metadata": {},
   "outputs": [],
   "source": [
    "import numpy as np\n",
    "import matplotlib.pyplot as plt"
   ]
  },
  {
   "cell_type": "code",
   "execution_count": null,
   "metadata": {},
   "outputs": [],
   "source": [
    "class linucb_disjoint_arm():\n",
    "    # Note that shared features coefficients beta_hat is calculated outside of each arm since \n",
    "    # it is about shared features across individual arms\n",
    "    \n",
    "    def __init__(self, arm_index, d, k, alpha):\n",
    "        self.arm_index = arm_index\n",
    "        self.A = np.identity(d)\n",
    "        self.B = np.zeros(d, k)\n",
    "        self.b = np.zeros(d)\n",
    "        \n",
    "    def calc_UCB(self, beta_hat, x_array):\n",
    "        A_inv = np.linalg.inv(A)\n",
    "        \n",
    "        # Find theta_arm\n",
    "        self.theta = np.dot(A_inv, (self.b - np.dot(self.B, beta_hat)))\n",
    "        \n",
    "        # \n",
    "        s = \n",
    "                            \n",
    "        "
   ]
  },
  {
   "cell_type": "code",
   "execution_count": 2,
   "metadata": {},
   "outputs": [
    {
     "data": {
      "text/plain": [
       "<function numpy.zeros>"
      ]
     },
     "execution_count": 2,
     "metadata": {},
     "output_type": "execute_result"
    }
   ],
   "source": []
  },
  {
   "cell_type": "code",
   "execution_count": null,
   "metadata": {},
   "outputs": [],
   "source": []
  }
 ],
 "metadata": {
  "kernelspec": {
   "display_name": "Python 3",
   "language": "python",
   "name": "python3"
  },
  "language_info": {
   "codemirror_mode": {
    "name": "ipython",
    "version": 3
   },
   "file_extension": ".py",
   "mimetype": "text/x-python",
   "name": "python",
   "nbconvert_exporter": "python",
   "pygments_lexer": "ipython3",
   "version": "3.7.6"
  }
 },
 "nbformat": 4,
 "nbformat_minor": 4
}
